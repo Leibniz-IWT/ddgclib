{
 "cells": [
  {
   "cell_type": "code",
   "execution_count": null,
   "metadata": {
    "collapsed": true
   },
   "outputs": [],
   "source": []
  },
  {
   "cell_type": "code",
   "execution_count": 9,
   "outputs": [],
   "source": [
    "import numpy as np\n",
    "import polyscope as ps\n"
   ],
   "metadata": {
    "collapsed": false,
    "ExecuteTime": {
     "end_time": "2024-02-19T15:02:28.030012200Z",
     "start_time": "2024-02-19T15:02:28.024581700Z"
    }
   }
  },
  {
   "cell_type": "code",
   "execution_count": 34,
   "outputs": [],
   "source": [
    "ps.init()\n",
    "\n",
    "# generate some points\n",
    "points = np.random.rand(100, 3)\n",
    "\n",
    "# visualize!\n",
    "ps_cloud = ps.register_point_cloud(\"my points\", points, point_render_mode='sphere')\n",
    "ps.show()"
   ],
   "metadata": {
    "collapsed": false,
    "ExecuteTime": {
     "end_time": "2024-02-19T15:11:33.341834400Z",
     "start_time": "2024-02-19T15:11:28.866837400Z"
    }
   }
  },
  {
   "cell_type": "code",
   "execution_count": 3,
   "outputs": [],
   "source": [
    "import polyscope as ps\n",
    "import numpy as np\n",
    "\n",
    "ps.init()\n",
    "\n",
    "# generate some points\n",
    "#points = np.random.rand(100, 3)\n",
    "#x = np.array([1,2,3])\n",
    "\n",
    "x1 = np.array([(1,2,3),(3,2,3)])\n",
    "\n",
    "#x1 = np.array([(0.31639028, 0.64472222, 0.23276591),(0.30114961, 0.60678396, 0.26419917)])\n",
    "# visualize!\n",
    "#ps_cloud = ps.register_point_cloud(\"my points2\", x1)\n",
    "ps_cloud = ps.register_point_cloud(\"my points2\", x1, point_render_mode='sphere',radius=0.1)\n",
    "ps_cloud.set_transparency(0.5)\n",
    "ps.show()\n",
    "\n",
    "#ps_cloud_x = ps.register_point_cloud(\"my points\", x)\n",
    "# with some options\n",
    "#ps_cloud_opt = ps.register_point_cloud(\"my points\", points, radius=0.02, point_render_mode='quad')\n",
    "#ps_cloud_opt = ps.register_point_cloud_x(\"my points\", x, radius=0.02, point_render_mode='sphere')\n",
    "#ps.show()"
   ],
   "metadata": {
    "collapsed": false,
    "ExecuteTime": {
     "end_time": "2024-02-27T14:20:48.259948400Z",
     "start_time": "2024-02-27T14:20:46.764979600Z"
    }
   }
  },
  {
   "cell_type": "code",
   "execution_count": 31,
   "outputs": [
    {
     "data": {
      "text/plain": "array([[0.31639028, 0.64472222, 0.23276591],\n       [0.30114961, 0.60678396, 0.26419917]])"
     },
     "execution_count": 31,
     "metadata": {},
     "output_type": "execute_result"
    }
   ],
   "source": [
    "x1"
   ],
   "metadata": {
    "collapsed": false,
    "ExecuteTime": {
     "end_time": "2024-02-19T15:09:55.789913700Z",
     "start_time": "2024-02-19T15:09:55.773975500Z"
    }
   }
  },
  {
   "cell_type": "code",
   "execution_count": 29,
   "outputs": [
    {
     "data": {
      "text/plain": "array([0.30114961, 0.60678396, 0.26419917])"
     },
     "execution_count": 29,
     "metadata": {},
     "output_type": "execute_result"
    }
   ],
   "source": [
    "points[1]"
   ],
   "metadata": {
    "collapsed": false,
    "ExecuteTime": {
     "end_time": "2024-02-19T15:09:36.298213200Z",
     "start_time": "2024-02-19T15:09:36.281516600Z"
    }
   }
  },
  {
   "cell_type": "code",
   "execution_count": 1,
   "outputs": [
    {
     "name": "stdout",
     "output_type": "stream",
     "text": [
      "Anzahl der physischen Kerne: 20\n"
     ]
    }
   ],
   "source": [
    "import multiprocessing\n",
    "\n",
    "def get_physical_cores():\n",
    "    return multiprocessing.cpu_count()\n",
    "\n",
    "if __name__ == \"__main__\":\n",
    "    num_physical_cores = get_physical_cores()\n",
    "    print(\"Anzahl der physischen Kerne:\", num_physical_cores)"
   ],
   "metadata": {
    "collapsed": false,
    "ExecuteTime": {
     "end_time": "2024-04-17T10:07:51.889282500Z",
     "start_time": "2024-04-17T10:07:51.872892800Z"
    }
   }
  },
  {
   "cell_type": "code",
   "execution_count": null,
   "outputs": [],
   "source": [],
   "metadata": {
    "collapsed": false
   }
  }
 ],
 "metadata": {
  "kernelspec": {
   "display_name": "Python 3",
   "language": "python",
   "name": "python3"
  },
  "language_info": {
   "codemirror_mode": {
    "name": "ipython",
    "version": 2
   },
   "file_extension": ".py",
   "mimetype": "text/x-python",
   "name": "python",
   "nbconvert_exporter": "python",
   "pygments_lexer": "ipython2",
   "version": "2.7.6"
  }
 },
 "nbformat": 4,
 "nbformat_minor": 0
}
