{
 "cells": [
  {
   "cell_type": "code",
   "execution_count": null,
   "metadata": {
    "collapsed": true
   },
   "outputs": [],
   "source": []
  },
  {
   "cell_type": "code",
   "execution_count": 1,
   "outputs": [],
   "source": [
    "import os, sys\n",
    "\n",
    "import numpy as np\n",
    "\n",
    "module_path = os.path.abspath(os.path.join('..'))\n",
    "if module_path not in sys.path:\n",
    "    sys.path.append(module_path)\n",
    "\n",
    "#from ddgclib._catenoid_clean import *\n",
    "from ddgclib._curvaturesplay import *\n",
    "import copy\n",
    "\n",
    "from timeit import default_timer as timer"
   ],
   "metadata": {
    "collapsed": false,
    "ExecuteTime": {
     "end_time": "2024-03-03T10:36:33.386969100Z",
     "start_time": "2024-03-03T10:36:32.910168600Z"
    }
   }
  },
  {
   "cell_type": "code",
   "execution_count": 2,
   "outputs": [],
   "source": [
    "def sech(x):\n",
    "    return 1 / np.cosh(x)\n",
    "\n",
    "def catenoid(u, v, a):\n",
    "    x = a * np.cos(u) * np.cosh(v / a)\n",
    "    y = a * np.sin(u) * np.cosh(v / a)\n",
    "    z = v\n",
    "    return x, y, z"
   ],
   "metadata": {
    "collapsed": false,
    "ExecuteTime": {
     "end_time": "2024-03-03T10:36:33.402365700Z",
     "start_time": "2024-03-03T10:36:33.387962400Z"
    }
   }
  },
  {
   "cell_type": "code",
   "execution_count": 3,
   "outputs": [],
   "source": [
    "def catenoid_clean_N(r, length, refinement=2):\n",
    "\n",
    "    v_l = -length/2\n",
    "    v_u = length/2\n",
    "    a = r\n",
    "\n",
    "    domain = [\n",
    "              (0.0, 2 * np.pi),  # u\n",
    "              (v_l, v_u)  # v\n",
    "              ]\n",
    "    HC_plane = Complex(2, domain)\n",
    "    HC_plane.triangulate()\n",
    "    for i in range(refinement):\n",
    "        HC_plane.refine_all()\n",
    "\n",
    "    # H\n",
    "    HC = Complex(3, domain)\n",
    "    bV = set()\n",
    "    cdist = 1e-8\n",
    "\n",
    "    u_list = []\n",
    "    v_list = []\n",
    "    for v in HC_plane.V:\n",
    "        #print(f'-')\n",
    "        #print(f'v.x = {v.x}')\n",
    "        x, y, z = catenoid(*v.x_a,r)\n",
    "        #print(f'tuple(x, y, z) = {tuple([x, y, z])}')\n",
    "        v2 = HC.V[tuple([x, y, z])]\n",
    "\n",
    "        u_list.append(v.x_a[0])\n",
    "        v_list.append(v.x_a[1])\n",
    "\n",
    "        #TODO: Does not work at all:\n",
    "        boundary_bool = (\n",
    "                        v.x[1] == domain[1][0] or v.x[1] == domain[1][1]\n",
    "                        #v.x[2] == domain[0][0] or v.x[2] == domain[0][1]\n",
    "                       # or v.x[1] == domain[1][0] or v.x[1] == domain[1][1]\n",
    "                         )\n",
    "        if boundary_bool:\n",
    "            bV.add(v2)\n",
    "\n",
    "    # Connect neighbours\n",
    "    for v in HC_plane.V:\n",
    "        for vn in v.nn:\n",
    "            v1 = list(HC.V)[v.index]\n",
    "            v2 = list(HC.V)[vn.index]\n",
    "            v1.connect(v2)\n",
    "\n",
    "    # Remerge:\n",
    "    HC.V.merge_all(cdist=cdist)\n",
    "    bVc = copy.copy(bV)\n",
    "    for v in bVc:\n",
    "        #print(f'bv = {v.x}')\n",
    "        if not (v in HC.V):\n",
    "            bV.remove(v)\n",
    "\n",
    "    H_f = []\n",
    "    K_f = []\n",
    "\n",
    "    neck_verts = []\n",
    "    neck_sols = []\n",
    "    for vert in HC.V:\n",
    "        if not (vert in bV):\n",
    "            for u_i, v_i in zip(u_list, v_list):\n",
    "                x, y, z = catenoid(u_i, v_i,r)\n",
    "                va = np.array([x, y, z])\n",
    "                #print(f'va == vert.x_a = {va == vert.x_a}')\n",
    "                ba = va == vert.x_a\n",
    "                if ba.all():\n",
    "                    #print(f'ba.all() = {ba.all()}')\n",
    "                    u = u_i\n",
    "                    v = v_i\n",
    "                    H_f_i = 0.0\n",
    "                    K_f_i = -(sech(v/a))**4 / (a**2)\n",
    "                    H_f.append(H_f_i)\n",
    "                    K_f.append(K_f_i)\n",
    "                    #TODO: MERGE NEAR VERTICES\n",
    "\n",
    "                    if z == 0.0:\n",
    "                        neck_verts.append(vert.index)\n",
    "                        neck_sols.append((H_f_i, K_f_i))\n",
    "\n",
    "\n",
    "    return HC, bV, K_f, H_f, neck_verts, neck_sols"
   ],
   "metadata": {
    "collapsed": false,
    "ExecuteTime": {
     "end_time": "2024-03-03T10:36:33.930822800Z",
     "start_time": "2024-03-03T10:36:33.910953600Z"
    }
   }
  },
  {
   "cell_type": "code",
   "execution_count": 4,
   "outputs": [],
   "source": [
    "r = 1\n",
    "length = 2\n",
    "\n",
    "HC, bV, K_f, H_f, neck_verts, neck_sols = catenoid_clean_N(r, length, refinement=2)"
   ],
   "metadata": {
    "collapsed": false,
    "ExecuteTime": {
     "end_time": "2024-03-03T10:36:34.576487700Z",
     "start_time": "2024-03-03T10:36:34.546190700Z"
    }
   }
  },
  {
   "cell_type": "code",
   "execution_count": 5,
   "outputs": [
    {
     "name": "stdout",
     "output_type": "stream",
     "text": [
      "np.zeros([self.V.size(), self.dim]) = [[0. 0.]\n",
      " [0. 0.]\n",
      " [0. 0.]\n",
      " [0. 0.]\n",
      " [0. 0.]\n",
      " [0. 0.]\n",
      " [0. 0.]\n",
      " [0. 0.]\n",
      " [0. 0.]\n",
      " [0. 0.]\n",
      " [0. 0.]\n",
      " [0. 0.]\n",
      " [0. 0.]\n",
      " [0. 0.]\n",
      " [0. 0.]\n",
      " [0. 0.]\n",
      " [0. 0.]\n",
      " [0. 0.]\n",
      " [0. 0.]\n",
      " [0. 0.]\n",
      " [0. 0.]\n",
      " [0. 0.]\n",
      " [0. 0.]\n",
      " [0. 0.]\n",
      " [0. 0.]\n",
      " [0. 0.]\n",
      " [0. 0.]\n",
      " [0. 0.]\n",
      " [0. 0.]\n",
      " [0. 0.]\n",
      " [0. 0.]\n",
      " [0. 0.]\n",
      " [0. 0.]\n",
      " [0. 0.]\n",
      " [0. 0.]\n",
      " [0. 0.]]\n",
      "self.V[v].index = 0\n",
      "self.V[v].index = 1\n",
      "self.V[v].index = 2\n",
      "self.V[v].index = 3\n",
      "self.V[v].index = 4\n",
      "self.V[v].index = 5\n",
      "self.V[v].index = 6\n",
      "self.V[v].index = 7\n",
      "self.V[v].index = 8\n",
      "self.V[v].index = 9\n",
      "self.V[v].index = 10\n",
      "self.V[v].index = 11\n",
      "self.V[v].index = 12\n",
      "self.V[v].index = 13\n",
      "self.V[v].index = 14\n",
      "self.V[v].index = 15\n",
      "self.V[v].index = 16\n",
      "self.V[v].index = 17\n",
      "self.V[v].index = 18\n",
      "self.V[v].index = 19\n",
      "self.V[v].index = 20\n",
      "self.V[v].index = 21\n",
      "self.V[v].index = 22\n",
      "self.V[v].index = 23\n",
      "self.V[v].index = 24\n",
      "self.V[v].index = 25\n",
      "self.V[v].index = 26\n",
      "self.V[v].index = 27\n",
      "self.V[v].index = 28\n",
      "self.V[v].index = 29\n",
      "self.V[v].index = 30\n",
      "self.V[v].index = 31\n",
      "self.V[v].index = 32\n",
      "self.V[v].index = 33\n",
      "self.V[v].index = 34\n",
      "self.V[v].index = 35\n"
     ]
    }
   ],
   "source": [
    "from ddgclib._plotting import *\n",
    "plot_polyscope(HC)"
   ],
   "metadata": {
    "collapsed": false,
    "ExecuteTime": {
     "end_time": "2024-03-03T10:36:38.684308600Z",
     "start_time": "2024-03-03T10:36:34.958921300Z"
    }
   }
  },
  {
   "cell_type": "code",
   "execution_count": 19,
   "outputs": [
    {
     "data": {
      "text/plain": "'\\nv.index=1\\nv.x = (1.5430806348152437, -3.779457520505508e-16, 1.0)\\n'"
     },
     "execution_count": 19,
     "metadata": {},
     "output_type": "execute_result"
    }
   ],
   "source": [
    "number_v = 0\n",
    "for v in HC.V:\n",
    "    number_v += 1\n",
    "    #print(number_v)\n",
    "\n",
    "boundary_bottom = []\n",
    "boundary_top    = []\n",
    "\n",
    "v_l = - length/2\n",
    "v_u =   length/2\n",
    "\n",
    "for v in HC.V:\n",
    "   # print(v.index)\n",
    "    if v.x[2] == v_l:\n",
    "        boundary_bottom.append(v)\n",
    "\n",
    "    if v.x[2] == v_u:\n",
    "        boundary_top.append(v)\n",
    "\n",
    "        #print(v.cache[1])\n",
    "\n",
    "#print(HC.V.cache)\n",
    "\n",
    "'''\n",
    "v.index=1\n",
    "v.x = (1.5430806348152437, -3.779457520505508e-16, 1.0)\n",
    "'''"
   ],
   "metadata": {
    "collapsed": false,
    "ExecuteTime": {
     "end_time": "2024-03-01T13:32:00.076859600Z",
     "start_time": "2024-03-01T13:32:00.065577300Z"
    }
   }
  },
  {
   "cell_type": "code",
   "execution_count": 20,
   "outputs": [],
   "source": [
    "boundary_bottom_x = []\n",
    "for v in boundary_bottom:\n",
    "    #dummy_item.append(v.index)\n",
    "    boundary_bottom_x.append(v.x)\n",
    "\n",
    "boundary_top_x = []\n",
    "for v in boundary_top:\n",
    "    #dummy_item.append(v.index)\n",
    "    boundary_top_x.append(v.x)"
   ],
   "metadata": {
    "collapsed": false,
    "ExecuteTime": {
     "end_time": "2024-03-01T13:32:01.233110700Z",
     "start_time": "2024-03-01T13:32:01.217481400Z"
    }
   }
  },
  {
   "cell_type": "code",
   "execution_count": 21,
   "outputs": [
    {
     "data": {
      "text/plain": "[(1.5430806348152437, -3.779457520505508e-16, 1.0),\n (-1.5430806348152437, 1.889728760252754e-16, 1.0),\n (9.44864380126377e-17, 1.5430806348152437, 1.0),\n (-2.834593140379131e-16, -1.5430806348152437, 1.0)]"
     },
     "execution_count": 21,
     "metadata": {},
     "output_type": "execute_result"
    }
   ],
   "source": [
    "\n",
    "#print(boundary_bottom[].index)\n",
    "boundary_top_x"
   ],
   "metadata": {
    "collapsed": false,
    "ExecuteTime": {
     "end_time": "2024-03-01T13:32:01.452837300Z",
     "start_time": "2024-03-01T13:32:01.422482800Z"
    }
   }
  },
  {
   "cell_type": "code",
   "execution_count": 22,
   "outputs": [
    {
     "name": "stdout",
     "output_type": "stream",
     "text": [
      "(6.904717644627194e-17, 1.1276259652063807, 0.5)\n",
      "(6.904717644627194e-17, 1.1276259652063807, -0.5)\n",
      "(6.123233995736766e-17, 1.0, 0.0)\n",
      "(9.44864380126377e-17, 1.5430806348152437, 1.0)\n",
      "(9.44864380126377e-17, 1.5430806348152437, -1.0)\n"
     ]
    }
   ],
   "source": [
    "vlist = []\n",
    "for v in HC.V:\n",
    "    if (abs(v.x[0]) <= 1e-8) and (0.5 <= v.x[1] <= 2):\n",
    "        vlist.append(v)\n",
    "\n",
    "vlist\n",
    "for v in vlist:\n",
    "    print(v.x)"
   ],
   "metadata": {
    "collapsed": false,
    "ExecuteTime": {
     "end_time": "2024-03-01T13:32:02.680044600Z",
     "start_time": "2024-03-01T13:32:02.664341400Z"
    }
   }
  },
  {
   "cell_type": "code",
   "execution_count": 47,
   "outputs": [
    {
     "ename": "AttributeError",
     "evalue": "'list' object has no attribute 'x'",
     "output_type": "error",
     "traceback": [
      "\u001B[1;31m---------------------------------------------------------------------------\u001B[0m",
      "\u001B[1;31mAttributeError\u001B[0m                            Traceback (most recent call last)",
      "Cell \u001B[1;32mIn[47], line 3\u001B[0m\n\u001B[0;32m      1\u001B[0m \u001B[38;5;66;03m#print(len(vlist))\u001B[39;00m\n\u001B[1;32m----> 3\u001B[0m sort_vlist \u001B[38;5;241m=\u001B[39m \u001B[38;5;28msorted\u001B[39m(\u001B[43mvlist\u001B[49m\u001B[38;5;241;43m.\u001B[39;49m\u001B[43mx\u001B[49m)\n",
      "\u001B[1;31mAttributeError\u001B[0m: 'list' object has no attribute 'x'"
     ]
    }
   ],
   "source": [
    "print(len(vlist))"
   ],
   "metadata": {
    "collapsed": false,
    "ExecuteTime": {
     "end_time": "2024-03-01T13:57:09.981842700Z",
     "start_time": "2024-03-01T13:57:09.955264800Z"
    }
   }
  },
  {
   "cell_type": "code",
   "execution_count": 35,
   "outputs": [],
   "source": [
    "def sech(x):\n",
    "    return 1 / np.cosh(x)\n",
    "\n",
    "def fun_kappa1(a,v):\n",
    "    kappa_1 = 1/a *sech(v/a)**2\n",
    "    return kappa_1\n",
    "\n",
    "def gaussian_curvature_catenoid(a,v):\n",
    "    '''\n",
    "    Analytical Solution for gaussian curvature\n",
    "    '''\n",
    "    return -1/a**2 * sech(v/a)**4\n",
    "\n",
    "def gaussian_curvature(kappa1, kappa2):\n",
    "    K = kappa1 * kappa2\n",
    "    return K\n",
    "\n",
    "def mean_curvature(f0, f1, f2):\n",
    "    pass\n",
    "\n",
    "def unit_vector(f1,f2):\n",
    "    e_ij = np.abs(f2-f1)\n",
    "    return e_ij\n",
    "\n",
    "\n",
    "\n",
    "\n",
    "#     N_f0 = v.x_a - np.array([0.0, 0.0, v.x_a[2]]) # Version from Stefan\n",
    " #   N_f0 = normalized(N_f0)[0]\n",
    "\n"
   ],
   "metadata": {
    "collapsed": false,
    "ExecuteTime": {
     "end_time": "2024-03-01T13:52:34.410036400Z",
     "start_time": "2024-03-01T13:52:34.374571500Z"
    }
   }
  },
  {
   "cell_type": "code",
   "execution_count": 36,
   "outputs": [],
   "source": [
    "kappa = fun_kappa1(r,v.x[2])"
   ],
   "metadata": {
    "collapsed": false,
    "ExecuteTime": {
     "end_time": "2024-03-01T13:52:34.591189400Z",
     "start_time": "2024-03-01T13:52:34.574496900Z"
    }
   }
  },
  {
   "cell_type": "code",
   "execution_count": 44,
   "outputs": [
    {
     "data": {
      "text/plain": "-1.0"
     },
     "execution_count": 44,
     "metadata": {},
     "output_type": "execute_result"
    }
   ],
   "source": [
    "vlist[4].x[2]"
   ],
   "metadata": {
    "collapsed": false,
    "ExecuteTime": {
     "end_time": "2024-03-01T13:54:56.167863100Z",
     "start_time": "2024-03-01T13:54:56.156739600Z"
    }
   }
  },
  {
   "cell_type": "code",
   "execution_count": 39,
   "outputs": [
    {
     "name": "stdout",
     "output_type": "stream",
     "text": [
      "K_c = -0.17637844761413474\n",
      "K = -0.17637844761413474\n"
     ]
    }
   ],
   "source": [
    "K = gaussian_curvature(kappa, -kappa)\n",
    "K_c = gaussian_curvature_catenoid(1, -1.0)\n",
    "\n",
    "print(f'K_c = {K_c}')\n",
    "print(f'K = {K}')"
   ],
   "metadata": {
    "collapsed": false,
    "ExecuteTime": {
     "end_time": "2024-03-01T13:53:02.842829900Z",
     "start_time": "2024-03-01T13:53:02.826742800Z"
    }
   }
  },
  {
   "cell_type": "code",
   "execution_count": 28,
   "outputs": [
    {
     "name": "stdout",
     "output_type": "stream",
     "text": [
      "kappa = 0.7864477329659276\n",
      "v.x = (6.904717644627194e-17, 1.1276259652063807, 0.5)\n",
      "kappa = 0.7864477329659276\n",
      "v.x = (6.904717644627194e-17, 1.1276259652063807, -0.5)\n",
      "kappa = 1.0\n",
      "v.x = (6.123233995736766e-17, 1.0, 0.0)\n",
      "kappa = 0.41997434161402614\n",
      "v.x = (9.44864380126377e-17, 1.5430806348152437, 1.0)\n",
      "kappa = 0.41997434161402614\n",
      "v.x = (9.44864380126377e-17, 1.5430806348152437, -1.0)\n"
     ]
    }
   ],
   "source": [
    "for v in vlist:\n",
    "    kappa = fun_kappa1(r,v.x[2])\n",
    "    print(f'kappa = {kappa}')\n",
    "    print(f'v.x = {v.x}')\n",
    "\n"
   ],
   "metadata": {
    "collapsed": false,
    "ExecuteTime": {
     "end_time": "2024-03-01T13:46:24.308638900Z",
     "start_time": "2024-03-01T13:46:24.283721700Z"
    }
   }
  },
  {
   "cell_type": "code",
   "execution_count": null,
   "outputs": [],
   "source": [],
   "metadata": {
    "collapsed": false
   }
  }
 ],
 "metadata": {
  "kernelspec": {
   "display_name": "Python 3",
   "language": "python",
   "name": "python3"
  },
  "language_info": {
   "codemirror_mode": {
    "name": "ipython",
    "version": 2
   },
   "file_extension": ".py",
   "mimetype": "text/x-python",
   "name": "python",
   "nbconvert_exporter": "python",
   "pygments_lexer": "ipython2",
   "version": "2.7.6"
  }
 },
 "nbformat": 4,
 "nbformat_minor": 0
}
