{
 "cells": [
  {
   "cell_type": "code",
   "execution_count": null,
   "metadata": {
    "collapsed": true,
    "ExecuteTime": {
     "end_time": "2024-03-03T10:39:27.471790400Z",
     "start_time": "2024-03-03T10:39:27.456890100Z"
    }
   },
   "outputs": [],
   "source": []
  },
  {
   "cell_type": "code",
   "execution_count": 1,
   "outputs": [],
   "source": [
    "import os, sys\n",
    "\n",
    "import numpy as np\n",
    "\n",
    "module_path = os.path.abspath(os.path.join('..'))\n",
    "if module_path not in sys.path:\n",
    "    sys.path.append(module_path)\n",
    "\n",
    "from ddgclib._catenoid_clean import *\n",
    "\n",
    "r = 1e-3\n",
    "length = 2e-3\n",
    "\n",
    "HC, bV, K_f, H_f, neck_verts, neck_sols = catenoid_clean_N(r, length, refinement=2)"
   ],
   "metadata": {
    "collapsed": false,
    "ExecuteTime": {
     "end_time": "2024-03-04T10:08:22.772518300Z",
     "start_time": "2024-03-04T10:08:22.431592400Z"
    }
   }
  },
  {
   "cell_type": "code",
   "execution_count": 2,
   "outputs": [
    {
     "name": "stdout",
     "output_type": "stream",
     "text": [
      "np.zeros([self.V.size(), self.dim]) = [[0. 0.]\n",
      " [0. 0.]\n",
      " [0. 0.]\n",
      " [0. 0.]\n",
      " [0. 0.]\n",
      " [0. 0.]\n",
      " [0. 0.]\n",
      " [0. 0.]\n",
      " [0. 0.]\n",
      " [0. 0.]\n",
      " [0. 0.]\n",
      " [0. 0.]\n",
      " [0. 0.]\n",
      " [0. 0.]\n",
      " [0. 0.]\n",
      " [0. 0.]\n",
      " [0. 0.]\n",
      " [0. 0.]\n",
      " [0. 0.]\n",
      " [0. 0.]\n",
      " [0. 0.]\n",
      " [0. 0.]\n",
      " [0. 0.]\n",
      " [0. 0.]\n",
      " [0. 0.]\n",
      " [0. 0.]\n",
      " [0. 0.]\n",
      " [0. 0.]\n",
      " [0. 0.]\n",
      " [0. 0.]\n",
      " [0. 0.]\n",
      " [0. 0.]\n",
      " [0. 0.]\n",
      " [0. 0.]\n",
      " [0. 0.]\n",
      " [0. 0.]]\n",
      "self.V[v].index = 0\n",
      "self.V[v].index = 1\n",
      "self.V[v].index = 2\n",
      "self.V[v].index = 3\n",
      "self.V[v].index = 4\n",
      "self.V[v].index = 5\n",
      "self.V[v].index = 6\n",
      "self.V[v].index = 7\n",
      "self.V[v].index = 8\n",
      "self.V[v].index = 9\n",
      "self.V[v].index = 10\n",
      "self.V[v].index = 11\n",
      "self.V[v].index = 12\n",
      "self.V[v].index = 13\n",
      "self.V[v].index = 14\n",
      "self.V[v].index = 15\n",
      "self.V[v].index = 16\n",
      "self.V[v].index = 17\n",
      "self.V[v].index = 18\n",
      "self.V[v].index = 19\n",
      "self.V[v].index = 20\n",
      "self.V[v].index = 21\n",
      "self.V[v].index = 22\n",
      "self.V[v].index = 23\n",
      "self.V[v].index = 24\n",
      "self.V[v].index = 25\n",
      "self.V[v].index = 26\n",
      "self.V[v].index = 27\n",
      "self.V[v].index = 28\n",
      "self.V[v].index = 29\n",
      "self.V[v].index = 30\n",
      "self.V[v].index = 31\n",
      "self.V[v].index = 32\n",
      "self.V[v].index = 33\n",
      "self.V[v].index = 34\n",
      "self.V[v].index = 35\n"
     ]
    }
   ],
   "source": [
    "from ddgclib._plotting import *\n",
    "plot_polyscope(HC)"
   ],
   "metadata": {
    "collapsed": false,
    "ExecuteTime": {
     "end_time": "2024-03-04T10:12:04.827342600Z",
     "start_time": "2024-03-04T10:08:22.772518300Z"
    }
   }
  },
  {
   "cell_type": "code",
   "execution_count": null,
   "outputs": [],
   "source": [],
   "metadata": {
    "collapsed": false
   }
  },
  {
   "cell_type": "code",
   "execution_count": 29,
   "outputs": [
    {
     "data": {
      "text/plain": "'\\nv.index=1\\nv.x = (1.5430806348152437, -3.779457520505508e-16, 1.0)\\n'"
     },
     "execution_count": 29,
     "metadata": {},
     "output_type": "execute_result"
    }
   ],
   "source": [
    "number_v = 0\n",
    "for v in HC.V:\n",
    "    number_v += 1\n",
    "    #print(number_v)\n",
    "\n",
    "boundary_bottom = []\n",
    "boundary_top    = []\n",
    "\n",
    "v_l = - length/2\n",
    "v_u =   length/2\n",
    "\n",
    "for v in HC.V:\n",
    "   # print(v.index)\n",
    "    if v.x[2] == v_l:\n",
    "        boundary_bottom.append(v)\n",
    "\n",
    "    if v.x[2] == v_u:\n",
    "        boundary_top.append(v)\n",
    "\n",
    "        #print(v.cache[1])\n",
    "\n",
    "#print(HC.V.cache)\n",
    "\n",
    "'''\n",
    "v.index=1\n",
    "v.x = (1.5430806348152437, -3.779457520505508e-16, 1.0)\n",
    "'''"
   ],
   "metadata": {
    "collapsed": false,
    "ExecuteTime": {
     "end_time": "2024-03-03T12:53:05.762331900Z",
     "start_time": "2024-03-03T12:53:05.743605300Z"
    }
   }
  },
  {
   "cell_type": "code",
   "execution_count": 33,
   "outputs": [
    {
     "name": "stdout",
     "output_type": "stream",
     "text": [
      "1.889728760252754e-19\n"
     ]
    }
   ],
   "source": [
    "boundary_bottom_x = []\n",
    "for v in boundary_bottom:\n",
    "    #dummy_item.append(v.index)\n",
    "    boundary_bottom_x.append(v.x)\n",
    "\n",
    "boundary_top_x = []\n",
    "for v in boundary_top:\n",
    "    #dummy_item.append(v.index)\n",
    "    boundary_top_x.append(v.x)\n",
    "\n",
    "print(boundary_top_x[1][1])"
   ],
   "metadata": {
    "collapsed": false,
    "ExecuteTime": {
     "end_time": "2024-03-03T12:54:30.465103600Z",
     "start_time": "2024-03-03T12:54:30.446704600Z"
    }
   }
  },
  {
   "cell_type": "code",
   "execution_count": 3,
   "outputs": [
    {
     "name": "stdout",
     "output_type": "stream",
     "text": [
      "(6.904717644627193e-20, 0.0011276259652063807, 0.0005)\n",
      "(6.904717644627193e-20, 0.0011276259652063807, -0.0005)\n",
      "(6.123233995736766e-20, 0.001, 0.0)\n",
      "(9.44864380126377e-20, 0.0015430806348152438, 0.001)\n",
      "(9.44864380126377e-20, 0.0015430806348152438, -0.001)\n"
     ]
    }
   ],
   "source": [
    "d = 2*r\n",
    "vlist = []\n",
    "vlist_x = []\n",
    "\n",
    "for v in HC.V:\n",
    "    if (abs(v.x[0]) <= 1e-8) and (0.0 <= v.x[1] <= d):\n",
    "        vlist.append(v)\n",
    "\n",
    "\n",
    "for v in vlist:\n",
    "    print(v.x)\n",
    "    vlist_x.append(v.x)\n",
    "    #print(type(v.x))"
   ],
   "metadata": {
    "collapsed": false,
    "ExecuteTime": {
     "end_time": "2024-03-04T10:12:13.250109700Z",
     "start_time": "2024-03-04T10:12:13.234267Z"
    }
   }
  },
  {
   "cell_type": "code",
   "execution_count": 51,
   "outputs": [
    {
     "name": "stdout",
     "output_type": "stream",
     "text": [
      "<class 'list'>\n"
     ]
    }
   ],
   "source": [],
   "metadata": {
    "collapsed": false,
    "ExecuteTime": {
     "end_time": "2024-03-03T13:07:52.065062300Z",
     "start_time": "2024-03-03T13:07:52.060095900Z"
    }
   }
  },
  {
   "cell_type": "code",
   "execution_count": 4,
   "outputs": [
    {
     "name": "stdout",
     "output_type": "stream",
     "text": [
      "Sorted list according to the last element in each tuple:\n",
      "(9.44864380126377e-20, 0.0015430806348152438, -0.001)\n",
      "(6.904717644627193e-20, 0.0011276259652063807, -0.0005)\n",
      "(6.123233995736766e-20, 0.001, 0.0)\n",
      "(6.904717644627193e-20, 0.0011276259652063807, 0.0005)\n",
      "(9.44864380126377e-20, 0.0015430806348152438, 0.001)\n"
     ]
    }
   ],
   "source": [
    "sorted_list = sorted(vlist_x, key=lambda x: x[-1])\n",
    "\n",
    "# Ausgabe der sortierten Liste\n",
    "print(\"Sorted list according to the last element in each tuple:\")\n",
    "for tupel in sorted_list:\n",
    "    print(tupel)"
   ],
   "metadata": {
    "collapsed": false,
    "ExecuteTime": {
     "end_time": "2024-03-04T10:12:16.911979900Z",
     "start_time": "2024-03-04T10:12:16.896121900Z"
    }
   }
  },
  {
   "cell_type": "code",
   "execution_count": 58,
   "outputs": [
    {
     "data": {
      "text/plain": "(7.927648702445397e-20, 0.0012946832846768448, 0.00075)"
     },
     "execution_count": 58,
     "metadata": {},
     "output_type": "execute_result"
    }
   ],
   "source": [
    "sorted_list[-2]"
   ],
   "metadata": {
    "collapsed": false,
    "ExecuteTime": {
     "end_time": "2024-03-03T13:12:57.068137500Z",
     "start_time": "2024-03-03T13:12:57.045290900Z"
    }
   }
  },
  {
   "cell_type": "code",
   "execution_count": 35,
   "outputs": [],
   "source": [
    "def sech(x):\n",
    "    return 1 / np.cosh(x)\n",
    "\n",
    "def fun_kappa1(a,v):\n",
    "    kappa_1 = 1/a *sech(v/a)**2\n",
    "    return kappa_1\n",
    "\n",
    "def gaussian_curvature_catenoid(a,v):\n",
    "    '''\n",
    "    Analytical Solution for gaussian curvature\n",
    "    '''\n",
    "    return -1/a**2 * sech(v/a)**4\n",
    "\n",
    "def gaussian_curvature(kappa1, kappa2):\n",
    "    K = kappa1 * kappa2\n",
    "    return K\n",
    "\n",
    "def mean_curvature(f0, f1, f2):\n",
    "    pass\n",
    "\n",
    "def unit_vector(f1,f2):\n",
    "    e_ij = np.abs(f2-f1)\n",
    "    return e_ij\n",
    "\n",
    "\n"
   ],
   "metadata": {
    "collapsed": false,
    "ExecuteTime": {
     "end_time": "2024-03-01T13:52:34.410036400Z",
     "start_time": "2024-03-01T13:52:34.374571500Z"
    }
   }
  },
  {
   "cell_type": "code",
   "execution_count": null,
   "outputs": [],
   "source": [],
   "metadata": {
    "collapsed": false
   }
  },
  {
   "cell_type": "code",
   "execution_count": 36,
   "outputs": [],
   "source": [
    "kappa = fun_kappa1(r,v.x[2])"
   ],
   "metadata": {
    "collapsed": false,
    "ExecuteTime": {
     "end_time": "2024-03-01T13:52:34.591189400Z",
     "start_time": "2024-03-01T13:52:34.574496900Z"
    }
   }
  },
  {
   "cell_type": "code",
   "execution_count": 44,
   "outputs": [
    {
     "data": {
      "text/plain": "-1.0"
     },
     "execution_count": 44,
     "metadata": {},
     "output_type": "execute_result"
    }
   ],
   "source": [
    "vlist[4].x[2]"
   ],
   "metadata": {
    "collapsed": false,
    "ExecuteTime": {
     "end_time": "2024-03-01T13:54:56.167863100Z",
     "start_time": "2024-03-01T13:54:56.156739600Z"
    }
   }
  },
  {
   "cell_type": "code",
   "execution_count": 39,
   "outputs": [
    {
     "name": "stdout",
     "output_type": "stream",
     "text": [
      "K_c = -0.17637844761413474\n",
      "K = -0.17637844761413474\n"
     ]
    }
   ],
   "source": [
    "K = gaussian_curvature(kappa, -kappa)\n",
    "K_c = gaussian_curvature_catenoid(1, -1.0)\n",
    "\n",
    "print(f'K_c = {K_c}')\n",
    "print(f'K = {K}')"
   ],
   "metadata": {
    "collapsed": false,
    "ExecuteTime": {
     "end_time": "2024-03-01T13:53:02.842829900Z",
     "start_time": "2024-03-01T13:53:02.826742800Z"
    }
   }
  },
  {
   "cell_type": "code",
   "execution_count": 28,
   "outputs": [
    {
     "name": "stdout",
     "output_type": "stream",
     "text": [
      "kappa = 0.7864477329659276\n",
      "v.x = (6.904717644627194e-17, 1.1276259652063807, 0.5)\n",
      "kappa = 0.7864477329659276\n",
      "v.x = (6.904717644627194e-17, 1.1276259652063807, -0.5)\n",
      "kappa = 1.0\n",
      "v.x = (6.123233995736766e-17, 1.0, 0.0)\n",
      "kappa = 0.41997434161402614\n",
      "v.x = (9.44864380126377e-17, 1.5430806348152437, 1.0)\n",
      "kappa = 0.41997434161402614\n",
      "v.x = (9.44864380126377e-17, 1.5430806348152437, -1.0)\n"
     ]
    }
   ],
   "source": [
    "for v in vlist:\n",
    "    kappa = fun_kappa1(r,v.x[2])\n",
    "    print(f'kappa = {kappa}')\n",
    "    print(f'v.x = {v.x}')\n",
    "\n"
   ],
   "metadata": {
    "collapsed": false,
    "ExecuteTime": {
     "end_time": "2024-03-01T13:46:24.308638900Z",
     "start_time": "2024-03-01T13:46:24.283721700Z"
    }
   }
  },
  {
   "cell_type": "code",
   "execution_count": null,
   "outputs": [],
   "source": [],
   "metadata": {
    "collapsed": false
   }
  }
 ],
 "metadata": {
  "kernelspec": {
   "display_name": "Python 3",
   "language": "python",
   "name": "python3"
  },
  "language_info": {
   "codemirror_mode": {
    "name": "ipython",
    "version": 2
   },
   "file_extension": ".py",
   "mimetype": "text/x-python",
   "name": "python",
   "nbconvert_exporter": "python",
   "pygments_lexer": "ipython2",
   "version": "2.7.6"
  }
 },
 "nbformat": 4,
 "nbformat_minor": 0
}
