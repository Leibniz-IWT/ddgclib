{
 "cells": [
  {
   "cell_type": "markdown",
   "metadata": {},
   "source": [
    "# Introduction Catenoid principal curvatures\n",
    "\n",
    "The purpose of this notebook is to investigate numerical formulas for the integrated principal curvatures of discretised surfaces by comparing it to the test case of a Catenoid with an analytical solution in the form of a parametric surface function."
   ]
  },
  {
   "cell_type": "code",
   "execution_count": 1,
   "metadata": {
    "collapsed": false,
    "ExecuteTime": {
     "end_time": "2024-03-05T16:22:23.746342048Z",
     "start_time": "2024-03-05T16:22:23.243065930Z"
    }
   },
   "outputs": [
    {
     "name": "stdout",
     "output_type": "stream",
     "text": [
      "/home/stefan_endres/projects/ddg/ddgclib\n",
      "/home/stefan_endres/projects/ddg/ddgclib/ddgclib\n"
     ]
    }
   ],
   "source": [
    "import os, sys\n",
    "import math\n",
    "print(os.getcwd())\n",
    "print(os.getcwd()+\"/ddgclib\")\n",
    "sys.path.append(os.getcwd()+\"/ddgclib\")\n",
    "os.chdir(os.getcwd())\n",
    "import ddgclib\n",
    "\n",
    "import polyscope as ps\n",
    "from ddgclib._plotting import *\n",
    "from ddgclib._curvatures import *\n",
    "import numpy as np\n",
    "from ddgclib._catenoid_clean import *\n",
    "module_path = os.path.abspath(os.path.join('..'))\n",
    "import matplotlib.pyplot as plt\n",
    "if module_path not in sys.path:\n",
    "    sys.path.append(module_path)\n",
    "    \n",
    "def cut_y_plane(HC):\n",
    "    \"\"\"\n",
    "    Cuts a y-plane out of the complex to visualise.\n",
    "    \n",
    "    :param HC: Complex object \n",
    "    :return: Sorted list of vertices in the cut out plane.\n",
    "    \"\"\"\n",
    "    d = 2*c\n",
    "    vlist = []\n",
    "    vlist_x = []\n",
    "    \n",
    "    for v in HC.V:\n",
    "        if (abs(v.x[0]) <= 1e-8) and (0.0 <= v.x[1] <= d):\n",
    "            vlist.append(v)\n",
    "    \n",
    "    \n",
    "    for v in vlist:\n",
    "        #print(v.x)\n",
    "        vlist_x.append(v.x)\n",
    "        #print(type(v.x))\n",
    "    \n",
    "    sorted_list = sorted(vlist_x, key=lambda x: x[-1])\n",
    "    # Ausgabe der sortierten Liste\n",
    "    #print(\"Sorted list according to the last element in each tuple:\")\n",
    "    #for tupel in sorted_list:\n",
    "    #    print(tupel)\n",
    "    return sorted_list\n",
    "\n",
    "\n"
   ]
  },
  {
   "cell_type": "markdown",
   "metadata": {
    "collapsed": false
   },
   "source": [
    "## Define the known analytical values of the Catenoid bridge\n",
    "\n",
    "The parameterised Catenoid function is defined as (code function `catenoid` imported from _catenoid_clean.py)\n",
    "\n",
    "$$\n",
    "\\begin{aligned}\n",
    "& x=c \\cosh \\left(\\frac{v}{c}\\right) \\cos u \\\\\n",
    "& y=c \\cosh \\left(\\frac{v}{c}\\right) \\sin u \\\\\n",
    "& z=v,\n",
    "\\end{aligned}\n",
    "$$\n",
    "where $u \\in[0,2 \\pi)$. And $c$ is an arbitary parameter.\n",
    "\n",
    "The principal curvatures are\n",
    "$$\n",
    "\\begin{aligned}\n",
    "\\kappa_1 & =\\frac{1}{c} \\operatorname{sech}^2\\left(\\frac{v}{c}\\right) \\\\\n",
    "\\kappa_2 & =-\\frac{1}{c} \\operatorname{sech}^2\\left(\\frac{v}{c}\\right) .\n",
    "\\end{aligned}\n",
    "$$\n",
    "\n",
    "The mean curvature of the catenoid is\n",
    "$$\n",
    "H= \\kappa_1 + \\kappa_2 = 0\n",
    "$$\n",
    "\n",
    "and the Gaussian curvature is\n",
    "$$\n",
    "K=-\\frac{1}{c^2} \\operatorname{sech}^4\\left(\\frac{v}{c}\\right) .\n",
    "$$\n",
    "\n",
    "The analytical functions are implemented in the python code below:"
   ]
  },
  {
   "cell_type": "code",
   "execution_count": 2,
   "metadata": {
    "collapsed": false,
    "ExecuteTime": {
     "end_time": "2024-03-05T16:22:23.750247856Z",
     "start_time": "2024-03-05T16:22:23.724676823Z"
    }
   },
   "outputs": [],
   "source": [
    "# Define kappa_1 in terms of v and c (by rotational symmetry it is the same for all u \\in [0, 2 pi])\n",
    "def fun_kappa1(v, c):\n",
    "    kappa_1 = (1/c) *(sech(v/c))**2\n",
    "    return kappa_1\n",
    "\n",
    "def fun_kappa2(c, v):\n",
    "    kappa_2 = -1/c *sech(v/c)**2\n",
    "    return kappa_2\n",
    "\n",
    "def gaussian_curvature_catenoid(v, c):\n",
    "    '''\n",
    "    Analytical Solution for gaussian curvature\n",
    "    '''\n",
    "    return -1/c**2 * sech(v/c)**4\n",
    "\n",
    "def gaussian_curvature(kappa1, kappa2):\n",
    "    K = kappa1 * kappa2\n",
    "    return K\n",
    "\n",
    "def mean_curvature(kappa1, kappa2):\n",
    "    return kappa1 + kappa2\n",
    "\n",
    "\n",
    "v = 0.5\n",
    "c = 1\n"
   ]
  },
  {
   "cell_type": "code",
   "outputs": [
    {
     "name": "stdout",
     "output_type": "stream",
     "text": [
      "Normal Vector at (u=1.5707963267948966, v=0.5): [ 0.          0.88681888 -0.46211716]\n"
     ]
    }
   ],
   "source": [
    "import numpy as np\n",
    "\n",
    "def catenoid(u, v, c):\n",
    "    x = c * np.cos(u) * np.cosh(v / c)\n",
    "    y = c * np.sin(u) * np.cosh(v / c)\n",
    "    z = v\n",
    "    return x, y, z\n",
    "\n",
    "def catenoid_normal_vector(u, v, c):\n",
    "    du = 1e-5  # small change in u for numerical derivative\n",
    "    dv = 1e-5  # small change in v for numerical derivative\n",
    "\n",
    "    # Calculate partial derivatives\n",
    "    X_u = (np.array(catenoid(u + du, v, c)) - np.array(catenoid(u - du, v, c))) / (2 * du)\n",
    "    X_v = (np.array(catenoid(u, v + dv, c)) - np.array(catenoid(u, v - dv, c))) / (2 * dv)\n",
    "\n",
    "    # Cross product and normalization\n",
    "    cross_product = np.cross(X_u, X_v)\n",
    "    normalized_vector = cross_product / np.linalg.norm(cross_product)\n",
    "\n",
    "    return normalized_vector\n",
    "\n",
    "\n",
    "def n(u, v, c):\n",
    "    return [c*math.cos(u)*math.cosh(v/c)/math.sqrt((1/4)*abs(c*math.sinh(2*v/c))**2 + abs(c*math.sin(u)*math.cosh(v/c))**2 + abs(c*math.cos(u)*math.cosh(v/c))**2)], [c*math.sin(u)*math.cosh(v/c)/math.sqrt((1/4)*abs(c*math.sinh(2*v/c))**2 + abs(c*math.sin(u)*math.cosh(v/c))**2 + abs(c*math.cos(u)*math.cosh(v/c))**2)], [-c*math.sinh(2*v/c)/math.sqrt(abs(c*math.sinh(2*v/c))**2 + 4*abs(c*math.sin(u)*math.cosh(v/c))**2 + 4*abs(c*math.cos(u)*math.cosh(v/c))**2)]\n",
    "\n",
    "# Example usage:\n",
    "u_value = np.pi/2\n",
    "v_value = 0.5\n",
    "c_value = 1.0\n",
    "normal_at_uv = catenoid_normal_vector(u_value, v_value, c_value)\n",
    "\n",
    "print(\"Normal Vector at (u={}, v={}): {}\".format(u_value, v_value, normal_at_uv))"
   ],
   "metadata": {
    "collapsed": false,
    "ExecuteTime": {
     "end_time": "2024-03-05T21:46:47.256385365Z",
     "start_time": "2024-03-05T21:46:47.204451089Z"
    }
   },
   "execution_count": 61
  },
  {
   "cell_type": "markdown",
   "metadata": {
    "collapsed": false
   },
   "source": [
    "## Find integrated values\n",
    "\n",
    "Next we try to find the integrated solutions of the analytical functions in order to find a good comparison with a numerical formulation.\n",
    "\n",
    "First, it can be seen that unfortunately an attempt to find a closed form solution with sympy fails: "
   ]
  },
  {
   "cell_type": "code",
   "execution_count": 4,
   "metadata": {
    "collapsed": false,
    "ExecuteTime": {
     "end_time": "2024-03-05T16:22:24.714954006Z",
     "start_time": "2024-03-05T16:22:23.749300343Z"
    }
   },
   "outputs": [
    {
     "name": "stdout",
     "output_type": "stream",
     "text": [
      "Integrated kappa_1 over the domain: Integral(sech(v/c)**2, (v, 0.1, 0.2))/c\n"
     ]
    }
   ],
   "source": [
    "from sympy import symbols, integrate#, sech\n",
    "import sympy as sp\n",
    "\n",
    "# Define symbols and parameters\n",
    "v, c = symbols('v c')\n",
    "\n",
    "# Define kappa_1 in terms of v and c\n",
    "kappa_1 = 1 / c * sp.sech(v / c)**2\n",
    "#kappa_1 = 1 / c * 1/sp.cosh(v / c)**2\n",
    "\n",
    "# Define the integration bounds for v\n",
    "v_min = 0.1  # replace with the lower bound of the domain\n",
    "v_max = 0.2  # replace with the upper bound of the domain\n",
    "\n",
    "# Integrate kappa_1 with respect to v over the given domain\n",
    "integrated_kappa_1 = integrate(kappa_1, (v, v_min, v_max)).evalf()\n",
    "\n",
    "# Display the result\n",
    "print(\"Integrated kappa_1 over the domain:\", integrated_kappa_1)"
   ]
  },
  {
   "cell_type": "markdown",
   "metadata": {
    "collapsed": false
   },
   "source": [
    "### Numerical intergration\n",
    "\n",
    "Next we find the numerical integral of `kappa_1_integrand(v, c)`.\n",
    "\n",
    "Note that there are two possibilities, dotted with the normal vector $N$ or without. First we will investigate with the normal vector, therefore the rountine below solves the definite example integral\n",
    "\n",
    "$$\n",
    "\\int^{v_{max} = 0}_{v_{min} = -1} \\kappa_1(v, c) \\cdot N(v, c) dv\n",
    "$$\n",
    "\n",
    "#### Function for $\\kappa_1(v, c)$\n",
    "First we define an integratable function $\\kappa_1(v, c)$:"
   ]
  },
  {
   "cell_type": "code",
   "execution_count": 5,
   "metadata": {
    "collapsed": false,
    "ExecuteTime": {
     "end_time": "2024-03-05T16:22:24.811071764Z",
     "start_time": "2024-03-05T16:22:24.680286873Z"
    }
   },
   "outputs": [
    {
     "name": "stdout",
     "output_type": "stream",
     "text": [
      "Numerical result of the integrated kappa_1 over the domain: 0.7615941559557649\n"
     ]
    }
   ],
   "source": [
    "from scipy.integrate import quad\n",
    "import numpy as np\n",
    "\n",
    "# Define the integrand function    \n",
    "def kappa_1_integrand(v, c):  # Slightly higher accuracy of the same function func_kappa1 above\n",
    "    return (1 / c) * np.power(sech(v / c), 2)\n",
    "\n",
    "# Define the integration bounds for v\n",
    "v_min = -1.0  # replace with the lower bound of the domain\n",
    "v_max = 0.0   # replace with the upper bound of the domain\n",
    "\n",
    "# Numerically integrate the function over the specified domain\n",
    "c = 1.0\n",
    "result, error = quad(kappa_1_integrand, v_min, v_max, args=(c))\n",
    "\n",
    "# Display the numerical result\n",
    "print(\"Numerical result of the integrated kappa_1 over the domain:\", result)"
   ]
  },
  {
   "cell_type": "markdown",
   "metadata": {},
   "source": [
    "#### Normal vectors\n",
    "\n",
    "Next we define an integratable function $N(v, c)$."
   ]
  },
  {
   "cell_type": "code",
   "execution_count": 111,
   "metadata": {
    "collapsed": false,
    "ExecuteTime": {
     "end_time": "2024-03-05T22:01:57.182613611Z",
     "start_time": "2024-03-05T22:01:57.106812521Z"
    }
   },
   "outputs": [
    {
     "data": {
      "text/plain": "(-0.5,\n 0.5,\n 1.5707963267948966,\n 1.0,\n array([ 5.43019954e-17,  8.86818884e-01, -4.62117157e-01]),\n ([5.430199538386895e-17], [0.8868188839700739], [-0.46211715726000974]),\n 1.0)"
     },
     "execution_count": 111,
     "metadata": {},
     "output_type": "execute_result"
    }
   ],
   "source": [
    "def N_func(v, u, c):\n",
    "    return np.array([c*math.cos(u)*math.cosh(v/c)/math.sqrt((1/4)*abs(c*math.sinh(2*v/c))**2 + abs(c*math.sin(u)*math.cosh(v/c))**2 + abs(c*math.cos(u)*math.cosh(v/c))**2),                          c*math.sin(u)*math.cosh(v/c)/math.sqrt((1/4)*abs(c*math.sinh(2*v/c))**2 + abs(c*math.sin(u)*math.cosh(v/c))**2 + abs(c*math.cos(u)*math.cosh(v/c))**2), -                        c*math.sinh(2*v/c)/math.sqrt(abs(c*math.sinh(2*v/c))**2 + 4*abs(c*math.sin(u)*math.cosh(v/c))**2 + 4*abs(c*math.cos(u)*math.cosh(v/c))**2)])\n",
    "\n",
    "\n",
    "# For when u is a constant:\n",
    "c = 1.0\n",
    "u = np.pi/2\n",
    "v = 0.5\n",
    "v_min, v_max, u, c, N_func(v, u, c), n(u, v, c), np.linalg.norm(N_func(v, u, c))"
   ]
  },
  {
   "cell_type": "code",
   "execution_count": 112,
   "metadata": {
    "ExecuteTime": {
     "end_time": "2024-03-05T22:01:57.566104118Z",
     "start_time": "2024-03-05T22:01:57.511616663Z"
    }
   },
   "outputs": [
    {
     "name": "stdout",
     "output_type": "stream",
     "text": [
      "Numerical result for N_x along x=0 plane: 5.30130913224453e-17\n",
      "Error estimate for N_x along x=0 plane: 5.885635459273487e-31\n",
      "Numerical result for N_y along x=0 plane: 0.8657694832396586\n",
      "Error estimate for N_y along x=0 plane: 9.611972143104926e-15\n",
      "Numerical result for N_z along x=0 plane: 0.4337808304830271\n",
      "Error estimate for N_z along x=0 plane: 4.815934656432787e-15\n"
     ]
    }
   ],
   "source": [
    "from scipy.integrate import quad\n",
    "import numpy as np\n",
    "\n",
    "c = 1\n",
    "u = np.pi / 2\n",
    "\n",
    "#def N_func(v, u, c):\n",
    "#    return np.array([c**2 * np.cos(u) * np.cosh(v / c),\n",
    "#                     c**2 * np.sin(u) * np.cosh(v / c),\n",
    "#                     c * (np.sin(u)**2 * np.tanh(v / c) + np.cos(u)**2 * np.tanh(v / c)) * np.cosh(v / c)**2])\n",
    "\n",
    "# Define the integration bounds for v\n",
    "v_min = -1.0  # replace with the lower bound of the domain\n",
    "v_max = 0.0   # replace with the upper bound of the domain\n",
    "\n",
    "# Numerically integrate each component of the vector along the x=0 plane\n",
    "result_N_x, error_N_x = quad(lambda v: N_func(v, u, c)[0], v_min, v_max)\n",
    "result_N_y, error_N_y = quad(lambda v: N_func(v, u, c)[1], v_min, v_max)\n",
    "result_N_z, error_N_z = quad(lambda v: N_func(v, u, c)[2], v_min, v_max)\n",
    "\n",
    "print(\"Numerical result for N_x along x=0 plane:\", result_N_x)\n",
    "print(\"Error estimate for N_x along x=0 plane:\", error_N_x)\n",
    "\n",
    "print(\"Numerical result for N_y along x=0 plane:\", result_N_y)\n",
    "print(\"Error estimate for N_y along x=0 plane:\", error_N_y)\n",
    "\n",
    "print(\"Numerical result for N_z along x=0 plane:\", result_N_z)\n",
    "print(\"Error estimate for N_z along x=0 plane:\", error_N_z)"
   ]
  },
  {
   "cell_type": "markdown",
   "metadata": {},
   "source": [
    "#### Combined integral"
   ]
  },
  {
   "cell_type": "code",
   "execution_count": 129,
   "metadata": {
    "ExecuteTime": {
     "end_time": "2024-03-05T22:05:55.282098373Z",
     "start_time": "2024-03-05T22:05:55.219636785Z"
    }
   },
   "outputs": [
    {
     "data": {
      "text/plain": "(5.882971509320732e-17, 0.9607621582674589, 0.0)"
     },
     "execution_count": 129,
     "metadata": {},
     "output_type": "execute_result"
    }
   ],
   "source": [
    "def kN(v, u, c):\n",
    "    N = N_func(v, u, c)  \n",
    "    kappa_1 = kappa_1_integrand(v, c)\n",
    "    print(N)\n",
    "    return np.array([N[0] * kappa_1,\n",
    "                     N[1] * kappa_1,\n",
    "                     N[2] * kappa_1])\n",
    "\n",
    "# Define the integration bounds for v\n",
    "v_min = -0.5  # replace with the lower bound of the domain\n",
    "v_max = 0.5  # replace with the upper bound of the domain\n",
    "\n",
    "def int_kN(v_min, v_max, u, c):\n",
    "    # Numerically integrate each component of the vector along the x=0 plane\n",
    "    result_kN_x, error_N_x = quad(lambda v: N_func(v, u, c)[0], v_min, v_max)\n",
    "    result_kN_y, error_N_y = quad(lambda v: N_func(v, u, c)[1], v_min, v_max)\n",
    "    result_kN_z, error_N_z = quad(lambda v: N_func(v, u, c)[2], v_min, v_max)\n",
    "    return result_kN_x, result_kN_y, result_kN_z\n",
    "\n",
    "result_kN_x, result_kN_y, result_kN_z = int_kN(v_min, v_max, u, c)\n",
    "int_kN(v_min, v_max, u, c)"
   ]
  },
  {
   "cell_type": "markdown",
   "metadata": {
    "collapsed": false
   },
   "source": [
    "#### Generate the Catenoid function as a complex and extract the profile of the bridge"
   ]
  },
  {
   "cell_type": "code",
   "outputs": [
    {
     "data": {
      "text/plain": "(array([-1.00000000e+00, -5.00000041e-06,  0.00000000e+00]),\n array([3.06161848e-22, 5.00000041e-06, 1.00000000e+00]))"
     },
     "execution_count": 114,
     "metadata": {},
     "output_type": "execute_result"
    }
   ],
   "source": [
    "import numpy as np\n",
    "\n",
    "# Define catenoid parametric equations\n",
    "def catenoid(u, v, c):\n",
    "    x = c * np.cos(u) * np.cosh(v / c)\n",
    "    y = c * np.sin(u) * np.cosh(v / c)\n",
    "    z = v\n",
    "    return x, y, z\n",
    "\n",
    "# Function to compute tangent vectors numerically\n",
    "def compute_tangent_vectors(u, v, c, delta=1e-5):\n",
    "    # Calculate points on the surface\n",
    "    points = np.array(catenoid(u, v, c)).T\n",
    "\n",
    "    # Perturb u and v to compute tangent vectors\n",
    "    perturbed_u = u + delta\n",
    "    perturbed_v = v + delta\n",
    "\n",
    "    perturbed_points_u = np.array(catenoid(perturbed_u, v, c)).T\n",
    "    perturbed_points_v = np.array(catenoid(u, perturbed_v, c)).T\n",
    "\n",
    "    # Numerical differentiation to compute tangent vectors\n",
    "    tangent_vector_u = (perturbed_points_u - points) / delta\n",
    "    tangent_vector_v = (perturbed_points_v - points) / delta\n",
    "\n",
    "    return tangent_vector_u, tangent_vector_v\n",
    "\n",
    "# Example usage:\n",
    "u_values = np.linspace(0, 2 * np.pi, 20)\n",
    "v_values = np.linspace(-1, 1, 20)\n",
    "c_value = 1.0\n",
    "\n",
    "# Compute tangent vectors at specific u and v values\n",
    "u_mesh, v_mesh = np.meshgrid(u_values, v_values)\n",
    "u = np.pi / 2 \n",
    "v = 0.0\n",
    "tangent_u, tangent_v = compute_tangent_vectors(u, v, c_value)\n",
    "\n",
    "# Print or visualize the tangent vectors as needed\n",
    "tangent_u, tangent_v  # We only care about tangent v for now?"
   ],
   "metadata": {
    "collapsed": false,
    "ExecuteTime": {
     "end_time": "2024-03-05T22:01:58.745862199Z",
     "start_time": "2024-03-05T22:01:58.707570612Z"
    }
   },
   "execution_count": 114
  },
  {
   "cell_type": "code",
   "outputs": [
    {
     "name": "stdout",
     "output_type": "stream",
     "text": [
      "n_i(-1.0 = [3.96818796e-17 6.48054274e-01 7.61594156e-01]\n",
      "tangent_v = [-7.19598466e-17 -1.17519348e+00  1.00000000e+00]\n",
      " dotted = 4.99998730603559e-06\n",
      " norm = 1.0\n",
      "n_i(-0.5 = [5.43019954e-17 8.86818884e-01 4.62117157e-01]\n",
      "tangent_v = [-3.19075397e-17 -5.21089667e-01  1.00000000e+00]\n",
      " dotted = 4.999992293457686e-06\n",
      " norm = 1.0\n",
      "n_i(0.0 = [ 6.123234e-17  1.000000e+00 -0.000000e+00]\n",
      "tangent_v = [3.061617e-22 5.000000e-06 1.000000e+00]\n",
      " dotted = 5.0000000017050295e-06\n",
      " norm = 1.0\n",
      "n_i(0.5 = [ 5.43019954e-17  8.86818884e-01 -4.62117157e-01]\n",
      "tangent_v = [3.19082301e-17 5.21100944e-01 1.00000000e+00]\n",
      " dotted = 5.000007699986278e-06\n",
      " norm = 1.0\n",
      "n_i(1.0 = [ 3.96818796e-17  6.48054274e-01 -7.61594156e-01]\n",
      "tangent_v = [7.19607914e-17 1.17520891e+00 1.00000000e+00]\n",
      " dotted = 5.000012688507105e-06\n",
      " norm = 1.0\n"
     ]
    },
    {
     "data": {
      "text/plain": "Text(0.5, 0, 'y')"
     },
     "execution_count": 120,
     "metadata": {},
     "output_type": "execute_result"
    },
    {
     "data": {
      "text/plain": "<Figure size 640x480 with 1 Axes>",
      "image/png": "[encoded data removed]"
     },
     "metadata": {},
     "output_type": "display_data"
    }
   ],
   "source": [
    "# Global parameters\n",
    "c = 1\n",
    "u = np.pi / 2  # This corresponds to the x=0 plane\n",
    "length = 2\n",
    "HC, bV, K_f, H_f, neck_verts, neck_sols = catenoid_clean_N(c, length, refinement=2)\n",
    "#plot_polyscope(HC)\n",
    "\n",
    "yplane = cut_y_plane(HC)\n",
    "xvals = []\n",
    "yvals = []\n",
    "plt.figure()\n",
    "for vertex in yplane:   \n",
    "    #print(f'vertex = {vertex[0]}')\n",
    "    yvals.append(vertex[2])\n",
    "    xvals.append(vertex[1])\n",
    "    v_val = vertex[2]\n",
    "    n_i = N_func(v_val, u, c)  # N_func(v, u, c)\n",
    "    print(f'n_i({v_val} = {n_i}')\n",
    "    tangent_u, tangent_v = compute_tangent_vectors(u, v_val, c)\n",
    "    n_io = copy.copy(n_i)\n",
    "    print(f'tangent_v = {tangent_v}')\n",
    "    print(f' dotted = {np.dot(tangent_v, n_i)}')\n",
    "    print(f' norm = {np.linalg.norm(n_i)}')\n",
    "    n_i[1]\n",
    "    # quiver([X, Y], U, V,\n",
    "    plt.quiver(vertex[1], vertex[2], n_i[1], n_i[2] , scale=5, color='black')\n",
    "    plt.quiver(vertex[1], vertex[2], tangent_v[1], tangent_v[2], scale=5, color='red')\n",
    "    \n",
    "\n",
    "plt.plot(xvals, yvals)\n",
    "plt.ylabel('z = v')\n",
    "plt.xlabel('y')"
   ],
   "metadata": {
    "collapsed": false,
    "ExecuteTime": {
     "end_time": "2024-03-05T22:04:37.898118985Z",
     "start_time": "2024-03-05T22:04:37.625215997Z"
    }
   },
   "execution_count": 120
  },
  {
   "cell_type": "markdown",
   "source": [
    "# Formulations\n",
    "### Neck symmetry\n",
    "\n",
    "First we confirm that the integral of the curvature normal $\\int^{v_max}_{v_min} kN dv$ around the $v=0$ is also zero, Note here that for now we only care aboute the curvature in the z-plane direction, that is `result_kN_z` below:"
   ],
   "metadata": {
    "collapsed": false
   }
  },
  {
   "cell_type": "code",
   "outputs": [
    {
     "data": {
      "text/plain": "(5.882971509320732e-17, 0.9607621582674589, 0.0)"
     },
     "execution_count": 198,
     "metadata": {},
     "output_type": "execute_result"
    }
   ],
   "source": [
    "# Define the integration bounds for v\n",
    "v_min = -0.5  # replace with the lower bound of the domain\n",
    "v_max = 0.5  # replace with the upper bound of the domain\n",
    "\n",
    "# Compute the integral\n",
    "result_kN_x, result_kN_y, result_kN_z = int_kN(v_min, v_max, u, c)\n",
    "result_kN_x, result_kN_y, result_kN_z"
   ],
   "metadata": {
    "collapsed": false,
    "ExecuteTime": {
     "end_time": "2024-03-05T22:17:28.904911751Z",
     "start_time": "2024-03-05T22:17:28.862491589Z"
    }
   },
   "execution_count": 198
  },
  {
   "cell_type": "markdown",
   "source": [
    "#### DDG\n",
    "\n",
    "First we attempt to compare with the $z$ component of the integral on an edge $*df = \\frac{1}{e_{ij}} (f_j - f_i)$"
   ],
   "metadata": {
    "collapsed": false
   }
  },
  {
   "cell_type": "code",
   "execution_count": 222,
   "metadata": {
    "collapsed": false,
    "ExecuteTime": {
     "end_time": "2024-03-05T22:28:02.375595209Z",
     "start_time": "2024-03-05T22:28:02.332979258Z"
    }
   },
   "outputs": [
    {
     "data": {
      "text/plain": "(1.5430806348152437785, 1.1276259652063807853, 1.0)"
     },
     "execution_count": 222,
     "metadata": {},
     "output_type": "execute_result"
    }
   ],
   "source": [
    "v0 = np.array(yplane[0])  # The boundary vertex i\n",
    "v1 = np.array(yplane[1])  # The connected vertex j\n",
    "v2 = np.array(yplane[2])  # The central vertex\n",
    "v3 = np.array(yplane[3])\n",
    "v0[1], v1[1], v2[1]"
   ]
  },
  {
   "cell_type": "markdown",
   "source": [
    "HNdA_i, HNdA_i_Ci[2]\n",
    "### Boundary vertex:\n",
    "\n",
    "Next we check the integral around the boundary"
   ],
   "metadata": {
    "collapsed": false
   }
  },
  {
   "cell_type": "code",
   "execution_count": 239,
   "metadata": {
    "collapsed": false,
    "ExecuteTime": {
     "end_time": "2024-03-05T22:35:41.620929985Z",
     "start_time": "2024-03-05T22:35:41.597323582Z"
    }
   },
   "outputs": [
    {
     "data": {
      "text/plain": "array([-1.95662876e-17, -3.19541725e-01,  3.84568701e-01], dtype=float128)"
     },
     "execution_count": 239,
     "metadata": {},
     "output_type": "execute_result"
    }
   ],
   "source": [
    "# First check the boundary vertex:\n",
    "\n",
    "e_ij = np.linalg.norm(v1 - v0)\n",
    "1/e_ij * (v1  - v0) / 2"
   ]
  },
  {
   "cell_type": "code",
   "outputs": [
    {
     "data": {
      "text/plain": "(2.3598233775841646e-17, 0.38538840410592917, 0.31366632352474966)"
     },
     "execution_count": 224,
     "metadata": {},
     "output_type": "execute_result"
    }
   ],
   "source": [
    "# Compare to the integral\n",
    "v_min = -1.0  # replace with the lower bound of the domain\n",
    "v_max = -0.5  # replace with the upper bound of the domain\n",
    "\n",
    "# Compute the integral\n",
    "int_kN(v_min, v_max, u, c)"
   ],
   "metadata": {
    "collapsed": false,
    "ExecuteTime": {
     "end_time": "2024-03-05T22:28:03.614308630Z",
     "start_time": "2024-03-05T22:28:03.566659294Z"
    }
   },
   "execution_count": 224
  },
  {
   "cell_type": "code",
   "outputs": [],
   "source": [],
   "metadata": {
    "collapsed": false,
    "ExecuteTime": {
     "end_time": "2024-03-05T22:28:03.932413421Z",
     "start_time": "2024-03-05T22:28:03.919021423Z"
    }
   },
   "execution_count": 224
  },
  {
   "cell_type": "code",
   "execution_count": 255,
   "metadata": {
    "collapsed": false,
    "ExecuteTime": {
     "end_time": "2024-03-06T12:23:44.451424762Z",
     "start_time": "2024-03-06T12:23:44.398457541Z"
    }
   },
   "outputs": [
    {
     "data": {
      "text/plain": "(array([-2.30935063e-17, -3.75722151e-01,  1.58071335e+00], dtype=float128),\n 0.50906724644692817025)"
     },
     "execution_count": 255,
     "metadata": {},
     "output_type": "execute_result"
    }
   ],
   "source": [
    "vert_0 = HC.V[yplane[0]]  # kappa_1 = 0.419974341614026069\n",
    "FF, nn = vectorise_vnn(vert_0)\n",
    "cdict = b_curvatures_hn_ij_c_ij(FF, nn)\n",
    "HNdA_i = cdict['HNdA_i']\n",
    "HNdA_i_Ci = HNdA_i/cdict['C_i']\n",
    "HNdA_i, HNdA_i_Ci[2]"
   ]
  },
  {
   "cell_type": "markdown",
   "source": [
    "#### Centre\n",
    "\n",
    "Integral around the center vertex"
   ],
   "metadata": {
    "collapsed": false
   }
  },
  {
   "cell_type": "code",
   "outputs": [
    {
     "data": {
      "text/plain": "(5.882971509320732e-17, 0.9607621582674589, 0.0)"
     },
     "execution_count": 256,
     "metadata": {},
     "output_type": "execute_result"
    }
   ],
   "source": [
    "# Compare to the integral\n",
    "v_min = -0.5  # replace with the lower bound of the domain\n",
    "v_max = 0.5  # replace with the upper bound of the domain\n",
    "\n",
    "\n",
    "# Compute the integral\n",
    "int_kN(v_min, v_max, u, c)"
   ],
   "metadata": {
    "collapsed": false,
    "ExecuteTime": {
     "end_time": "2024-03-06T12:23:45.462017908Z",
     "start_time": "2024-03-06T12:23:45.131348174Z"
    }
   },
   "execution_count": 256
  },
  {
   "cell_type": "code",
   "outputs": [
    {
     "data": {
      "text/plain": "array([-0.66420019,  1.05767441,  0.81253313])"
     },
     "execution_count": 257,
     "metadata": {},
     "output_type": "execute_result"
    }
   ],
   "source": [
    "e_ij = np.linalg.norm(v1 - v2)\n",
    "e_ik = np.linalg.norm(v3 - v2)\n",
    "1/e_ij * (v1  - v2)  + 1/e_ik * (v3  - v2)  "
   ],
   "metadata": {
    "collapsed": false,
    "ExecuteTime": {
     "end_time": "2024-03-06T12:23:45.581365107Z",
     "start_time": "2024-03-06T12:23:45.515057605Z"
    }
   },
   "execution_count": 257
  },
  {
   "cell_type": "markdown",
   "source": [
    "#### Question, the result below produces :"
   ],
   "metadata": {
    "collapsed": false
   }
  },
  {
   "cell_type": "code",
   "outputs": [
    {
     "data": {
      "text/plain": "array([0.16486361, 0.49979778, 0.8503071 ])"
     },
     "execution_count": 258,
     "metadata": {},
     "output_type": "execute_result"
    }
   ],
   "source": [
    "1/e_ij * (v1  - v2) "
   ],
   "metadata": {
    "collapsed": false,
    "ExecuteTime": {
     "end_time": "2024-03-06T12:23:46.338072415Z",
     "start_time": "2024-03-06T12:23:46.329190386Z"
    }
   },
   "execution_count": 258
  },
  {
   "cell_type": "markdown",
   "source": [
    "Is the -9.68933320e-01 related to the integral output of 0.9607621582674589? which is relatable to the boundary condition?"
   ],
   "metadata": {
    "collapsed": false
   }
  },
  {
   "cell_type": "markdown",
   "source": [
    "## Idea based on mean normal curvature results\n",
    "\n",
    "Can we use the definition $H= \\kappa_1 + \\kappa_2 $ as well as the orthoganol condition to derive equations from the working dual integral?\n",
    "\n",
    "\n",
    "$$\n",
    "d*df =  \\int H N dA = \\int (\\kappa_1 + \\kappa_2) N dA\n",
    "$$\n",
    "\n",
    "Where unit vectors in the direction of the principal curvatures $X_1$, $X_2$:\n",
    "\n",
    "$$ \\kappa_1 X_1  \\cdot \\kappa_2 X_2 = 0 $$\n",
    "\n",
    "so decomposing the $d*df$ vector could produce $X_1$ and $X_2$ and then we could kind the principal curvatures? First let's get the mean curvature around the centre vertex back:"
   ],
   "metadata": {
    "collapsed": false
   }
  },
  {
   "cell_type": "code",
   "outputs": [
    {
     "data": {
      "text/plain": "(array([2.05998413e-17, 3.39519314e-01, 0.00000000e+00], dtype=float128), 0.0)"
     },
     "execution_count": 259,
     "metadata": {},
     "output_type": "execute_result"
    }
   ],
   "source": [
    "vert_0 = HC.V[yplane[2]]  # kappa_1 = 0.419974341614026069\n",
    "FF, nn = vectorise_vnn(vert_0)\n",
    "cdict = b_curvatures_hn_ij_c_ij(FF, nn)\n",
    "HNdA_i = cdict['HNdA_i']\n",
    "HNdA_i_Ci = HNdA_i/cdict['C_i']\n",
    "HNdA_i, HNdA_i_Ci[2]"
   ],
   "metadata": {
    "collapsed": false,
    "ExecuteTime": {
     "end_time": "2024-03-06T12:24:41.994313155Z",
     "start_time": "2024-03-06T12:24:41.946373522Z"
    }
   },
   "execution_count": 259
  },
  {
   "cell_type": "markdown",
   "source": [
    "Around this vertex on the bridge neck the kappa values and the vectors $X_1$ and $X_2$ are known as they are in the axissymetric directions.\n",
    "\n",
    "\\\n",
    "\n",
    "\n",
    "\n",
    "![title](kappa_cat.png)"
   ],
   "metadata": {
    "collapsed": false
   }
  },
  {
   "cell_type": "code",
   "outputs": [
    {
     "data": {
      "text/plain": "1.000404597021129"
     },
     "execution_count": 262,
     "metadata": {},
     "output_type": "execute_result"
    }
   ],
   "source": [
    "X_1 = np.array([0, 0, 1])  # in the kappa_1 > 0 direction?\n",
    "X_2 = np.array([0, 1, 0])  # in the kappa_2 < 0 direction\n",
    "e_ij = np.linalg.norm(v2 - v1)\n",
    "e_ij"
   ],
   "metadata": {
    "collapsed": false,
    "ExecuteTime": {
     "end_time": "2024-03-06T16:57:13.454539538Z",
     "start_time": "2024-03-06T16:57:13.430401666Z"
    }
   },
   "execution_count": 262
  },
  {
   "cell_type": "markdown",
   "source": [
    "It is immediately clear that we need more than one vector if you want the third component to sum to zero. Either the edge vectors should be used instead or the vectors need to be solved using the system of equations.\n",
    "\n",
    "Maybe using Gram-Schidt decomposition?"
   ],
   "metadata": {
    "collapsed": false
   }
  },
  {
   "cell_type": "code",
   "outputs": [],
   "source": [
    "import numpy as np\n",
    "\n",
    "# Define your 3-element vector\n",
    "vector = np.array([1, 2, 3])\n",
    "\n",
    "# Create a 3x3 matrix using the vector\n",
    "matrix = np.diag(vector)\n",
    "\n",
    "# Calculate the eigenvalues\n",
    "eigenvalues = np.linalg.eigvals(matrix)"
   ],
   "metadata": {
    "collapsed": false,
    "ExecuteTime": {
     "end_time": "2024-03-06T12:24:42.218809948Z",
     "start_time": "2024-03-06T12:24:42.205442012Z"
    }
   },
   "execution_count": 260
  },
  {
   "cell_type": "code",
   "outputs": [
    {
     "name": "stdout",
     "output_type": "stream",
     "text": [
      "Original Vector: [1 2 3]\n",
      "Orthogonal Decomposition: [1 2 3]\n"
     ]
    }
   ],
   "source": [
    "import numpy as np\n",
    "\n",
    "def gram_schmidt(vectors):\n",
    "    num_vectors = len(vectors)\n",
    "    basis = np.zeros_like(vectors)\n",
    "    \n",
    "    for i in range(num_vectors):\n",
    "        basis[i] = vectors[i]\n",
    "        for j in range(i):\n",
    "            basis[i] -= np.dot(vectors[i], basis[j]) / np.dot(basis[j], basis[j]) * basis[j]\n",
    "            \n",
    "    return basis\n",
    "\n",
    "# Define your 3-element vector\n",
    "vector = np.array([1, 2, 3])\n",
    "\n",
    "# Perform Gram-Schmidt orthogonalization\n",
    "orthogonal_basis = gram_schmidt([vector])\n",
    "\n",
    "# Print the result\n",
    "print(\"Original Vector:\", vector)\n",
    "print(\"Orthogonal Decomposition:\", orthogonal_basis[0])"
   ],
   "metadata": {
    "collapsed": false,
    "ExecuteTime": {
     "end_time": "2024-03-05T22:43:01.648185462Z",
     "start_time": "2024-03-05T22:43:01.605954848Z"
    }
   },
   "execution_count": 241
  },
  {
   "cell_type": "code",
   "outputs": [
    {
     "name": "stderr",
     "output_type": "stream",
     "text": [
      "/tmp/ipykernel_16884/2383806792.py:10: RuntimeWarning: invalid value encountered in scalar divide\n",
      "  basis[i] -= np.dot(vectors[i], basis[j]) / np.dot(basis[j], basis[j]) * basis[j]\n"
     ]
    },
    {
     "data": {
      "text/plain": "array([-2.30935063e-17,  0.00000000e+00,             nan], dtype=float128)"
     },
     "execution_count": 242,
     "metadata": {},
     "output_type": "execute_result"
    }
   ],
   "source": [
    "gram_schmidt(HNdA_i)"
   ],
   "metadata": {
    "collapsed": false,
    "ExecuteTime": {
     "end_time": "2024-03-05T22:43:26.804605171Z",
     "start_time": "2024-03-05T22:43:26.755528424Z"
    }
   },
   "execution_count": 242
  },
  {
   "cell_type": "code",
   "outputs": [],
   "source": [],
   "metadata": {
    "collapsed": false
   }
  },
  {
   "cell_type": "markdown",
   "source": [
    "## Solve a system of equations"
   ],
   "metadata": {
    "collapsed": false
   }
  },
  {
   "cell_type": "code",
   "outputs": [
    {
     "name": "stdout",
     "output_type": "stream",
     "text": [
      "Solution:\n"
     ]
    },
    {
     "ename": "TypeError",
     "evalue": "list indices must be integers or slices, not Symbol",
     "output_type": "error",
     "traceback": [
      "\u001B[0;31m---------------------------------------------------------------------------\u001B[0m",
      "\u001B[0;31mTypeError\u001B[0m                                 Traceback (most recent call last)",
      "Cell \u001B[0;32mIn[243], line 22\u001B[0m\n\u001B[1;32m     20\u001B[0m \u001B[38;5;66;03m# Print the solution\u001B[39;00m\n\u001B[1;32m     21\u001B[0m \u001B[38;5;28mprint\u001B[39m(\u001B[38;5;124m\"\u001B[39m\u001B[38;5;124mSolution:\u001B[39m\u001B[38;5;124m\"\u001B[39m)\n\u001B[0;32m---> 22\u001B[0m \u001B[38;5;28mprint\u001B[39m(\u001B[38;5;124m\"\u001B[39m\u001B[38;5;124ms1 =\u001B[39m\u001B[38;5;124m\"\u001B[39m, \u001B[43msolution\u001B[49m\u001B[43m[\u001B[49m\u001B[43ms1\u001B[49m\u001B[43m]\u001B[49m)\n\u001B[1;32m     23\u001B[0m \u001B[38;5;28mprint\u001B[39m(\u001B[38;5;124m\"\u001B[39m\u001B[38;5;124ms2 =\u001B[39m\u001B[38;5;124m\"\u001B[39m, solution[s2])\n\u001B[1;32m     24\u001B[0m \u001B[38;5;28mprint\u001B[39m(\u001B[38;5;124m\"\u001B[39m\u001B[38;5;124ms3 =\u001B[39m\u001B[38;5;124m\"\u001B[39m, solution[s3])\n",
      "\u001B[0;31mTypeError\u001B[0m: list indices must be integers or slices, not Symbol"
     ]
    }
   ],
   "source": [
    "import sympy as sp\n",
    "\n",
    "# Define the symbols\n",
    "s1, s2, s3 = sp.symbols('s1 s2 s3')\n",
    "N1, N2, N3 = sp.symbols('N1 N2 N3', real=True, positive=True)\n",
    "v1 = sp.Matrix([0.3, 0.5, 0.8])\n",
    "v2 = sp.Matrix([s2 * N2, 0, 0])\n",
    "v3 = sp.Matrix([0, s3 * N3, 0])\n",
    "\n",
    "# Conditions\n",
    "eq1 = sp.Eq(v1, s1 * sp.Matrix([N1, N1, N1]))\n",
    "eq2 = sp.Eq(v2, s2 * sp.Matrix([N2, 0, 0]))\n",
    "eq3 = sp.Eq(v3, s3 * sp.Matrix([0, N3, 0]))\n",
    "eq4 = sp.Eq(s1, s2 + s3)\n",
    "eq5 = sp.Eq(v2.dot(v3), 0)\n",
    "\n",
    "# Solve the system of equations\n",
    "solution = sp.solve([eq1, eq2, eq3, eq4, eq5], [s1, s2, s3, N2, N3])\n",
    "\n",
    "# Print the solution\n",
    "print(\"Solution:\")\n",
    "print(\"s1 =\", solution[s1])\n",
    "print(\"s2 =\", solution[s2])\n",
    "print(\"s3 =\", solution[s3])\n",
    "print(\"N2 =\", solution[N2])\n",
    "print(\"N3 =\", solution[N3])\n"
   ],
   "metadata": {
    "collapsed": false,
    "ExecuteTime": {
     "end_time": "2024-03-06T08:44:59.634338475Z",
     "start_time": "2024-03-06T08:44:59.456558786Z"
    }
   },
   "execution_count": 243
  },
  {
   "cell_type": "code",
   "outputs": [
    {
     "data": {
      "text/plain": "[]"
     },
     "execution_count": 247,
     "metadata": {},
     "output_type": "execute_result"
    }
   ],
   "source": [
    "solution"
   ],
   "metadata": {
    "collapsed": false,
    "ExecuteTime": {
     "end_time": "2024-03-06T08:46:01.538349157Z",
     "start_time": "2024-03-06T08:46:01.496697084Z"
    }
   },
   "execution_count": 247
  },
  {
   "cell_type": "code",
   "outputs": [
    {
     "name": "stdout",
     "output_type": "stream",
     "text": [
      "Solution:\n"
     ]
    },
    {
     "ename": "TypeError",
     "evalue": "list indices must be integers or slices, not Symbol",
     "output_type": "error",
     "traceback": [
      "\u001B[0;31m---------------------------------------------------------------------------\u001B[0m",
      "\u001B[0;31mTypeError\u001B[0m                                 Traceback (most recent call last)",
      "Cell \u001B[0;32mIn[245], line 25\u001B[0m\n\u001B[1;32m     23\u001B[0m \u001B[38;5;66;03m# Print the solution\u001B[39;00m\n\u001B[1;32m     24\u001B[0m \u001B[38;5;28mprint\u001B[39m(\u001B[38;5;124m\"\u001B[39m\u001B[38;5;124mSolution:\u001B[39m\u001B[38;5;124m\"\u001B[39m)\n\u001B[0;32m---> 25\u001B[0m \u001B[38;5;28mprint\u001B[39m(\u001B[38;5;124m\"\u001B[39m\u001B[38;5;124ms1 =\u001B[39m\u001B[38;5;124m\"\u001B[39m, \u001B[43msolution\u001B[49m\u001B[43m[\u001B[49m\u001B[43ms1\u001B[49m\u001B[43m]\u001B[49m)\n\u001B[1;32m     26\u001B[0m \u001B[38;5;28mprint\u001B[39m(\u001B[38;5;124m\"\u001B[39m\u001B[38;5;124ms2 =\u001B[39m\u001B[38;5;124m\"\u001B[39m, solution[s2])\n\u001B[1;32m     27\u001B[0m \u001B[38;5;28mprint\u001B[39m(\u001B[38;5;124m\"\u001B[39m\u001B[38;5;124ms3 =\u001B[39m\u001B[38;5;124m\"\u001B[39m, solution[s3])\n",
      "\u001B[0;31mTypeError\u001B[0m: list indices must be integers or slices, not Symbol"
     ]
    }
   ],
   "source": [
    "import sympy as sp\n",
    "\n",
    "# Define the symbols\n",
    "s1, s2, s3 = sp.symbols('s1 s2 s3')\n",
    "N1, N2, N3 = sp.symbols('N1 N2 N3', real=True, positive=True)\n",
    "v1 = sp.Matrix([0.3, 0.5, 0.8])\n",
    "v2 = sp.Matrix([s2 * N2, 0, 0])\n",
    "v3 = sp.Matrix([0, s3 * N3, 0])\n",
    "\n",
    "# Additional constraint: s2 = -s3\n",
    "constraint = sp.Eq(s2, -s3)\n",
    "\n",
    "# Conditions\n",
    "eq1 = sp.Eq(v1, s1 * sp.Matrix([N1, N1, N1]))\n",
    "eq2 = sp.Eq(v2, s2 * sp.Matrix([N2, 0, 0]))\n",
    "eq3 = sp.Eq(v3, s3 * sp.Matrix([0, N3, 0]))\n",
    "eq4 = sp.Eq(s1, s2 + s3)\n",
    "eq5 = sp.Eq(v2.dot(v3), 0)\n",
    "\n",
    "# Solve the system of equations with the additional constraint\n",
    "solution = sp.solve([eq1, eq2, eq3, eq4, eq5, constraint], [s1, s2, s3, N2, N3])\n",
    "\n",
    "# Print the solution\n",
    "print(\"Solution:\")\n",
    "print(\"s1 =\", solution[s1])\n",
    "print(\"s2 =\", solution[s2])\n",
    "print(\"s3 =\", solution[s3])\n",
    "print(\"N2 =\", solution[N2])\n",
    "print(\"N3 =\", solution[N3])\n",
    "\n"
   ],
   "metadata": {
    "collapsed": false,
    "ExecuteTime": {
     "end_time": "2024-03-06T08:45:33.811602914Z",
     "start_time": "2024-03-06T08:45:33.762488350Z"
    }
   },
   "execution_count": 245
  },
  {
   "cell_type": "code",
   "outputs": [
    {
     "data": {
      "text/plain": "[]"
     },
     "execution_count": 246,
     "metadata": {},
     "output_type": "execute_result"
    }
   ],
   "source": [
    "solution"
   ],
   "metadata": {
    "collapsed": false,
    "ExecuteTime": {
     "end_time": "2024-03-06T08:45:50.753676643Z",
     "start_time": "2024-03-06T08:45:50.728376817Z"
    }
   },
   "execution_count": 246
  },
  {
   "cell_type": "code",
   "outputs": [
    {
     "ename": "TypeError",
     "evalue": "fsolve: there is a mismatch between the input and output shape of the 'func' argument 'objective'.Shape should be (5,) but it is (11,).",
     "output_type": "error",
     "traceback": [
      "\u001B[0;31m---------------------------------------------------------------------------\u001B[0m",
      "\u001B[0;31mTypeError\u001B[0m                                 Traceback (most recent call last)",
      "Cell \u001B[0;32mIn[248], line 23\u001B[0m\n\u001B[1;32m     20\u001B[0m initial_guess \u001B[38;5;241m=\u001B[39m [\u001B[38;5;241m1\u001B[39m, \u001B[38;5;241m1\u001B[39m, \u001B[38;5;241m-\u001B[39m\u001B[38;5;241m1\u001B[39m, \u001B[38;5;241m1\u001B[39m, \u001B[38;5;241m1\u001B[39m]\n\u001B[1;32m     22\u001B[0m \u001B[38;5;66;03m# Numerical solution using fsolve\u001B[39;00m\n\u001B[0;32m---> 23\u001B[0m solution \u001B[38;5;241m=\u001B[39m \u001B[43mfsolve\u001B[49m\u001B[43m(\u001B[49m\u001B[43mobjective\u001B[49m\u001B[43m,\u001B[49m\u001B[43m \u001B[49m\u001B[43minitial_guess\u001B[49m\u001B[43m)\u001B[49m\n\u001B[1;32m     25\u001B[0m \u001B[38;5;66;03m# Print the solution\u001B[39;00m\n\u001B[1;32m     26\u001B[0m \u001B[38;5;28mprint\u001B[39m(\u001B[38;5;124m\"\u001B[39m\u001B[38;5;124mNumerical Solution:\u001B[39m\u001B[38;5;124m\"\u001B[39m)\n",
      "File \u001B[0;32m~/.anaconda3/envs/ddg/lib/python3.11/site-packages/scipy/optimize/_minpack_py.py:166\u001B[0m, in \u001B[0;36mfsolve\u001B[0;34m(func, x0, args, fprime, full_output, col_deriv, xtol, maxfev, band, epsfcn, factor, diag)\u001B[0m\n\u001B[1;32m     54\u001B[0m \u001B[38;5;250m\u001B[39m\u001B[38;5;124;03m\"\"\"\u001B[39;00m\n\u001B[1;32m     55\u001B[0m \u001B[38;5;124;03mFind the roots of a function.\u001B[39;00m\n\u001B[1;32m     56\u001B[0m \n\u001B[0;32m   (...)\u001B[0m\n\u001B[1;32m    156\u001B[0m \n\u001B[1;32m    157\u001B[0m \u001B[38;5;124;03m\"\"\"\u001B[39;00m\n\u001B[1;32m    158\u001B[0m options \u001B[38;5;241m=\u001B[39m {\u001B[38;5;124m'\u001B[39m\u001B[38;5;124mcol_deriv\u001B[39m\u001B[38;5;124m'\u001B[39m: col_deriv,\n\u001B[1;32m    159\u001B[0m            \u001B[38;5;124m'\u001B[39m\u001B[38;5;124mxtol\u001B[39m\u001B[38;5;124m'\u001B[39m: xtol,\n\u001B[1;32m    160\u001B[0m            \u001B[38;5;124m'\u001B[39m\u001B[38;5;124mmaxfev\u001B[39m\u001B[38;5;124m'\u001B[39m: maxfev,\n\u001B[0;32m   (...)\u001B[0m\n\u001B[1;32m    163\u001B[0m            \u001B[38;5;124m'\u001B[39m\u001B[38;5;124mfactor\u001B[39m\u001B[38;5;124m'\u001B[39m: factor,\n\u001B[1;32m    164\u001B[0m            \u001B[38;5;124m'\u001B[39m\u001B[38;5;124mdiag\u001B[39m\u001B[38;5;124m'\u001B[39m: diag}\n\u001B[0;32m--> 166\u001B[0m res \u001B[38;5;241m=\u001B[39m \u001B[43m_root_hybr\u001B[49m\u001B[43m(\u001B[49m\u001B[43mfunc\u001B[49m\u001B[43m,\u001B[49m\u001B[43m \u001B[49m\u001B[43mx0\u001B[49m\u001B[43m,\u001B[49m\u001B[43m \u001B[49m\u001B[43margs\u001B[49m\u001B[43m,\u001B[49m\u001B[43m \u001B[49m\u001B[43mjac\u001B[49m\u001B[38;5;241;43m=\u001B[39;49m\u001B[43mfprime\u001B[49m\u001B[43m,\u001B[49m\u001B[43m \u001B[49m\u001B[38;5;241;43m*\u001B[39;49m\u001B[38;5;241;43m*\u001B[39;49m\u001B[43moptions\u001B[49m\u001B[43m)\u001B[49m\n\u001B[1;32m    167\u001B[0m \u001B[38;5;28;01mif\u001B[39;00m full_output:\n\u001B[1;32m    168\u001B[0m     x \u001B[38;5;241m=\u001B[39m res[\u001B[38;5;124m'\u001B[39m\u001B[38;5;124mx\u001B[39m\u001B[38;5;124m'\u001B[39m]\n",
      "File \u001B[0;32m~/.anaconda3/envs/ddg/lib/python3.11/site-packages/scipy/optimize/_minpack_py.py:232\u001B[0m, in \u001B[0;36m_root_hybr\u001B[0;34m(func, x0, args, jac, col_deriv, xtol, maxfev, band, eps, factor, diag, **unknown_options)\u001B[0m\n\u001B[1;32m    230\u001B[0m \u001B[38;5;28;01mif\u001B[39;00m \u001B[38;5;129;01mnot\u001B[39;00m \u001B[38;5;28misinstance\u001B[39m(args, \u001B[38;5;28mtuple\u001B[39m):\n\u001B[1;32m    231\u001B[0m     args \u001B[38;5;241m=\u001B[39m (args,)\n\u001B[0;32m--> 232\u001B[0m shape, dtype \u001B[38;5;241m=\u001B[39m \u001B[43m_check_func\u001B[49m\u001B[43m(\u001B[49m\u001B[38;5;124;43m'\u001B[39;49m\u001B[38;5;124;43mfsolve\u001B[39;49m\u001B[38;5;124;43m'\u001B[39;49m\u001B[43m,\u001B[49m\u001B[43m \u001B[49m\u001B[38;5;124;43m'\u001B[39;49m\u001B[38;5;124;43mfunc\u001B[39;49m\u001B[38;5;124;43m'\u001B[39;49m\u001B[43m,\u001B[49m\u001B[43m \u001B[49m\u001B[43mfunc\u001B[49m\u001B[43m,\u001B[49m\u001B[43m \u001B[49m\u001B[43mx0\u001B[49m\u001B[43m,\u001B[49m\u001B[43m \u001B[49m\u001B[43margs\u001B[49m\u001B[43m,\u001B[49m\u001B[43m \u001B[49m\u001B[43mn\u001B[49m\u001B[43m,\u001B[49m\u001B[43m \u001B[49m\u001B[43m(\u001B[49m\u001B[43mn\u001B[49m\u001B[43m,\u001B[49m\u001B[43m)\u001B[49m\u001B[43m)\u001B[49m\n\u001B[1;32m    233\u001B[0m \u001B[38;5;28;01mif\u001B[39;00m epsfcn \u001B[38;5;129;01mis\u001B[39;00m \u001B[38;5;28;01mNone\u001B[39;00m:\n\u001B[1;32m    234\u001B[0m     epsfcn \u001B[38;5;241m=\u001B[39m finfo(dtype)\u001B[38;5;241m.\u001B[39meps\n",
      "File \u001B[0;32m~/.anaconda3/envs/ddg/lib/python3.11/site-packages/scipy/optimize/_minpack_py.py:43\u001B[0m, in \u001B[0;36m_check_func\u001B[0;34m(checker, argname, thefunc, x0, args, numinputs, output_shape)\u001B[0m\n\u001B[1;32m     41\u001B[0m             msg \u001B[38;5;241m+\u001B[39m\u001B[38;5;241m=\u001B[39m \u001B[38;5;124m\"\u001B[39m\u001B[38;5;124m.\u001B[39m\u001B[38;5;124m\"\u001B[39m\n\u001B[1;32m     42\u001B[0m         msg \u001B[38;5;241m+\u001B[39m\u001B[38;5;241m=\u001B[39m \u001B[38;5;124mf\u001B[39m\u001B[38;5;124m'\u001B[39m\u001B[38;5;124mShape should be \u001B[39m\u001B[38;5;132;01m{\u001B[39;00moutput_shape\u001B[38;5;132;01m}\u001B[39;00m\u001B[38;5;124m but it is \u001B[39m\u001B[38;5;132;01m{\u001B[39;00mshape(res)\u001B[38;5;132;01m}\u001B[39;00m\u001B[38;5;124m.\u001B[39m\u001B[38;5;124m'\u001B[39m\n\u001B[0;32m---> 43\u001B[0m         \u001B[38;5;28;01mraise\u001B[39;00m \u001B[38;5;167;01mTypeError\u001B[39;00m(msg)\n\u001B[1;32m     44\u001B[0m \u001B[38;5;28;01mif\u001B[39;00m issubdtype(res\u001B[38;5;241m.\u001B[39mdtype, inexact):\n\u001B[1;32m     45\u001B[0m     dt \u001B[38;5;241m=\u001B[39m res\u001B[38;5;241m.\u001B[39mdtype\n",
      "\u001B[0;31mTypeError\u001B[0m: fsolve: there is a mismatch between the input and output shape of the 'func' argument 'objective'.Shape should be (5,) but it is (11,)."
     ]
    }
   ],
   "source": [
    "import numpy as np\n",
    "from scipy.optimize import fsolve\n",
    "\n",
    "# Define the objective function to represent the system of equations\n",
    "def objective(variables):\n",
    "    s1, s2, s3, N2, N3 = variables\n",
    "    v1 = np.array([0.3, 0.5, 0.8])\n",
    "    v2 = np.array([s2 * N2, 0, 0])\n",
    "    v3 = np.array([0, s3 * N3, 0])\n",
    "\n",
    "    eq1 = v1 - s1 * np.array([N2, N2, N2])\n",
    "    eq2 = v2 - s2 * np.array([N2, 0, 0])\n",
    "    eq3 = v3 - s3 * np.array([0, N3, 0])\n",
    "    eq4 = s1 - (s2 + s3)\n",
    "    eq5 = np.dot(v2, v3)\n",
    "\n",
    "    return [eq1[0], eq1[1], eq1[2], eq2[0], eq2[1], eq2[2], eq3[0], eq3[1], eq3[2], eq4, eq5]\n",
    "\n",
    "# Initial guess\n",
    "initial_guess = [1, 1, -1, 1, 1]\n",
    "\n",
    "# Numerical solution using fsolve\n",
    "solution = fsolve(objective, initial_guess)\n",
    "\n",
    "# Print the solution\n",
    "print(\"Numerical Solution:\")\n",
    "print(\"s1 =\", solution[0])\n",
    "print(\"s2 =\", solution[1])\n",
    "print(\"s3 =\", solution[2])\n",
    "print(\"N2 =\", solution[3])\n",
    "print(\"N3 =\", solution[4])\n"
   ],
   "metadata": {
    "collapsed": false,
    "ExecuteTime": {
     "end_time": "2024-03-06T09:31:18.777665797Z",
     "start_time": "2024-03-06T09:31:18.658315208Z"
    }
   },
   "execution_count": 248
  },
  {
   "cell_type": "code",
   "outputs": [
    {
     "ename": "TypeError",
     "evalue": "fsolve: there is a mismatch between the input and output shape of the 'func' argument 'objective'.Shape should be (5,) but it is (11,).",
     "output_type": "error",
     "traceback": [
      "\u001B[0;31m---------------------------------------------------------------------------\u001B[0m",
      "\u001B[0;31mTypeError\u001B[0m                                 Traceback (most recent call last)",
      "Cell \u001B[0;32mIn[249], line 23\u001B[0m\n\u001B[1;32m     20\u001B[0m initial_guess \u001B[38;5;241m=\u001B[39m [\u001B[38;5;241m1\u001B[39m, \u001B[38;5;241m1\u001B[39m, \u001B[38;5;241m-\u001B[39m\u001B[38;5;241m1\u001B[39m, \u001B[38;5;241m1\u001B[39m, \u001B[38;5;241m1\u001B[39m]\n\u001B[1;32m     22\u001B[0m \u001B[38;5;66;03m# Numerical solution using fsolve\u001B[39;00m\n\u001B[0;32m---> 23\u001B[0m solution \u001B[38;5;241m=\u001B[39m \u001B[43mfsolve\u001B[49m\u001B[43m(\u001B[49m\u001B[43mobjective\u001B[49m\u001B[43m,\u001B[49m\u001B[43m \u001B[49m\u001B[43minitial_guess\u001B[49m\u001B[43m)\u001B[49m\n\u001B[1;32m     25\u001B[0m \u001B[38;5;66;03m# Print the solution\u001B[39;00m\n\u001B[1;32m     26\u001B[0m \u001B[38;5;28mprint\u001B[39m(\u001B[38;5;124m\"\u001B[39m\u001B[38;5;124mNumerical Solution:\u001B[39m\u001B[38;5;124m\"\u001B[39m)\n",
      "File \u001B[0;32m~/.anaconda3/envs/ddg/lib/python3.11/site-packages/scipy/optimize/_minpack_py.py:166\u001B[0m, in \u001B[0;36mfsolve\u001B[0;34m(func, x0, args, fprime, full_output, col_deriv, xtol, maxfev, band, epsfcn, factor, diag)\u001B[0m\n\u001B[1;32m     54\u001B[0m \u001B[38;5;250m\u001B[39m\u001B[38;5;124;03m\"\"\"\u001B[39;00m\n\u001B[1;32m     55\u001B[0m \u001B[38;5;124;03mFind the roots of a function.\u001B[39;00m\n\u001B[1;32m     56\u001B[0m \n\u001B[0;32m   (...)\u001B[0m\n\u001B[1;32m    156\u001B[0m \n\u001B[1;32m    157\u001B[0m \u001B[38;5;124;03m\"\"\"\u001B[39;00m\n\u001B[1;32m    158\u001B[0m options \u001B[38;5;241m=\u001B[39m {\u001B[38;5;124m'\u001B[39m\u001B[38;5;124mcol_deriv\u001B[39m\u001B[38;5;124m'\u001B[39m: col_deriv,\n\u001B[1;32m    159\u001B[0m            \u001B[38;5;124m'\u001B[39m\u001B[38;5;124mxtol\u001B[39m\u001B[38;5;124m'\u001B[39m: xtol,\n\u001B[1;32m    160\u001B[0m            \u001B[38;5;124m'\u001B[39m\u001B[38;5;124mmaxfev\u001B[39m\u001B[38;5;124m'\u001B[39m: maxfev,\n\u001B[0;32m   (...)\u001B[0m\n\u001B[1;32m    163\u001B[0m            \u001B[38;5;124m'\u001B[39m\u001B[38;5;124mfactor\u001B[39m\u001B[38;5;124m'\u001B[39m: factor,\n\u001B[1;32m    164\u001B[0m            \u001B[38;5;124m'\u001B[39m\u001B[38;5;124mdiag\u001B[39m\u001B[38;5;124m'\u001B[39m: diag}\n\u001B[0;32m--> 166\u001B[0m res \u001B[38;5;241m=\u001B[39m \u001B[43m_root_hybr\u001B[49m\u001B[43m(\u001B[49m\u001B[43mfunc\u001B[49m\u001B[43m,\u001B[49m\u001B[43m \u001B[49m\u001B[43mx0\u001B[49m\u001B[43m,\u001B[49m\u001B[43m \u001B[49m\u001B[43margs\u001B[49m\u001B[43m,\u001B[49m\u001B[43m \u001B[49m\u001B[43mjac\u001B[49m\u001B[38;5;241;43m=\u001B[39;49m\u001B[43mfprime\u001B[49m\u001B[43m,\u001B[49m\u001B[43m \u001B[49m\u001B[38;5;241;43m*\u001B[39;49m\u001B[38;5;241;43m*\u001B[39;49m\u001B[43moptions\u001B[49m\u001B[43m)\u001B[49m\n\u001B[1;32m    167\u001B[0m \u001B[38;5;28;01mif\u001B[39;00m full_output:\n\u001B[1;32m    168\u001B[0m     x \u001B[38;5;241m=\u001B[39m res[\u001B[38;5;124m'\u001B[39m\u001B[38;5;124mx\u001B[39m\u001B[38;5;124m'\u001B[39m]\n",
      "File \u001B[0;32m~/.anaconda3/envs/ddg/lib/python3.11/site-packages/scipy/optimize/_minpack_py.py:232\u001B[0m, in \u001B[0;36m_root_hybr\u001B[0;34m(func, x0, args, jac, col_deriv, xtol, maxfev, band, eps, factor, diag, **unknown_options)\u001B[0m\n\u001B[1;32m    230\u001B[0m \u001B[38;5;28;01mif\u001B[39;00m \u001B[38;5;129;01mnot\u001B[39;00m \u001B[38;5;28misinstance\u001B[39m(args, \u001B[38;5;28mtuple\u001B[39m):\n\u001B[1;32m    231\u001B[0m     args \u001B[38;5;241m=\u001B[39m (args,)\n\u001B[0;32m--> 232\u001B[0m shape, dtype \u001B[38;5;241m=\u001B[39m \u001B[43m_check_func\u001B[49m\u001B[43m(\u001B[49m\u001B[38;5;124;43m'\u001B[39;49m\u001B[38;5;124;43mfsolve\u001B[39;49m\u001B[38;5;124;43m'\u001B[39;49m\u001B[43m,\u001B[49m\u001B[43m \u001B[49m\u001B[38;5;124;43m'\u001B[39;49m\u001B[38;5;124;43mfunc\u001B[39;49m\u001B[38;5;124;43m'\u001B[39;49m\u001B[43m,\u001B[49m\u001B[43m \u001B[49m\u001B[43mfunc\u001B[49m\u001B[43m,\u001B[49m\u001B[43m \u001B[49m\u001B[43mx0\u001B[49m\u001B[43m,\u001B[49m\u001B[43m \u001B[49m\u001B[43margs\u001B[49m\u001B[43m,\u001B[49m\u001B[43m \u001B[49m\u001B[43mn\u001B[49m\u001B[43m,\u001B[49m\u001B[43m \u001B[49m\u001B[43m(\u001B[49m\u001B[43mn\u001B[49m\u001B[43m,\u001B[49m\u001B[43m)\u001B[49m\u001B[43m)\u001B[49m\n\u001B[1;32m    233\u001B[0m \u001B[38;5;28;01mif\u001B[39;00m epsfcn \u001B[38;5;129;01mis\u001B[39;00m \u001B[38;5;28;01mNone\u001B[39;00m:\n\u001B[1;32m    234\u001B[0m     epsfcn \u001B[38;5;241m=\u001B[39m finfo(dtype)\u001B[38;5;241m.\u001B[39meps\n",
      "File \u001B[0;32m~/.anaconda3/envs/ddg/lib/python3.11/site-packages/scipy/optimize/_minpack_py.py:43\u001B[0m, in \u001B[0;36m_check_func\u001B[0;34m(checker, argname, thefunc, x0, args, numinputs, output_shape)\u001B[0m\n\u001B[1;32m     41\u001B[0m             msg \u001B[38;5;241m+\u001B[39m\u001B[38;5;241m=\u001B[39m \u001B[38;5;124m\"\u001B[39m\u001B[38;5;124m.\u001B[39m\u001B[38;5;124m\"\u001B[39m\n\u001B[1;32m     42\u001B[0m         msg \u001B[38;5;241m+\u001B[39m\u001B[38;5;241m=\u001B[39m \u001B[38;5;124mf\u001B[39m\u001B[38;5;124m'\u001B[39m\u001B[38;5;124mShape should be \u001B[39m\u001B[38;5;132;01m{\u001B[39;00moutput_shape\u001B[38;5;132;01m}\u001B[39;00m\u001B[38;5;124m but it is \u001B[39m\u001B[38;5;132;01m{\u001B[39;00mshape(res)\u001B[38;5;132;01m}\u001B[39;00m\u001B[38;5;124m.\u001B[39m\u001B[38;5;124m'\u001B[39m\n\u001B[0;32m---> 43\u001B[0m         \u001B[38;5;28;01mraise\u001B[39;00m \u001B[38;5;167;01mTypeError\u001B[39;00m(msg)\n\u001B[1;32m     44\u001B[0m \u001B[38;5;28;01mif\u001B[39;00m issubdtype(res\u001B[38;5;241m.\u001B[39mdtype, inexact):\n\u001B[1;32m     45\u001B[0m     dt \u001B[38;5;241m=\u001B[39m res\u001B[38;5;241m.\u001B[39mdtype\n",
      "\u001B[0;31mTypeError\u001B[0m: fsolve: there is a mismatch between the input and output shape of the 'func' argument 'objective'.Shape should be (5,) but it is (11,)."
     ]
    }
   ],
   "source": [
    "import numpy as np\n",
    "from scipy.optimize import fsolve\n",
    "\n",
    "# Define the objective function to represent the system of equations\n",
    "def objective(variables):\n",
    "    s1, s2, s3, N2, N3 = variables\n",
    "    v1 = np.array([0.3, 0.5, 0.8])\n",
    "    v2 = np.array([s2 * N2, 0, 0])\n",
    "    v3 = np.array([0, s3 * N3, 0])\n",
    "\n",
    "    eq1 = v1 - s1 * np.array([N2, N2, N2])\n",
    "    eq2 = v2 - s2 * np.array([N2, 0, 0])\n",
    "    eq3 = v3 - s3 * np.array([0, N3, 0])\n",
    "    eq4 = s1 - (s2 + s3)\n",
    "    eq5 = np.dot(v2, v3)\n",
    "\n",
    "    return np.array([eq1[0], eq1[1], eq1[2], eq2[0], eq2[1], eq2[2], eq3[0], eq3[1], eq3[2], eq4, eq5])\n",
    "\n",
    "# Initial guess\n",
    "initial_guess = [1, 1, -1, 1, 1]\n",
    "\n",
    "# Numerical solution using fsolve\n",
    "solution = fsolve(objective, initial_guess)\n",
    "\n",
    "# Print the solution\n",
    "print(\"Numerical Solution:\")\n",
    "print(\"s1 =\", solution[0])\n",
    "print(\"s2 =\", solution[1])\n",
    "print(\"s3 =\", solution[2])\n",
    "print(\"N2 =\", solution[3])\n",
    "print(\"N3 =\", solution[4])\n"
   ],
   "metadata": {
    "collapsed": false,
    "ExecuteTime": {
     "end_time": "2024-03-06T09:33:11.071453698Z",
     "start_time": "2024-03-06T09:33:11.022809579Z"
    }
   },
   "execution_count": 249
  },
  {
   "cell_type": "code",
   "outputs": [
    {
     "name": "stdout",
     "output_type": "stream",
     "text": [
      "v2: [ 0.13506969  0.         -0.05065113]\n",
      "v3: [-0.02167224  0.10547157 -0.05779264]\n"
     ]
    }
   ],
   "source": [
    "import numpy as np\n",
    "\n",
    "def find_orthonormal_vectors(v1, s1):\n",
    "    # Step 1: Find a vector perpendicular to v1\n",
    "    u2 = np.cross([1, 0, 0], v1)\n",
    "    if np.dot(u2, v1) == 0:\n",
    "        u2 = np.cross([0, 1, 0], v1)\n",
    "    \n",
    "    # Step 2: Normalize u2 into N2\n",
    "    N2 = u2 / np.linalg.norm(u2)\n",
    "    \n",
    "    # Step 3: Calculate v2\n",
    "    s2 = s1 * (np.random.rand() - 0.5)\n",
    "    v2 = s2 * N2\n",
    "    \n",
    "    # Step 4: Calculate v3\n",
    "    s3 = s1 - s2\n",
    "    N3 = np.cross(v1, v2)\n",
    "    v3 = s3 * N3\n",
    "    \n",
    "    return v2, v3\n",
    "\n",
    "# Example usage\n",
    "v1 = np.array([0.3, 0.5, 0.8])\n",
    "s1 = 1\n",
    "v2, v3 = find_orthonormal_vectors(v1, s1)\n",
    "print(\"v2:\", v2)\n",
    "print(\"v3:\", v3)"
   ],
   "metadata": {
    "collapsed": false,
    "ExecuteTime": {
     "end_time": "2024-03-06T09:33:24.933846718Z",
     "start_time": "2024-03-06T09:33:24.888676706Z"
    }
   },
   "execution_count": 250
  },
  {
   "cell_type": "code",
   "outputs": [],
   "source": [],
   "metadata": {
    "collapsed": false
   }
  },
  {
   "cell_type": "code",
   "outputs": [],
   "source": [],
   "metadata": {
    "collapsed": false
   }
  },
  {
   "cell_type": "markdown",
   "source": [],
   "metadata": {
    "collapsed": false
   }
  },
  {
   "cell_type": "markdown",
   "source": [
    "I'd much rather try to fix the degrees of freedom or use optimization to find the best fit.\n",
    "\n",
    "We have two inputs v1 and s1 and 6 variables s2, s3, N2, N3, v2 and v4.\n",
    "\n",
    "For this we have the equations:\n",
    "\n",
    "v2 = s2 N2\n",
    "v3 = s3 N3\n",
    "v2 dot v3 = 0\n",
    "s1 = s2 + s3\n",
    "v1 = v2 + v3\n",
    "\n",
    "\n",
    "I want to minimize the variables -s2, s3 (i.e. find the maximum value of s2 and the minimal value of s3 at the same time)."
   ],
   "metadata": {
    "collapsed": false
   }
  },
  {
   "cell_type": "code",
   "outputs": [
    {
     "ename": "ValueError",
     "evalue": "too many values to unpack (expected 2)",
     "output_type": "error",
     "traceback": [
      "\u001B[0;31m---------------------------------------------------------------------------\u001B[0m",
      "\u001B[0;31mValueError\u001B[0m                                Traceback (most recent call last)",
      "Cell \u001B[0;32mIn[254], line 38\u001B[0m\n\u001B[1;32m     33\u001B[0m lb, ub \u001B[38;5;241m=\u001B[39m old_bound_to_new(bounds)\n\u001B[1;32m     36\u001B[0m \u001B[38;5;66;03m# Set up and solve the optimization problem\u001B[39;00m\n\u001B[1;32m     37\u001B[0m \u001B[38;5;66;03m#res = minimize(lambda x: -x[0], init_guess, method='SLSQP', jac=None, bounds=(lb, ub), constraints={\"type\": \"eq\", \"fun\": con_fun})\u001B[39;00m\n\u001B[0;32m---> 38\u001B[0m res \u001B[38;5;241m=\u001B[39m \u001B[43mminimize\u001B[49m\u001B[43m(\u001B[49m\u001B[38;5;28;43;01mlambda\u001B[39;49;00m\u001B[43m \u001B[49m\u001B[43mx\u001B[49m\u001B[43m:\u001B[49m\u001B[43m \u001B[49m\u001B[38;5;241;43m-\u001B[39;49m\u001B[43mx\u001B[49m\u001B[43m[\u001B[49m\u001B[38;5;241;43m0\u001B[39;49m\u001B[43m]\u001B[49m\u001B[43m,\u001B[49m\u001B[43m \u001B[49m\u001B[43minit_guess\u001B[49m\u001B[43m,\u001B[49m\u001B[43m \u001B[49m\u001B[43mmethod\u001B[49m\u001B[38;5;241;43m=\u001B[39;49m\u001B[38;5;124;43m'\u001B[39;49m\u001B[38;5;124;43mSLSQP\u001B[39;49m\u001B[38;5;124;43m'\u001B[39;49m\u001B[43m,\u001B[49m\u001B[43m \u001B[49m\u001B[43mjac\u001B[49m\u001B[38;5;241;43m=\u001B[39;49m\u001B[38;5;28;43;01mNone\u001B[39;49;00m\u001B[43m,\u001B[49m\u001B[43m \u001B[49m\u001B[43mbounds\u001B[49m\u001B[38;5;241;43m=\u001B[39;49m\u001B[43m(\u001B[49m\u001B[43mlb\u001B[49m\u001B[43m,\u001B[49m\u001B[43m \u001B[49m\u001B[43mub\u001B[49m\u001B[43m)\u001B[49m\u001B[43m,\u001B[49m\u001B[43m \u001B[49m\u001B[43mconstraints\u001B[49m\u001B[38;5;241;43m=\u001B[39;49m\u001B[43m{\u001B[49m\u001B[38;5;124;43m\"\u001B[39;49m\u001B[38;5;124;43mtype\u001B[39;49m\u001B[38;5;124;43m\"\u001B[39;49m\u001B[43m:\u001B[49m\u001B[43m \u001B[49m\u001B[38;5;124;43m\"\u001B[39;49m\u001B[38;5;124;43meq\u001B[39;49m\u001B[38;5;124;43m\"\u001B[39;49m\u001B[43m,\u001B[49m\u001B[43m \u001B[49m\u001B[38;5;124;43m\"\u001B[39;49m\u001B[38;5;124;43mfun\u001B[39;49m\u001B[38;5;124;43m\"\u001B[39;49m\u001B[43m:\u001B[49m\u001B[43m \u001B[49m\u001B[43mcon_fun\u001B[49m\u001B[43m}\u001B[49m\u001B[43m)\u001B[49m\n\u001B[1;32m     40\u001B[0m \u001B[38;5;66;03m# Extract results\u001B[39;00m\n\u001B[1;32m     41\u001B[0m s2_optimal \u001B[38;5;241m=\u001B[39m res\u001B[38;5;241m.\u001B[39mx[\u001B[38;5;241m0\u001B[39m]\n",
      "File \u001B[0;32m~/.anaconda3/envs/ddg/lib/python3.11/site-packages/scipy/optimize/_minimize.py:645\u001B[0m, in \u001B[0;36mminimize\u001B[0;34m(fun, x0, args, method, jac, hess, hessp, bounds, constraints, tol, callback, options)\u001B[0m\n\u001B[1;32m    642\u001B[0m remove_vars \u001B[38;5;241m=\u001B[39m \u001B[38;5;28;01mFalse\u001B[39;00m\n\u001B[1;32m    643\u001B[0m \u001B[38;5;28;01mif\u001B[39;00m bounds \u001B[38;5;129;01mis\u001B[39;00m \u001B[38;5;129;01mnot\u001B[39;00m \u001B[38;5;28;01mNone\u001B[39;00m:\n\u001B[1;32m    644\u001B[0m     \u001B[38;5;66;03m# convert to new-style bounds so we only have to consider one case\u001B[39;00m\n\u001B[0;32m--> 645\u001B[0m     bounds \u001B[38;5;241m=\u001B[39m \u001B[43mstandardize_bounds\u001B[49m\u001B[43m(\u001B[49m\u001B[43mbounds\u001B[49m\u001B[43m,\u001B[49m\u001B[43m \u001B[49m\u001B[43mx0\u001B[49m\u001B[43m,\u001B[49m\u001B[43m \u001B[49m\u001B[38;5;124;43m'\u001B[39;49m\u001B[38;5;124;43mnew\u001B[39;49m\u001B[38;5;124;43m'\u001B[39;49m\u001B[43m)\u001B[49m\n\u001B[1;32m    646\u001B[0m     bounds \u001B[38;5;241m=\u001B[39m _validate_bounds(bounds, x0, meth)\n\u001B[1;32m    648\u001B[0m     \u001B[38;5;28;01mif\u001B[39;00m meth \u001B[38;5;129;01min\u001B[39;00m {\u001B[38;5;124m\"\u001B[39m\u001B[38;5;124mtnc\u001B[39m\u001B[38;5;124m\"\u001B[39m, \u001B[38;5;124m\"\u001B[39m\u001B[38;5;124mslsqp\u001B[39m\u001B[38;5;124m\"\u001B[39m, \u001B[38;5;124m\"\u001B[39m\u001B[38;5;124ml-bfgs-b\u001B[39m\u001B[38;5;124m\"\u001B[39m}:\n\u001B[1;32m    649\u001B[0m         \u001B[38;5;66;03m# These methods can't take the finite-difference derivatives they\u001B[39;00m\n\u001B[1;32m    650\u001B[0m         \u001B[38;5;66;03m# need when a variable is fixed by the bounds. To avoid this issue,\u001B[39;00m\n\u001B[0;32m   (...)\u001B[0m\n\u001B[1;32m    655\u001B[0m \n\u001B[1;32m    656\u001B[0m         \u001B[38;5;66;03m# determine whether any variables are fixed\u001B[39;00m\n",
      "File \u001B[0;32m~/.anaconda3/envs/ddg/lib/python3.11/site-packages/scipy/optimize/_minimize.py:1021\u001B[0m, in \u001B[0;36mstandardize_bounds\u001B[0;34m(bounds, x0, meth)\u001B[0m\n\u001B[1;32m   1019\u001B[0m \u001B[38;5;28;01mif\u001B[39;00m meth \u001B[38;5;129;01min\u001B[39;00m {\u001B[38;5;124m'\u001B[39m\u001B[38;5;124mtrust-constr\u001B[39m\u001B[38;5;124m'\u001B[39m, \u001B[38;5;124m'\u001B[39m\u001B[38;5;124mpowell\u001B[39m\u001B[38;5;124m'\u001B[39m, \u001B[38;5;124m'\u001B[39m\u001B[38;5;124mnelder-mead\u001B[39m\u001B[38;5;124m'\u001B[39m, \u001B[38;5;124m'\u001B[39m\u001B[38;5;124mcobyla\u001B[39m\u001B[38;5;124m'\u001B[39m, \u001B[38;5;124m'\u001B[39m\u001B[38;5;124mnew\u001B[39m\u001B[38;5;124m'\u001B[39m}:\n\u001B[1;32m   1020\u001B[0m     \u001B[38;5;28;01mif\u001B[39;00m \u001B[38;5;129;01mnot\u001B[39;00m \u001B[38;5;28misinstance\u001B[39m(bounds, Bounds):\n\u001B[0;32m-> 1021\u001B[0m         lb, ub \u001B[38;5;241m=\u001B[39m \u001B[43mold_bound_to_new\u001B[49m\u001B[43m(\u001B[49m\u001B[43mbounds\u001B[49m\u001B[43m)\u001B[49m\n\u001B[1;32m   1022\u001B[0m         bounds \u001B[38;5;241m=\u001B[39m Bounds(lb, ub)\n\u001B[1;32m   1023\u001B[0m \u001B[38;5;28;01melif\u001B[39;00m meth \u001B[38;5;129;01min\u001B[39;00m (\u001B[38;5;124m'\u001B[39m\u001B[38;5;124ml-bfgs-b\u001B[39m\u001B[38;5;124m'\u001B[39m, \u001B[38;5;124m'\u001B[39m\u001B[38;5;124mtnc\u001B[39m\u001B[38;5;124m'\u001B[39m, \u001B[38;5;124m'\u001B[39m\u001B[38;5;124mslsqp\u001B[39m\u001B[38;5;124m'\u001B[39m, \u001B[38;5;124m'\u001B[39m\u001B[38;5;124mold\u001B[39m\u001B[38;5;124m'\u001B[39m):\n",
      "File \u001B[0;32m~/.anaconda3/envs/ddg/lib/python3.11/site-packages/scipy/optimize/_constraints.py:429\u001B[0m, in \u001B[0;36mold_bound_to_new\u001B[0;34m(bounds)\u001B[0m\n\u001B[1;32m    420\u001B[0m \u001B[38;5;28;01mdef\u001B[39;00m \u001B[38;5;21mold_bound_to_new\u001B[39m(bounds):\n\u001B[1;32m    421\u001B[0m \u001B[38;5;250m    \u001B[39m\u001B[38;5;124;03m\"\"\"Convert the old bounds representation to the new one.\u001B[39;00m\n\u001B[1;32m    422\u001B[0m \n\u001B[1;32m    423\u001B[0m \u001B[38;5;124;03m    The new representation is a tuple (lb, ub) and the old one is a list\u001B[39;00m\n\u001B[0;32m   (...)\u001B[0m\n\u001B[1;32m    427\u001B[0m \u001B[38;5;124;03m    -np.inf/np.inf.\u001B[39;00m\n\u001B[1;32m    428\u001B[0m \u001B[38;5;124;03m    \"\"\"\u001B[39;00m\n\u001B[0;32m--> 429\u001B[0m     lb, ub \u001B[38;5;241m=\u001B[39m \u001B[38;5;28mzip\u001B[39m(\u001B[38;5;241m*\u001B[39mbounds)\n\u001B[1;32m    431\u001B[0m     \u001B[38;5;66;03m# Convert occurrences of None to -inf or inf, and replace occurrences of\u001B[39;00m\n\u001B[1;32m    432\u001B[0m     \u001B[38;5;66;03m# any numpy array x with x.item(). Then wrap the results in numpy arrays.\u001B[39;00m\n\u001B[1;32m    433\u001B[0m     lb \u001B[38;5;241m=\u001B[39m np\u001B[38;5;241m.\u001B[39marray([\u001B[38;5;28mfloat\u001B[39m(_arr_to_scalar(x)) \u001B[38;5;28;01mif\u001B[39;00m x \u001B[38;5;129;01mis\u001B[39;00m \u001B[38;5;129;01mnot\u001B[39;00m \u001B[38;5;28;01mNone\u001B[39;00m \u001B[38;5;28;01melse\u001B[39;00m \u001B[38;5;241m-\u001B[39mnp\u001B[38;5;241m.\u001B[39minf\n\u001B[1;32m    434\u001B[0m                    \u001B[38;5;28;01mfor\u001B[39;00m x \u001B[38;5;129;01min\u001B[39;00m lb])\n",
      "\u001B[0;31mValueError\u001B[0m: too many values to unpack (expected 2)"
     ]
    }
   ],
   "source": [
    "import numpy as np\n",
    "from scipy.optimize import minimize\n",
    "\n",
    "# Input parameters\n",
    "v1 = np.array([0.3, 0.5, 0.8])\n",
    "s1 = 1\n",
    "\n",
    "# Define the constraints\n",
    "def con_fun(x):\n",
    "    s2, s3, n2x, n2y, n2z, n3x, n3y, n3z = x\n",
    "    return np.concatenate(([s2 + s3 - s1],\n",
    "                           v1 - s2*np.array([n2x, n2y, n2z]) - s3*np.array([n3x, n3y, n3z]),\n",
    "                            np.array([n2x**2 + n2y**2 + n2z**2 - 1]),\n",
    "                            np.array([n3x**2 + n3y**2 + n3z**2 - 1]),\n",
    "                            np.array([n2x*n3x + n2y*n3y + n2z*n3z])))\n",
    "\n",
    "# Initial guesses\n",
    "init_guess = np.zeros(8)\n",
    "init_guess[:2] = [-s1/2, s1/2]\n",
    "\n",
    "# Lower bounds\n",
    "lb = init_guess * (-1)\n",
    "\n",
    "# Upper bounds\n",
    "ub = np.ones(8)\n",
    "\n",
    "def old_bound_to_new(bounds):\n",
    "    converted_bounds = []\n",
    "    for idx, val in enumerate(zip(*bounds)):\n",
    "        converted_bounds += [val]\n",
    "    return converted_bounds\n",
    "bounds = [(-s1, s1)] + [(-1, 1)]*7  # Assumes s1 > 0\n",
    "lb, ub = old_bound_to_new(bounds)\n",
    "\n",
    "\n",
    "# Set up and solve the optimization problem\n",
    "#res = minimize(lambda x: -x[0], init_guess, method='SLSQP', jac=None, bounds=(lb, ub), constraints={\"type\": \"eq\", \"fun\": con_fun})\n",
    "res = minimize(lambda x: -x[0], init_guess, method='SLSQP', jac=None, bounds=(lb, ub), constraints={\"type\": \"eq\", \"fun\": con_fun})\n",
    "\n",
    "# Extract results\n",
    "s2_optimal = res.x[0]\n",
    "s3_optimal = res.x[1]\n",
    "N2_optimal = res.x[[2, 3, 4]]\n",
    "N3_optimal = res.x[[5, 6, 7]]\n",
    "\n",
    "# Scale optimal vectors\n",
    "v2_optimal = s2_optimal * N2_optimal\n",
    "v3_optimal = s3_optimal * N3_optimal\n",
    "\n",
    "print('Optimal Values:')\n",
    "print('s2: ', s2_optimal)\n",
    "print('s3: ', s3_optimal)\n",
    "print('\\nv2: ', v2_optimal)\n",
    "print('\\nv3: ', v3_optimal)"
   ],
   "metadata": {
    "collapsed": false,
    "ExecuteTime": {
     "end_time": "2024-03-06T10:50:44.446021093Z",
     "start_time": "2024-03-06T10:50:44.386507271Z"
    }
   },
   "execution_count": 254
  },
  {
   "cell_type": "code",
   "outputs": [],
   "source": [],
   "metadata": {
    "collapsed": false
   }
  }
 ],
 "metadata": {
  "kernelspec": {
   "display_name": "Python 3 (ipykernel)",
   "language": "python",
   "name": "python3"
  },
  "language_info": {
   "codemirror_mode": {
    "name": "ipython",
    "version": 3
   },
   "file_extension": ".py",
   "mimetype": "text/x-python",
   "name": "python",
   "nbconvert_exporter": "python",
   "pygments_lexer": "ipython3",
   "version": "3.11.5"
  }
 },
 "nbformat": 4,
 "nbformat_minor": 4
}
