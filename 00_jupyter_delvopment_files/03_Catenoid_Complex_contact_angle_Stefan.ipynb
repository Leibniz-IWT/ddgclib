{
 "cells": [
  {
   "cell_type": "code",
   "execution_count": 1,
   "outputs": [],
   "source": [
    "import os, sys\n",
    "import polyscope as ps\n",
    "from ddgclib._plotting import *\n",
    "from ddgclib._curvatures import *\n",
    "import numpy as np\n",
    "from ddgclib._catenoid_clean import *\n",
    "module_path = os.path.abspath(os.path.join('..'))\n",
    "import matplotlib.pyplot as plt\n",
    "if module_path not in sys.path:\n",
    "    sys.path.append(module_path)\n",
    "    \n",
    "def cut_y_plane(HC):\n",
    "    \"\"\"\n",
    "    Cuts a y-plane out of the complex to visualise.\n",
    "    \n",
    "    :param HC: Complex object \n",
    "    :return: Sorted list of vertices in the cut out plane.\n",
    "    \"\"\"\n",
    "    d = 2*c\n",
    "    vlist = []\n",
    "    vlist_x = []\n",
    "    \n",
    "    for v in HC.V:\n",
    "        if (abs(v.x[0]) <= 1e-8) and (0.0 <= v.x[1] <= d):\n",
    "            vlist.append(v)\n",
    "    \n",
    "    \n",
    "    for v in vlist:\n",
    "        #print(v.x)\n",
    "        vlist_x.append(v.x)\n",
    "        #print(type(v.x))\n",
    "    \n",
    "    sorted_list = sorted(vlist_x, key=lambda x: x[-1])\n",
    "    # Ausgabe der sortierten Liste\n",
    "    #print(\"Sorted list according to the last element in each tuple:\")\n",
    "    #for tupel in sorted_list:\n",
    "    #    print(tupel)\n",
    "    return sorted_list\n",
    "\n",
    "\n"
   ],
   "metadata": {
    "collapsed": false,
    "ExecuteTime": {
     "end_time": "2024-03-04T14:47:58.551906400Z",
     "start_time": "2024-03-04T14:47:57.447705700Z"
    }
   }
  },
  {
   "cell_type": "markdown",
   "source": [
    "## Define the known analytical values of the Catenoid bridge\n",
    "\n",
    "The parameterised Catenoid function is defined as \n",
    "\n",
    "$$\n",
    "\\begin{aligned}\n",
    "& x=c \\cosh \\left(\\frac{v}{c}\\right) \\cos u \\\\\n",
    "& y=c \\cosh \\left(\\frac{v}{c}\\right) \\sin u \\\\\n",
    "& z=v,\n",
    "\\end{aligned}\n",
    "$$\n",
    "where $u \\in[0,2 \\pi)$. And $c$ is an arbitary parameter.\n",
    "\n",
    "The principal curvatures are\n",
    "$$\n",
    "\\begin{aligned}\n",
    "\\kappa_1 & =\\frac{1}{c} \\operatorname{sech}^2\\left(\\frac{v}{c}\\right) \\\\\n",
    "\\kappa_2 & =-\\frac{1}{c} \\operatorname{sech}^2\\left(\\frac{v}{c}\\right) .\n",
    "\\end{aligned}\n",
    "$$\n",
    "\n",
    "The mean curvature of the catenoid is\n",
    "$$\n",
    "H= \\kappa_1 + \\kappa_2 = 0\n",
    "$$\n",
    "\n",
    "\n",
    "\n",
    "and the Gaussian curvature is\n",
    "$$\n",
    "K=-\\frac{1}{c^2} \\operatorname{sech}^4\\left(\\frac{v}{c}\\right) .\n",
    "$$"
   ],
   "metadata": {
    "collapsed": false
   }
  },
  {
   "cell_type": "code",
   "outputs": [],
   "source": [
    "# Define kappa_1 in terms of v and c\n",
    "def fun_kappa1(c, v):\n",
    "    kappa_1 = (1/c) *(sech(v/c))**2\n",
    "    return kappa_1\n",
    "\n",
    "def fun_kappa2(c, v):\n",
    "    kappa_2 = -1/c *sech(v/c)**2\n",
    "    return kappa_2\n",
    "\n",
    "def gaussian_curvature_catenoid(c, v):\n",
    "    '''\n",
    "    Analytical Solution for gaussian curvature\n",
    "    '''\n",
    "    return -1/c**2 * sech(v/c)**4\n",
    "\n",
    "def gaussian_curvature(kappa1, kappa2):\n",
    "    K = kappa1 * kappa2\n",
    "    return K\n",
    "\n",
    "def mean_curvature(f0, f1, f2):\n",
    "    pass\n",
    "\n",
    "def unit_vector(f1,f2):\n",
    "    e_ij = np.abs(f2-f1)\n",
    "    return e_ij\n"
   ],
   "metadata": {
    "collapsed": false,
    "ExecuteTime": {
     "end_time": "2024-03-04T14:47:59.653112500Z",
     "start_time": "2024-03-04T14:47:59.632768900Z"
    }
   },
   "execution_count": 2
  },
  {
   "cell_type": "markdown",
   "source": [
    "#### Find integrated values"
   ],
   "metadata": {
    "collapsed": false
   }
  },
  {
   "cell_type": "code",
   "outputs": [
    {
     "name": "stdout",
     "output_type": "stream",
     "text": [
      "Integrated kappa_1 over the domain: Integral(sech(v/c)**2, (v, 0.1, 0.2))/c\n"
     ]
    }
   ],
   "source": [
    "from sympy import symbols, integrate#, sech\n",
    "import sympy as sp\n",
    "\n",
    "# Define symbols and parameters\n",
    "v, c = symbols('v c')\n",
    "\n",
    "# Define kappa_1 in terms of v and c\n",
    "kappa_1 = 1 / c * sp.sech(v / c)**2\n",
    "#kappa_1 = 1 / c * 1/sp.cosh(v / c)**2\n",
    "\n",
    "# Define the integration bounds for v\n",
    "v_min = 0.1  # replace with the lower bound of the domain\n",
    "v_max = 0.2  # replace with the upper bound of the domain\n",
    "\n",
    "# Integrate kappa_1 with respect to v over the given domain\n",
    "integrated_kappa_1 = integrate(kappa_1, (v, v_min, v_max)).evalf()\n",
    "\n",
    "# Display the result\n",
    "print(\"Integrated kappa_1 over the domain:\", integrated_kappa_1)"
   ],
   "metadata": {
    "collapsed": false,
    "ExecuteTime": {
     "end_time": "2024-03-04T14:48:02.267833500Z",
     "start_time": "2024-03-04T14:48:00.317464900Z"
    }
   },
   "execution_count": 3
  },
  {
   "cell_type": "markdown",
   "source": [
    "#### Numerical intergration"
   ],
   "metadata": {
    "collapsed": false
   }
  },
  {
   "cell_type": "code",
   "outputs": [
    {
     "name": "stdout",
     "output_type": "stream",
     "text": [
      "Numerical result of the integrated kappa_1 over the domain: 0.7615941559557649\n"
     ]
    }
   ],
   "source": [
    "from scipy.integrate import quad\n",
    "import numpy as np\n",
    "\n",
    "# Define the integrand function\n",
    "def kappa_1_integrand(v, c):\n",
    "    return (1 / c) * np.power(sech(v / c), 2)\n",
    "\n",
    "# Define the integration bounds for v\n",
    "v_min = -1.0  # replace with the lower bound of the domain\n",
    "v_max = 0.0   # replace with the upper bound of the domain\n",
    "\n",
    "# Define the parameter c\n",
    "c_value = 1.0  # replace with the actual value of c\n",
    "\n",
    "# Numerically integrate the function over the specified domain\n",
    "result, error = quad(kappa_1_integrand, v_min, v_max, args=(c_value))\n",
    "\n",
    "# Display the numerical result\n",
    "print(\"Numerical result of the integrated kappa_1 over the domain:\", result)"
   ],
   "metadata": {
    "collapsed": false,
    "ExecuteTime": {
     "end_time": "2024-03-04T14:48:03.473060300Z",
     "start_time": "2024-03-04T14:48:02.267833500Z"
    }
   },
   "execution_count": 4
  },
  {
   "cell_type": "markdown",
   "source": [
    "#### Generate the Catenoid function as a complex and extract the profile of the bridge"
   ],
   "metadata": {
    "collapsed": false
   }
  },
  {
   "cell_type": "code",
   "execution_count": 5,
   "outputs": [
    {
     "name": "stdout",
     "output_type": "stream",
     "text": [
      "$\\kappa_1$ (-1.0) = 0.41997434161402614\n",
      "$\\kappa_1$ (-0.5) = 0.7864477329659276\n",
      "$\\kappa_1$ (0.0) = 1.0\n",
      "$\\kappa_1$ (0.5) = 0.7864477329659276\n",
      "$\\kappa_1$ (1.0) = 0.41997434161402614\n"
     ]
    },
    {
     "data": {
      "text/plain": "<Figure size 640x480 with 1 Axes>",
      "image/png": "[encoded data removed]"
     },
     "metadata": {},
     "output_type": "display_data"
    }
   ],
   "source": [
    "# Global parameters\n",
    "c = 1\n",
    "length = 2\n",
    "HC, bV, K_f, H_f, neck_verts, neck_sols = catenoid_clean_N(c, length, refinement=2)\n",
    "#plot_polyscope(HC)\n",
    "\n",
    "yplane = cut_y_plane(HC)\n",
    "xvals = []\n",
    "yvals = []\n",
    "for v in yplane:    \n",
    "    yvals.append(v[1])\n",
    "    xvals.append(v[2])\n",
    "\n",
    "plt.plot(xvals, yvals)\n",
    "\n",
    "# Print key properties\n",
    "for v in yplane:\n",
    "    print(f'$\\kappa_1$ ({v[2]}) = {fun_kappa1(c, v[2])}')"
   ],
   "metadata": {
    "collapsed": false,
    "ExecuteTime": {
     "end_time": "2024-03-04T14:48:03.622707600Z",
     "start_time": "2024-03-04T14:48:03.473060300Z"
    }
   }
  },
  {
   "cell_type": "code",
   "outputs": [
    {
     "name": "stdout",
     "output_type": "stream",
     "text": [
      "Krümmung zwischen den Punkten: 0.0\n"
     ]
    }
   ],
   "source": [
    "import numpy as np\n",
    "\n",
    "def calculate_curvature_between_points(p1, p2, p3):\n",
    "    # Vektoren zwischen den Punkten\n",
    "    vector1 = np.array(p2) - np.array(p1)\n",
    "    vector2 = np.array(p3) - np.array(p2)\n",
    "    \n",
    "    # Längen der Vektoren\n",
    "    length1 = np.linalg.norm(vector1)\n",
    "    length2 = np.linalg.norm(vector2)\n",
    "    \n",
    "    # Normalisierte Vektoren\n",
    "    unit_vector1 = vector1 / length1\n",
    "    unit_vector2 = vector2 / length2\n",
    "    \n",
    "    # Krümmung der interpolierten Kurve\n",
    "    curvature = np.linalg.norm(unit_vector2 - unit_vector1) / (length1 + length2)\n",
    "    \n",
    "    return curvature\n",
    "\n",
    "# Beispiel-Punkte\n",
    "point1 = [1.0, 2.0, 3.0]\n",
    "point2 = [4.0, 5.0, 6.0]\n",
    "point3 = [7.0, 8.0, 9.0]\n",
    "\n",
    "# Krümmung berechnen\n",
    "curvature = calculate_curvature_between_points(point1, point2, point3)\n",
    "\n",
    "print(f'Krümmung zwischen den Punkten: {curvature}')"
   ],
   "metadata": {
    "collapsed": false,
    "ExecuteTime": {
     "end_time": "2024-03-04T14:48:03.713113400Z",
     "start_time": "2024-03-04T14:48:03.625348Z"
    }
   },
   "execution_count": 6
  },
  {
   "cell_type": "code",
   "outputs": [
    {
     "data": {
      "text/plain": "0.4792772476737562"
     },
     "execution_count": 7,
     "metadata": {},
     "output_type": "execute_result"
    }
   ],
   "source": [
    "calculate_curvature_between_points(yplane[1], yplane[2], yplane[3])"
   ],
   "metadata": {
    "collapsed": false,
    "ExecuteTime": {
     "end_time": "2024-03-04T14:48:03.713614700Z",
     "start_time": "2024-03-04T14:48:03.641099400Z"
    }
   },
   "execution_count": 7
  },
  {
   "cell_type": "code",
   "outputs": [
    {
     "data": {
      "text/plain": "1.3089477497574968"
     },
     "execution_count": 8,
     "metadata": {},
     "output_type": "execute_result"
    }
   ],
   "source": [
    "\n",
    "def calculate_curvature_between_points_2(p1, p2, p3):\n",
    "    # Vektoren zwischen den Punkten\n",
    "    vector1 = np.array(p2) - np.array(p1)\n",
    "    vector2 = np.array(p3) - np.array(p1)\n",
    "    \n",
    "    # Längen der Vektoren\n",
    "    length1 = np.linalg.norm(vector1)\n",
    "    length2 = np.linalg.norm(vector2)\n",
    "    \n",
    "    # Normalisierte Vektoren\n",
    "    unit_vector1 = vector1 / length1\n",
    "    unit_vector2 = vector2 / length2\n",
    "    \n",
    "    # Krümmung der interpolierten Kurve\n",
    "    curvature = np.linalg.norm(unit_vector2 - unit_vector1) / (length1 + length2)\n",
    "    \n",
    "    return curvature\n",
    "\n",
    "\n",
    "calculate_curvature_between_points(yplane[2], yplane[1], yplane[3])"
   ],
   "metadata": {
    "collapsed": false,
    "ExecuteTime": {
     "end_time": "2024-03-04T14:48:06.228900900Z",
     "start_time": "2024-03-04T14:48:06.211301200Z"
    }
   },
   "execution_count": 8
  },
  {
   "cell_type": "code",
   "outputs": [
    {
     "data": {
      "text/plain": "((6.9047176446271943585e-17, 1.1276259652063807853, -0.5),\n (6.123233995736765886e-17, 1.0, 0.0),\n (6.9047176446271943585e-17, 1.1276259652063807853, 0.5))"
     },
     "execution_count": 195,
     "metadata": {},
     "output_type": "execute_result"
    }
   ],
   "source": [
    "v1 = yplane[1]\n",
    "v2 = yplane[2]\n",
    "v3 = yplane[3]\n",
    "v1 = HC.V[v1]\n",
    "v2 = HC.V[v2]\n",
    "v3 = HC.V[v3]\n",
    "v1.x, v2.x, v3.x"
   ],
   "metadata": {
    "collapsed": false,
    "ExecuteTime": {
     "end_time": "2024-03-04T14:33:37.384608156Z",
     "start_time": "2024-03-04T14:33:37.381472710Z"
    }
   },
   "execution_count": 195
  },
  {
   "cell_type": "code",
   "outputs": [],
   "source": [],
   "metadata": {
    "collapsed": false
   }
  },
  {
   "cell_type": "code",
   "outputs": [
    {
     "data": {
      "text/plain": "0.2552519304127614"
     },
     "execution_count": 207,
     "metadata": {},
     "output_type": "execute_result"
    }
   ],
   "source": [
    "(1.1276259652063807853 - 1.0)/0.5"
   ],
   "metadata": {
    "collapsed": false,
    "ExecuteTime": {
     "end_time": "2024-03-04T14:40:40.885864337Z",
     "start_time": "2024-03-04T14:40:40.861267394Z"
    }
   },
   "execution_count": 207
  },
  {
   "cell_type": "code",
   "outputs": [
    {
     "data": {
      "text/plain": "(0.9242343145200195, 0.4898373248074182)"
     },
     "execution_count": 203,
     "metadata": {},
     "output_type": "execute_result"
    }
   ],
   "source": [
    "result1, error = quad(kappa_1_integrand, -0.5, 0.5, args=(c))\n",
    "result2, error = quad(kappa_1_integrand, -0.25, 0.25, args=(c))\n",
    "result1, result2"
   ],
   "metadata": {
    "collapsed": false,
    "ExecuteTime": {
     "end_time": "2024-03-04T14:35:08.613945144Z",
     "start_time": "2024-03-04T14:35:08.610980980Z"
    }
   },
   "execution_count": 203
  },
  {
   "cell_type": "code",
   "outputs": [
    {
     "data": {
      "text/plain": "(0.41997434161402614, 0.4199743416140261)"
     },
     "execution_count": 165,
     "metadata": {},
     "output_type": "execute_result"
    }
   ],
   "source": [
    "(1 / c) * np.power(sech(-1.0 / c), 2), (1 / c) * np.power(np.cosh(-1.0 / c), -2)"
   ],
   "metadata": {
    "collapsed": false,
    "ExecuteTime": {
     "end_time": "2024-03-04T13:57:42.646094526Z",
     "start_time": "2024-03-04T13:57:42.601361247Z"
    }
   },
   "execution_count": 165
  },
  {
   "cell_type": "code",
   "outputs": [
    {
     "data": {
      "text/plain": "(1.5430806348152437785, 1.1276259652063807853, 1.0)"
     },
     "execution_count": 166,
     "metadata": {},
     "output_type": "execute_result"
    }
   ],
   "source": [
    "v0 = yplane[0]\n",
    "v1 = yplane[1]\n",
    "v2 = yplane[2]\n",
    "v3 = yplane[3]\n",
    "v0[1], v1[1], v2[1]"
   ],
   "metadata": {
    "collapsed": false,
    "ExecuteTime": {
     "end_time": "2024-03-04T13:58:02.329299587Z",
     "start_time": "2024-03-04T13:58:02.285139185Z"
    }
   },
   "execution_count": 166
  },
  {
   "cell_type": "code",
   "outputs": [
    {
     "data": {
      "text/plain": "(9.44864380126377042e-17, 1.5430806348152437785, -1.0)"
     },
     "execution_count": 167,
     "metadata": {},
     "output_type": "execute_result"
    }
   ],
   "source": [
    "v0"
   ],
   "metadata": {
    "collapsed": false,
    "ExecuteTime": {
     "end_time": "2024-03-04T13:58:02.596304361Z",
     "start_time": "2024-03-04T13:58:02.589213445Z"
    }
   },
   "execution_count": 167
  },
  {
   "cell_type": "code",
   "outputs": [
    {
     "data": {
      "text/plain": "-3.3236373568709039463"
     },
     "execution_count": 168,
     "metadata": {},
     "output_type": "execute_result"
    }
   ],
   "source": [
    " 1/np.linalg.norm(v0[2]- v1[2]) * (v1[1] - v0[1])/(0.5*np.linalg.norm(v0[2] - v1[2]))"
   ],
   "metadata": {
    "collapsed": false,
    "ExecuteTime": {
     "end_time": "2024-03-04T13:58:03.364069032Z",
     "start_time": "2024-03-04T13:58:03.361376335Z"
    }
   },
   "execution_count": 168
  },
  {
   "cell_type": "code",
   "outputs": [
    {
     "data": {
      "text/plain": "-0.4154546696088629933"
     },
     "execution_count": 169,
     "metadata": {},
     "output_type": "execute_result"
    }
   ],
   "source": [
    " 1/np.linalg.norm(v0[2]- v1[2]) * (v1[1] - v0[1])/2 #*  1/np.linalg.norm(v0[2]- v1[2]) "
   ],
   "metadata": {
    "collapsed": false,
    "ExecuteTime": {
     "end_time": "2024-03-04T13:58:03.973894490Z",
     "start_time": "2024-03-04T13:58:03.964524121Z"
    }
   },
   "execution_count": 169
  },
  {
   "cell_type": "code",
   "execution_count": 170,
   "outputs": [
    {
     "data": {
      "text/plain": "0.41997434161402606934"
     },
     "execution_count": 170,
     "metadata": {},
     "output_type": "execute_result"
    }
   ],
   "source": [
    "kappa = fun_kappa1(c, v0[2])\n",
    "kappa"
   ],
   "metadata": {
    "collapsed": false,
    "ExecuteTime": {
     "end_time": "2024-03-04T13:58:04.416860530Z",
     "start_time": "2024-03-04T13:58:04.413481515Z"
    }
   }
  },
  {
   "cell_type": "code",
   "outputs": [
    {
     "data": {
      "text/plain": "(0.510503860825523141, 1.021007721651046282, 1.021007721651046282)"
     },
     "execution_count": 171,
     "metadata": {},
     "output_type": "execute_result"
    }
   ],
   "source": [
    "kappa_num = 1/np.linalg.norm(v2[2]- v1[2]) * (v1[1] - v2[1]) + 1/np.linalg.norm(v3[2]- v2[2]) * (v3[1] - v2[1]) #*  1/np.linalg.norm(v0[2]- v1[2]) \n",
    "kappa_num, kappa_num *(v2[1]) *2, kappa_num/(0.5*np.linalg.norm(v2[2]- v1[2]) + 0.5*np.linalg.norm(v3[2]- v2[2]))"
   ],
   "metadata": {
    "collapsed": false,
    "ExecuteTime": {
     "end_time": "2024-03-04T13:58:04.849269696Z",
     "start_time": "2024-03-04T13:58:04.846365773Z"
    }
   },
   "execution_count": 171
  },
  {
   "cell_type": "code",
   "outputs": [
    {
     "data": {
      "text/plain": "1.0"
     },
     "execution_count": 172,
     "metadata": {},
     "output_type": "execute_result"
    }
   ],
   "source": [
    "kappa = fun_kappa1(c, v2[2])\n",
    "kappa"
   ],
   "metadata": {
    "collapsed": false,
    "ExecuteTime": {
     "end_time": "2024-03-04T13:58:05.401368002Z",
     "start_time": "2024-03-04T13:58:05.398064187Z"
    }
   },
   "execution_count": 172
  },
  {
   "cell_type": "code",
   "outputs": [],
   "source": [
    "# From the surface mean normal curvature\n",
    "v2 = HC.V[yplane[2]]"
   ],
   "metadata": {
    "collapsed": false,
    "ExecuteTime": {
     "end_time": "2024-03-04T13:58:05.747103768Z",
     "start_time": "2024-03-04T13:58:05.742220048Z"
    }
   },
   "execution_count": 173
  },
  {
   "cell_type": "code",
   "outputs": [
    {
     "data": {
      "text/plain": "(6.123233995736765886e-17, 1.0, 0.0)"
     },
     "execution_count": 174,
     "metadata": {},
     "output_type": "execute_result"
    }
   ],
   "source": [
    "v2.x"
   ],
   "metadata": {
    "collapsed": false,
    "ExecuteTime": {
     "end_time": "2024-03-04T13:58:06.182821196Z",
     "start_time": "2024-03-04T13:58:06.177359219Z"
    }
   },
   "execution_count": 174
  },
  {
   "cell_type": "code",
   "outputs": [
    {
     "data": {
      "text/plain": "array([2.05998413e-17, 3.39519314e-01, 0.00000000e+00], dtype=float128)"
     },
     "execution_count": 175,
     "metadata": {},
     "output_type": "execute_result"
    }
   ],
   "source": [
    "FF, nn = vectorise_vnn(v2)\n",
    "cdict = b_curvatures_hn_ij_c_ij(FF, nn)\n",
    "HNdA_i = cdict['HNdA_i']\n",
    "HNdA_i"
   ],
   "metadata": {
    "collapsed": false,
    "ExecuteTime": {
     "end_time": "2024-03-04T13:58:06.478382307Z",
     "start_time": "2024-03-04T13:58:06.470753700Z"
    }
   },
   "execution_count": 175
  },
  {
   "cell_type": "code",
   "outputs": [
    {
     "data": {
      "text/plain": "(0.7615941559557649, 0.4898373248074182)"
     },
     "execution_count": 181,
     "metadata": {},
     "output_type": "execute_result"
    }
   ],
   "source": [
    "# Compare with numerical integration of exact result\n",
    "result1, error = quad(kappa_1_integrand, -0.5, 0.5, args=(c))\n",
    "result2, error = quad(kappa_1_integrand, -0.25, 0.25, args=(c))\n",
    "result, result2"
   ],
   "metadata": {
    "collapsed": false,
    "ExecuteTime": {
     "end_time": "2024-03-04T13:58:39.652432120Z",
     "start_time": "2024-03-04T13:58:39.643423122Z"
    }
   },
   "execution_count": 181
  },
  {
   "cell_type": "code",
   "outputs": [
    {
     "name": "stdout",
     "output_type": "stream",
     "text": [
      "(6.9047176446271943585e-17, 1.1276259652063807853, -0.5)\n",
      "(6.9047176446271943585e-17, 1.1276259652063807853, 0.5)\n",
      "(1.0, 0.0, 0.0)\n",
      "(-0.7293191971294839696, 0.72931919712948410357, 0.25)\n",
      "(-0.7293191971294839696, 0.72931919712948410357, -0.25)\n",
      "(0.72931919712948405896, 0.7293191971294840143, 0.25)\n",
      "(0.72931919712948405896, 0.7293191971294840143, -0.25)\n",
      "(-1.0, 1.2246467991473531772e-16, 0.0)\n"
     ]
    }
   ],
   "source": [
    "for vj in v2.nn:\n",
    "    print(vj.x)"
   ],
   "metadata": {
    "collapsed": false,
    "ExecuteTime": {
     "end_time": "2024-03-04T13:58:07.498785826Z",
     "start_time": "2024-03-04T13:58:07.488770498Z"
    }
   },
   "execution_count": 177
  },
  {
   "cell_type": "markdown",
   "source": [
    "## Boundary vertex:"
   ],
   "metadata": {
    "collapsed": false
   }
  },
  {
   "cell_type": "code",
   "outputs": [
    {
     "data": {
      "text/plain": "array([-2.30935063e-17, -3.75722151e-01,  1.58071335e+00], dtype=float128)"
     },
     "execution_count": 211,
     "metadata": {},
     "output_type": "execute_result"
    }
   ],
   "source": [
    "v0 = HC.V[yplane[0]]  # kappa_1 = 0.419974341614026069\n",
    "FF, nn = vectorise_vnn(v0)\n",
    "cdict = b_curvatures_hn_ij_c_ij(FF, nn)\n",
    "HNdA_i = cdict['HNdA_i']\n",
    "HNdA_i"
   ],
   "metadata": {
    "collapsed": false,
    "ExecuteTime": {
     "end_time": "2024-03-04T14:42:16.900928166Z",
     "start_time": "2024-03-04T14:42:16.856251799Z"
    }
   },
   "execution_count": 211
  },
  {
   "cell_type": "code",
   "outputs": [
    {
     "name": "stdout",
     "output_type": "stream",
     "text": [
      "(0.91547933008387026213, 0.915479330083870206, -0.75)\n",
      "(6.9047176446271943585e-17, 1.1276259652063807853, -0.5)\n",
      "(-1.5430806348152437785, 1.889728760252754084e-16, -1.0)\n",
      "(1.5430806348152437785, 0.0, -1.0)\n",
      "(-0.91547933008387015, 0.91547933008387031813, -0.75)\n"
     ]
    }
   ],
   "source": [
    "for vj in v0.nn:\n",
    "    print(vj.x)"
   ],
   "metadata": {
    "collapsed": false,
    "ExecuteTime": {
     "end_time": "2024-03-04T14:42:19.040370363Z",
     "start_time": "2024-03-04T14:42:19.033538338Z"
    }
   },
   "execution_count": 212
  },
  {
   "cell_type": "code",
   "outputs": [
    {
     "data": {
      "text/plain": "(0.2994769986957551, 0.12644520356847755)"
     },
     "execution_count": 213,
     "metadata": {},
     "output_type": "execute_result"
    }
   ],
   "source": [
    "result1, error = quad(kappa_1_integrand, -1.0, -0.5, args=(c))\n",
    "result2, error = quad(kappa_1_integrand, -1.0, -0.75, args=(c))\n",
    "result, result2"
   ],
   "metadata": {
    "collapsed": false,
    "ExecuteTime": {
     "end_time": "2024-03-04T14:42:19.368331960Z",
     "start_time": "2024-03-04T14:42:19.365500475Z"
    }
   },
   "execution_count": 213
  },
  {
   "cell_type": "code",
   "outputs": [
    {
     "data": {
      "text/plain": "1.5231883119115297"
     },
     "execution_count": 162,
     "metadata": {},
     "output_type": "execute_result"
    }
   ],
   "source": [
    "result*2"
   ],
   "metadata": {
    "collapsed": false,
    "ExecuteTime": {
     "end_time": "2024-03-04T13:53:58.117903060Z",
     "start_time": "2024-03-04T13:53:58.100117977Z"
    }
   },
   "execution_count": 162
  },
  {
   "cell_type": "code",
   "outputs": [
    {
     "data": {
      "text/plain": "(0.7615941559557649, 0.12644520356847755)"
     },
     "execution_count": 163,
     "metadata": {},
     "output_type": "execute_result"
    }
   ],
   "source": [
    "result1, error = quad(kappa_1_integrand, -1.0, -0.5, args=(c), epsabs=1e-20)\n",
    "result2, error = quad(kappa_1_integrand, -1.0, -0.75, args=(c), epsabs=1e-20)\n",
    "result, result2"
   ],
   "metadata": {
    "collapsed": false,
    "ExecuteTime": {
     "end_time": "2024-03-04T13:56:34.906089241Z",
     "start_time": "2024-03-04T13:56:34.864932240Z"
    }
   },
   "execution_count": 163
  },
  {
   "cell_type": "code",
   "outputs": [
    {
     "data": {
      "text/plain": "0.37712333301267442128"
     },
     "execution_count": 216,
     "metadata": {},
     "output_type": "execute_result"
    }
   ],
   "source": [
    "calculate_curvature_between_points(yplane[0], yplane[1], yplane[2])"
   ],
   "metadata": {
    "collapsed": false,
    "ExecuteTime": {
     "end_time": "2024-03-04T14:42:41.231924663Z",
     "start_time": "2024-03-04T14:42:41.225467672Z"
    }
   },
   "execution_count": 216
  },
  {
   "cell_type": "code",
   "execution_count": 117,
   "outputs": [],
   "source": [],
   "metadata": {
    "collapsed": false,
    "ExecuteTime": {
     "end_time": "2024-03-04T13:46:33.153855517Z",
     "start_time": "2024-03-04T13:46:33.142019100Z"
    }
   }
  },
  {
   "cell_type": "code",
   "execution_count": 117,
   "outputs": [],
   "source": [
    "\n",
    "\n"
   ],
   "metadata": {
    "collapsed": false,
    "ExecuteTime": {
     "end_time": "2024-03-04T13:46:33.351152903Z",
     "start_time": "2024-03-04T13:46:33.341236571Z"
    }
   }
  },
  {
   "cell_type": "code",
   "execution_count": 117,
   "outputs": [],
   "source": [],
   "metadata": {
    "collapsed": false,
    "ExecuteTime": {
     "end_time": "2024-03-04T13:46:33.545241737Z",
     "start_time": "2024-03-04T13:46:33.533219281Z"
    }
   }
  },
  {
   "cell_type": "code",
   "outputs": [],
   "source": [],
   "metadata": {
    "collapsed": false,
    "ExecuteTime": {
     "start_time": "2024-03-04T11:36:17.020479905Z"
    }
   }
  },
  {
   "cell_type": "code",
   "outputs": [],
   "source": [],
   "metadata": {
    "collapsed": false,
    "ExecuteTime": {
     "start_time": "2024-03-04T11:36:17.020649073Z"
    }
   }
  },
  {
   "cell_type": "code",
   "outputs": [],
   "source": [],
   "metadata": {
    "collapsed": false,
    "ExecuteTime": {
     "start_time": "2024-03-04T11:36:17.023459758Z"
    }
   }
  },
  {
   "cell_type": "code",
   "outputs": [],
   "source": [],
   "metadata": {
    "collapsed": false,
    "ExecuteTime": {
     "start_time": "2024-03-04T11:36:17.023483763Z"
    }
   }
  },
  {
   "cell_type": "code",
   "outputs": [],
   "source": [],
   "metadata": {
    "collapsed": false,
    "ExecuteTime": {
     "start_time": "2024-03-04T11:36:17.023502027Z"
    }
   }
  },
  {
   "cell_type": "code",
   "outputs": [],
   "source": [],
   "metadata": {
    "collapsed": false,
    "ExecuteTime": {
     "start_time": "2024-03-04T11:36:17.066544132Z"
    }
   }
  },
  {
   "cell_type": "code",
   "outputs": [],
   "source": [],
   "metadata": {
    "collapsed": false,
    "ExecuteTime": {
     "start_time": "2024-03-04T11:36:17.066619834Z"
    }
   }
  },
  {
   "cell_type": "code",
   "outputs": [],
   "source": [],
   "metadata": {
    "collapsed": false,
    "ExecuteTime": {
     "start_time": "2024-03-04T11:36:17.066647446Z"
    }
   }
  },
  {
   "cell_type": "code",
   "outputs": [],
   "source": [],
   "metadata": {
    "collapsed": false,
    "ExecuteTime": {
     "start_time": "2024-03-04T11:36:17.066668305Z"
    }
   }
  },
  {
   "cell_type": "code",
   "outputs": [],
   "source": [],
   "metadata": {
    "collapsed": false,
    "ExecuteTime": {
     "start_time": "2024-03-04T11:36:17.066687471Z"
    }
   }
  },
  {
   "cell_type": "markdown",
   "source": [
    "# Old code"
   ],
   "metadata": {
    "collapsed": false
   }
  },
  {
   "cell_type": "code",
   "outputs": [],
   "source": [
    "# \n",
    "\n",
    "def boundary_vertices(HC):\n",
    "    number_v = 0\n",
    "    for v in HC.V:\n",
    "        number_v += 1\n",
    "        #print(number_v)\n",
    "    \n",
    "    boundary_bottom = []\n",
    "    boundary_top    = []\n",
    "    \n",
    "    v_l = - length/2\n",
    "    v_u =   length/2\n",
    "    for v in HC.V:\n",
    "       # print(v.index)\n",
    "        if v.x[2] == v_l:\n",
    "            boundary_bottom.append(v)\n",
    "    \n",
    "        if v.x[2] == v_u:\n",
    "            boundary_top.append(v)\n",
    "\n",
    "        #print(v.cache[1])\n",
    "\n",
    "#print(HC.V.cache)\n",
    "\n",
    "'''\n",
    "v.index=1\n",
    "v.x = (1.5430806348152437, -3.779457520505508e-16, 1.0)\n",
    "'''"
   ],
   "metadata": {
    "collapsed": false,
    "ExecuteTime": {
     "start_time": "2024-03-04T11:36:17.066708611Z"
    }
   }
  },
  {
   "cell_type": "code",
   "outputs": [],
   "source": [
    "boundary_bottom_x = []\n",
    "for v in boundary_bottom:\n",
    "    #dummy_item.append(v.index)\n",
    "    boundary_bottom_x.append(v.x)\n",
    "\n",
    "boundary_top_x = []\n",
    "for v in boundary_top:\n",
    "    #dummy_item.append(v.index)\n",
    "    boundary_top_x.append(v.x)\n",
    "\n",
    "print(boundary_top_x[1][1])"
   ],
   "metadata": {
    "collapsed": false,
    "ExecuteTime": {
     "start_time": "2024-03-04T11:36:17.066727977Z"
    }
   }
  }
 ],
 "metadata": {
  "kernelspec": {
   "display_name": "Python 3",
   "language": "python",
   "name": "python3"
  },
  "language_info": {
   "codemirror_mode": {
    "name": "ipython",
    "version": 2
   },
   "file_extension": ".py",
   "mimetype": "text/x-python",
   "name": "python",
   "nbconvert_exporter": "python",
   "pygments_lexer": "ipython2",
   "version": "2.7.6"
  }
 },
 "nbformat": 4,
 "nbformat_minor": 0
}
