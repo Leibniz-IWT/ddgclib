{
 "cells": [
  {
   "cell_type": "code",
   "execution_count": null,
   "metadata": {
    "collapsed": true
   },
   "outputs": [],
   "source": []
  },
  {
   "cell_type": "code",
   "execution_count": 1,
   "outputs": [],
   "source": [
    "import os, sys\n",
    "\n",
    "import numpy as np\n",
    "\n",
    "module_path = os.path.abspath(os.path.join('..'))\n",
    "if module_path not in sys.path:\n",
    "    sys.path.append(module_path)\n",
    "\n",
    "#from ddgclib._catenoid import *\n",
    "from ddgclib._curvaturesplay import *\n",
    "import copy\n",
    "\n",
    "from timeit import default_timer as timer"
   ],
   "metadata": {
    "collapsed": false,
    "ExecuteTime": {
     "end_time": "2024-03-03T10:24:12.199896900Z",
     "start_time": "2024-03-03T10:24:11.459963200Z"
    }
   }
  },
  {
   "cell_type": "code",
   "execution_count": 2,
   "outputs": [
    {
     "name": "stdout",
     "output_type": "stream",
     "text": [
      "liegt in der Normalform dummy x: True\n"
     ]
    }
   ],
   "source": [
    "'''\n",
    "Input-Parameter: P, U, V,T\n",
    "'''\n",
    "P = np.array([0.0, 0.0, -1.0]) # Stützpunkte = (0,0, boundarybottom.vx[2])\n",
    "U = np.array([1.5430806348152437, -3.779457520505508e-16, 1.0]) # (boundary_bottom.vx[0], boundary_bottom.vx[1], boundary_bottom.vx[2])\n",
    "V = np.array([1.5430806348152437, 0.0, -1.0]) # (boundary_top.vx[0], boundary_top.vx[1], boundary_top.vx[2])\n",
    "N = np.cross(U, V)  # Normalenvektor berechnen\n",
    "T = np.array([1.29468334, 0, 0.75])  #\n",
    "\n",
    "def locate_in_plane(P, U, V, T):\n",
    "    N = np.cross(U, V)\n",
    "    # Überprüfe, ob der Punkt in der Ebene liegt\n",
    "    return np.isclose(np.dot(N, T - P), 0)\n",
    "\n",
    "print(f'liegt in der Normalform dummy x: {locate_in_plane(P, U, V, T)}')"
   ],
   "metadata": {
    "collapsed": false,
    "ExecuteTime": {
     "end_time": "2024-03-03T10:24:12.214326600Z",
     "start_time": "2024-03-03T10:24:12.202380300Z"
    }
   }
  },
  {
   "cell_type": "code",
   "execution_count": 3,
   "outputs": [],
   "source": [
    "def catenoid_N(r, length, refinement=2):\n",
    "\n",
    "    v_l = -length/2\n",
    "    v_u = length/2\n",
    "    a = r\n",
    "\n",
    "    def sech(x):\n",
    "        return 1 / np.cosh(x)\n",
    "\n",
    "    def catenoid(u, v):\n",
    "        x = a * np.cos(u) * np.cosh(v / a)\n",
    "        y = a * np.sin(u) * np.cosh(v / a)\n",
    "        z = v\n",
    "        return x, y, z\n",
    "\n",
    "    # Equation: x**2/a**2 + y**2/b**2 + z**2/c**2 = 1\n",
    "    # TODO: Assume that a > b > c?\n",
    "    # Exact values:\n",
    "    R = a\n",
    "    domain = [#(-2.0, 2.0),  # u\n",
    "              (0.0, 2 * np.pi),  # u\n",
    "              (v_l, v_u)  # v\n",
    "              ]\n",
    "    HC_plane = Complex(2, domain)\n",
    "    HC_plane.triangulate()\n",
    "    for i in range(refinement):\n",
    "        HC_plane.refine_all()\n",
    "\n",
    "    # H\n",
    "    HC = Complex(3, domain)\n",
    "    bV = set()\n",
    "    cdist = 1e-8\n",
    "\n",
    "    u_list = []\n",
    "    v_list = []\n",
    "    for v in HC_plane.V:\n",
    "        #print(f'-')\n",
    "        #print(f'v.x = {v.x}')\n",
    "        x, y, z = catenoid(*v.x_a)\n",
    "        #print(f'tuple(x, y, z) = {tuple([x, y, z])}')\n",
    "        v2 = HC.V[tuple([x, y, z])]\n",
    "\n",
    "        u_list.append(v.x_a[0])\n",
    "        v_list.append(v.x_a[1])\n",
    "\n",
    "        #TODO: Does not work at all:\n",
    "        boundary_bool = (\n",
    "                        v.x[1] == domain[1][0] or v.x[1] == domain[1][1]\n",
    "                        #v.x[2] == domain[0][0] or v.x[2] == domain[0][1]\n",
    "                       # or v.x[1] == domain[1][0] or v.x[1] == domain[1][1]\n",
    "                         )\n",
    "        if boundary_bool:\n",
    "            bV.add(v2)\n",
    "\n",
    "    # Connect neighbours\n",
    "    for v in HC_plane.V:\n",
    "        for vn in v.nn:\n",
    "            v1 = list(HC.V)[v.index]\n",
    "            v2 = list(HC.V)[vn.index]\n",
    "            v1.connect(v2)\n",
    "\n",
    "\n",
    "    # Remerge:\n",
    "    HC.V.merge_all(cdist=cdist)\n",
    "    bVc = copy.copy(bV)\n",
    "    for v in bVc:\n",
    "        #print(f'bv = {v.x}')\n",
    "        if not (v in HC.V):\n",
    "            bV.remove(v)\n",
    "\n",
    "\n",
    "    H_f = []\n",
    "    bV_H_f = []\n",
    "    K_f = []\n",
    "    bV_K_f = []\n",
    "\n",
    "    neck_verts = []\n",
    "    neck_sols = []\n",
    "    for vert in HC.V:\n",
    "        if not (vert in bV):\n",
    "            for u_i, v_i in zip(u_list, v_list):\n",
    "                x, y, z = catenoid(u_i, v_i)\n",
    "                va = np.array([x, y, z])\n",
    "                #print(f'va == vert.x_a = {va == vert.x_a}')\n",
    "                ba = va == vert.x_a\n",
    "                if ba.all():\n",
    "                    #print(f'ba.all() = {ba.all()}')\n",
    "                    u = u_i\n",
    "                    v = v_i\n",
    "                    #nom = c * (a ** 2 * (u ** 2 - 1) + c ** 2 * (u ** 2 + 1))\n",
    "                    #denom = 2 * a * (u ** 2 * (a ** 2 + c ** 2) + c ** 2) ** (3 / 2.0)\n",
    "                    H_f_i = 0.0\n",
    "                    #K_f_i = - c ** 2 / ((u ** 2 * (a ** 2 + c ** 2) + c ** 2) ** 2)\n",
    "                    #K_f_i = -(np.sech(v/a))**4 / (a**2)\n",
    "                    #K_f_i = -(math.sech(v/a))**4 / (a**2)\n",
    "                    K_f_i = -(sech(v/a))**4 / (a**2)\n",
    "                    H_f.append(H_f_i)\n",
    "                    K_f.append(K_f_i)\n",
    "                    #TODO: MERGE NEAR VERTICES\n",
    "\n",
    "                    if z == 0.0:\n",
    "                        neck_verts.append(vert.index)\n",
    "                        neck_sols.append((H_f_i, K_f_i))\n",
    "\n",
    "\n",
    "    return HC, bV, K_f, H_f, neck_verts, neck_sols"
   ],
   "metadata": {
    "collapsed": false,
    "ExecuteTime": {
     "end_time": "2024-03-03T10:24:12.258529800Z",
     "start_time": "2024-03-03T10:24:12.215319900Z"
    }
   }
  },
  {
   "cell_type": "code",
   "execution_count": 4,
   "outputs": [],
   "source": [
    "r = 1\n",
    "length = 2\n",
    "\n",
    "HC, bV, K_f, H_f, neck_verts, neck_sols = catenoid_N(r, length, refinement=3)"
   ],
   "metadata": {
    "collapsed": false,
    "ExecuteTime": {
     "end_time": "2024-03-03T10:24:12.429351200Z",
     "start_time": "2024-03-03T10:24:12.232206900Z"
    }
   }
  },
  {
   "cell_type": "code",
   "execution_count": 5,
   "outputs": [
    {
     "name": "stdout",
     "output_type": "stream",
     "text": [
      "np.zeros([self.V.size(), self.dim]) = [[0. 0.]\n",
      " [0. 0.]\n",
      " [0. 0.]\n",
      " [0. 0.]\n",
      " [0. 0.]\n",
      " [0. 0.]\n",
      " [0. 0.]\n",
      " [0. 0.]\n",
      " [0. 0.]\n",
      " [0. 0.]\n",
      " [0. 0.]\n",
      " [0. 0.]\n",
      " [0. 0.]\n",
      " [0. 0.]\n",
      " [0. 0.]\n",
      " [0. 0.]\n",
      " [0. 0.]\n",
      " [0. 0.]\n",
      " [0. 0.]\n",
      " [0. 0.]\n",
      " [0. 0.]\n",
      " [0. 0.]\n",
      " [0. 0.]\n",
      " [0. 0.]\n",
      " [0. 0.]\n",
      " [0. 0.]\n",
      " [0. 0.]\n",
      " [0. 0.]\n",
      " [0. 0.]\n",
      " [0. 0.]\n",
      " [0. 0.]\n",
      " [0. 0.]\n",
      " [0. 0.]\n",
      " [0. 0.]\n",
      " [0. 0.]\n",
      " [0. 0.]\n",
      " [0. 0.]\n",
      " [0. 0.]\n",
      " [0. 0.]\n",
      " [0. 0.]\n",
      " [0. 0.]\n",
      " [0. 0.]\n",
      " [0. 0.]\n",
      " [0. 0.]\n",
      " [0. 0.]\n",
      " [0. 0.]\n",
      " [0. 0.]\n",
      " [0. 0.]\n",
      " [0. 0.]\n",
      " [0. 0.]\n",
      " [0. 0.]\n",
      " [0. 0.]\n",
      " [0. 0.]\n",
      " [0. 0.]\n",
      " [0. 0.]\n",
      " [0. 0.]\n",
      " [0. 0.]\n",
      " [0. 0.]\n",
      " [0. 0.]\n",
      " [0. 0.]\n",
      " [0. 0.]\n",
      " [0. 0.]\n",
      " [0. 0.]\n",
      " [0. 0.]\n",
      " [0. 0.]\n",
      " [0. 0.]\n",
      " [0. 0.]\n",
      " [0. 0.]\n",
      " [0. 0.]\n",
      " [0. 0.]\n",
      " [0. 0.]\n",
      " [0. 0.]\n",
      " [0. 0.]\n",
      " [0. 0.]\n",
      " [0. 0.]\n",
      " [0. 0.]\n",
      " [0. 0.]\n",
      " [0. 0.]\n",
      " [0. 0.]\n",
      " [0. 0.]\n",
      " [0. 0.]\n",
      " [0. 0.]\n",
      " [0. 0.]\n",
      " [0. 0.]\n",
      " [0. 0.]\n",
      " [0. 0.]\n",
      " [0. 0.]\n",
      " [0. 0.]\n",
      " [0. 0.]\n",
      " [0. 0.]\n",
      " [0. 0.]\n",
      " [0. 0.]\n",
      " [0. 0.]\n",
      " [0. 0.]\n",
      " [0. 0.]\n",
      " [0. 0.]\n",
      " [0. 0.]\n",
      " [0. 0.]\n",
      " [0. 0.]\n",
      " [0. 0.]\n",
      " [0. 0.]\n",
      " [0. 0.]\n",
      " [0. 0.]\n",
      " [0. 0.]\n",
      " [0. 0.]\n",
      " [0. 0.]\n",
      " [0. 0.]\n",
      " [0. 0.]\n",
      " [0. 0.]\n",
      " [0. 0.]\n",
      " [0. 0.]\n",
      " [0. 0.]\n",
      " [0. 0.]\n",
      " [0. 0.]\n",
      " [0. 0.]\n",
      " [0. 0.]\n",
      " [0. 0.]\n",
      " [0. 0.]\n",
      " [0. 0.]\n",
      " [0. 0.]\n",
      " [0. 0.]\n",
      " [0. 0.]\n",
      " [0. 0.]\n",
      " [0. 0.]\n",
      " [0. 0.]\n",
      " [0. 0.]\n",
      " [0. 0.]\n",
      " [0. 0.]\n",
      " [0. 0.]\n",
      " [0. 0.]\n",
      " [0. 0.]\n",
      " [0. 0.]\n",
      " [0. 0.]\n",
      " [0. 0.]\n",
      " [0. 0.]\n",
      " [0. 0.]]\n",
      "self.V[v].index = 0\n",
      "self.V[v].index = 1\n",
      "self.V[v].index = 2\n",
      "self.V[v].index = 3\n",
      "self.V[v].index = 4\n",
      "self.V[v].index = 5\n",
      "self.V[v].index = 6\n",
      "self.V[v].index = 7\n",
      "self.V[v].index = 8\n",
      "self.V[v].index = 9\n",
      "self.V[v].index = 10\n",
      "self.V[v].index = 11\n",
      "self.V[v].index = 12\n",
      "self.V[v].index = 13\n",
      "self.V[v].index = 14\n",
      "self.V[v].index = 15\n",
      "self.V[v].index = 16\n",
      "self.V[v].index = 17\n",
      "self.V[v].index = 18\n",
      "self.V[v].index = 19\n",
      "self.V[v].index = 20\n",
      "self.V[v].index = 21\n",
      "self.V[v].index = 22\n",
      "self.V[v].index = 23\n",
      "self.V[v].index = 24\n",
      "self.V[v].index = 25\n",
      "self.V[v].index = 26\n",
      "self.V[v].index = 27\n",
      "self.V[v].index = 28\n",
      "self.V[v].index = 29\n",
      "self.V[v].index = 30\n",
      "self.V[v].index = 31\n",
      "self.V[v].index = 32\n",
      "self.V[v].index = 33\n",
      "self.V[v].index = 34\n",
      "self.V[v].index = 35\n",
      "self.V[v].index = 36\n",
      "self.V[v].index = 37\n",
      "self.V[v].index = 38\n",
      "self.V[v].index = 39\n",
      "self.V[v].index = 40\n",
      "self.V[v].index = 41\n",
      "self.V[v].index = 42\n",
      "self.V[v].index = 43\n",
      "self.V[v].index = 44\n",
      "self.V[v].index = 45\n",
      "self.V[v].index = 46\n",
      "self.V[v].index = 47\n",
      "self.V[v].index = 48\n",
      "self.V[v].index = 49\n",
      "self.V[v].index = 50\n",
      "self.V[v].index = 51\n",
      "self.V[v].index = 52\n",
      "self.V[v].index = 53\n",
      "self.V[v].index = 54\n",
      "self.V[v].index = 55\n",
      "self.V[v].index = 56\n",
      "self.V[v].index = 57\n",
      "self.V[v].index = 58\n",
      "self.V[v].index = 59\n",
      "self.V[v].index = 60\n",
      "self.V[v].index = 61\n",
      "self.V[v].index = 62\n",
      "self.V[v].index = 63\n",
      "self.V[v].index = 64\n",
      "self.V[v].index = 65\n",
      "self.V[v].index = 66\n",
      "self.V[v].index = 67\n",
      "self.V[v].index = 68\n",
      "self.V[v].index = 69\n",
      "self.V[v].index = 70\n",
      "self.V[v].index = 71\n",
      "self.V[v].index = 72\n",
      "self.V[v].index = 73\n",
      "self.V[v].index = 74\n",
      "self.V[v].index = 75\n",
      "self.V[v].index = 76\n",
      "self.V[v].index = 77\n",
      "self.V[v].index = 78\n",
      "self.V[v].index = 79\n",
      "self.V[v].index = 80\n",
      "self.V[v].index = 81\n",
      "self.V[v].index = 82\n",
      "self.V[v].index = 83\n",
      "self.V[v].index = 84\n",
      "self.V[v].index = 85\n",
      "self.V[v].index = 86\n",
      "self.V[v].index = 87\n",
      "self.V[v].index = 88\n",
      "self.V[v].index = 89\n",
      "self.V[v].index = 90\n",
      "self.V[v].index = 91\n",
      "self.V[v].index = 92\n",
      "self.V[v].index = 93\n",
      "self.V[v].index = 94\n",
      "self.V[v].index = 95\n",
      "self.V[v].index = 96\n",
      "self.V[v].index = 97\n",
      "self.V[v].index = 98\n",
      "self.V[v].index = 99\n",
      "self.V[v].index = 100\n",
      "self.V[v].index = 101\n",
      "self.V[v].index = 102\n",
      "self.V[v].index = 103\n",
      "self.V[v].index = 104\n",
      "self.V[v].index = 105\n",
      "self.V[v].index = 106\n",
      "self.V[v].index = 107\n",
      "self.V[v].index = 108\n",
      "self.V[v].index = 109\n",
      "self.V[v].index = 110\n",
      "self.V[v].index = 111\n",
      "self.V[v].index = 112\n",
      "self.V[v].index = 113\n",
      "self.V[v].index = 114\n",
      "self.V[v].index = 115\n",
      "self.V[v].index = 116\n",
      "self.V[v].index = 117\n",
      "self.V[v].index = 118\n",
      "self.V[v].index = 119\n",
      "self.V[v].index = 120\n",
      "self.V[v].index = 121\n",
      "self.V[v].index = 122\n",
      "self.V[v].index = 123\n",
      "self.V[v].index = 124\n",
      "self.V[v].index = 125\n",
      "self.V[v].index = 126\n",
      "self.V[v].index = 127\n",
      "self.V[v].index = 128\n",
      "self.V[v].index = 129\n",
      "self.V[v].index = 130\n",
      "self.V[v].index = 131\n",
      "self.V[v].index = 132\n",
      "self.V[v].index = 133\n",
      "self.V[v].index = 134\n",
      "self.V[v].index = 135\n"
     ]
    }
   ],
   "source": [
    "from ddgclib._plotting import *\n",
    "plot_polyscope(HC)"
   ],
   "metadata": {
    "collapsed": false,
    "ExecuteTime": {
     "end_time": "2024-03-03T10:24:30.283008500Z",
     "start_time": "2024-03-03T10:24:12.429848100Z"
    }
   }
  },
  {
   "cell_type": "code",
   "execution_count": 38,
   "outputs": [
    {
     "data": {
      "text/plain": "'\\nv.index=1\\nv.x = (1.5430806348152437, -3.779457520505508e-16, 1.0)\\n'"
     },
     "execution_count": 38,
     "metadata": {},
     "output_type": "execute_result"
    }
   ],
   "source": [
    "number_v = 0\n",
    "for v in HC.V:\n",
    "    number_v += 1\n",
    "    #print(number_v)\n",
    "\n",
    "boundary_bottom = []\n",
    "boundary_top    = []\n",
    "\n",
    "v_l = - length/2\n",
    "v_u =   length/2\n",
    "\n",
    "for v in HC.V:\n",
    "   # print(v.index)\n",
    "    if v.x[2] == v_l:\n",
    "        boundary_bottom.append(v)\n",
    "\n",
    "    if v.x[2] == v_u:\n",
    "        boundary_top.append(v)\n",
    "\n",
    "        #print(v.cache[1])\n",
    "\n",
    "#print(HC.V.cache)\n",
    "\n",
    "'''\n",
    "v.index=1\n",
    "v.x = (1.5430806348152437, -3.779457520505508e-16, 1.0)\n",
    "'''"
   ],
   "metadata": {
    "collapsed": false,
    "ExecuteTime": {
     "end_time": "2024-03-01T10:23:38.878743300Z",
     "start_time": "2024-03-01T10:23:38.869306700Z"
    }
   }
  },
  {
   "cell_type": "code",
   "execution_count": 39,
   "outputs": [],
   "source": [
    "boundary_bottom_x = []\n",
    "for v in boundary_bottom:\n",
    "    #dummy_item.append(v.index)\n",
    "    boundary_bottom_x.append(v.x)\n",
    "\n",
    "boundary_top_x = []\n",
    "for v in boundary_top:\n",
    "    #dummy_item.append(v.index)\n",
    "    boundary_top_x.append(v.x)"
   ],
   "metadata": {
    "collapsed": false,
    "ExecuteTime": {
     "end_time": "2024-03-01T10:23:39.158574600Z",
     "start_time": "2024-03-01T10:23:39.146654900Z"
    }
   }
  },
  {
   "cell_type": "code",
   "execution_count": 40,
   "outputs": [],
   "source": [
    "#print(boundary_bottom[].index)"
   ],
   "metadata": {
    "collapsed": false,
    "ExecuteTime": {
     "end_time": "2024-03-01T10:23:39.702005400Z",
     "start_time": "2024-03-01T10:23:39.695548400Z"
    }
   }
  },
  {
   "cell_type": "code",
   "execution_count": 41,
   "outputs": [
    {
     "name": "stdout",
     "output_type": "stream",
     "text": [
      "Gemeinsame Elemente mit identischen ersten beiden Werten:\n",
      "(-1.5430806348152437, 1.889728760252754e-16, 1.0)\n",
      "(9.44864380126377e-17, 1.5430806348152437, 1.0)\n",
      "(-2.834593140379131e-16, -1.5430806348152437, 1.0)\n",
      "(1.0911227807955015, 1.0911227807955015, 1.0)\n",
      "(-1.0911227807955013, 1.0911227807955015, 1.0)\n",
      "(-1.0911227807955017, -1.0911227807955013, 1.0)\n",
      "(1.091122780795501, -1.0911227807955017, 1.0)\n",
      "-----\n",
      "<class 'list'>\n"
     ]
    }
   ],
   "source": [
    "\n",
    "# Gemeinsame Elemente finden, bei denen die ersten beiden Werte identisch sind\n",
    "gemeinsame_elemente = [tupel for tupel in boundary_top_x if any((tupel[0] == other[0]) and (tupel[1] == other[1]) for other in boundary_bottom_x)] # is a list\n",
    "\n",
    "# Ausgabe der gemeinsamen Elemente\n",
    "print(\"Gemeinsame Elemente mit identischen ersten beiden Werten:\")\n",
    "for element in gemeinsame_elemente:\n",
    "    print(element)\n",
    "\n",
    "print('-----')\n",
    "print(type(gemeinsame_elemente))\n",
    "# Abfrage der einzelnen Elemente gemeinsame_elemente[i][0]\n"
   ],
   "metadata": {
    "collapsed": false,
    "ExecuteTime": {
     "end_time": "2024-03-01T10:23:40.038250100Z",
     "start_time": "2024-03-01T10:23:40.032785700Z"
    }
   }
  },
  {
   "cell_type": "code",
   "execution_count": 45,
   "outputs": [
    {
     "data": {
      "text/plain": "numpy.float64"
     },
     "execution_count": 45,
     "metadata": {},
     "output_type": "execute_result"
    }
   ],
   "source": [
    "type(gemeinsame_elemente[0][0])"
   ],
   "metadata": {
    "collapsed": false,
    "ExecuteTime": {
     "end_time": "2024-03-01T11:12:40.959459900Z",
     "start_time": "2024-03-01T11:12:40.933136800Z"
    }
   }
  },
  {
   "cell_type": "code",
   "execution_count": 10,
   "outputs": [
    {
     "name": "stdout",
     "output_type": "stream",
     "text": [
      "(6.904717644627194e-17, 1.1276259652063807, 0.5)\n",
      "(6.904717644627194e-17, 1.1276259652063807, -0.5)\n",
      "(6.123233995736766e-17, 1.0, 0.0)\n",
      "(9.44864380126377e-17, 1.5430806348152437, 1.0)\n",
      "(9.44864380126377e-17, 1.5430806348152437, -1.0)\n",
      "(7.927648702445397e-17, 1.2946832846768448, 0.75)\n",
      "(6.315583756830844e-17, 1.0314130998795732, 0.25)\n",
      "(6.315583756830844e-17, 1.0314130998795732, -0.25)\n",
      "(7.927648702445397e-17, 1.2946832846768448, -0.75)\n"
     ]
    }
   ],
   "source": [
    "vlist = []\n",
    "for v in HC.V:\n",
    "    if (abs(v.x[0]) <= 1e-8) and (0.5 <= v.x[1] <= 2):\n",
    "        vlist.append(v)\n",
    "\n",
    "vlist\n",
    "for v in vlist:\n",
    "    print(v.x)"
   ],
   "metadata": {
    "collapsed": false,
    "ExecuteTime": {
     "end_time": "2024-03-01T13:18:10.523098400Z",
     "start_time": "2024-03-01T13:18:10.475410500Z"
    }
   }
  },
  {
   "cell_type": "code",
   "execution_count": 12,
   "outputs": [
    {
     "name": "stdout",
     "output_type": "stream",
     "text": [
      "9\n"
     ]
    }
   ],
   "source": [
    "print(len(vlist))"
   ],
   "metadata": {
    "collapsed": false,
    "ExecuteTime": {
     "end_time": "2024-03-01T13:18:31.957802800Z",
     "start_time": "2024-03-01T13:18:31.942177500Z"
    }
   }
  },
  {
   "cell_type": "code",
   "execution_count": 48,
   "outputs": [
    {
     "name": "stdout",
     "output_type": "stream",
     "text": [
      " U = [-1.54308063e+00  1.88972876e-16]\n",
      "P\n",
      "liegt in der Normalform : [ True  True  True]\n",
      " U = [9.44864380e-17 1.54308063e+00]\n",
      "P\n",
      "liegt in der Normalform : [ True  True  True]\n",
      " U = [-2.83459314e-16 -1.54308063e+00]\n",
      "P\n",
      "liegt in der Normalform : [ True  True  True]\n",
      " U = [1.09112278 1.09112278]\n",
      "P\n",
      "liegt in der Normalform : [ True  True  True]\n",
      " U = [-1.09112278  1.09112278]\n",
      "P\n",
      "liegt in der Normalform : [ True  True  True]\n",
      " U = [-1.09112278 -1.09112278]\n",
      "P\n",
      "liegt in der Normalform : [ True  True  True]\n",
      " U = [ 1.09112278 -1.09112278]\n",
      "P\n",
      "liegt in der Normalform : [ True  True  True]\n"
     ]
    }
   ],
   "source": [
    "''''\n",
    "P = np.array([0.0, 0.0, -1.0]) # Stützpunkte = (0,0, boundarybottom.vx[2])\n",
    "U = np.array([1.5430806348152437, -3.779457520505508e-16, 1.0]) # (boundary_bottom.vx[0], boundary_bottom.vx[1], boundary_bottom.vx[2])\n",
    "V = np.array([1.5430806348152437, 0.0, -1.0]) # (boundary_top.vx[0], boundary_top.vx[1], boundary_top.vx[2])\n",
    "N = np.cross(U, V)  # Normalenvektor berechnen\n",
    "T = np.array([1.29468334, 0, 0.75])  #\n",
    "'''\n",
    "\n",
    "iteration = 0\n",
    "for i in range(len(gemeinsame_elemente)):\n",
    "    iteration += 1\n",
    "    P = np.array([0.0, 0.0, -gemeinsame_elemente[i][2]])\n",
    "    U = np.array([gemeinsame_elemente[i][0], gemeinsame_elemente[i][1]], -gemeinsame_elemente[i][2])\n",
    "    V = np.array([gemeinsame_elemente[i][0], gemeinsame_elemente[i][1]], gemeinsame_elemente[i][2])\n",
    "    T = np.array([1.29468334, 0, 0.75])\n",
    "    print(f' U = {U}')\n",
    "    print(f'P')\n",
    "    print(f'liegt in der Normalform : {locate_in_plane(P, U, V, T)}')"
   ],
   "metadata": {
    "collapsed": false,
    "ExecuteTime": {
     "end_time": "2024-03-01T11:16:21.483194200Z",
     "start_time": "2024-03-01T11:16:21.476737100Z"
    }
   }
  },
  {
   "cell_type": "code",
   "execution_count": 100,
   "outputs": [
    {
     "name": "stdout",
     "output_type": "stream",
     "text": [
      "(1.5430806348152437, 0.0, -1.0)\n",
      "(-1.5430806348152437, 1.889728760252754e-16, -1.0)\n",
      "(-2.834593140379131e-16, -1.5430806348152437, -1.0)\n",
      "(9.44864380126377e-17, 1.5430806348152437, -1.0)\n",
      "(1.091122780795501, -1.0911227807955017, -1.0)\n",
      "(-1.0911227807955017, -1.0911227807955013, -1.0)\n",
      "(1.0911227807955015, 1.0911227807955015, -1.0)\n",
      "(-1.0911227807955013, 1.0911227807955015, -1.0)\n"
     ]
    }
   ],
   "source": [
    "\n",
    "\n",
    "dummy = 0\n",
    "for v in boundary_bottom:\n",
    "    dummy +=1\n",
    "    print(v.x)\n",
    "\n",
    "    for vnn in v.nn:\n",
    "        if vnn in boundary_bottom:\n",
    "            continue\n",
    "        else:\n",
    "            pass\n",
    "          #  print(vnn.x)\n",
    "\n"
   ],
   "metadata": {
    "collapsed": false,
    "ExecuteTime": {
     "end_time": "2024-02-29T19:05:30.468476100Z",
     "start_time": "2024-02-29T19:05:30.461026300Z"
    }
   }
  },
  {
   "cell_type": "markdown",
   "source": [
    "Die allgemeine Parameterform einer Ebene im dreidimensionalen Raum lautet:\n",
    "\n",
    "r=P+s⋅U+t⋅Vr=P+s⋅U+t⋅V\n",
    "\n",
    "Hierbei sind:\n",
    "\n",
    "    r der Punkt auf der Ebene.\n",
    "    P ein Punkt auf der Ebene (ein sogenannter Stützpunkt).\n",
    "    U und VV zwei linear unabhängige Richtungsvektoren, die in der Ebene liegen.\n",
    "    s und tt sind Parameter, die alle reellen Zahlen annehmen können.\n",
    "\n",
    "Diese Form ermöglicht es, jeden Punkt rr in der Ebene durch verschiedene Kombinationen von ss und tt zu repräsentieren. Ändert man die Werte von ss und tt, so durchläuft man verschiedene Punkte auf der Ebene.\n",
    "\n",
    "Die Normalenform einer Ebene lautet:\n",
    "\n",
    "N⋅(r−P)=0N⋅(r−P)=0\n",
    "\n",
    "Hierbei sind:\n",
    "\n",
    "    NN der Normalenvektor der Ebene.\n",
    "    PP ein Punkt auf der Ebene.\n",
    "    ⋅⋅ das Skalarprodukt.\n",
    "\n",
    "Diese Form ermöglicht es, zu überprüfen, ob ein bestimmter Punkt rr auf der Ebene liegt, indem man den Normalenvektor NN mit dem Vektor r−Pr−P skalarweise multipliziert und prüft, ob das Ergebnis gleich null ist."
   ],
   "metadata": {
    "collapsed": false
   }
  },
  {
   "cell_type": "code",
   "execution_count": 37,
   "outputs": [
    {
     "name": "stdout",
     "output_type": "stream",
     "text": [
      "Liegt T in der Ebene? (Parameterform): False\n",
      "Liegt T in der Ebene? (Normalenform): True\n",
      "liegt in der Normalform dummy x: True\n"
     ]
    }
   ],
   "source": [
    "import numpy as np\n",
    "\n",
    "# Funktion zur Überprüfung, ob ein Punkt in der Ebene liegt (Parameterform)\n",
    "def liegt_in_ebene_parametrisch(P, U, V, T):\n",
    "    # Versuche, s und t zu berechnen\n",
    "    try:\n",
    "        s, t = np.linalg.solve(np.array([U, V]).T, T - P)\n",
    "        return True\n",
    "    except np.linalg.LinAlgError:\n",
    "        return False\n",
    "\n",
    "# Funktion zur Überprüfung, ob ein Punkt in der Ebene liegt (Normalenform)\n",
    "def liegt_in_ebene_normalenform(P, N, T):\n",
    "    # Überprüfe, ob der Punkt in der Ebene liegt\n",
    "    return np.isclose(np.dot(N, T - P), 0)\n",
    "\n",
    "'''\n",
    "E: x = [0,0,boundary_bottom\n",
    "\n",
    "'''\n",
    "# Beispieldaten\n"
   ],
   "metadata": {
    "collapsed": false,
    "ExecuteTime": {
     "end_time": "2024-03-01T10:16:59.100817700Z",
     "start_time": "2024-03-01T10:16:59.080385700Z"
    }
   }
  },
  {
   "cell_type": "code",
   "execution_count": null,
   "outputs": [],
   "source": [],
   "metadata": {
    "collapsed": false
   }
  }
 ],
 "metadata": {
  "kernelspec": {
   "display_name": "Python 3",
   "language": "python",
   "name": "python3"
  },
  "language_info": {
   "codemirror_mode": {
    "name": "ipython",
    "version": 2
   },
   "file_extension": ".py",
   "mimetype": "text/x-python",
   "name": "python",
   "nbconvert_exporter": "python",
   "pygments_lexer": "ipython2",
   "version": "2.7.6"
  }
 },
 "nbformat": 4,
 "nbformat_minor": 0
}
