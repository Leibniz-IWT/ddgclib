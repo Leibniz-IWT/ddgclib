{
 "cells": [
  {
   "cell_type": "code",
   "execution_count": null,
   "metadata": {
    "collapsed": true
   },
   "outputs": [],
   "source": []
  },
  {
   "cell_type": "code",
   "execution_count": null,
   "outputs": [],
   "source": [],
   "metadata": {
    "collapsed": false
   }
  },
  {
   "cell_type": "code",
   "execution_count": null,
   "outputs": [],
   "source": [],
   "metadata": {
    "collapsed": false
   }
  },
  {
   "cell_type": "code",
   "execution_count": 1,
   "outputs": [],
   "source": [
    "from ddgclib._particle_liquid_bridge_20240303 import *\n",
    "\n",
    "if 0:\n",
    "   # load_filename = 'dl'+str(r_l*2)+'_du'+str(r_u*2)+'_l'+str(length)+'_ref'+str(refinement)+'_contactangle'+str(theta_p)+'_tau'+str(tau)+'_itermax'+str(1000)+'.json'\n",
    "    load_filename = 'd_5.2mm_l1.5mm_ref3_contactangle90.0_tau1_itermax100000.0.json'\n",
    "    HC_load = Complex(3)\n",
    "    HC_load.load_complex(load_filename)\n",
    "    plot_polyscope(HC_load)"
   ],
   "metadata": {
    "collapsed": false,
    "ExecuteTime": {
     "end_time": "2024-04-30T19:04:53.927969200Z",
     "start_time": "2024-04-30T19:04:53.386602800Z"
    }
   }
  },
  {
   "cell_type": "markdown",
   "source": [
    "## Vergleich Kontaktwinkel"
   ],
   "metadata": {
    "collapsed": false
   }
  },
  {
   "cell_type": "code",
   "execution_count": 2,
   "outputs": [
    {
     "name": "stdout",
     "output_type": "stream",
     "text": [
      "itertion angle 20 = 100001\n",
      "itertion angle 30 = 100001\n",
      "itertion angle 40 = 100001\n",
      "itertion angle 50 = 100001\n",
      "itertion angle 60 = 100001\n",
      "itertion angle 70 = 100001\n",
      "itertion angle 80 = 100001\n",
      "itertion angle 90 = 100001\n",
      "itertion angle 100 = 100001\n"
     ]
    }
   ],
   "source": [
    "z_coordinate_angle_20        = np.loadtxt('contact_angle20.0_d5.2mm_l1.5mm_iteration100000.0_refinement3_zrefinement4.txt')\n",
    "y_coordinate_angle_20        = np.loadtxt('contact_angle20.0_d5.2mm_l1.5mm_iteration100000.0_refinement3_yrefinement4.txt')\n",
    "df_list_max_angle_20         = np.loadtxt('contact_angle20.0_d5.2mm_l1.5mm_iteration100000.0_refinement3dfmaxrefinement4.txt')\n",
    "contact_angle_list_top_20    = np.loadtxt('contact_angle20.0_d5.2mm_l1.5mm_iteration100000.0_refinement3dfmaxcontact_angle_list_top.txt')\n",
    "iteration_angle_20 = np.arange(0,len(df_list_max_angle_20),1)\n",
    "print(f'itertion angle 20 = {len(iteration_angle_20)}')\n",
    "\n",
    "z_coordinate_angle_30 = np.loadtxt('contact_angle30.0_d5.2mm_l1.5mm_iteration100000.0_refinement3_zrefinement4.txt')\n",
    "y_coordinate_angle_30 = np.loadtxt('contact_angle30.0_d5.2mm_l1.5mm_iteration100000.0_refinement3_yrefinement4.txt')\n",
    "df_list_max_angle_30  = np.loadtxt('contact_angle30.0_d5.2mm_l1.5mm_iteration100000.0_refinement3dfmaxrefinement4.txt')\n",
    "contact_angle_list_top_30    = np.loadtxt('contact_angle30.0_d5.2mm_l1.5mm_iteration100000.0_refinement3dfmaxcontact_angle_list_top.txt')\n",
    "iteration_angle_30 = np.arange(0,len(df_list_max_angle_30),1)\n",
    "print(f'itertion angle 30 = {len(iteration_angle_30)}')\n",
    "\n",
    "z_coordinate_angle_40 = np.loadtxt('contact_angle40.0_d5.2mm_l1.5mm_iteration100000.0_refinement3_zrefinement4.txt')\n",
    "y_coordinate_angle_40 = np.loadtxt('contact_angle40.0_d5.2mm_l1.5mm_iteration100000.0_refinement3_yrefinement4.txt')\n",
    "df_list_max_angle_40  = np.loadtxt('contact_angle40.0_d5.2mm_l1.5mm_iteration100000.0_refinement3dfmaxrefinement4.txt')\n",
    "contact_angle_list_top_40    = np.loadtxt('contact_angle40.0_d5.2mm_l1.5mm_iteration100000.0_refinement3dfmaxcontact_angle_list_top.txt')\n",
    "iteration_angle_40 = np.arange(0,len(df_list_max_angle_40),1)\n",
    "print(f'itertion angle 40 = {len(iteration_angle_40)}')\n",
    "\n",
    "z_coordinate_angle_50 = np.loadtxt('contact_angle50.0_d5.2mm_l1.5mm_iteration100000.0_refinement3_zrefinement4.txt')\n",
    "y_coordinate_angle_50 = np.loadtxt('contact_angle50.0_d5.2mm_l1.5mm_iteration100000.0_refinement3_yrefinement4.txt')\n",
    "df_list_max_angle_50  = np.loadtxt('contact_angle50.0_d5.2mm_l1.5mm_iteration100000.0_refinement3dfmaxrefinement4.txt')\n",
    "contact_angle_list_top_50    = np.loadtxt('contact_angle50.0_d5.2mm_l1.5mm_iteration100000.0_refinement3dfmaxcontact_angle_list_top.txt')\n",
    "iteration_angle_50 = np.arange(0,len(df_list_max_angle_50),1)\n",
    "print(f'itertion angle 50 = {len(iteration_angle_50)}')\n",
    "\n",
    "z_coordinate_angle_60 = np.loadtxt('contact_angle60.0_d5.2mm_l1.5mm_iteration100000.0_refinement3_zrefinement4.txt')\n",
    "y_coordinate_angle_60 = np.loadtxt('contact_angle60.0_d5.2mm_l1.5mm_iteration100000.0_refinement3_yrefinement4.txt')\n",
    "df_list_max_angle_60  = np.loadtxt('contact_angle60.0_d5.2mm_l1.5mm_iteration100000.0_refinement3dfmaxrefinement4.txt')\n",
    "contact_angle_list_top_60    = np.loadtxt('contact_angle60.0_d5.2mm_l1.5mm_iteration100000.0_refinement3dfmaxcontact_angle_list_top.txt')\n",
    "iteration_angle_60 = np.arange(0,len(df_list_max_angle_60),1)\n",
    "print(f'itertion angle 60 = {len(iteration_angle_60)}')\n",
    "\n",
    "z_coordinate_angle_70 = np.loadtxt('contact_angle70.0_d5.2mm_l1.5mm_iteration100000.0_refinement3_zrefinement4.txt')\n",
    "y_coordinate_angle_70 = np.loadtxt('contact_angle70.0_d5.2mm_l1.5mm_iteration100000.0_refinement3_yrefinement4.txt')\n",
    "df_list_max_angle_70  = np.loadtxt('contact_angle70.0_d5.2mm_l1.5mm_iteration100000.0_refinement3dfmaxrefinement4.txt')\n",
    "contact_angle_list_top_70    = np.loadtxt('contact_angle70.0_d5.2mm_l1.5mm_iteration100000.0_refinement3dfmaxcontact_angle_list_top.txt')\n",
    "iteration_angle_70 = np.arange(0,len(df_list_max_angle_70),1)\n",
    "print(f'itertion angle 70 = {len(iteration_angle_70)}')\n",
    "\n",
    "z_coordinate_angle_80 = np.loadtxt('contact_angle80.0_d5.2mm_l1.5mm_iteration100000.0_refinement3_zrefinement4.txt')\n",
    "y_coordinate_angle_80 = np.loadtxt('contact_angle80.0_d5.2mm_l1.5mm_iteration100000.0_refinement3_yrefinement4.txt')\n",
    "df_list_max_angle_80  = np.loadtxt('contact_angle80.0_d5.2mm_l1.5mm_iteration100000.0_refinement3dfmaxrefinement4.txt')\n",
    "contact_angle_list_top_80    = np.loadtxt('contact_angle80.0_d5.2mm_l1.5mm_iteration100000.0_refinement3dfmaxcontact_angle_list_top.txt')\n",
    "iteration_angle_80 = np.arange(0,len(df_list_max_angle_80),1)\n",
    "print(f'itertion angle 80 = {len(iteration_angle_80)}')\n",
    "\n",
    "z_coordinate_angle_90 = np.loadtxt('contact_angle90.0_d5.2mm_l1.5mm_iteration100000.0_refinement3_zrefinement4.txt')\n",
    "y_coordinate_angle_90 = np.loadtxt('contact_angle90.0_d5.2mm_l1.5mm_iteration100000.0_refinement3_yrefinement4.txt')\n",
    "df_list_max_angle_90  = np.loadtxt('contact_angle90.0_d5.2mm_l1.5mm_iteration100000.0_refinement3dfmaxrefinement4.txt')\n",
    "contact_angle_list_top_90    = np.loadtxt('contact_angle90.0_d5.2mm_l1.5mm_iteration100000.0_refinement3dfmaxcontact_angle_list_top.txt')\n",
    "iteration_angle_90 = np.arange(0,len(df_list_max_angle_90),1)\n",
    "print(f'itertion angle 90 = {len(iteration_angle_90)}')\n",
    "\n",
    "z_coordinate_angle_100 = np.loadtxt('contact_angle100.0_d5.2mm_l1.5mm_iteration100000.0_refinement3_zrefinement4.txt')\n",
    "y_coordinate_angle_100 = np.loadtxt('contact_angle100.0_d5.2mm_l1.5mm_iteration100000.0_refinement3_yrefinement4.txt')\n",
    "df_list_max_angle_100  = np.loadtxt('contact_angle100.0_d5.2mm_l1.5mm_iteration100000.0_refinement3dfmaxrefinement4.txt')\n",
    "contact_angle_list_top_100    = np.loadtxt('contact_angle100.0_d5.2mm_l1.5mm_iteration100000.0_refinement3dfmaxcontact_angle_list_top.txt')\n",
    "iteration_angle_100 = np.arange(0,len(df_list_max_angle_100),1)\n",
    "print(f'itertion angle 100 = {len(iteration_angle_100)}')"
   ],
   "metadata": {
    "collapsed": false,
    "ExecuteTime": {
     "end_time": "2024-04-30T19:04:56.796214700Z",
     "start_time": "2024-04-30T19:04:53.932438900Z"
    }
   }
  },
  {
   "cell_type": "markdown",
   "source": [
    "## Laden der Refinementuntersuchung ohne Kontaktwinkel"
   ],
   "metadata": {
    "collapsed": false
   }
  },
  {
   "cell_type": "code",
   "execution_count": 3,
   "outputs": [
    {
     "name": "stdout",
     "output_type": "stream",
     "text": [
      "itertion angle 0 ref 4 = 55136\n",
      "itertion angle 0 ref 3 = 60968\n"
     ]
    }
   ],
   "source": [
    "z_coordinate_angle_0_ref4 = np.loadtxt('contact_angle0.0_d5.2mm_l1.5mm_iteration100000.0_refinement4_zrefinement4.txt')\n",
    "y_coordinate_angle_0_ref4 = np.loadtxt('contact_angle0.0_d5.2mm_l1.5mm_iteration100000.0_refinement4_yrefinement4.txt')\n",
    "df_list_max_angle_0_ref4  = np.loadtxt('contact_angle0.0_d5.2mm_l1.5mm_iteration100000.0_refinement4dfmaxrefinement4.txt')\n",
    "contact_angle_list_top_0_ref4    = np.loadtxt('contact_angle0.0_d5.2mm_l1.5mm_iteration100000.0_refinement4dfmaxcontact_angle_list_top.txt')\n",
    "iteration_angle_0_ref4 = np.arange(0,len(df_list_max_angle_0_ref4),1)\n",
    "print(f'itertion angle 0 ref 4 = {len(iteration_angle_0_ref4)}')\n",
    "\n",
    "\n",
    "z_coordinate_angle_0_ref3 = np.loadtxt('contact_angle0.0_d5.2mm_l1.5mm_iteration100000.0_refinement3_zrefinement4.txt')\n",
    "y_coordinate_angle_0_ref3 = np.loadtxt('contact_angle0.0_d5.2mm_l1.5mm_iteration100000.0_refinement3_yrefinement4.txt')\n",
    "df_list_max_angle_0_ref3  = np.loadtxt('contact_angle0.0_d5.2mm_l1.5mm_iteration100000.0_refinement3dfmaxrefinement4.txt')\n",
    "contact_angle_list_top_0_ref3    = np.loadtxt('contact_angle0.0_d5.2mm_l1.5mm_iteration100000.0_refinement3dfmaxcontact_angle_list_top.txt')\n",
    "iteration_angle_0_ref3 = np.arange(0,len(df_list_max_angle_0_ref3),1)\n",
    "print(f'itertion angle 0 ref 3 = {len(iteration_angle_0_ref3)}')"
   ],
   "metadata": {
    "collapsed": false,
    "ExecuteTime": {
     "end_time": "2024-04-30T19:04:57.180635300Z",
     "start_time": "2024-04-30T19:04:56.793235400Z"
    }
   }
  },
  {
   "cell_type": "code",
   "execution_count": 9,
   "outputs": [
    {
     "data": {
      "text/plain": "<Figure size 360x216 with 2 Axes>",
      "image/png": "[encoded data removed]"
     },
     "metadata": {
      "needs_background": "light"
     },
     "output_type": "display_data"
    }
   ],
   "source": [
    "plt.rcParams[\"font.family\"] = \"sans-serif\"\n",
    "plt.rcParams[\"font.sans-serif\"] = \"Arial\"\n",
    "plt.rcParams[\"mathtext.fontset\"] = \"custom\"\n",
    "plt.rcParams[\"mathtext.it\"] = \"Arial:italic\"\n",
    "plt.rcParams[\"mathtext.rm\"] = \"Arial\"\n",
    "plt.rcParams[\"mathtext.default\"] = \"it\"\n",
    "plt.rcParams['axes.labelsize'] = 12\n",
    "plt.rcParams['axes.titlesize'] = 12\n",
    "plt.rcParams['xtick.labelsize'] = 12\n",
    "plt.rcParams['ytick.labelsize'] = 12\n",
    "plt.rcParams['legend.fontsize'] = 10\n",
    "\n",
    "color_list = ['blue', 'green', 'red', 'cyan', 'magenta', 'black',\n",
    "    'gray','limegreen', 'pink','grey', 'lightblue', 'lightgreen', 'lightred', 'lightcyan',\n",
    "    'lightmagenta', 'lightyellow', 'darkblue', 'darkgreen', 'darkred',\n",
    "    'darkcyan', 'darkmagenta', 'darkyellow', 'orange', 'purple', 'brown',\n",
    "    'pink', 'olive', 'peach', 'limegreen', 'turquoise', 'indigo']\n",
    "size_line = 0.5\n",
    "\n",
    "\n",
    "fig, ax = plot.subplots(nrows=1, ncols=2, figsize=(5, 3))\n",
    "\n",
    "\n",
    "#ax[0].plot(iteration_11, contact_angle_11, color = color_list[0], linewidth = size_line, label = '11')\n",
    "#df_list_max_angle_20\n",
    "if 1:\n",
    "   # ax[0].plot(iteration_angle_20,contact_angle_list_top_20, color = color_list[0], linewidth = size_line)\n",
    "    ax[0].plot(iteration_angle_30,contact_angle_list_top_30, color = 'orange', linewidth = size_line)\n",
    "   # ax[0].plot(iteration_angle_40,contact_angle_list_top_40, color = color_list[2], linewidth = size_line)\n",
    "    ax[0].plot(iteration_angle_50,contact_angle_list_top_50, color = color_list[1], linewidth = size_line)\n",
    "   # ax[0].plot(iteration_angle_60,contact_angle_list_top_60, color = color_list[4], linewidth = size_line)\n",
    "    ax[0].plot(iteration_angle_70,contact_angle_list_top_70, color = color_list[2], linewidth = size_line)\n",
    "   # ax[0].plot(iteration_angle_80,contact_angle_list_top_80, color = color_list[6], linewidth = size_line)\n",
    "    ax[0].plot(iteration_angle_90,contact_angle_list_top_90, color = color_list[3], linewidth = size_line)\n",
    "  #  ax[0].plot(iteration_angle_100,contact_angle_list_top_100, color = color_list[8], linewidth = size_line)\n",
    "\n",
    "if 0:\n",
    "  #  ax[0].plot(iteration_angle_20,contact_angle_list_top_20, color = color_list[0], linewidth = size_line)\n",
    "  #  ax[0].plot(iteration_angle_30,contact_angle_list_top_30, color = 'orange', linewidth = size_line)\n",
    "    ax[0].plot(iteration_angle_40,contact_angle_list_top_40, color = 'orange', linewidth = size_line)\n",
    "  #  ax[0].plot(iteration_angle_50,contact_angle_list_top_50, color = color_list[1], linewidth = size_line)\n",
    "    ax[0].plot(iteration_angle_60,contact_angle_list_top_60, color = color_list[1], linewidth = size_line)\n",
    "  #  ax[0].plot(iteration_angle_70,contact_angle_list_top_70, color = color_list[2], linewidth = size_line)\n",
    "    ax[0].plot(iteration_angle_80,contact_angle_list_top_80, color = color_list[2], linewidth = size_line)\n",
    "  #  ax[0].plot(iteration_angle_90,contact_angle_list_top_90, color = color_list[3], linewidth = size_line)\n",
    "    ax[0].plot(iteration_angle_100,contact_angle_list_top_100, color = color_list[3], linewidth = size_line)\n",
    "\n",
    "if 1:\n",
    "   # ax[1].plot(iteration_angle_20,df_list_max_angle_20, color = color_list[0], linewidth = size_line)\n",
    "    ax[1].plot(iteration_angle_30,df_list_max_angle_30, color = 'orange', linewidth = size_line, label = '$ \\Theta_\\mathregular{c}$=30°')\n",
    "   # ax[1].plot(iteration_angle_40,df_list_max_angle_40, color = color_list[2], linewidth = size_line)\n",
    "    ax[1].plot(iteration_angle_50,df_list_max_angle_50, color = color_list[1], linewidth = size_line, label = '$ \\Theta_\\mathregular{c}$=50°')\n",
    "   # ax[1].plot(iteration_angle_60,df_list_max_angle_60, color = color_list[4], linewidth = size_line)\n",
    "    ax[1].plot(iteration_angle_70,df_list_max_angle_70, color = color_list[2], linewidth = size_line, label = '$ \\Theta_\\mathregular{c}$=70°')\n",
    "   # ax[1].plot(iteration_angle_80,df_list_max_angle_80, color = color_list[6], linewidth = size_line)\n",
    "    ax[1].plot(iteration_angle_90,df_list_max_angle_90, color = color_list[3], linewidth = size_line, label = '$ \\Theta_\\mathregular{c}$=90°')\n",
    "   # ax[1].plot(iteration_angle_100,df_list_max_angle_100, color = color_list[8], linewidth = size_line)\n",
    "if 0:\n",
    "   # ax[1].plot(iteration_angle_20,df_list_max_angle_20, color = color_list[0], linewidth = size_line)\n",
    "   # ax[1].plot(iteration_angle_30,df_list_max_angle_30, color = 'orange', linewidth = size_line, label = '$ \\Theta_\\mathregular{c}$=30°')\n",
    "    ax[1].plot(iteration_angle_40,df_list_max_angle_40, color = 'orange', linewidth = size_line, label = '$ \\Theta_\\mathregular{c}$=40°')\n",
    "   # ax[1].plot(iteration_angle_50,df_list_max_angle_50, color = color_list[1], linewidth = size_line, label = '$ \\Theta_\\mathregular{c}$=50°')\n",
    "    ax[1].plot(iteration_angle_60,df_list_max_angle_60, color = color_list[1], linewidth = size_line, label = '$ \\Theta_\\mathregular{c}$=60°')\n",
    "   # ax[1].plot(iteration_angle_70,df_list_max_angle_70, color = color_list[2], linewidth = size_line, label = '$ \\Theta_\\mathregular{c}$=70°')\n",
    "    ax[1].plot(iteration_angle_80,df_list_max_angle_80, color = color_list[2], linewidth = size_line, label = '$ \\Theta_\\mathregular{c}$=80°')\n",
    "   # ax[1].plot(iteration_angle_90,df_list_max_angle_90, color = color_list[3], linewidth = size_line, label = '$ \\Theta_\\mathregular{c}$=90°')\n",
    "    ax[1].plot(iteration_angle_100,df_list_max_angle_100, color = color_list[3], linewidth = size_line, label = '$ \\Theta_\\mathregular{c}$=100°')\n",
    "\n",
    "ax[0].set_title('(a)')\n",
    "ax[1].set_title('(b)')\n",
    "\n",
    "ax[0].set_xlabel(\"iteration / -\")\n",
    "ax[0].set_ylabel(\"$\\Theta_\\mathregular{c}$ / mm\")\n",
    "\n",
    "ax[1].set_xlabel(\"iteration / -\")\n",
    "ax[1].set_ylabel('$\\Delta f_\\mathregular{max}$  / m ')\n",
    "\n",
    "ax[1].set_yscale('log')\n",
    "ax[0].set_ylim(0,100)\n",
    "\n",
    "ax[0].set_xlim(0,99999)\n",
    "ax[1].set_xlim(0,99999)\n",
    "\n",
    "lines, labels = fig.axes[-1].get_legend_handles_labels() #labels von dem letzten ax Objekt\n",
    "plt.figlegend(lines, labels, loc='lower center', bbox_to_anchor=(0.55, 0), bbox_transform=plt.gcf().transFigure, ncol=4)\n",
    "fig.tight_layout(rect=(0,0.1,1,1)) #Platz für Legende lassen\n",
    "\n",
    "fig.savefig('Verlauf_contact_angle_stable.png', dpi = 400)"
   ],
   "metadata": {
    "collapsed": false,
    "ExecuteTime": {
     "end_time": "2024-04-30T19:50:49.865566300Z",
     "start_time": "2024-04-30T19:50:49.149871Z"
    }
   }
  },
  {
   "cell_type": "code",
   "execution_count": 5,
   "outputs": [
    {
     "data": {
      "text/plain": "<Figure size 360x216 with 2 Axes>",
      "image/png": "[encoded data removed]"
     },
     "metadata": {
      "needs_background": "light"
     },
     "output_type": "display_data"
    }
   ],
   "source": [
    "\n",
    "fig2, ax2 = plot.subplots(nrows=1, ncols=2, figsize=(5, 3))\n",
    "\n",
    "if 1:\n",
    "    ax2[0].plot(z_coordinate_angle_0_ref4*1e3,y_coordinate_angle_0_ref4*1e3, color = color_list[0], linewidth = size_line)\n",
    "    ax2[0].plot(z_coordinate_angle_0_ref3*1e3,y_coordinate_angle_0_ref3*1e3, color = color_list[1], linewidth = size_line)\n",
    "\n",
    "    ax2[1].plot(iteration_angle_0_ref4, df_list_max_angle_0_ref4, color = color_list[0], linewidth = size_line)\n",
    "    ax2[1].plot(iteration_angle_0_ref3, df_list_max_angle_0_ref3, color = color_list[1], linewidth = size_line)\n",
    "\n",
    "ax2[1].set_yscale('log')\n",
    "ax2[1].set_xlabel(\"iteration / -\")\n",
    "ax2[1].set_ylabel('$\\Delta f_\\mathregular{max}$  / m ')\n",
    "\n",
    "fig2.tight_layout() #Platz für Legende lassen\n",
    "fig2.savefig('dummy2.png', dpi = 400)"
   ],
   "metadata": {
    "collapsed": false,
    "ExecuteTime": {
     "end_time": "2024-04-30T19:04:58.253849300Z",
     "start_time": "2024-04-30T19:04:57.932506400Z"
    }
   }
  },
  {
   "cell_type": "code",
   "execution_count": 9,
   "outputs": [
    {
     "data": {
      "text/plain": "array([6.06530357e-07, 5.98408392e-07, 5.90327151e-07, ...,\n       1.00007940e-09, 1.00001921e-09, 9.99959018e-10])"
     },
     "execution_count": 9,
     "metadata": {},
     "output_type": "execute_result"
    }
   ],
   "source": [
    "df_list_max_angle_0_ref4"
   ],
   "metadata": {
    "collapsed": false,
    "ExecuteTime": {
     "end_time": "2024-04-22T12:34:45.865100800Z",
     "start_time": "2024-04-22T12:34:45.847221Z"
    }
   }
  },
  {
   "cell_type": "code",
   "execution_count": null,
   "outputs": [],
   "source": [],
   "metadata": {
    "collapsed": false
   }
  }
 ],
 "metadata": {
  "kernelspec": {
   "display_name": "Python 3",
   "language": "python",
   "name": "python3"
  },
  "language_info": {
   "codemirror_mode": {
    "name": "ipython",
    "version": 2
   },
   "file_extension": ".py",
   "mimetype": "text/x-python",
   "name": "python",
   "nbconvert_exporter": "python",
   "pygments_lexer": "ipython2",
   "version": "2.7.6"
  }
 },
 "nbformat": 4,
 "nbformat_minor": 0
}
