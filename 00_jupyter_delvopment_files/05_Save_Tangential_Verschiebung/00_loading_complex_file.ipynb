{
 "cells": [
  {
   "cell_type": "code",
   "execution_count": null,
   "metadata": {
    "collapsed": true,
    "ExecuteTime": {
     "end_time": "2024-05-01T07:43:04.525996100Z",
     "start_time": "2024-05-01T07:43:04.504142700Z"
    }
   },
   "outputs": [],
   "source": []
  },
  {
   "cell_type": "code",
   "execution_count": null,
   "outputs": [],
   "source": [
    "\n"
   ],
   "metadata": {
    "collapsed": false,
    "ExecuteTime": {
     "end_time": "2024-05-01T07:43:04.536922600Z",
     "start_time": "2024-05-01T07:43:04.510599200Z"
    }
   }
  },
  {
   "cell_type": "code",
   "execution_count": null,
   "outputs": [],
   "source": [],
   "metadata": {
    "collapsed": false,
    "ExecuteTime": {
     "end_time": "2024-05-01T07:43:04.548842500Z",
     "start_time": "2024-05-01T07:43:04.524505800Z"
    }
   }
  },
  {
   "cell_type": "code",
   "execution_count": 1,
   "outputs": [],
   "source": [
    "from ddgclib._particle_liquid_bridge_20240303 import *\n",
    "\n",
    "if 1:\n",
    "   # load_filename = 'dl'+str(r_l*2)+'_du'+str(r_u*2)+'_l'+str(length)+'_ref'+str(refinement)+'_contactangle'+str(theta_p)+'_tau'+str(tau)+'_itermax'+str(1000)+'.json'\n",
    "   # load_filename = 'liam_1_rl3.37mm_ru3.37mm_l151mm_ref3_contactangle0.40142572795869574_tau1_itermax40000.0.json'\n",
    "    load_filename = 'rl2.6mm_ru2.6mm_l2mm_ref3_contactangle0.3490658503988659_tau1_itermax70000.0.json' # 10\n",
    "  #  load_filename = 'rl2.6mm_ru2.6mm_l2mm_ref3_contactangle0.6981317007977318_tau1_itermax70000.0.json' # 30\n",
    "   # load_filename = 'rl2.6mm_ru2.6mm_l2mm_ref3_contactangle1.0471975511965976_tau1_itermax70000.0.json' # 50\n",
    "   # load_filename = 'rl2.6mm_ru2.6mm_l2mm_ref3_contactangle1.3962634015954636_tau1_itermax70000.0.json' # 70\n",
    "   # load_filename = 'rl2.6mm_ru2.6mm_l2mm_ref3_contactangle1.7453292519943295_tau1_itermax70000.0.json' # 90\n",
    "    load_filename = 'shift1_rl2.6mm_ru2.6mm_l2mm_ref3_contactangle0.3490658503988659_tau1_itermax70000.0.json'\n",
    "    HC_load = Complex(3)\n",
    "    HC_load.load_complex(load_filename)\n",
    "    #plot_polyscope(HC_load)\n",
    "\n",
    "# rl2.6mm_ru2.6mm_l2mm_ref3_contactangle0.3490658503988659_tau1_itermax70000.0 # 10\n",
    "# rl2.6mm_ru2.6mm_l2mm_ref3_contactangle0.6981317007977318_tau1_itermax70000.0 # 30\n",
    "# rl2.6mm_ru2.6mm_l2mm_ref3_contactangle1.0471975511965976_tau1_itermax70000.0 # 50\n",
    "# rl2.6mm_ru2.6mm_l2mm_ref3_contactangle1.3962634015954636_tau1_itermax70000.0 # 70\n",
    "# rl2.6mm_ru2.6mm_l2mm_ref3_contactangle1.7453292519943295_tau1_itermax70000.0 # 90"
   ],
   "metadata": {
    "collapsed": false,
    "ExecuteTime": {
     "end_time": "2024-05-30T12:08:21.326218600Z",
     "start_time": "2024-05-30T12:08:20.503675900Z"
    }
   }
  },
  {
   "cell_type": "code",
   "execution_count": 1,
   "outputs": [],
   "source": [],
   "metadata": {
    "collapsed": false,
    "ExecuteTime": {
     "end_time": "2024-05-30T12:08:21.340650Z",
     "start_time": "2024-05-30T12:08:21.326715400Z"
    }
   }
  },
  {
   "cell_type": "code",
   "execution_count": 2,
   "outputs": [
    {
     "name": "stdout",
     "output_type": "stream",
     "text": [
      "np.zeros([self.V.size(), self.dim]) = [[0. 0.]\n",
      " [0. 0.]\n",
      " [0. 0.]\n",
      " [0. 0.]\n",
      " [0. 0.]\n",
      " [0. 0.]\n",
      " [0. 0.]\n",
      " [0. 0.]\n",
      " [0. 0.]\n",
      " [0. 0.]\n",
      " [0. 0.]\n",
      " [0. 0.]\n",
      " [0. 0.]\n",
      " [0. 0.]\n",
      " [0. 0.]\n",
      " [0. 0.]\n",
      " [0. 0.]\n",
      " [0. 0.]\n",
      " [0. 0.]\n",
      " [0. 0.]\n",
      " [0. 0.]\n",
      " [0. 0.]\n",
      " [0. 0.]\n",
      " [0. 0.]\n",
      " [0. 0.]\n",
      " [0. 0.]\n",
      " [0. 0.]\n",
      " [0. 0.]\n",
      " [0. 0.]\n",
      " [0. 0.]\n",
      " [0. 0.]\n",
      " [0. 0.]\n",
      " [0. 0.]\n",
      " [0. 0.]\n",
      " [0. 0.]\n",
      " [0. 0.]\n",
      " [0. 0.]\n",
      " [0. 0.]\n",
      " [0. 0.]\n",
      " [0. 0.]\n",
      " [0. 0.]\n",
      " [0. 0.]\n",
      " [0. 0.]\n",
      " [0. 0.]\n",
      " [0. 0.]\n",
      " [0. 0.]\n",
      " [0. 0.]\n",
      " [0. 0.]\n",
      " [0. 0.]\n",
      " [0. 0.]\n",
      " [0. 0.]\n",
      " [0. 0.]\n",
      " [0. 0.]\n",
      " [0. 0.]\n",
      " [0. 0.]\n",
      " [0. 0.]\n",
      " [0. 0.]\n",
      " [0. 0.]\n",
      " [0. 0.]\n",
      " [0. 0.]\n",
      " [0. 0.]\n",
      " [0. 0.]\n",
      " [0. 0.]\n",
      " [0. 0.]\n",
      " [0. 0.]\n",
      " [0. 0.]\n",
      " [0. 0.]\n",
      " [0. 0.]\n",
      " [0. 0.]\n",
      " [0. 0.]\n",
      " [0. 0.]\n",
      " [0. 0.]\n",
      " [0. 0.]\n",
      " [0. 0.]\n",
      " [0. 0.]\n",
      " [0. 0.]\n",
      " [0. 0.]\n",
      " [0. 0.]\n",
      " [0. 0.]\n",
      " [0. 0.]\n",
      " [0. 0.]\n",
      " [0. 0.]\n",
      " [0. 0.]\n",
      " [0. 0.]\n",
      " [0. 0.]\n",
      " [0. 0.]\n",
      " [0. 0.]\n",
      " [0. 0.]\n",
      " [0. 0.]\n",
      " [0. 0.]\n",
      " [0. 0.]\n",
      " [0. 0.]\n",
      " [0. 0.]\n",
      " [0. 0.]\n",
      " [0. 0.]\n",
      " [0. 0.]\n",
      " [0. 0.]\n",
      " [0. 0.]\n",
      " [0. 0.]\n",
      " [0. 0.]\n",
      " [0. 0.]\n",
      " [0. 0.]\n",
      " [0. 0.]\n",
      " [0. 0.]\n",
      " [0. 0.]\n",
      " [0. 0.]\n",
      " [0. 0.]\n",
      " [0. 0.]\n",
      " [0. 0.]\n",
      " [0. 0.]\n",
      " [0. 0.]\n",
      " [0. 0.]\n",
      " [0. 0.]\n",
      " [0. 0.]\n",
      " [0. 0.]\n",
      " [0. 0.]\n",
      " [0. 0.]\n",
      " [0. 0.]\n",
      " [0. 0.]\n",
      " [0. 0.]\n",
      " [0. 0.]\n",
      " [0. 0.]\n",
      " [0. 0.]\n",
      " [0. 0.]\n",
      " [0. 0.]\n",
      " [0. 0.]\n",
      " [0. 0.]\n",
      " [0. 0.]\n",
      " [0. 0.]\n",
      " [0. 0.]\n",
      " [0. 0.]\n",
      " [0. 0.]\n",
      " [0. 0.]\n",
      " [0. 0.]\n",
      " [0. 0.]\n",
      " [0. 0.]]\n",
      "self.V[v].index = 0\n",
      "self.V[v].index = 103\n",
      "self.V[v].index = 104\n",
      "self.V[v].index = 107\n",
      "self.V[v].index = 114\n",
      "self.V[v].index = 120\n",
      "self.V[v].index = 1\n",
      "self.V[v].index = 43\n",
      "self.V[v].index = 66\n",
      "self.V[v].index = 38\n",
      "self.V[v].index = 67\n",
      "self.V[v].index = 39\n",
      "self.V[v].index = 3\n",
      "self.V[v].index = 125\n",
      "self.V[v].index = 121\n",
      "self.V[v].index = 93\n",
      "self.V[v].index = 88\n",
      "self.V[v].index = 89\n",
      "self.V[v].index = 5\n",
      "self.V[v].index = 56\n",
      "self.V[v].index = 80\n",
      "self.V[v].index = 52\n",
      "self.V[v].index = 53\n",
      "self.V[v].index = 78\n",
      "self.V[v].index = 13\n",
      "self.V[v].index = 37\n",
      "self.V[v].index = 40\n",
      "self.V[v].index = 54\n",
      "self.V[v].index = 19\n",
      "self.V[v].index = 69\n",
      "self.V[v].index = 65\n",
      "self.V[v].index = 79\n",
      "self.V[v].index = 24\n",
      "self.V[v].index = 90\n",
      "self.V[v].index = 106\n",
      "self.V[v].index = 95\n",
      "self.V[v].index = 31\n",
      "self.V[v].index = 115\n",
      "self.V[v].index = 124\n",
      "self.V[v].index = 118\n",
      "self.V[v].index = 14\n",
      "self.V[v].index = 16\n",
      "self.V[v].index = 20\n",
      "self.V[v].index = 22\n",
      "self.V[v].index = 27\n",
      "self.V[v].index = 29\n",
      "self.V[v].index = 32\n",
      "self.V[v].index = 33\n",
      "self.V[v].index = 2\n",
      "self.V[v].index = 87\n",
      "self.V[v].index = 58\n",
      "self.V[v].index = 135\n",
      "self.V[v].index = 83\n",
      "self.V[v].index = 109\n",
      "self.V[v].index = 113\n",
      "self.V[v].index = 59\n",
      "self.V[v].index = 63\n",
      "self.V[v].index = 4\n",
      "self.V[v].index = 71\n",
      "self.V[v].index = 129\n",
      "self.V[v].index = 98\n",
      "self.V[v].index = 44\n",
      "self.V[v].index = 100\n",
      "self.V[v].index = 46\n",
      "self.V[v].index = 75\n",
      "self.V[v].index = 50\n",
      "self.V[v].index = 6\n",
      "self.V[v].index = 41\n",
      "self.V[v].index = 36\n",
      "self.V[v].index = 60\n",
      "self.V[v].index = 48\n",
      "self.V[v].index = 45\n",
      "self.V[v].index = 51\n",
      "self.V[v].index = 55\n",
      "self.V[v].index = 7\n",
      "self.V[v].index = 86\n",
      "self.V[v].index = 76\n",
      "self.V[v].index = 72\n",
      "self.V[v].index = 77\n",
      "self.V[v].index = 81\n",
      "self.V[v].index = 70\n",
      "self.V[v].index = 64\n",
      "self.V[v].index = 8\n",
      "self.V[v].index = 91\n",
      "self.V[v].index = 112\n",
      "self.V[v].index = 105\n",
      "self.V[v].index = 101\n",
      "self.V[v].index = 96\n",
      "self.V[v].index = 94\n",
      "self.V[v].index = 97\n",
      "self.V[v].index = 9\n",
      "self.V[v].index = 128\n",
      "self.V[v].index = 117\n",
      "self.V[v].index = 132\n",
      "self.V[v].index = 116\n",
      "self.V[v].index = 122\n",
      "self.V[v].index = 123\n",
      "self.V[v].index = 127\n",
      "self.V[v].index = 10\n",
      "self.V[v].index = 99\n",
      "self.V[v].index = 47\n",
      "self.V[v].index = 61\n",
      "self.V[v].index = 111\n",
      "self.V[v].index = 11\n",
      "self.V[v].index = 57\n",
      "self.V[v].index = 82\n",
      "self.V[v].index = 85\n",
      "self.V[v].index = 62\n",
      "self.V[v].index = 12\n",
      "self.V[v].index = 68\n",
      "self.V[v].index = 42\n",
      "self.V[v].index = 49\n",
      "self.V[v].index = 73\n",
      "self.V[v].index = 15\n",
      "self.V[v].index = 17\n",
      "self.V[v].index = 18\n",
      "self.V[v].index = 74\n",
      "self.V[v].index = 84\n",
      "self.V[v].index = 131\n",
      "self.V[v].index = 134\n",
      "self.V[v].index = 21\n",
      "self.V[v].index = 23\n",
      "self.V[v].index = 25\n",
      "self.V[v].index = 126\n",
      "self.V[v].index = 110\n",
      "self.V[v].index = 133\n",
      "self.V[v].index = 92\n",
      "self.V[v].index = 26\n",
      "self.V[v].index = 102\n",
      "self.V[v].index = 119\n",
      "self.V[v].index = 130\n",
      "self.V[v].index = 108\n",
      "self.V[v].index = 28\n",
      "self.V[v].index = 30\n",
      "self.V[v].index = 34\n",
      "self.V[v].index = 35\n"
     ]
    }
   ],
   "source": [
    "from ddgclib._particle_liquid_bridge_20240422 import *\n",
    "plot_polyscope_plus_normvec(HC_load)"
   ],
   "metadata": {
    "collapsed": false,
    "ExecuteTime": {
     "end_time": "2024-05-30T12:08:24.776949200Z",
     "start_time": "2024-05-30T12:08:21.342636600Z"
    }
   }
  },
  {
   "cell_type": "code",
   "execution_count": 2,
   "outputs": [],
   "source": [],
   "metadata": {
    "collapsed": false,
    "ExecuteTime": {
     "end_time": "2024-05-30T12:08:26.892381400Z",
     "start_time": "2024-05-30T12:08:26.868044900Z"
    }
   }
  },
  {
   "cell_type": "markdown",
   "source": [
    "# Plot des Volumens ohne Nebenbedingung"
   ],
   "metadata": {
    "collapsed": false
   }
  },
  {
   "cell_type": "code",
   "execution_count": 3,
   "outputs": [
    {
     "name": "stdout",
     "output_type": "stream",
     "text": [
      "2.6047226650039548\n"
     ]
    },
    {
     "data": {
      "text/plain": "<Figure size 360x216 with 2 Axes>",
      "image/png": "[encoded data removed]"
     },
     "metadata": {
      "needs_background": "light"
     },
     "output_type": "display_data"
    }
   ],
   "source": [
    "plt.rcParams[\"font.family\"] = \"sans-serif\"\n",
    "plt.rcParams[\"font.sans-serif\"] = \"Arial\"\n",
    "plt.rcParams[\"mathtext.fontset\"] = \"custom\"\n",
    "plt.rcParams[\"mathtext.it\"] = \"Arial:italic\"\n",
    "plt.rcParams[\"mathtext.rm\"] = \"Arial\"\n",
    "plt.rcParams[\"mathtext.default\"] = \"it\"\n",
    "plt.rcParams['axes.labelsize'] = 12\n",
    "plt.rcParams['axes.titlesize'] = 12\n",
    "plt.rcParams['xtick.labelsize'] = 12\n",
    "plt.rcParams['ytick.labelsize'] = 12\n",
    "plt.rcParams['legend.fontsize'] = 12\n",
    "\n",
    "volume_list_load_ref3        = np.loadtxt('volume_list_contact_angle573.0_d5.2mm_l2.0mm_iteration100000.0_refinement3.txt')\n",
    "volume_list_load_ref4        = np.loadtxt('volume_list_contact_angle573.0_d5.2mm_l2.0mm_iteration100000.0_refinement4.txt')\n",
    "\n",
    "iteration_list_ref3     = np.arange(0,len(volume_list_load_ref3),1)\n",
    "iteration_list_ref4     = np.arange(0,len(volume_list_load_ref4),1)\n",
    "\n",
    "contact_angle_list_ref3 = np.loadtxt('contact_angle_list_top_contact_angle573.0_d5.2mm_l2.0mm_iteration100000.0_refinement3.txt')\n",
    "contact_angle_list_ref4 = np.loadtxt('contact_angle_list_top_contact_angle573.0_d5.2mm_l2.0mm_iteration100000.0_refinement4.txt')\n",
    "\n",
    "r_i = 15e-3\n",
    "V_lian = r_i**3 * 0.005\n",
    "\n",
    "color_list = ['blue', 'green', 'red', 'cyan', 'magenta', 'black',\n",
    "    'gray','limegreen', 'pink','grey', 'lightblue', 'lightgreen', 'lightred', 'lightcyan',\n",
    "    'lightmagenta', 'lightyellow', 'darkblue', 'darkgreen', 'darkred',\n",
    "    'darkcyan', 'darkmagenta', 'darkyellow', 'orange', 'purple', 'brown',\n",
    "    'pink', 'olive', 'peach', 'limegreen', 'turquoise', 'indigo']\n",
    "size_line = 1\n",
    "\n",
    "size_line2 = 1\n",
    "markersize = 0\n",
    "marksize=markersize\n",
    "\n",
    "fig4, ax4 = plot.subplots(nrows=1, ncols=2, figsize=(5, 3))\n",
    "\n",
    "\n",
    "#ax[0].plot(iteration_11, contact_angle_11, color = color_list[0], linewidth = size_line, label = '11')\n",
    "#df_list_max_angle_20\n",
    "if 1:\n",
    "   # ax[0].plot(iteration_angle_10,contact_angle_list_top_10, color = color_list[0], linewidth = size_line)\n",
    "    ax4[0].plot(iteration_list_ref3,volume_list_load_ref3 * 4 *1e9, color = 'orange', linewidth = size_line, label = 'ref. = 3', markersize = markersize)\n",
    "    ax4[0].plot(iteration_list_ref4,volume_list_load_ref4 * 4 * 1e9, color = 'green', linewidth = size_line,label = 'ref. = 4',markersize=markersize)\n",
    "    ax4[0].axhline(y=V_lian * 1e9, color='r', linestyle='--', linewidth = size_line, label = 'Lian et al.')\n",
    "\n",
    "\n",
    "if 1:\n",
    "   # ax[1].plot(iteration_angle_10,df_list_max_angle_10, color = color_list[0], linewidth = size_line)\n",
    "    ax4[1].plot(iteration_list_ref3,contact_angle_list_ref3-10, color = 'orange', linewidth = size_line2, label = 'ref. = 3',markersize=markersize)\n",
    "    ax4[1].plot(iteration_list_ref4,contact_angle_list_ref4-10, color = 'green', linewidth = size_line2, label = 'ref. = 4',markersize=markersize)\n",
    "    #ax4[1].axhline(y=10, color='r', linestyle='--', linewidth = size_line, label = 'Lian et al.')\n",
    "\n",
    "\n",
    "\n",
    "ax4[0].set_title('(a)')\n",
    "ax4[1].set_title('(b)')\n",
    "\n",
    "ax4[0].set_xlabel(\"iteration / -\")\n",
    "ax4[1].set_ylabel(\"$\\Theta_\\mathregular{c}$ / mm\")\n",
    "\n",
    "ax4[1].set_xlabel(\"iteration / -\")\n",
    "ax4[0].set_ylabel('$V_\\mathregular{num}$  / $mm^\\mathregular{3}$ ')\n",
    "\n",
    "#ax4[0].set_yscale('log')\n",
    "ax4[1].set_ylim(70,85)\n",
    "\n",
    "ax4[0].set_xlim(0,len(iteration_list_ref4))\n",
    "ax4[1].set_xlim(0,len(iteration_list_ref4))\n",
    "\n",
    "lines, labels = fig4.axes[-2].get_legend_handles_labels() #labels von dem letzten ax Objekt\n",
    "plt.figlegend(lines, labels, loc='lower center', bbox_to_anchor=(0.55, 0), bbox_transform=plt.gcf().transFigure, ncol=3)\n",
    "fig4.tight_layout(rect=(0,0.15,1,1)) #Platz für Legende lassen\n",
    "\n",
    "#fig4.savefig('Figure_4_Verlauf_volumen_ohne_constraint.png', dpi = 400)\n",
    "\n",
    "\n",
    "r_i = 15e-3 # Particle Radian\n",
    "\n",
    "half_filling_angle = 10 # half filling angle in °\n",
    "S = 0.1 # dimensionless seperation distance\n",
    "\n",
    "y_i = np.sin(half_filling_angle * np.pi/180.0) * r_i # calculated radian of the liquid bridge\n",
    "print(y_i*1e3)\n",
    "\n",
    "\n"
   ],
   "metadata": {
    "collapsed": false,
    "ExecuteTime": {
     "end_time": "2024-05-30T12:08:28.108798700Z",
     "start_time": "2024-05-30T12:08:27.520248Z"
    }
   }
  },
  {
   "cell_type": "code",
   "execution_count": 4,
   "outputs": [
    {
     "data": {
      "text/plain": "2.556928340619654"
     },
     "execution_count": 4,
     "metadata": {},
     "output_type": "execute_result"
    }
   ],
   "source": [
    "len(volume_list_load_ref4)/len(volume_list_load_ref3)"
   ],
   "metadata": {
    "collapsed": false,
    "ExecuteTime": {
     "end_time": "2024-05-01T07:43:16.545437400Z",
     "start_time": "2024-05-01T07:43:16.523087100Z"
    }
   }
  },
  {
   "cell_type": "code",
   "execution_count": 5,
   "outputs": [
    {
     "data": {
      "text/plain": "16.874999999999996"
     },
     "execution_count": 5,
     "metadata": {},
     "output_type": "execute_result"
    }
   ],
   "source": [
    "V_lian * 1e9"
   ],
   "metadata": {
    "collapsed": false,
    "ExecuteTime": {
     "end_time": "2024-05-01T07:43:17.354283400Z",
     "start_time": "2024-05-01T07:43:17.344845900Z"
    }
   }
  },
  {
   "cell_type": "markdown",
   "source": [
    "## Vergleich Kontaktwinkel"
   ],
   "metadata": {
    "collapsed": false
   }
  },
  {
   "cell_type": "code",
   "execution_count": 6,
   "outputs": [
    {
     "name": "stdout",
     "output_type": "stream",
     "text": [
      "itertion angle 10 = 70001\n",
      "itertion angle 30 = 70001\n",
      "itertion angle 50 = 70001\n",
      "itertion angle 70 = 70001\n",
      "itertion angle 90 = 70001\n"
     ]
    }
   ],
   "source": [
    "z_coordinate_angle_10 = np.loadtxt('z_contact_angle573.0_d5.2mm_l2.0mm_iteration100000.0_refinement3.txt')\n",
    "y_coordinate_angle_10 = np.loadtxt('y_contact_angle573.0_d5.2mm_l2.0mm_iteration100000.0_refinement3.txt')\n",
    "df_list_max_angle_10  = np.loadtxt('dfmax_contact_angle573.0_d5.2mm_l2.0mm_iteration100000.0_refinement3.txt')\n",
    "contact_angle_list_top_10    = np.loadtxt('contact_angle_list_top_contact_angle573.0_d5.2mm_l2.0mm_iteration100000.0_refinement3.txt')\n",
    "iteration_angle_10 = np.arange(0,len(df_list_max_angle_10),1)\n",
    "print(f'itertion angle 10 = {len(iteration_angle_10)}')\n",
    "\n",
    "z_coordinate_angle_30 = np.loadtxt('z_contact_angle1719.0_d5.2mm_l2.0mm_iteration100000.0_refinement3.txt')\n",
    "y_coordinate_angle_30 = np.loadtxt('y_contact_angle1719.0_d5.2mm_l2.0mm_iteration100000.0_refinement3.txt')\n",
    "df_list_max_angle_30  = np.loadtxt('dfmax_contact_angle1719.0_d5.2mm_l2.0mm_iteration100000.0_refinement3.txt')\n",
    "contact_angle_list_top_30    = np.loadtxt('contact_angle_list_top_contact_angle1719.0_d5.2mm_l2.0mm_iteration100000.0_refinement3.txt')\n",
    "iteration_angle_30 = np.arange(0,len(df_list_max_angle_30),1)\n",
    "print(f'itertion angle 30 = {len(iteration_angle_30)}')\n",
    "\n",
    "z_coordinate_angle_50 = np.loadtxt('z_contact_angle2865.0_d5.2mm_l2.0mm_iteration100000.0_refinement3.txt')\n",
    "y_coordinate_angle_50 = np.loadtxt('y_contact_angle2865.0_d5.2mm_l2.0mm_iteration100000.0_refinement3.txt')\n",
    "df_list_max_angle_50  = np.loadtxt('dfmax_contact_angle2865.0_d5.2mm_l2.0mm_iteration100000.0_refinement3.txt')\n",
    "contact_angle_list_top_50    = np.loadtxt('contact_angle_list_top_contact_angle2865.0_d5.2mm_l2.0mm_iteration100000.0_refinement3.txt')\n",
    "iteration_angle_50 = np.arange(0,len(df_list_max_angle_50),1)\n",
    "print(f'itertion angle 50 = {len(iteration_angle_50)}')\n",
    "\n",
    "z_coordinate_angle_70 = np.loadtxt('z_contact_angle4011.0_d5.2mm_l2.0mm_iteration100000.0_refinement3.txt')\n",
    "y_coordinate_angle_70 = np.loadtxt('y_contact_angle4011.0_d5.2mm_l2.0mm_iteration100000.0_refinement3.txt')\n",
    "df_list_max_angle_70  = np.loadtxt('dfmax_contact_angle4011.0_d5.2mm_l2.0mm_iteration100000.0_refinement3.txt')\n",
    "contact_angle_list_top_70    = np.loadtxt('contact_angle_list_top_contact_angle4011.0_d5.2mm_l2.0mm_iteration100000.0_refinement3.txt')\n",
    "iteration_angle_70 = np.arange(0,len(df_list_max_angle_70),1)\n",
    "print(f'itertion angle 70 = {len(iteration_angle_70)}')\n",
    "\n",
    "z_coordinate_angle_90 = np.loadtxt('z_contact_angle5157.0_d5.2mm_l2.0mm_iteration100000.0_refinement3.txt')\n",
    "y_coordinate_angle_90 = np.loadtxt('y_contact_angle5157.0_d5.2mm_l2.0mm_iteration100000.0_refinement3.txt')\n",
    "df_list_max_angle_90  = np.loadtxt('dfmax_contact_angle5157.0_d5.2mm_l2.0mm_iteration100000.0_refinement3.txt')\n",
    "contact_angle_list_top_90    = np.loadtxt('contact_angle_list_top_contact_angle5157.0_d5.2mm_l2.0mm_iteration100000.0_refinement3.txt')\n",
    "iteration_angle_90 = np.arange(0,len(df_list_max_angle_90),1)\n",
    "print(f'itertion angle 90 = {len(iteration_angle_90)}')\n"
   ],
   "metadata": {
    "collapsed": false,
    "ExecuteTime": {
     "end_time": "2024-05-01T07:43:19.377700700Z",
     "start_time": "2024-05-01T07:43:18.339668Z"
    }
   }
  },
  {
   "cell_type": "markdown",
   "source": [
    "## Laden der Refinementuntersuchung ohne Kontaktwinkel"
   ],
   "metadata": {
    "collapsed": false
   }
  },
  {
   "cell_type": "code",
   "execution_count": 7,
   "outputs": [
    {
     "name": "stdout",
     "output_type": "stream",
     "text": [
      "itertion angle 0 ref 4 = 26904\n",
      "itertion angle 0 ref 3 = 70001\n"
     ]
    }
   ],
   "source": [
    "import numpy as np\n",
    "z_coordinate_angle_0_ref4 = np.loadtxt('z_contact_angle573.0_d5.2mm_l2.0mm_iteration100000.0_refinement4.txt')\n",
    "y_coordinate_angle_0_ref4 = np.loadtxt('y_contact_angle573.0_d5.2mm_l2.0mm_iteration100000.0_refinement4.txt')\n",
    "df_list_max_angle_0_ref4  = np.loadtxt('dfmax_contact_angle573.0_d5.2mm_l2.0mm_iteration100000.0_refinement4.txt')\n",
    "#contact_angle_list_top_0_ref4    = np.loadtxt('contact_angle_list_top_contact_angle573.0_d5.2mm_l2.0mm_iteration100000.0_refinement4.txt')\n",
    "iteration_angle_0_ref4 = np.arange(0,len(df_list_max_angle_0_ref4),1)\n",
    "print(f'itertion angle 0 ref 4 = {len(iteration_angle_0_ref4)}')\n",
    "\n",
    "\n",
    "z_coordinate_angle_0_ref3 = np.loadtxt('z_contact_angle573.0_d5.2mm_l2.0mm_iteration100000.0_refinement3.txt')\n",
    "y_coordinate_angle_0_ref3 = np.loadtxt('y_contact_angle573.0_d5.2mm_l2.0mm_iteration100000.0_refinement3.txt')\n",
    "df_list_max_angle_0_ref3  = np.loadtxt('dfmax_contact_angle573.0_d5.2mm_l2.0mm_iteration100000.0_refinement3.txt')\n",
    "#contact_angle_list_top_0_ref3    = np.loadtxt('contact_angle_list_top_contact_angle573.0_d5.2mm_l2.0mm_iteration100000.0_refinement3.txt')\n",
    "iteration_angle_0_ref3 = np.arange(0,len(df_list_max_angle_0_ref3),1)\n",
    "print(f'itertion angle 0 ref 3 = {len(iteration_angle_0_ref3)}')"
   ],
   "metadata": {
    "collapsed": false,
    "ExecuteTime": {
     "end_time": "2024-05-01T07:43:20.988389100Z",
     "start_time": "2024-05-01T07:43:20.834422200Z"
    }
   }
  },
  {
   "cell_type": "code",
   "execution_count": 8,
   "outputs": [
    {
     "data": {
      "text/plain": "<Figure size 360x216 with 2 Axes>",
      "image/png": "[encoded data removed]"
     },
     "metadata": {
      "needs_background": "light"
     },
     "output_type": "display_data"
    }
   ],
   "source": [
    "plt.rcParams[\"font.family\"] = \"sans-serif\"\n",
    "plt.rcParams[\"font.sans-serif\"] = \"Arial\"\n",
    "plt.rcParams[\"mathtext.fontset\"] = \"custom\"\n",
    "plt.rcParams[\"mathtext.it\"] = \"Arial:italic\"\n",
    "plt.rcParams[\"mathtext.rm\"] = \"Arial\"\n",
    "plt.rcParams[\"mathtext.default\"] = \"it\"\n",
    "plt.rcParams['axes.labelsize'] = 12\n",
    "plt.rcParams['axes.titlesize'] = 12\n",
    "plt.rcParams['xtick.labelsize'] = 12\n",
    "plt.rcParams['ytick.labelsize'] = 12\n",
    "plt.rcParams['legend.fontsize'] = 10\n",
    "\n",
    "color_list = ['blue', 'green', 'red', 'cyan', 'magenta', 'black',\n",
    "    'gray','limegreen', 'pink','grey', 'lightblue', 'lightgreen', 'lightred', 'lightcyan',\n",
    "    'lightmagenta', 'lightyellow', 'darkblue', 'darkgreen', 'darkred',\n",
    "    'darkcyan', 'darkmagenta', 'darkyellow', 'orange', 'purple', 'brown',\n",
    "    'pink', 'olive', 'peach', 'limegreen', 'turquoise', 'indigo']\n",
    "size_line = 0.5\n",
    "\n",
    "\n",
    "fig, ax = plot.subplots(nrows=1, ncols=2, figsize=(5, 3))\n",
    "\n",
    "\n",
    "#ax[0].plot(iteration_11, contact_angle_11, color = color_list[0], linewidth = size_line, label = '11')\n",
    "#df_list_max_angle_20\n",
    "if 1:\n",
    "   # ax[0].plot(iteration_angle_10,contact_angle_list_top_10, color = color_list[0], linewidth = size_line)\n",
    "    ax[0].plot(iteration_angle_30,contact_angle_list_top_30-10, color = 'orange', linewidth = size_line)\n",
    "    ax[0].plot(iteration_angle_50,contact_angle_list_top_50-10, color = color_list[1], linewidth = size_line)\n",
    "    ax[0].plot(iteration_angle_70,contact_angle_list_top_70-10, color = color_list[2], linewidth = size_line)\n",
    "    ax[0].plot(iteration_angle_90,contact_angle_list_top_90-10, color = color_list[3], linewidth = size_line)\n",
    "\n",
    "if 1:\n",
    "   # ax[1].plot(iteration_angle_10,df_list_max_angle_10, color = color_list[0], linewidth = size_line)\n",
    "    ax[1].plot(iteration_angle_30,df_list_max_angle_30, color = 'orange', linewidth = size_line, label = '$ \\Theta_\\mathregular{c}$=30°')\n",
    "    ax[1].plot(iteration_angle_50,df_list_max_angle_50, color = color_list[1], linewidth = size_line, label = '$ \\Theta_\\mathregular{c}$=50°')\n",
    "    ax[1].plot(iteration_angle_70,df_list_max_angle_70, color = color_list[2], linewidth = size_line, label = '$ \\Theta_\\mathregular{c}$=70°')\n",
    "    ax[1].plot(iteration_angle_90,df_list_max_angle_90, color = color_list[3], linewidth = size_line, label = '$ \\Theta_\\mathregular{c}$=90°')\n",
    "if 0:\n",
    "   # ax[0].plot(iteration_angle_10,contact_angle_list_top_10, color = color_list[0], linewidth = size_line)\n",
    "    ax[0].plot(iteration_angle_30,contact_angle_list_top_30, color = 'orange', linewidth = size_line)\n",
    "    ax[0].plot(iteration_angle_50,contact_angle_list_top_50, color = color_list[1], linewidth = size_line)\n",
    "    ax[0].plot(iteration_angle_70,contact_angle_list_top_70, color = color_list[2], linewidth = size_line)\n",
    "    ax[0].plot(iteration_angle_90,contact_angle_list_top_90, color = color_list[3], linewidth = size_line)\n",
    "\n",
    "if 0:\n",
    "   # ax[1].plot(iteration_angle_10,df_list_max_angle_10, color = color_list[0], linewidth = size_line)\n",
    "    ax[1].plot(iteration_angle_30,df_list_max_angle_30, color = 'orange', linewidth = size_line, label = '$ \\Theta_\\mathregular{c}$=40°')\n",
    "    ax[1].plot(iteration_angle_50,df_list_max_angle_50, color = color_list[1], linewidth = size_line, label = '$ \\Theta_\\mathregular{c}$=60°')\n",
    "    ax[1].plot(iteration_angle_70,df_list_max_angle_70, color = color_list[2], linewidth = size_line, label = '$ \\Theta_\\mathregular{c}$=80°')\n",
    "    ax[1].plot(iteration_angle_90,df_list_max_angle_90, color = color_list[3], linewidth = size_line, label = '$ \\Theta_\\mathregular{c}$=100°')\n",
    "\n",
    "ax[0].set_title('(a)')\n",
    "ax[1].set_title('(b)')\n",
    "\n",
    "ax[0].set_xlabel(\"iteration / -\")\n",
    "ax[0].set_ylabel(\"$\\Theta_\\mathregular{c}$ / mm\")\n",
    "\n",
    "ax[1].set_xlabel(\"iteration / -\")\n",
    "ax[1].set_ylabel('$\\Delta f_\\mathregular{max}$  / m ')\n",
    "\n",
    "ax[1].set_yscale('log')\n",
    "ax[0].set_ylim(0,100)\n",
    "\n",
    "ax[0].set_xlim(0,70000)\n",
    "ax[1].set_xlim(0,70000)\n",
    "\n",
    "lines, labels = fig.axes[-1].get_legend_handles_labels() #labels von dem letzten ax Objekt\n",
    "plt.figlegend(lines, labels, loc='lower center', bbox_to_anchor=(0.55, 0), bbox_transform=plt.gcf().transFigure, ncol=4)\n",
    "fig.tight_layout(rect=(0,0.1,1,1)) #Platz für Legende lassen\n",
    "\n",
    "fig.savefig('Verlauf_contact_angle_not_stable.png', dpi = 400)"
   ],
   "metadata": {
    "collapsed": false,
    "ExecuteTime": {
     "end_time": "2024-05-01T07:43:24.038109100Z",
     "start_time": "2024-05-01T07:43:23.471413Z"
    }
   }
  },
  {
   "cell_type": "code",
   "execution_count": 9,
   "outputs": [
    {
     "data": {
      "text/plain": "<Figure size 360x216 with 2 Axes>",
      "image/png": "[encoded data removed]"
     },
     "metadata": {
      "needs_background": "light"
     },
     "output_type": "display_data"
    }
   ],
   "source": [
    "plt.rcParams[\"font.family\"] = \"sans-serif\"\n",
    "plt.rcParams[\"font.sans-serif\"] = \"Arial\"\n",
    "plt.rcParams[\"mathtext.fontset\"] = \"custom\"\n",
    "plt.rcParams[\"mathtext.it\"] = \"Arial:italic\"\n",
    "plt.rcParams[\"mathtext.rm\"] = \"Arial\"\n",
    "plt.rcParams[\"mathtext.default\"] = \"it\"\n",
    "plt.rcParams['axes.labelsize'] = 12\n",
    "plt.rcParams['axes.titlesize'] = 12\n",
    "plt.rcParams['xtick.labelsize'] = 12\n",
    "plt.rcParams['ytick.labelsize'] = 12\n",
    "plt.rcParams['legend.fontsize'] = 12\n",
    "\n",
    "size_marker = 3\n",
    "size_line = 0\n",
    "marker = 'o'\n",
    "\n",
    "size_line2 = 1\n",
    "\n",
    "color_list = ['blue', 'green', 'red', 'cyan', 'magenta', 'black',\n",
    "    'gray', 'grey', 'lightblue', 'lightgreen', 'lightred', 'lightcyan',\n",
    "    'lightmagenta', 'lightyellow', 'darkblue', 'darkgreen', 'darkred',\n",
    "    'darkcyan', 'darkmagenta', 'darkyellow', 'orange', 'purple', 'brown',\n",
    "    'pink', 'olive', 'peach', 'limegreen', 'turquoise', 'indigo']\n",
    "\n",
    "\n",
    "fig2, ax2 = plot.subplots(nrows=1, ncols=2, figsize=(5, 3))\n",
    "\n",
    "if 1:\n",
    "    ax2[0].plot(z_coordinate_angle_0_ref3*1e3,y_coordinate_angle_0_ref3*1e3, color = 'orange', linewidth = size_line, label = 'ref. = 3',  markersize = size_marker, marker = marker)\n",
    "    ax2[0].plot(z_coordinate_angle_0_ref4*1e3,y_coordinate_angle_0_ref4*1e3, color = 'green', linewidth = size_line, label = 'ref. = 4', markersize = size_marker, marker = marker)\n",
    "\n",
    "    ax2[1].plot(iteration_angle_0_ref3, df_list_max_angle_0_ref3, color = 'orange', linewidth = size_line2, label = 'ref. = 3')\n",
    "    ax2[1].plot(iteration_angle_0_ref4, df_list_max_angle_0_ref4, color = 'green', linewidth = size_line2, label = 'ref. = 4')\n",
    "    ax2[1].hlines(1e-9,-10,len(iteration_angle_0_ref3)+1e5, colors = 'red', linestyle = '--', linewidth = size_line2, label = 'cancel cond.')\n",
    "\n",
    "\n",
    "ax2[0].set_title('(a)')\n",
    "ax2[1].set_title('(b)')\n",
    "\n",
    "ax2[0].set_xlabel(\"z-Pos. / mm\")\n",
    "ax2[0].set_ylabel(\"y-Pos. / mm\")\n",
    "\n",
    "ax2[1].set_yscale('log')\n",
    "ax2[1].set_xlabel(\"iteration / -\")\n",
    "ax2[1].set_ylabel('$\\Delta f_\\mathregular{max}$  / m ')\n",
    "\n",
    "\n",
    "ax2[1].set_xlim(0, len(iteration_angle_0_ref4)+2000)\n",
    "\n",
    "lines, labels = fig2.axes[-1].get_legend_handles_labels() #labels von dem letzten ax Objekt\n",
    "plt.figlegend(lines, labels, loc='lower center', bbox_to_anchor=(0.5, 0), bbox_transform=plt.gcf().transFigure, ncol=3)\n",
    "fig2.tight_layout(rect=(0,0.11,1,1)) #Platz für Legende lassen\n",
    "\n",
    "fig2.savefig('Figure_4_3.png', dpi = 400)"
   ],
   "metadata": {
    "collapsed": false,
    "ExecuteTime": {
     "end_time": "2024-05-01T07:43:38.075716400Z",
     "start_time": "2024-05-01T07:43:37.711660600Z"
    }
   }
  },
  {
   "cell_type": "code",
   "execution_count": 9,
   "outputs": [
    {
     "data": {
      "text/plain": "array([6.06530357e-07, 5.98408392e-07, 5.90327151e-07, ...,\n       1.00007940e-09, 1.00001921e-09, 9.99959018e-10])"
     },
     "execution_count": 9,
     "metadata": {},
     "output_type": "execute_result"
    }
   ],
   "source": [
    "df_list_max_angle_0_ref4"
   ],
   "metadata": {
    "collapsed": false,
    "ExecuteTime": {
     "end_time": "2024-04-22T12:34:45.865100800Z",
     "start_time": "2024-04-22T12:34:45.847221Z"
    }
   }
  },
  {
   "cell_type": "code",
   "execution_count": 41,
   "outputs": [
    {
     "data": {
      "text/plain": "array([0.        , 0.23518429, 0.4747122 , 0.7237251 , 0.9778837 ,\n       1.23204231, 1.48105521, 1.72058312, 1.95576741])"
     },
     "execution_count": 41,
     "metadata": {},
     "output_type": "execute_result"
    }
   ],
   "source": [
    "z_coordinate_angle_0_ref3*1e3"
   ],
   "metadata": {
    "collapsed": false,
    "ExecuteTime": {
     "end_time": "2024-04-23T18:40:47.929708500Z",
     "start_time": "2024-04-23T18:40:47.915801200Z"
    }
   }
  },
  {
   "cell_type": "code",
   "execution_count": 42,
   "outputs": [
    {
     "data": {
      "text/plain": "array([2.60472267, 2.50226876, 2.42765595, 2.3809137 , 2.36497492,\n       2.3809137 , 2.42765595, 2.50226876, 2.60472267])"
     },
     "execution_count": 42,
     "metadata": {},
     "output_type": "execute_result"
    }
   ],
   "source": [
    "y_coordinate_angle_0_ref3*1e3"
   ],
   "metadata": {
    "collapsed": false,
    "ExecuteTime": {
     "end_time": "2024-04-23T18:41:26.163121Z",
     "start_time": "2024-04-23T18:41:26.144743400Z"
    }
   }
  },
  {
   "cell_type": "code",
   "execution_count": null,
   "outputs": [],
   "source": [],
   "metadata": {
    "collapsed": false
   }
  },
  {
   "cell_type": "code",
   "execution_count": 50,
   "outputs": [
    {
     "name": "stdout",
     "output_type": "stream",
     "text": [
      "67.97914887580446\n"
     ]
    }
   ],
   "source": [
    "if 0:\n",
    "    delta_y = y_coordinate_angle_0_ref3[0]*1e3-y_coordinate_angle_0_ref3[1]*1e3\n",
    "    delta_z = z_coordinate_angle_0_ref3[1]*1e3\n",
    "\n",
    "if 1:\n",
    "    delta_y = y_coordinate_angle_0_ref4[0]*1e3-y_coordinate_angle_0_ref4[1]*1e3\n",
    "    delta_z = z_coordinate_angle_0_ref4[1]*1e3\n",
    "\n",
    "angle = np.arctan(delta_z/delta_y) * 180/np.pi\n",
    "print(angle)"
   ],
   "metadata": {
    "collapsed": false,
    "ExecuteTime": {
     "end_time": "2024-04-23T18:46:30.160963800Z",
     "start_time": "2024-04-23T18:46:30.155003600Z"
    }
   }
  },
  {
   "cell_type": "code",
   "execution_count": 48,
   "outputs": [
    {
     "data": {
      "text/plain": "0.0"
     },
     "execution_count": 48,
     "metadata": {},
     "output_type": "execute_result"
    }
   ],
   "source": [],
   "metadata": {
    "collapsed": false,
    "ExecuteTime": {
     "end_time": "2024-04-23T18:45:44.177066400Z",
     "start_time": "2024-04-23T18:45:44.171602300Z"
    }
   }
  },
  {
   "cell_type": "code",
   "execution_count": 5,
   "outputs": [],
   "source": [
    "df_list_max_angle_collapsing  = np.loadtxt('dfmax_half_fillingangle13contact_angle10_d6.7mm_l4.5mm_iteration100000.0_refinement3.txt')\n",
    "iteration_angle_collapsing = np.arange(0,len(df_list_max_angle_collapsing),1)"
   ],
   "metadata": {
    "collapsed": false,
    "ExecuteTime": {
     "end_time": "2024-04-24T21:46:08.476956Z",
     "start_time": "2024-04-24T21:46:08.352456400Z"
    }
   }
  },
  {
   "cell_type": "code",
   "execution_count": 13,
   "outputs": [
    {
     "data": {
      "text/plain": "<Figure size 216x216 with 1 Axes>",
      "image/png": "[encoded data removed]"
     },
     "metadata": {
      "needs_background": "light"
     },
     "output_type": "display_data"
    }
   ],
   "source": [
    "plt.rcParams[\"font.family\"] = \"sans-serif\"\n",
    "plt.rcParams[\"font.sans-serif\"] = \"Arial\"\n",
    "plt.rcParams[\"mathtext.fontset\"] = \"custom\"\n",
    "plt.rcParams[\"mathtext.it\"] = \"Arial:italic\"\n",
    "plt.rcParams[\"mathtext.rm\"] = \"Arial\"\n",
    "plt.rcParams[\"mathtext.default\"] = \"it\"\n",
    "plt.rcParams['axes.labelsize'] = 12\n",
    "plt.rcParams['axes.titlesize'] = 12\n",
    "plt.rcParams['xtick.labelsize'] = 12\n",
    "plt.rcParams['ytick.labelsize'] = 12\n",
    "plt.rcParams['legend.fontsize'] = 12\n",
    "\n",
    "size_marker = 1\n",
    "size_line = 1\n",
    "marker = 'o'\n",
    "\n",
    "size_line2 = 0\n",
    "\n",
    "\n",
    "\n",
    "fig3, ax3 = plot.subplots(nrows=1, ncols=1, figsize=(3, 3))\n",
    "\n",
    "if 1:\n",
    "    ax3.plot(iteration_angle_collapsing,df_list_max_angle_collapsing, color = 'orange', linewidth = size_line, label = 'ref. = 3',  markersize = size_marker, marker = marker)\n",
    "\n",
    "\n",
    "''''\n",
    "ax[0].set_title('(a)')\n",
    "ax[1].set_title('(b)')\n",
    "\n",
    "ax[0].set_xlabel(\"iteration / -\")\n",
    "ax[0].set_ylabel(\"$\\Theta_\\mathregular{c}$ / mm\")\n",
    "\n",
    "ax[1].set_xlabel(\"iteration / -\")\n",
    "ax[1].set_ylabel('$\\Delta f_\\mathregular{max}$  / m ')\n",
    "\n",
    "ax[1].set_yscale('log')\n",
    "ax[0].set_ylim(0,100)\n",
    "\n",
    "ax[0].set_xlim(0,70000)\n",
    "ax[1].set_xlim(0,70000)\n",
    "'''\n",
    "\n",
    "ax3.set_yscale('log')\n",
    "ax3.set_xlabel(\"iteration / -\")\n",
    "ax3.set_ylabel('$\\Delta f_\\mathregular{max}$  / m ')\n",
    "\n",
    "\n",
    "ax3.set_xlim(0, len(iteration_angle_collapsing)+2000)\n",
    "\n",
    "fig3.tight_layout()\n",
    "\n",
    "fig3.savefig('Figure_4_collapsing.png', dpi = 400)"
   ],
   "metadata": {
    "collapsed": false,
    "ExecuteTime": {
     "end_time": "2024-04-24T21:49:09.302994900Z",
     "start_time": "2024-04-24T21:49:08.876497100Z"
    }
   }
  },
  {
   "cell_type": "code",
   "execution_count": 46,
   "outputs": [],
   "source": [],
   "metadata": {
    "collapsed": false,
    "ExecuteTime": {
     "end_time": "2024-04-23T18:45:11.745219100Z",
     "start_time": "2024-04-23T18:45:11.731809500Z"
    }
   }
  },
  {
   "cell_type": "code",
   "execution_count": 70,
   "outputs": [
    {
     "data": {
      "text/plain": "26904"
     },
     "execution_count": 70,
     "metadata": {},
     "output_type": "execute_result"
    }
   ],
   "source": [
    "len(iteration_angle_0_ref4)"
   ],
   "metadata": {
    "collapsed": false,
    "ExecuteTime": {
     "end_time": "2024-04-23T19:12:00.181360600Z",
     "start_time": "2024-04-23T19:12:00.165963300Z"
    }
   }
  },
  {
   "cell_type": "code",
   "execution_count": 60,
   "outputs": [
    {
     "data": {
      "text/plain": "<Figure size 216x216 with 1 Axes>",
      "image/png": "[encoded data removed]"
     },
     "metadata": {
      "needs_background": "light"
     },
     "output_type": "display_data"
    }
   ],
   "source": [
    "df_list_max_angle_collapsing = np.loadtxt('dfmax_contact_angle573.0_d5.2mm_l2.0mm_iteration100000.0_refinement3.txt')\n",
    "iteration_angle_collapsing = np.arange(0, len(df_list_max_angle_collapsing), 1)\n",
    "plt.rcParams[\"font.family\"] = \"sans-serif\"\n",
    "plt.rcParams[\"font.sans-serif\"] = \"Arial\"\n",
    "plt.rcParams[\"mathtext.fontset\"] = \"custom\"\n",
    "plt.rcParams[\"mathtext.it\"] = \"Arial:italic\"\n",
    "plt.rcParams[\"mathtext.rm\"] = \"Arial\"\n",
    "plt.rcParams[\"mathtext.default\"] = \"it\"\n",
    "plt.rcParams['axes.labelsize'] = 12\n",
    "plt.rcParams['axes.titlesize'] = 12\n",
    "plt.rcParams['xtick.labelsize'] = 12\n",
    "plt.rcParams['ytick.labelsize'] = 12\n",
    "plt.rcParams['legend.fontsize'] = 12\n",
    "\n",
    "size_marker = 1\n",
    "size_line = 0\n",
    "marker = 'o'\n",
    "\n",
    "size_line2 = 0\n",
    "\n",
    "fig3, ax3 = plot.subplots(nrows=1, ncols=1, figsize=(3, 3))\n",
    "\n",
    "if 1:\n",
    "    ax3.plot(iteration_angle_collapsing, df_list_max_angle_collapsing, color='orange', linewidth=size_line,\n",
    "             label='ref. = 3', markersize=size_marker, marker=marker)\n",
    "\n",
    "''''\n",
    "ax[0].set_title('(a)')\n",
    "ax[1].set_title('(b)')\n",
    "\n",
    "ax[0].set_xlabel(\"iteration / -\")\n",
    "ax[0].set_ylabel(\"$\\Theta_\\mathregular{c}$ / mm\")\n",
    "\n",
    "ax[1].set_xlabel(\"iteration / -\")\n",
    "ax[1].set_ylabel('$\\Delta f_\\mathregular{max}$  / m ')\n",
    "\n",
    "ax[1].set_yscale('log')\n",
    "ax[0].set_ylim(0,100)\n",
    "\n",
    "ax[0].set_xlim(0,70000)\n",
    "ax[1].set_xlim(0,70000)\n",
    "'''\n",
    "\n",
    "ax3.set_yscale('log')\n",
    "ax3.set_xlabel(\"iteration / -\")\n",
    "ax3.set_ylabel('$\\Delta f_\\mathregular{max}$  / m ')\n",
    "\n",
    "ax3.set_xlim(0, len(iteration_angle_collapsing) + 2000)\n",
    "\n",
    "fig3.tight_layout()\n",
    "\n",
    "fig3.savefig('Figure_4_shearing.png', dpi = 400)\n"
   ],
   "metadata": {
    "collapsed": false,
    "ExecuteTime": {
     "end_time": "2024-04-25T16:40:43.687881500Z",
     "start_time": "2024-04-25T16:40:43.190382800Z"
    }
   }
  },
  {
   "cell_type": "code",
   "execution_count": null,
   "outputs": [],
   "source": [],
   "metadata": {
    "collapsed": false
   }
  },
  {
   "cell_type": "markdown",
   "source": [
    "## Kopierablage"
   ],
   "metadata": {
    "collapsed": false
   }
  },
  {
   "cell_type": "code",
   "execution_count": null,
   "outputs": [],
   "source": [
    "if 0:\n",
    "    z_coordinate_angle_20        = np.loadtxt('contact_angle20.0_d5.2mm_l1.5mm_iteration100000.0_refinement3_zrefinement4.txt')\n",
    "    y_coordinate_angle_20        = np.loadtxt('contact_angle20.0_d5.2mm_l1.5mm_iteration100000.0_refinement3_yrefinement4.txt')\n",
    "    df_list_max_angle_20         = np.loadtxt('contact_angle20.0_d5.2mm_l1.5mm_iteration100000.0_refinement3dfmaxrefinement4.txt')\n",
    "    contact_angle_list_top_20    = np.loadtxt('contact_angle20.0_d5.2mm_l1.5mm_iteration100000.0_refinement3dfmaxcontact_angle_list_top.txt')\n",
    "    iteration_angle_20 = np.arange(0,len(df_list_max_angle_20),1)\n",
    "    print(f'itertion angle 20 = {len(iteration_angle_20)}')\n",
    "\n",
    "    z_coordinate_angle_30 = np.loadtxt('contact_angle30.0_d5.2mm_l1.5mm_iteration100000.0_refinement3_zrefinement4.txt')\n",
    "    y_coordinate_angle_30 = np.loadtxt('contact_angle30.0_d5.2mm_l1.5mm_iteration100000.0_refinement3_yrefinement4.txt')\n",
    "    df_list_max_angle_30  = np.loadtxt('contact_angle30.0_d5.2mm_l1.5mm_iteration100000.0_refinement3dfmaxrefinement4.txt')\n",
    "    contact_angle_list_top_30    = np.loadtxt('contact_angle30.0_d5.2mm_l1.5mm_iteration100000.0_refinement3dfmaxcontact_angle_list_top.txt')\n",
    "    iteration_angle_30 = np.arange(0,len(df_list_max_angle_30),1)\n",
    "    print(f'itertion angle 30 = {len(iteration_angle_30)}')\n",
    "\n",
    "    z_coordinate_angle_40 = np.loadtxt('contact_angle40.0_d5.2mm_l1.5mm_iteration100000.0_refinement3_zrefinement4.txt')\n",
    "    y_coordinate_angle_40 = np.loadtxt('contact_angle40.0_d5.2mm_l1.5mm_iteration100000.0_refinement3_yrefinement4.txt')\n",
    "    df_list_max_angle_40  = np.loadtxt('contact_angle40.0_d5.2mm_l1.5mm_iteration100000.0_refinement3dfmaxrefinement4.txt')\n",
    "    contact_angle_list_top_40    = np.loadtxt('contact_angle40.0_d5.2mm_l1.5mm_iteration100000.0_refinement3dfmaxcontact_angle_list_top.txt')\n",
    "    iteration_angle_40 = np.arange(0,len(df_list_max_angle_40),1)\n",
    "    print(f'itertion angle 40 = {len(iteration_angle_40)}')\n",
    "\n",
    "    z_coordinate_angle_50 = np.loadtxt('contact_angle50.0_d5.2mm_l1.5mm_iteration100000.0_refinement3_zrefinement4.txt')\n",
    "    y_coordinate_angle_50 = np.loadtxt('contact_angle50.0_d5.2mm_l1.5mm_iteration100000.0_refinement3_yrefinement4.txt')\n",
    "    df_list_max_angle_50  = np.loadtxt('contact_angle50.0_d5.2mm_l1.5mm_iteration100000.0_refinement3dfmaxrefinement4.txt')\n",
    "    contact_angle_list_top_50    = np.loadtxt('contact_angle50.0_d5.2mm_l1.5mm_iteration100000.0_refinement3dfmaxcontact_angle_list_top.txt')\n",
    "    iteration_angle_50 = np.arange(0,len(df_list_max_angle_50),1)\n",
    "    print(f'itertion angle 50 = {len(iteration_angle_50)}')\n",
    "\n",
    "    z_coordinate_angle_60 = np.loadtxt('contact_angle60.0_d5.2mm_l1.5mm_iteration100000.0_refinement3_zrefinement4.txt')\n",
    "    y_coordinate_angle_60 = np.loadtxt('contact_angle60.0_d5.2mm_l1.5mm_iteration100000.0_refinement3_yrefinement4.txt')\n",
    "    df_list_max_angle_60  = np.loadtxt('contact_angle60.0_d5.2mm_l1.5mm_iteration100000.0_refinement3dfmaxrefinement4.txt')\n",
    "    contact_angle_list_top_60    = np.loadtxt('contact_angle60.0_d5.2mm_l1.5mm_iteration100000.0_refinement3dfmaxcontact_angle_list_top.txt')\n",
    "    iteration_angle_60 = np.arange(0,len(df_list_max_angle_60),1)\n",
    "    print(f'itertion angle 60 = {len(iteration_angle_60)}')\n",
    "\n",
    "    z_coordinate_angle_70 = np.loadtxt('contact_angle70.0_d5.2mm_l1.5mm_iteration100000.0_refinement3_zrefinement4.txt')\n",
    "    y_coordinate_angle_70 = np.loadtxt('contact_angle70.0_d5.2mm_l1.5mm_iteration100000.0_refinement3_yrefinement4.txt')\n",
    "    df_list_max_angle_70  = np.loadtxt('contact_angle70.0_d5.2mm_l1.5mm_iteration100000.0_refinement3dfmaxrefinement4.txt')\n",
    "    contact_angle_list_top_70    = np.loadtxt('contact_angle70.0_d5.2mm_l1.5mm_iteration100000.0_refinement3dfmaxcontact_angle_list_top.txt')\n",
    "    iteration_angle_70 = np.arange(0,len(df_list_max_angle_70),1)\n",
    "    print(f'itertion angle 70 = {len(iteration_angle_70)}')\n",
    "\n",
    "    z_coordinate_angle_80 = np.loadtxt('contact_angle80.0_d5.2mm_l1.5mm_iteration100000.0_refinement3_zrefinement4.txt')\n",
    "    y_coordinate_angle_80 = np.loadtxt('contact_angle80.0_d5.2mm_l1.5mm_iteration100000.0_refinement3_yrefinement4.txt')\n",
    "    df_list_max_angle_80  = np.loadtxt('contact_angle80.0_d5.2mm_l1.5mm_iteration100000.0_refinement3dfmaxrefinement4.txt')\n",
    "    contact_angle_list_top_80    = np.loadtxt('contact_angle80.0_d5.2mm_l1.5mm_iteration100000.0_refinement3dfmaxcontact_angle_list_top.txt')\n",
    "    iteration_angle_80 = np.arange(0,len(df_list_max_angle_80),1)\n",
    "    print(f'itertion angle 80 = {len(iteration_angle_80)}')\n",
    "\n",
    "    z_coordinate_angle_90 = np.loadtxt('contact_angle90.0_d5.2mm_l1.5mm_iteration100000.0_refinement3_zrefinement4.txt')\n",
    "    y_coordinate_angle_90 = np.loadtxt('contact_angle90.0_d5.2mm_l1.5mm_iteration100000.0_refinement3_yrefinement4.txt')\n",
    "    df_list_max_angle_90  = np.loadtxt('contact_angle90.0_d5.2mm_l1.5mm_iteration100000.0_refinement3dfmaxrefinement4.txt')\n",
    "    contact_angle_list_top_90    = np.loadtxt('contact_angle90.0_d5.2mm_l1.5mm_iteration100000.0_refinement3dfmaxcontact_angle_list_top.txt')\n",
    "    iteration_angle_90 = np.arange(0,len(df_list_max_angle_90),1)\n",
    "    print(f'itertion angle 90 = {len(iteration_angle_90)}')\n",
    "\n",
    "    z_coordinate_angle_100 = np.loadtxt('contact_angle100.0_d5.2mm_l1.5mm_iteration100000.0_refinement3_zrefinement4.txt')\n",
    "    y_coordinate_angle_100 = np.loadtxt('contact_angle100.0_d5.2mm_l1.5mm_iteration100000.0_refinement3_yrefinement4.txt')\n",
    "    df_list_max_angle_100  = np.loadtxt('contact_angle100.0_d5.2mm_l1.5mm_iteration100000.0_refinement3dfmaxrefinement4.txt')\n",
    "    contact_angle_list_top_100    = np.loadtxt('contact_angle100.0_d5.2mm_l1.5mm_iteration100000.0_refinement3dfmaxcontact_angle_list_top.txt')\n",
    "    iteration_angle_100 = np.arange(0,len(df_list_max_angle_100),1)\n",
    "    print(f'itertion angle 100 = {len(iteration_angle_100)}')\n",
    "\n",
    "if 0:\n",
    "    ax[0].plot(iteration_angle_20,contact_angle_list_top_20, color = color_list[0], linewidth = size_line)\n",
    "    ax[0].plot(iteration_angle_30,contact_angle_list_top_30, color = color_list[1], linewidth = size_line)\n",
    "    ax[0].plot(iteration_angle_40,contact_angle_list_top_40, color = color_list[2], linewidth = size_line)\n",
    "    ax[0].plot(iteration_angle_50,contact_angle_list_top_50, color = color_list[3], linewidth = size_line)\n",
    "    ax[0].plot(iteration_angle_60,contact_angle_list_top_60, color = color_list[4], linewidth = size_line)\n",
    "    ax[0].plot(iteration_angle_70,contact_angle_list_top_70, color = color_list[5], linewidth = size_line)\n",
    "    ax[0].plot(iteration_angle_80,contact_angle_list_top_80, color = color_list[6], linewidth = size_line)\n",
    "    ax[0].plot(iteration_angle_90,contact_angle_list_top_90, color = color_list[7], linewidth = size_line)\n",
    "    ax[0].plot(iteration_angle_100,contact_angle_list_top_100, color = color_list[8], linewidth = size_line)\n",
    "\n",
    "if 0:\n",
    "    ax[1].plot(iteration_angle_20,df_list_max_angle_20, color = color_list[0], linewidth = size_line)\n",
    "    ax[1].plot(iteration_angle_30,df_list_max_angle_30, color = color_list[1], linewidth = size_line)\n",
    "    ax[1].plot(iteration_angle_40,df_list_max_angle_40, color = color_list[2], linewidth = size_line)\n",
    "    ax[1].plot(iteration_angle_50,df_list_max_angle_50, color = color_list[3], linewidth = size_line)\n",
    "    ax[1].plot(iteration_angle_60,df_list_max_angle_60, color = color_list[4], linewidth = size_line)\n",
    "    ax[1].plot(iteration_angle_70,df_list_max_angle_70, color = color_list[5], linewidth = size_line)\n",
    "    ax[1].plot(iteration_angle_80,df_list_max_angle_80, color = color_list[6], linewidth = size_line)\n",
    "    ax[1].plot(iteration_angle_90,df_list_max_angle_90, color = color_list[7], linewidth = size_line)\n",
    "    ax[1].plot(iteration_angle_100,df_list_max_angle_100, color = color_list[8], linewidth = size_line)"
   ],
   "metadata": {
    "collapsed": false
   }
  },
  {
   "cell_type": "code",
   "execution_count": null,
   "outputs": [],
   "source": [],
   "metadata": {
    "collapsed": false
   }
  },
  {
   "cell_type": "code",
   "execution_count": 99,
   "outputs": [
    {
     "name": "stdout",
     "output_type": "stream",
     "text": [
      "Simulation is started!\n",
      "-------------------------------------\n",
      "Mesh is generated. Optimization was not carried out because itermax = 0.\n",
      "np.zeros([self.V.size(), self.dim]) = [[0. 0.]\n",
      " [0. 0.]\n",
      " [0. 0.]\n",
      " [0. 0.]\n",
      " [0. 0.]\n",
      " [0. 0.]\n",
      " [0. 0.]\n",
      " [0. 0.]\n",
      " [0. 0.]\n",
      " [0. 0.]\n",
      " [0. 0.]\n",
      " [0. 0.]\n",
      " [0. 0.]\n",
      " [0. 0.]\n",
      " [0. 0.]\n",
      " [0. 0.]\n",
      " [0. 0.]\n",
      " [0. 0.]\n",
      " [0. 0.]\n",
      " [0. 0.]\n",
      " [0. 0.]\n",
      " [0. 0.]\n",
      " [0. 0.]\n",
      " [0. 0.]\n",
      " [0. 0.]\n",
      " [0. 0.]\n",
      " [0. 0.]\n",
      " [0. 0.]\n",
      " [0. 0.]\n",
      " [0. 0.]\n",
      " [0. 0.]\n",
      " [0. 0.]\n",
      " [0. 0.]\n",
      " [0. 0.]\n",
      " [0. 0.]\n",
      " [0. 0.]\n",
      " [0. 0.]\n",
      " [0. 0.]\n",
      " [0. 0.]\n",
      " [0. 0.]\n",
      " [0. 0.]\n",
      " [0. 0.]\n",
      " [0. 0.]\n",
      " [0. 0.]\n",
      " [0. 0.]\n",
      " [0. 0.]\n",
      " [0. 0.]\n",
      " [0. 0.]\n",
      " [0. 0.]\n",
      " [0. 0.]\n",
      " [0. 0.]\n",
      " [0. 0.]\n",
      " [0. 0.]\n",
      " [0. 0.]\n",
      " [0. 0.]\n",
      " [0. 0.]\n",
      " [0. 0.]\n",
      " [0. 0.]\n",
      " [0. 0.]\n",
      " [0. 0.]\n",
      " [0. 0.]\n",
      " [0. 0.]\n",
      " [0. 0.]\n",
      " [0. 0.]\n",
      " [0. 0.]\n",
      " [0. 0.]\n",
      " [0. 0.]\n",
      " [0. 0.]\n",
      " [0. 0.]\n",
      " [0. 0.]\n",
      " [0. 0.]\n",
      " [0. 0.]\n",
      " [0. 0.]\n",
      " [0. 0.]\n",
      " [0. 0.]\n",
      " [0. 0.]\n",
      " [0. 0.]\n",
      " [0. 0.]\n",
      " [0. 0.]\n",
      " [0. 0.]\n",
      " [0. 0.]\n",
      " [0. 0.]\n",
      " [0. 0.]\n",
      " [0. 0.]\n",
      " [0. 0.]\n",
      " [0. 0.]\n",
      " [0. 0.]\n",
      " [0. 0.]\n",
      " [0. 0.]\n",
      " [0. 0.]\n",
      " [0. 0.]\n",
      " [0. 0.]\n",
      " [0. 0.]\n",
      " [0. 0.]\n",
      " [0. 0.]\n",
      " [0. 0.]\n",
      " [0. 0.]\n",
      " [0. 0.]\n",
      " [0. 0.]\n",
      " [0. 0.]\n",
      " [0. 0.]\n",
      " [0. 0.]\n",
      " [0. 0.]\n",
      " [0. 0.]\n",
      " [0. 0.]\n",
      " [0. 0.]\n",
      " [0. 0.]\n",
      " [0. 0.]\n",
      " [0. 0.]\n",
      " [0. 0.]\n",
      " [0. 0.]\n",
      " [0. 0.]\n",
      " [0. 0.]\n",
      " [0. 0.]\n",
      " [0. 0.]\n",
      " [0. 0.]\n",
      " [0. 0.]\n",
      " [0. 0.]\n",
      " [0. 0.]\n",
      " [0. 0.]\n",
      " [0. 0.]\n",
      " [0. 0.]\n",
      " [0. 0.]\n",
      " [0. 0.]\n",
      " [0. 0.]\n",
      " [0. 0.]\n",
      " [0. 0.]\n",
      " [0. 0.]\n",
      " [0. 0.]\n",
      " [0. 0.]\n",
      " [0. 0.]\n",
      " [0. 0.]\n",
      " [0. 0.]\n",
      " [0. 0.]\n",
      " [0. 0.]\n",
      " [0. 0.]]\n",
      "self.V[v].index = 0\n",
      "self.V[v].index = 1\n",
      "self.V[v].index = 2\n",
      "self.V[v].index = 3\n",
      "self.V[v].index = 4\n",
      "self.V[v].index = 5\n",
      "self.V[v].index = 6\n",
      "self.V[v].index = 7\n",
      "self.V[v].index = 8\n",
      "self.V[v].index = 9\n",
      "self.V[v].index = 10\n",
      "self.V[v].index = 11\n",
      "self.V[v].index = 12\n",
      "self.V[v].index = 13\n",
      "self.V[v].index = 14\n",
      "self.V[v].index = 15\n",
      "self.V[v].index = 16\n",
      "self.V[v].index = 17\n",
      "self.V[v].index = 18\n",
      "self.V[v].index = 19\n",
      "self.V[v].index = 20\n",
      "self.V[v].index = 21\n",
      "self.V[v].index = 22\n",
      "self.V[v].index = 23\n",
      "self.V[v].index = 24\n",
      "self.V[v].index = 25\n",
      "self.V[v].index = 26\n",
      "self.V[v].index = 27\n",
      "self.V[v].index = 28\n",
      "self.V[v].index = 29\n",
      "self.V[v].index = 30\n",
      "self.V[v].index = 31\n",
      "self.V[v].index = 32\n",
      "self.V[v].index = 33\n",
      "self.V[v].index = 34\n",
      "self.V[v].index = 35\n",
      "self.V[v].index = 36\n",
      "self.V[v].index = 37\n",
      "self.V[v].index = 38\n",
      "self.V[v].index = 39\n",
      "self.V[v].index = 40\n",
      "self.V[v].index = 41\n",
      "self.V[v].index = 42\n",
      "self.V[v].index = 43\n",
      "self.V[v].index = 44\n",
      "self.V[v].index = 45\n",
      "self.V[v].index = 46\n",
      "self.V[v].index = 47\n",
      "self.V[v].index = 48\n",
      "self.V[v].index = 49\n",
      "self.V[v].index = 50\n",
      "self.V[v].index = 51\n",
      "self.V[v].index = 52\n",
      "self.V[v].index = 53\n",
      "self.V[v].index = 54\n",
      "self.V[v].index = 55\n",
      "self.V[v].index = 56\n",
      "self.V[v].index = 57\n",
      "self.V[v].index = 58\n",
      "self.V[v].index = 59\n",
      "self.V[v].index = 60\n",
      "self.V[v].index = 61\n",
      "self.V[v].index = 62\n",
      "self.V[v].index = 63\n",
      "self.V[v].index = 64\n",
      "self.V[v].index = 65\n",
      "self.V[v].index = 66\n",
      "self.V[v].index = 67\n",
      "self.V[v].index = 68\n",
      "self.V[v].index = 69\n",
      "self.V[v].index = 70\n",
      "self.V[v].index = 71\n",
      "self.V[v].index = 72\n",
      "self.V[v].index = 73\n",
      "self.V[v].index = 74\n",
      "self.V[v].index = 75\n",
      "self.V[v].index = 76\n",
      "self.V[v].index = 77\n",
      "self.V[v].index = 78\n",
      "self.V[v].index = 79\n",
      "self.V[v].index = 80\n",
      "self.V[v].index = 81\n",
      "self.V[v].index = 82\n",
      "self.V[v].index = 83\n",
      "self.V[v].index = 84\n",
      "self.V[v].index = 85\n",
      "self.V[v].index = 86\n",
      "self.V[v].index = 87\n",
      "self.V[v].index = 88\n",
      "self.V[v].index = 89\n",
      "self.V[v].index = 90\n",
      "self.V[v].index = 91\n",
      "self.V[v].index = 92\n",
      "self.V[v].index = 93\n",
      "self.V[v].index = 94\n",
      "self.V[v].index = 95\n",
      "self.V[v].index = 96\n",
      "self.V[v].index = 97\n",
      "self.V[v].index = 98\n",
      "self.V[v].index = 99\n",
      "self.V[v].index = 100\n",
      "self.V[v].index = 101\n",
      "self.V[v].index = 102\n",
      "self.V[v].index = 103\n",
      "self.V[v].index = 104\n",
      "self.V[v].index = 105\n",
      "self.V[v].index = 106\n",
      "self.V[v].index = 107\n",
      "self.V[v].index = 108\n",
      "self.V[v].index = 109\n",
      "self.V[v].index = 110\n",
      "self.V[v].index = 111\n",
      "self.V[v].index = 112\n",
      "self.V[v].index = 113\n",
      "self.V[v].index = 114\n",
      "self.V[v].index = 115\n",
      "self.V[v].index = 116\n",
      "self.V[v].index = 117\n",
      "self.V[v].index = 118\n",
      "self.V[v].index = 119\n",
      "self.V[v].index = 120\n",
      "self.V[v].index = 121\n",
      "self.V[v].index = 122\n",
      "self.V[v].index = 123\n",
      "self.V[v].index = 124\n",
      "self.V[v].index = 125\n",
      "self.V[v].index = 126\n",
      "self.V[v].index = 127\n",
      "self.V[v].index = 128\n",
      "self.V[v].index = 129\n",
      "self.V[v].index = 130\n",
      "self.V[v].index = 131\n",
      "self.V[v].index = 132\n",
      "self.V[v].index = 133\n",
      "self.V[v].index = 134\n",
      "self.V[v].index = 135\n"
     ]
    }
   ],
   "source": [
    "import numpy as np\n",
    "from ddgclib._particle_liquid_bridge_20240422 import *\n",
    "\n",
    "#---------------------------------------------------------------------------------------------------------------------\n",
    "contact_angle = False\n",
    "theta_p = 10  # Three phase contact angle in °\n",
    "\n",
    "shearing=True\n",
    "shearing_parameter= 1\n",
    "\n",
    "save_activated=False\n",
    "\n",
    "volume_constraint=False\n",
    "V_soll = 0.05\n",
    "\n",
    "\n",
    "refinement= 3 # NOTE: 2 is the minimum refinement needed for the complex to be manifold\n",
    "#---------------------------------------------------------------------------------------------------------------------\n",
    "\n",
    "\n",
    "breaking_condition = 1e-9\n",
    "tau = 1    # Endtime for calculation\n",
    "itermax = 0\n",
    "itermax_load = 25*1e3 # number of iteration of the loaded complex\n",
    "\n",
    "'''\n",
    "from Liam 19939\n",
    "'''\n",
    "gamma = 2.45e-3  # N/m, surface tension of di-n-butyl phthalate/liquid paraffin mixture\n",
    "r_i = 15e-3 # Particle Radian\n",
    "\n",
    "half_filling_angle = 10 # half filling angle in °\n",
    "S = 0.1 # dimensionless seperation distance\n",
    "\n",
    "y_i = np.sin(half_filling_angle * np.pi/180.0) * r_i # calculated radian of the liquid bridge\n",
    "r_l = y_i\n",
    "r_u = r_l\n",
    "\n",
    "\n",
    "h_i = r_i -  (r_i**2 - (y_i)**2)**0.5\n",
    "length = S * r_i + 2 * h_i\n",
    "global_contact_angle = (half_filling_angle + theta_p) * np.pi/180.0\n",
    "\n",
    "\n",
    "dummy_parameter2 = fun_liquid_bridge_N(r_l, r_u, length, refinement, global_contact_angle,tau, gamma, breaking_condition,itermax,contact_angle = contact_angle, save_activated=save_activated, load_activated=False, itermax_load = itermax_load, volume_constraint=volume_constraint, V_init= y_i**2 *np.pi * length * V_soll, shearing=shearing, shearing_parameter= shearing_parameter)\n",
    "\n",
    "\n",
    "HC = dummy_parameter2['HC']\n",
    "plot_polyscope(HC)"
   ],
   "metadata": {
    "collapsed": false,
    "ExecuteTime": {
     "end_time": "2024-04-23T22:08:42.275722300Z",
     "start_time": "2024-04-23T22:08:24.205760500Z"
    }
   }
  },
  {
   "cell_type": "code",
   "execution_count": 9,
   "outputs": [],
   "source": [
    "import numpy as np\n",
    "import polyscope as ps\n",
    "ps.init()\n",
    "\n",
    "# register a surface mesh\n",
    "N_vert = 100\n",
    "N_face = 250\n",
    "vertices = np.random.rand(N_vert, 3) # (V,3) vertex position array\n",
    "faces = np.random.randint(0, N_vert, size=(N_face,3)) # (F,3) array of indices\n",
    "                                                      # for triangular faces\n",
    "\n",
    "ps_mesh = ps.register_surface_mesh(\"my mesh\", vertices, faces)\n",
    "\n",
    "# visualize some random vectors per vertex\n",
    "vecs_vert = np.random.rand(N_vert, 3)\n",
    "ps_mesh.add_vector_quantity(\"rand vecs\", vecs_vert, enabled=True)\n",
    "\n",
    "# set radius/length/color of the vectors\n",
    "ps_mesh.add_vector_quantity(\"rand vecs opt\", vecs_vert, radius=1000,\n",
    "                            length=5000, color=(0.2, 0.5, 0.5))\n",
    "\n",
    "# ambient vectors don't get auto-scaled, useful e.g. when representing offsets in 3D space\n",
    "ps_mesh.add_vector_quantity(\"vecs ambient\", vecs_vert, vectortype='ambient')\n",
    "\n",
    "# view the mesh with all of these quantities\n",
    "ps.show()"
   ],
   "metadata": {
    "collapsed": false,
    "ExecuteTime": {
     "end_time": "2024-04-25T16:51:51.722034500Z",
     "start_time": "2024-04-25T16:51:34.809779700Z"
    }
   }
  },
  {
   "cell_type": "code",
   "execution_count": null,
   "outputs": [],
   "source": [],
   "metadata": {
    "collapsed": false
   }
  }
 ],
 "metadata": {
  "kernelspec": {
   "display_name": "Python 3",
   "language": "python",
   "name": "python3"
  },
  "language_info": {
   "codemirror_mode": {
    "name": "ipython",
    "version": 2
   },
   "file_extension": ".py",
   "mimetype": "text/x-python",
   "name": "python",
   "nbconvert_exporter": "python",
   "pygments_lexer": "ipython2",
   "version": "2.7.6"
  }
 },
 "nbformat": 4,
 "nbformat_minor": 0
}
