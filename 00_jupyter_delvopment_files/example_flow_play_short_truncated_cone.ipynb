{
 "cells": [
  {
   "cell_type": "markdown",
   "source": [
    "# Description\n",
    "This script can be used for an optimization with an cylinder as an initial geometry. The diameter from the cylinder is fixed."
   ],
   "metadata": {
    "collapsed": false
   }
  },
  {
   "cell_type": "code",
   "execution_count": 30,
   "outputs": [],
   "source": [
    "# Imports and physical parameters\n",
    "import numpy as np\n",
    "import scipy\n",
    "\n",
    "import matplotlib.pyplot as plt\n",
    "from mpl_toolkits.mplot3d import Axes3D\n",
    "from matplotlib.patches import FancyArrowPatch\n",
    "from mpl_toolkits.mplot3d import proj3d\n",
    "from ipywidgets import *\n",
    "from matplotlib.widgets import Slider\n",
    "\n",
    "# ddg imports\n",
    "import os, sys\n",
    "module_path = os.path.abspath(os.path.join('..'))\n",
    "if module_path not in sys.path:\n",
    "    sys.path.append(module_path)\n",
    "\n",
    "from ddgclib._particle_liquid_bridge_initial_truncated_cone_flo import *\n",
    "import numpy as np\n",
    "from timeit import default_timer as timer\n",
    "import matplotlib.pyplot as plt\n",
    "\n",
    "#set parameters for plots\n",
    "plt.rcParams[\"font.family\"] = \"sans-serif\"\n",
    "plt.rcParams[\"font.sans-serif\"] = \"Arial\"\n",
    "plt.rcParams[\"mathtext.fontset\"] = \"custom\"\n",
    "plt.rcParams[\"mathtext.it\"] = \"Arial:italic\"\n",
    "plt.rcParams[\"mathtext.rm\"] = \"Arial\"\n",
    "plt.rcParams[\"mathtext.default\"] = \"it\"\n",
    "plt.rcParams['axes.labelsize'] = 16\n",
    "plt.rcParams['axes.titlesize'] = 16\n",
    "plt.rcParams['xtick.labelsize'] = 16\n",
    "plt.rcParams['ytick.labelsize'] = 16\n",
    "plt.rcParams['legend.fontsize'] = 16\n",
    "\n",
    "# refinement=3# NOTE: 2 is the minimum refinement needed for the complex to be manifold\n",
    "\n",
    "\n",
    "gamma = 0.0728  # N/m, surface tension of water at 20 deg C\n",
    "\n",
    "refinement = 2\n",
    "\n",
    "\n",
    "diameter_l  = 1     # diameter on the lower side of the cone in m\n",
    "diameter_u  = 1     # diameter on the upper side of the cone in m\n",
    "\n",
    "length      = 1     # length of the initial cylinder\n",
    "\n",
    "t_f         = 0     # End-Residual-Time // if t_f = 0, no optimization\n",
    "tau         = 0.1   # step-size\n",
    "\n"
   ],
   "metadata": {
    "collapsed": false,
    "ExecuteTime": {
     "end_time": "2023-12-04T13:43:52.906586900Z",
     "start_time": "2023-12-04T13:43:52.888250900Z"
    }
   }
  },
  {
   "cell_type": "code",
   "execution_count": 31,
   "outputs": [],
   "source": [
    "complex = fun_liquid_bridge_truncated_cone_N(diameter_l, diameter_u, length, refinement, tau, t_f, gamma)"
   ],
   "metadata": {
    "collapsed": false,
    "ExecuteTime": {
     "end_time": "2023-12-04T13:43:53.125801100Z",
     "start_time": "2023-12-04T13:43:53.066681Z"
    }
   }
  },
  {
   "cell_type": "code",
   "execution_count": 32,
   "outputs": [],
   "source": [
    "HC = complex[0]\n",
    "iteration_list = complex[1]\n",
    "df_list_min = complex[2]\n",
    "df_list_max = complex[3]"
   ],
   "metadata": {
    "collapsed": false,
    "ExecuteTime": {
     "end_time": "2023-12-04T13:43:53.308350800Z",
     "start_time": "2023-12-04T13:43:53.292727600Z"
    }
   }
  },
  {
   "cell_type": "code",
   "execution_count": 33,
   "outputs": [
    {
     "name": "stdout",
     "output_type": "stream",
     "text": [
      "np.zeros([self.V.size(), self.dim]) = [[0. 0.]\n",
      " [0. 0.]\n",
      " [0. 0.]\n",
      " [0. 0.]\n",
      " [0. 0.]\n",
      " [0. 0.]\n",
      " [0. 0.]\n",
      " [0. 0.]\n",
      " [0. 0.]\n",
      " [0. 0.]\n",
      " [0. 0.]\n",
      " [0. 0.]\n",
      " [0. 0.]\n",
      " [0. 0.]\n",
      " [0. 0.]\n",
      " [0. 0.]\n",
      " [0. 0.]\n",
      " [0. 0.]\n",
      " [0. 0.]\n",
      " [0. 0.]\n",
      " [0. 0.]\n",
      " [0. 0.]\n",
      " [0. 0.]\n",
      " [0. 0.]\n",
      " [0. 0.]\n",
      " [0. 0.]\n",
      " [0. 0.]\n",
      " [0. 0.]\n",
      " [0. 0.]\n",
      " [0. 0.]\n",
      " [0. 0.]\n",
      " [0. 0.]\n",
      " [0. 0.]\n",
      " [0. 0.]\n",
      " [0. 0.]\n",
      " [0. 0.]\n",
      " [0. 0.]\n",
      " [0. 0.]]\n",
      "self.V[v].index = 0\n",
      "self.V[v].index = 1\n",
      "self.V[v].index = 2\n",
      "self.V[v].index = 3\n",
      "self.V[v].index = 4\n",
      "self.V[v].index = 5\n",
      "self.V[v].index = 6\n",
      "self.V[v].index = 7\n",
      "self.V[v].index = 8\n",
      "self.V[v].index = 9\n",
      "self.V[v].index = 10\n",
      "self.V[v].index = 11\n",
      "self.V[v].index = 12\n",
      "self.V[v].index = 13\n",
      "self.V[v].index = 14\n",
      "self.V[v].index = 15\n",
      "self.V[v].index = 16\n",
      "self.V[v].index = 17\n",
      "self.V[v].index = 18\n",
      "self.V[v].index = 19\n",
      "self.V[v].index = 20\n",
      "self.V[v].index = 21\n",
      "self.V[v].index = 22\n",
      "self.V[v].index = 23\n",
      "self.V[v].index = 24\n",
      "self.V[v].index = 25\n",
      "self.V[v].index = 26\n",
      "self.V[v].index = 27\n",
      "self.V[v].index = 28\n",
      "self.V[v].index = 29\n",
      "self.V[v].index = 30\n",
      "self.V[v].index = 31\n",
      "self.V[v].index = 32\n",
      "self.V[v].index = 33\n",
      "self.V[v].index = 34\n",
      "self.V[v].index = 35\n",
      "self.V[v].index = 36\n",
      "self.V[v].index = 37\n"
     ]
    }
   ],
   "source": [
    "plot_polyscope(HC)"
   ],
   "metadata": {
    "collapsed": false,
    "ExecuteTime": {
     "end_time": "2023-12-04T13:45:52.461991600Z",
     "start_time": "2023-12-04T13:43:53.831124200Z"
    }
   }
  },
  {
   "cell_type": "code",
   "execution_count": 5,
   "outputs": [
    {
     "data": {
      "text/plain": "Text(0.5, 1.0, 'Residuals for HNdA')"
     },
     "execution_count": 5,
     "metadata": {},
     "output_type": "execute_result"
    },
    {
     "data": {
      "text/plain": "<Figure size 864x432 with 2 Axes>",
      "image/png": "[encoded data removed]"
     },
     "metadata": {
      "needs_background": "light"
     },
     "output_type": "display_data"
    }
   ],
   "source": [
    "'''\n",
    "Plot of the residual data\n",
    "'''\n",
    "fig, ax = plot.subplots(nrows=1, ncols=2, figsize=(12, 6))\n",
    "\n",
    "\n",
    "ax[0].plot(iteration_list, df_list_max)\n",
    "ax[0].plot(iteration_list, df_list_min)\n",
    "\n",
    "#ax[1].plot(iteration_list, dHNdA_list_max)\n",
    "#ax[1].plot(iteration_list, dHNdA_list_min)\n",
    "\n",
    "\n",
    "\n",
    "ax[0].set_title('Residuals for df')\n",
    "ax[1].set_title('Residuals for HNdA')"
   ],
   "metadata": {
    "collapsed": false,
    "ExecuteTime": {
     "end_time": "2023-11-06T11:45:13.867172600Z",
     "start_time": "2023-11-06T11:45:13.758402200Z"
    }
   }
  },
  {
   "cell_type": "code",
   "execution_count": null,
   "outputs": [],
   "source": [
    "plot_polyscope(HC)"
   ],
   "metadata": {
    "collapsed": false
   }
  },
  {
   "cell_type": "markdown",
   "source": [
    "# Volume calculating Flo"
   ],
   "metadata": {
    "collapsed": false
   }
  },
  {
   "cell_type": "code",
   "execution_count": null,
   "outputs": [],
   "source": [
    "V = 0\n",
    "for v in HC.V:\n",
    "    V_ijk = volume(v)\n",
    "    #print(V_ijk)\n",
    "    V += np.sum(V_ijk)\n",
    "\n",
    "V = V/12"
   ],
   "metadata": {
    "collapsed": false
   }
  },
  {
   "cell_type": "code",
   "execution_count": null,
   "outputs": [],
   "source": [
    "V"
   ],
   "metadata": {
    "collapsed": false
   }
  },
  {
   "cell_type": "code",
   "execution_count": null,
   "outputs": [],
   "source": [
    "def fun_V_analytic(r, v_l, v_u):\n",
    "    V_an = np.pi/4*r**2*(v_u-v_l)\n",
    "    return V_an"
   ],
   "metadata": {
    "collapsed": false
   }
  },
  {
   "cell_type": "code",
   "execution_count": null,
   "outputs": [],
   "source": [
    "fun_V_analytic(1,-0.5,0.5)"
   ],
   "metadata": {
    "collapsed": false
   }
  },
  {
   "cell_type": "markdown",
   "source": [
    "# Save and load from complexes"
   ],
   "metadata": {
    "collapsed": false
   }
  },
  {
   "cell_type": "code",
   "execution_count": null,
   "outputs": [],
   "source": [
    "'''\n",
    "Save and load don't work --> ask Stefan\n",
    "'''\n",
    "#HC.save_complex(fn='data.json')"
   ],
   "metadata": {
    "collapsed": false
   }
  },
  {
   "cell_type": "code",
   "execution_count": null,
   "outputs": [],
   "source": [],
   "metadata": {
    "collapsed": false
   }
  },
  {
   "cell_type": "code",
   "execution_count": null,
   "outputs": [],
   "source": [],
   "metadata": {
    "collapsed": false
   }
  },
  {
   "cell_type": "code",
   "execution_count": null,
   "outputs": [],
   "source": [],
   "metadata": {
    "collapsed": false
   }
  }
 ],
 "metadata": {
  "kernelspec": {
   "display_name": "Python 3",
   "language": "python",
   "name": "python3"
  },
  "language_info": {
   "codemirror_mode": {
    "name": "ipython",
    "version": 2
   },
   "file_extension": ".py",
   "mimetype": "text/x-python",
   "name": "python",
   "nbconvert_exporter": "python",
   "pygments_lexer": "ipython2",
   "version": "2.7.6"
  }
 },
 "nbformat": 4,
 "nbformat_minor": 0
}
