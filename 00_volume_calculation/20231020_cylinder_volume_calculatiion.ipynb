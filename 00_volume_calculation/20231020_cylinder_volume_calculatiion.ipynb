{
 "cells": [
  {
   "cell_type": "markdown",
   "source": [
    "# Grid Independence Study"
   ],
   "metadata": {
    "collapsed": false
   }
  },
  {
   "cell_type": "code",
   "execution_count": 1,
   "outputs": [],
   "source": [
    "# Imports and physical parameters\n",
    "import numpy as np\n",
    "import scipy\n",
    "\n",
    "import matplotlib.pyplot as plt\n",
    "from mpl_toolkits.mplot3d import Axes3D\n",
    "from matplotlib.patches import FancyArrowPatch\n",
    "from mpl_toolkits.mplot3d import proj3d\n",
    "from ipywidgets import *\n",
    "from matplotlib.widgets import Slider\n",
    "\n",
    "# ddg imports\n",
    "import os, sys\n",
    "module_path = os.path.abspath(os.path.join('..'))\n",
    "if module_path not in sys.path:\n",
    "    sys.path.append(module_path)\n",
    "\n",
    "from ddgclib._particle_liquid_bridge_flo import *\n",
    "import numpy as np\n",
    "from timeit import default_timer as timer\n",
    "import matplotlib.pyplot as plt\n",
    "\n",
    "#set parameters for plots\n",
    "plt.rcParams[\"font.family\"] = \"sans-serif\"\n",
    "plt.rcParams[\"font.sans-serif\"] = \"Arial\"\n",
    "plt.rcParams[\"mathtext.fontset\"] = \"custom\"\n",
    "plt.rcParams[\"mathtext.it\"] = \"Arial:italic\"\n",
    "plt.rcParams[\"mathtext.rm\"] = \"Arial\"\n",
    "plt.rcParams[\"mathtext.default\"] = \"it\"\n",
    "plt.rcParams['axes.labelsize'] = 16\n",
    "plt.rcParams['axes.titlesize'] = 16\n",
    "plt.rcParams['xtick.labelsize'] = 16\n",
    "plt.rcParams['ytick.labelsize'] = 16\n",
    "plt.rcParams['legend.fontsize'] = 16\n",
    "\n",
    "# refinement=3# NOTE: 2 is the minimum refinement needed for the complex to be manifold\n",
    "\n",
    "\n",
    "gamma = 0.0728  # N/m, surface tension of water at 20 deg C\n",
    "\n",
    "refinement_end = 7\n",
    "\n",
    "diameter    = 2     # diameter in m\n",
    "length      = 1     # length of the initial cylinder\n",
    "\n",
    "t_f         = 0     # End-Residual-Time // if t_f = 0, no optimization\n",
    "tau         = 0.1   # step-size\n",
    "\n"
   ],
   "metadata": {
    "collapsed": false,
    "ExecuteTime": {
     "end_time": "2024-02-01T12:59:40.245518200Z",
     "start_time": "2024-02-01T12:59:39.130087100Z"
    }
   }
  },
  {
   "cell_type": "code",
   "execution_count": 2,
   "outputs": [
    {
     "name": "stdout",
     "output_type": "stream",
     "text": [
      "Time elapsed: 0.08 s\n",
      "Volume calculated: 0.64 m^3\n",
      "Volume deviation: 18.76 %\n",
      "Time elapsed: 0.44 s\n",
      "Volume calculated: 0.75 m^3\n",
      "Volume deviation: 5.02 %\n",
      "Time elapsed: 4.54 s\n",
      "Volume calculated: 0.78 m^3\n",
      "Volume deviation: 1.28 %\n"
     ]
    },
    {
     "ename": "KeyboardInterrupt",
     "evalue": "",
     "output_type": "error",
     "traceback": [
      "\u001B[1;31m---------------------------------------------------------------------------\u001B[0m",
      "\u001B[1;31mKeyboardInterrupt\u001B[0m                         Traceback (most recent call last)",
      "Cell \u001B[1;32mIn[2], line 24\u001B[0m\n\u001B[0;32m     20\u001B[0m starttime \u001B[38;5;241m=\u001B[39m timer()\n\u001B[0;32m     22\u001B[0m refinement \u001B[38;5;241m=\u001B[39m refinement_list[i]\n\u001B[1;32m---> 24\u001B[0m dummy_parameter \u001B[38;5;241m=\u001B[39m \u001B[43mfun_liquid_bridge\u001B[49m\u001B[43m(\u001B[49m\u001B[43mv_l\u001B[49m\u001B[43m,\u001B[49m\u001B[43m \u001B[49m\u001B[43mv_u\u001B[49m\u001B[43m,\u001B[49m\u001B[43mtau\u001B[49m\u001B[43m,\u001B[49m\u001B[43m \u001B[49m\u001B[43mt_f\u001B[49m\u001B[43m,\u001B[49m\u001B[43mdiameter\u001B[49m\u001B[43m,\u001B[49m\u001B[43m \u001B[49m\u001B[43mrefinement\u001B[49m\u001B[43m,\u001B[49m\u001B[43mgamma\u001B[49m\u001B[43m)\u001B[49m \u001B[38;5;66;03m# v_l, v_u, tau, tf, d\u001B[39;00m\n\u001B[0;32m     25\u001B[0m HC \u001B[38;5;241m=\u001B[39m dummy_parameter[\u001B[38;5;241m0\u001B[39m]\n\u001B[0;32m     27\u001B[0m \u001B[38;5;250m\u001B[39m\u001B[38;5;124;03m'''\u001B[39;00m\n\u001B[0;32m     28\u001B[0m \u001B[38;5;124;03mVolume calculation\u001B[39;00m\n\u001B[0;32m     29\u001B[0m \u001B[38;5;124;03m'''\u001B[39;00m\n",
      "File \u001B[1;32mD:\\02_Masterarbeit\\03_Python\\ddgclib\\_particle_liquid_bridge_flo.py:94\u001B[0m, in \u001B[0;36mfun_liquid_bridge\u001B[1;34m(v_l, v_u, tau, t_f, d, refinement, gamma)\u001B[0m\n\u001B[0;32m     88\u001B[0m \u001B[38;5;250m\u001B[39m\u001B[38;5;124;03m'''\u001B[39;00m\n\u001B[0;32m     89\u001B[0m \u001B[38;5;124;03m-----------------------------------------------------------\u001B[39;00m\n\u001B[0;32m     90\u001B[0m \u001B[38;5;124;03mFrom here, the mesh for an open cylinder is meshed\u001B[39;00m\n\u001B[0;32m     91\u001B[0m \u001B[38;5;124;03m'''\u001B[39;00m\n\u001B[0;32m     93\u001B[0m \u001B[38;5;66;03m#HC, bV, K_f, H_f, neck_verts, neck_sols = catenoiderror_N(r, theta_p, gamma, abc,u_l, u_u, v_l, v_u, refinement=refinement, cdist=1e-5, equilibrium=True)\u001B[39;00m\n\u001B[1;32m---> 94\u001B[0m HC, bV, K_f, H_f, neck_verts, neck_sols \u001B[38;5;241m=\u001B[39m \u001B[43mcatenoiderror_N\u001B[49m\u001B[43m(\u001B[49m\u001B[43mabc\u001B[49m\u001B[43m,\u001B[49m\u001B[43m \u001B[49m\u001B[43mv_l\u001B[49m\u001B[43m,\u001B[49m\u001B[43m \u001B[49m\u001B[43mv_u\u001B[49m\u001B[43m,\u001B[49m\u001B[43m \u001B[49m\u001B[43mrefinement\u001B[49m\u001B[43m)\u001B[49m\n\u001B[0;32m     96\u001B[0m \u001B[38;5;250m\u001B[39m\u001B[38;5;124;03m'''\u001B[39;00m\n\u001B[0;32m     97\u001B[0m \u001B[38;5;124;03m-----------------------------------------------------------\u001B[39;00m\n\u001B[0;32m     98\u001B[0m \u001B[38;5;124;03mclosing the open mesh\u001B[39;00m\n\u001B[0;32m     99\u001B[0m \u001B[38;5;124;03m'''\u001B[39;00m\n\u001B[0;32m    101\u001B[0m \u001B[38;5;66;03m# Define bottom boundary condition\u001B[39;00m\n",
      "File \u001B[1;32mD:\\02_Masterarbeit\\03_Python\\ddgclib\\_catenoid_error.py:85\u001B[0m, in \u001B[0;36mcatenoiderror_N\u001B[1;34m(abc, v_l, v_u, refinement)\u001B[0m\n\u001B[0;32m     83\u001B[0m \u001B[38;5;28;01mfor\u001B[39;00m v \u001B[38;5;129;01min\u001B[39;00m HC_plane\u001B[38;5;241m.\u001B[39mV:\n\u001B[0;32m     84\u001B[0m     \u001B[38;5;28;01mfor\u001B[39;00m vn \u001B[38;5;129;01min\u001B[39;00m v\u001B[38;5;241m.\u001B[39mnn:\n\u001B[1;32m---> 85\u001B[0m         v1 \u001B[38;5;241m=\u001B[39m \u001B[38;5;28;43mlist\u001B[39;49m\u001B[43m(\u001B[49m\u001B[43mHC\u001B[49m\u001B[38;5;241;43m.\u001B[39;49m\u001B[43mV\u001B[49m\u001B[43m)\u001B[49m[v\u001B[38;5;241m.\u001B[39mindex]\n\u001B[0;32m     86\u001B[0m         v2 \u001B[38;5;241m=\u001B[39m \u001B[38;5;28mlist\u001B[39m(HC\u001B[38;5;241m.\u001B[39mV)[vn\u001B[38;5;241m.\u001B[39mindex]\n\u001B[0;32m     87\u001B[0m         v1\u001B[38;5;241m.\u001B[39mconnect(v2)\n",
      "File \u001B[1;32mD:\\02_Masterarbeit\\03_Python\\ddgclib\\_vertex.py:192\u001B[0m, in \u001B[0;36mVertexCacheBase.__iter__\u001B[1;34m(self)\u001B[0m\n\u001B[0;32m    190\u001B[0m items \u001B[38;5;241m=\u001B[39m \u001B[38;5;28mlist\u001B[39m(\u001B[38;5;28mself\u001B[39m\u001B[38;5;241m.\u001B[39mcache\u001B[38;5;241m.\u001B[39mitems())\n\u001B[0;32m    191\u001B[0m \u001B[38;5;28;01mfor\u001B[39;00m ind \u001B[38;5;129;01min\u001B[39;00m iterator:\n\u001B[1;32m--> 192\u001B[0m     \u001B[38;5;28;01myield\u001B[39;00m \u001B[43mitems\u001B[49m\u001B[43m[\u001B[49m\u001B[43mind\u001B[49m\u001B[43m]\u001B[49m[\u001B[38;5;241m1\u001B[39m]\n\u001B[0;32m    193\u001B[0m     \u001B[38;5;66;03m#try:\u001B[39;00m\n\u001B[0;32m    194\u001B[0m     \u001B[38;5;66;03m#    yield items[ind][1]\u001B[39;00m\n\u001B[0;32m    195\u001B[0m     \u001B[38;5;66;03m#except KeyError:\u001B[39;00m\n\u001B[1;32m   (...)\u001B[0m\n\u001B[0;32m    199\u001B[0m \u001B[38;5;66;03m#for v in self.cache:\u001B[39;00m\n\u001B[0;32m    200\u001B[0m \u001B[38;5;66;03m#    yield self.cache[v]\u001B[39;00m\n\u001B[0;32m    201\u001B[0m \u001B[38;5;28;01mreturn\u001B[39;00m\n",
      "\u001B[1;31mKeyboardInterrupt\u001B[0m: "
     ]
    }
   ],
   "source": [
    "v_l         = 0 - length/2  # lower length-coordinate\n",
    "v_u         = 0 + length/2   # higher length-coordinate\n",
    "\n",
    "\n",
    "string_savename     = 'd'+ str(diameter) + 'l' + str(length) + 'ref' + str(refinement_end)\n",
    "\n",
    "refinement_list = np.arange(2,refinement_end,1)\n",
    "\n",
    "def fun_V_analytic(diameter, length):\n",
    "    V_an = np.pi/4*diameter**2*length\n",
    "    return V_an\n",
    "\n",
    "V_an = fun_V_analytic(diameter, length)\n",
    "\n",
    "\n",
    "v_rel_list  = []\n",
    "time_list   = []\n",
    "\n",
    "for i in range(len(refinement_list)):\n",
    "    starttime = timer()\n",
    "\n",
    "    refinement = refinement_list[i]\n",
    "\n",
    "    dummy_parameter = fun_liquid_bridge(v_l, v_u,tau, t_f,diameter, refinement,gamma) # v_l, v_u, tau, tf, d\n",
    "    HC = dummy_parameter[0]\n",
    "\n",
    "    '''\n",
    "    Volume calculation\n",
    "    '''\n",
    "    V_num = 0\n",
    "    for v in HC.V:\n",
    "        V_ijk = volume(v)\n",
    "        #print(V_ijk)\n",
    "        V_num += np.sum(V_ijk)\n",
    "\n",
    "    V_num = V_num/12\n",
    "\n",
    "    v_rel = ((V_an - V_num)/V_an)*100\n",
    "\n",
    "    endtime = timer()\n",
    "\n",
    "    print(f\"Time elapsed: {endtime-starttime:.2f} s\")\n",
    "    print(f\"Volume calculated: {V_num:.2f} m^3\")\n",
    "    print(f\"Volume deviation: {v_rel:.2f} %\")\n",
    "\n",
    "    v_rel_list.append(v_rel)\n",
    "    time_list.append(endtime-starttime)\n",
    "\n",
    "np.savetxt(string_savename + '_vrel'+ '.txt',v_rel_list)\n",
    "np.savetxt(string_savename + '_time'+ '.txt',time_list)\n"
   ],
   "metadata": {
    "collapsed": false,
    "ExecuteTime": {
     "end_time": "2024-02-01T13:00:00.322637300Z",
     "start_time": "2024-02-01T12:59:40.243395900Z"
    }
   }
  },
  {
   "cell_type": "code",
   "execution_count": 7,
   "outputs": [],
   "source": [
    "def volume_fun(refinement_end, length, diameter, tau=0.1, t_f=0, gamma=0.0728):\n",
    "    v_l         = 0 - length/2  # lower length-coordinate\n",
    "    v_u         = 0 + length/2   # higher length-coordinate\n",
    "    refinement_list = np.arange(2,refinement_end,1)\n",
    "    string_savename     = 'd'+ str(diameter) + 'l' + str(length) + 'ref' + str(refinement_end)\n",
    "\n",
    "    for i in range(len(refinement_list)):\n",
    "        starttime = timer()\n",
    "        refinement = refinement_list[i]\n",
    "\n",
    "        dummy_parameter = fun_liquid_bridge(v_l, v_u,tau, t_f,diameter, refinement,gamma) # v_l, v_u, tau, tf, d\n",
    "        HC = dummy_parameter[0]\n",
    "\n",
    "        '''\n",
    "        Volume calculation\n",
    "        '''\n",
    "        V_num = 0\n",
    "        for v in HC.V:\n",
    "            V_ijk = volume(v)\n",
    "            #print(V_ijk)\n",
    "            V_num += np.sum(V_ijk)\n",
    "\n",
    "        V_num = V_num/12\n",
    "\n",
    "        v_rel = ((V_an - V_num)/V_an)*100\n",
    "\n",
    "        endtime = timer()\n",
    "\n",
    "        print(f\"Time elapsed: {endtime-starttime:.2f} s\")\n",
    "        print(f\"Volume calculated: {V_num:.2f} m^3\")\n",
    "        print(f\"Volume deviation: {v_rel:.2f} %\")\n",
    "\n",
    "        v_rel_list.append(v_rel)\n",
    "        time_list.append(endtime-starttime)\n",
    "\n",
    "    np.savetxt(string_savename + '_vrel'+ '.txt',v_rel_list)\n",
    "    np.savetxt(string_savename + '_time'+ '.txt',time_list)\n",
    "    print('Ende Gelände')"
   ],
   "metadata": {
    "collapsed": false,
    "ExecuteTime": {
     "end_time": "2024-02-01T13:03:12.986874300Z",
     "start_time": "2024-02-01T13:03:12.977495200Z"
    }
   }
  },
  {
   "cell_type": "code",
   "execution_count": 8,
   "outputs": [
    {
     "name": "stdout",
     "output_type": "stream",
     "text": [
      "Time elapsed: 0.08 s\n",
      "Volume calculated: 0.64 m^3\n",
      "Volume deviation: 18.76 %\n",
      "Time elapsed: 0.43 s\n",
      "Volume calculated: 0.75 m^3\n",
      "Volume deviation: 5.02 %\n",
      "Ende Gelände\n"
     ]
    }
   ],
   "source": [
    "\n",
    "volume_fun(refinement_end= 4, length=1, diameter=1)"
   ],
   "metadata": {
    "collapsed": false,
    "ExecuteTime": {
     "end_time": "2024-02-01T13:03:13.730302900Z",
     "start_time": "2024-02-01T13:03:13.203559900Z"
    }
   }
  },
  {
   "cell_type": "code",
   "execution_count": 4,
   "outputs": [
    {
     "data": {
      "text/plain": "<Figure size 864x432 with 2 Axes>",
      "image/png": "[encoded data removed]"
     },
     "metadata": {
      "needs_background": "light"
     },
     "output_type": "display_data"
    }
   ],
   "source": [
    "'''\n",
    "Plot the data\n",
    "'''\n",
    "fig, ax = plot.subplots(nrows=1, ncols=2, figsize=(12, 6))\n",
    "\n",
    "\n",
    "ax[0].plot(refinement_list, v_rel_list,\"o:\",color=\"tab:blue\")\n",
    "ax[1].plot(refinement_list, time_list,\"o:\",color=\"tab:blue\")\n",
    "\n",
    "\n",
    "ax[0].set_title('Volume deviation')\n",
    "ax[1].set_title('Time')\n",
    "\n",
    "ax[0].set_ylabel(\"Vrel / %\")\n",
    "ax[1].set_ylabel(\"time / s\")\n",
    "\n",
    "ax[0].set_xlabel(\"refinment / -\")\n",
    "ax[1].set_xlabel(\"refinment / -\")\n",
    "\n",
    "plt.tight_layout()\n",
    "plt.savefig(\"volume_refinment_validation.png\")\n"
   ],
   "metadata": {
    "collapsed": false,
    "ExecuteTime": {
     "end_time": "2023-12-01T17:55:02.243909100Z",
     "start_time": "2023-12-01T17:55:02.102359300Z"
    }
   }
  },
  {
   "cell_type": "code",
   "execution_count": null,
   "outputs": [],
   "source": [],
   "metadata": {
    "collapsed": false
   }
  },
  {
   "cell_type": "code",
   "execution_count": null,
   "outputs": [],
   "source": [],
   "metadata": {
    "collapsed": false
   }
  },
  {
   "cell_type": "code",
   "execution_count": null,
   "outputs": [],
   "source": [],
   "metadata": {
    "collapsed": false
   }
  }
 ],
 "metadata": {
  "kernelspec": {
   "display_name": "Python 3",
   "language": "python",
   "name": "python3"
  },
  "language_info": {
   "codemirror_mode": {
    "name": "ipython",
    "version": 2
   },
   "file_extension": ".py",
   "mimetype": "text/x-python",
   "name": "python",
   "nbconvert_exporter": "python",
   "pygments_lexer": "ipython2",
   "version": "2.7.6"
  }
 },
 "nbformat": 4,
 "nbformat_minor": 0
}
