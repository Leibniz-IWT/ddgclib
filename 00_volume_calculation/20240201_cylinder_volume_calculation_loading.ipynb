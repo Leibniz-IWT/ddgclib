{
 "cells": [
  {
   "cell_type": "markdown",
   "source": [
    "# Grid Independence Study"
   ],
   "metadata": {
    "collapsed": false
   }
  },
  {
   "cell_type": "code",
   "execution_count": 1,
   "outputs": [],
   "source": [
    "# Imports and physical parameters\n",
    "import numpy as np\n",
    "import scipy\n",
    "\n",
    "import matplotlib.pyplot as plt\n",
    "from mpl_toolkits.mplot3d import Axes3D\n",
    "from matplotlib.patches import FancyArrowPatch\n",
    "from mpl_toolkits.mplot3d import proj3d\n",
    "from ipywidgets import *\n",
    "from matplotlib.widgets import Slider\n",
    "\n",
    "# ddg imports\n",
    "import os, sys\n",
    "module_path = os.path.abspath(os.path.join('..'))\n",
    "if module_path not in sys.path:\n",
    "    sys.path.append(module_path)\n",
    "\n",
    "from ddgclib._particle_liquid_bridge_flo import *\n",
    "import numpy as np\n",
    "from timeit import default_timer as timer\n",
    "import matplotlib.pyplot as plt\n",
    "from concurrent import futures\n",
    "\n",
    "#set parameters for plots\n",
    "plt.rcParams[\"font.family\"] = \"sans-serif\"\n",
    "plt.rcParams[\"font.sans-serif\"] = \"Arial\"\n",
    "plt.rcParams[\"mathtext.fontset\"] = \"custom\"\n",
    "plt.rcParams[\"mathtext.it\"] = \"Arial:italic\"\n",
    "plt.rcParams[\"mathtext.rm\"] = \"Arial\"\n",
    "plt.rcParams[\"mathtext.default\"] = \"it\"\n",
    "plt.rcParams['axes.labelsize'] = 16\n",
    "plt.rcParams['axes.titlesize'] = 16\n",
    "plt.rcParams['xtick.labelsize'] = 16\n",
    "plt.rcParams['ytick.labelsize'] = 16\n",
    "plt.rcParams['legend.fontsize'] = 16\n",
    "\n"
   ],
   "metadata": {
    "collapsed": false,
    "ExecuteTime": {
     "end_time": "2024-03-17T14:40:05.452417300Z",
     "start_time": "2024-03-17T14:40:04.669568500Z"
    }
   }
  },
  {
   "cell_type": "code",
   "execution_count": 2,
   "outputs": [],
   "source": [
    "def fun_V_analytic(diameter, length):\n",
    "    V_an = np.pi/4*diameter**2*length\n",
    "    return V_an\n",
    "\n",
    "def fun_iterable( refinement_list, tau, t_f, diameter=1, length = 1, gamma=0.0728):\n",
    "    v_rel_list  = []\n",
    "    time_list   = []\n",
    "\n",
    "    #refinement_list = np.arange(2,refinment_end,1)\n",
    "    V_an = fun_V_analytic(diameter, length)\n",
    "\n",
    "    v_l         = 0 - length/2  # lower length-coordinate\n",
    "    v_u         = 0 + length/2   # higher length-coordinate\n",
    "\n",
    "    for i in range(len(refinement_list)):\n",
    "        starttime = timer()\n",
    "        refinement = refinement_list[i]\n",
    "        print(f'Refinement={refinement_list[i]} wird gestartet')\n",
    "\n",
    "        dummy_parameter = fun_liquid_bridge(v_l, v_u,tau, t_f,diameter, refinement,gamma) # v_l, v_u, tau, tf, d\n",
    "        HC = dummy_parameter[0]\n",
    "\n",
    "        '''\n",
    "        Volume calculation\n",
    "        '''\n",
    "        V_num = 0\n",
    "        for v in HC.V:\n",
    "            V_ijk = volume(v)\n",
    "            #print(V_ijk)\n",
    "            V_num += np.sum(V_ijk)\n",
    "\n",
    "        V_num = V_num/12\n",
    "\n",
    "        v_rel = ((V_an - V_num)/V_an)*100\n",
    "\n",
    "        endtime = timer()\n",
    "\n",
    "        print(f\"Time elapsed: {endtime-starttime:.2f} s\")\n",
    "        print(f\"Volume calculated: {V_num:.2f} m^3\")\n",
    "        print(f\"Volume deviation: {v_rel:.2f} %\")\n",
    "\n",
    "        v_rel_list.append(v_rel)\n",
    "        time_list.append(endtime-starttime)\n",
    "\n",
    "        print(f'Refinement={refinement_list[i]} ist beendet')\n",
    "\n",
    "    string_savename     = 'd'+ str(diameter) + 'l' + str(length) + 'ref' + str(refinement_end)\n",
    "    np.savetxt(string_savename + '_vrel'+ '.txt',v_rel_list)\n",
    "    np.savetxt(string_savename + '_time'+ '.txt',time_list)\n",
    "    np.savetxt(string_savename + 'refinement_list'+ '.txt', refinement_list)\n",
    "\n",
    "def volume_fun(refinment_end = 6, tau=0.1, t_f=0, cores = 3 ):\n",
    "    '''\n",
    "    refinement=3# NOTE: 2 is the minimum refinement needed for the complex to be manifold\n",
    "    '''\n",
    "\n",
    "    if __name__ == \"__main__\":\n",
    "        print('Es geht los')\n",
    "        refinement_list = np.arange(2,refinment_end,1)\n",
    "        refinement_list = list(refinement_list)\n",
    "        with futures.ProcessPoolExecutor(max_workers=cores) as e:\n",
    "            e.submit(fun_iterable,refinement_list)\n",
    "            print('Alle Aufgaben gestartet')\n",
    "            e.shutdown()\n",
    "            print('Alle Aufgaben beendet!')\n",
    "\n",
    "    # refinement_list = np.arange(2,refinement_end,1)\n",
    "\n",
    "\n",
    "    print('Ende Gelände')"
   ],
   "metadata": {
    "collapsed": false,
    "ExecuteTime": {
     "end_time": "2024-03-17T14:40:05.466082600Z",
     "start_time": "2024-03-17T14:40:05.455396500Z"
    }
   }
  },
  {
   "cell_type": "code",
   "execution_count": 4,
   "outputs": [],
   "source": [
    "HC = Complex(3)\n",
    "HC.load_complex('Complexd3l3ref3.json')"
   ],
   "metadata": {
    "collapsed": false,
    "ExecuteTime": {
     "end_time": "2024-02-02T10:26:42.516236Z",
     "start_time": "2024-02-02T10:26:42.511269300Z"
    }
   }
  },
  {
   "cell_type": "code",
   "execution_count": null,
   "outputs": [],
   "source": [
    "plot_polyscope(HC)"
   ],
   "metadata": {
    "collapsed": false,
    "is_executing": true,
    "ExecuteTime": {
     "start_time": "2024-02-02T10:26:43.793726500Z"
    }
   }
  },
  {
   "cell_type": "code",
   "execution_count": 56,
   "outputs": [
    {
     "name": "stdout",
     "output_type": "stream",
     "text": [
      "Es geht los\n",
      "Alle Aufgaben gestartet\n",
      "Alle Aufgaben beendet!\n",
      "Ende Gelände\n"
     ]
    }
   ],
   "source": [
    "volume_fun()"
   ],
   "metadata": {
    "collapsed": false,
    "ExecuteTime": {
     "end_time": "2024-02-01T16:27:48.372570900Z",
     "start_time": "2024-02-01T16:27:48.191420400Z"
    }
   }
  },
  {
   "cell_type": "code",
   "execution_count": 61,
   "outputs": [],
   "source": [
    "def fun_iterable_2( refinement, tau= 0.1, t_f=0, diameter=1, length = 1):\n",
    "    gamma=0.0728\n",
    "\n",
    "    starttime = timer()\n",
    "    v_l         = 0 - length/2  # lower length-coordinate\n",
    "    v_u         = 0 + length/2   # higher length-coordinate\n",
    "    V_an = fun_V_analytic(diameter, length)\n",
    "\n",
    "   # dummy_parameter = fun_liquid_bridge(refinement,v_l=v_l, v_u=v_u,tau=tau, t_f = t_f,diameter = diameter, gamma = gamma)\n",
    "    dummy_parameter = fun_liquid_bridge(v_l, v_u,tau, t_f,diameter, refinement,gamma)\n",
    "    HC = dummy_parameter[0]\n",
    "    '''\n",
    "    Volume calculation\n",
    "    '''\n",
    "    V_num = 0\n",
    "    for v in HC.V:\n",
    "        V_ijk = volume(v)\n",
    "        #print(V_ijk)\n",
    "        V_num += np.sum(V_ijk)\n",
    "\n",
    "    V_num = V_num/12\n",
    "\n",
    "    v_rel = ((V_an - V_num)/V_an)*100\n",
    "\n",
    "    endtime = timer()\n",
    "\n",
    "    print(f\"Time elapsed: {endtime-starttime:.2f} s\")\n",
    "    print(f\"Volume calculated: {V_num:.2f} m^3\")\n",
    "    print(f\"Volume deviation: {v_rel:.2f} %\")\n",
    "\n",
    "    v_rel_list.append(v_rel)\n",
    "    time_list.append(endtime-starttime)\n",
    "\n",
    "    #print(f'Refinement={refinement_list[i]} ist beendet')\n",
    "\n",
    "\n",
    "\"\"\"\n",
    "def volume_fun2(refinement_end =5, diameter = 2, length = 1,core = 2):\n",
    "\n",
    "    v_rel_list  = []\n",
    "    time_list   = []\n",
    "    refinement_list = []\n",
    "\n",
    "    print('Start')\n",
    "\n",
    "    if __name__ == \"__main__\":\n",
    "        with futures.ProcessPoolExecutor(max_workers=core) as e:\n",
    "            e.submit(fun_iterable_2(refinement=2))\n",
    "            e.submit(fun_iterable_2,3)\n",
    "            e.submit(fun_iterable_2,4)\n",
    "            e.submit(fun_iterable_2,5)\n",
    "    print('Alle Aufgaben gestartet')\n",
    "    e.shutdown()\n",
    "    print('Alle Aufgaben erledigt')\n",
    "\n",
    "\n",
    "\n",
    "    string_savename     = 'd'+ str(diameter) + 'l' + str(length) + 'ref' + str(refinement_end)\n",
    "    np.savetxt(string_savename + '_vrel'+ '.txt',v_rel_list)\n",
    "    np.savetxt(string_savename + '_time'+ '.txt',time_list)\n",
    "    np.savetxt(string_savename + 'refinement_list'+ '.txt', refinement_list)\n",
    "\n",
    "\n",
    "\"\"\"\n",
    "\n",
    "\n",
    "v_rel_list  = []\n",
    "time_list   = []\n",
    "refinement_end = 4\n",
    "tau = 0.1\n",
    "t_f = 0\n",
    "diameter = 1\n",
    "length = 1\n",
    "\n",
    "\n",
    "#fun_iterable_2( refinement, tau= 0.1, t_f=0, diameter=1, length = 1):\n",
    "if '__name__' == '__main__':\n",
    "    tau_value = tau\n",
    "    t_f_value = t_f\n",
    "    length_value = length\n",
    "    diameter_value = diameter\n",
    "\n",
    "    refinement_values = np.arange(2,refinement_end,1)\n",
    "    print(refinement_values)\n",
    "\n",
    "    max_workers = 3\n",
    "\n",
    "    with ProcessPoolExecutor(max_workers=max_workers) as executor:\n",
    "        #results = list(executor.map(f, x_values, [y_value]*len(x_values), [z_value]*len(x_values)))\n",
    "        results = list(executor.map(fun_iterable_2,refinement_values,[tau_value]*len(refinement_values),[t_f_value]*len(refinement_values),[length_value]*len(refinement_values),[diameter_value]*len(refinement_values)))\n",
    "\n",
    "        print(results)\n",
    "        print('Ende')\n",
    "\n"
   ],
   "metadata": {
    "collapsed": false,
    "ExecuteTime": {
     "end_time": "2024-02-01T16:29:07.159255800Z",
     "start_time": "2024-02-01T16:29:07.130659Z"
    }
   }
  },
  {
   "cell_type": "code",
   "execution_count": 62,
   "outputs": [
    {
     "ename": "NameError",
     "evalue": "name 'refinement_values' is not defined",
     "output_type": "error",
     "traceback": [
      "\u001B[1;31m---------------------------------------------------------------------------\u001B[0m",
      "\u001B[1;31mNameError\u001B[0m                                 Traceback (most recent call last)",
      "Cell \u001B[1;32mIn[62], line 1\u001B[0m\n\u001B[1;32m----> 1\u001B[0m \u001B[38;5;28mprint\u001B[39m(\u001B[43mrefinement_values\u001B[49m)\n",
      "\u001B[1;31mNameError\u001B[0m: name 'refinement_values' is not defined"
     ]
    }
   ],
   "source": [
    "print(refinement_values)\n",
    "\n"
   ],
   "metadata": {
    "collapsed": false,
    "ExecuteTime": {
     "end_time": "2024-02-01T16:29:08.691492200Z",
     "start_time": "2024-02-01T16:29:08.669615800Z"
    }
   }
  },
  {
   "cell_type": "code",
   "execution_count": 64,
   "outputs": [
    {
     "ename": "BrokenProcessPool",
     "evalue": "A process in the process pool was terminated abruptly while the future was running or pending.",
     "output_type": "error",
     "traceback": [
      "\u001B[1;31m---------------------------------------------------------------------------\u001B[0m",
      "\u001B[1;31mBrokenProcessPool\u001B[0m                         Traceback (most recent call last)",
      "Cell \u001B[1;32mIn[64], line 22\u001B[0m\n\u001B[0;32m     19\u001B[0m \u001B[38;5;66;03m# Erstelle einen ProcessPoolExecutor mit der angegebenen Anzahl von max_workers\u001B[39;00m\n\u001B[0;32m     20\u001B[0m \u001B[38;5;28;01mwith\u001B[39;00m ProcessPoolExecutor(max_workers\u001B[38;5;241m=\u001B[39mmax_workers) \u001B[38;5;28;01mas\u001B[39;00m executor:\n\u001B[0;32m     21\u001B[0m     \u001B[38;5;66;03m# Verwende die map-Funktion, um die Funktion parallel für jeden Wert von x auszuführen\u001B[39;00m\n\u001B[1;32m---> 22\u001B[0m     results \u001B[38;5;241m=\u001B[39m \u001B[38;5;28;43mlist\u001B[39;49m\u001B[43m(\u001B[49m\u001B[43mexecutor\u001B[49m\u001B[38;5;241;43m.\u001B[39;49m\u001B[43mmap\u001B[49m\u001B[43m(\u001B[49m\u001B[43mf\u001B[49m\u001B[43m,\u001B[49m\u001B[43m \u001B[49m\u001B[43mx_values\u001B[49m\u001B[38;5;241;43m.\u001B[39;49m\u001B[43mtolist\u001B[49m\u001B[43m(\u001B[49m\u001B[43m)\u001B[49m\u001B[43m,\u001B[49m\u001B[43m \u001B[49m\u001B[43m[\u001B[49m\u001B[43my_value\u001B[49m\u001B[43m]\u001B[49m\u001B[38;5;241;43m*\u001B[39;49m\u001B[38;5;28;43mlen\u001B[39;49m\u001B[43m(\u001B[49m\u001B[43mx_values\u001B[49m\u001B[43m)\u001B[49m\u001B[43m,\u001B[49m\u001B[43m \u001B[49m\u001B[43m[\u001B[49m\u001B[43mz_value\u001B[49m\u001B[43m]\u001B[49m\u001B[38;5;241;43m*\u001B[39;49m\u001B[38;5;28;43mlen\u001B[39;49m\u001B[43m(\u001B[49m\u001B[43mx_values\u001B[49m\u001B[43m)\u001B[49m\u001B[43m)\u001B[49m\u001B[43m)\u001B[49m\n\u001B[0;32m     24\u001B[0m \u001B[38;5;66;03m# Gib die Ergebnisse aus\u001B[39;00m\n\u001B[0;32m     25\u001B[0m \u001B[38;5;28mprint\u001B[39m(results)\n",
      "File \u001B[1;32m~\\AppData\\Local\\Programs\\Python\\Python39\\lib\\concurrent\\futures\\process.py:562\u001B[0m, in \u001B[0;36m_chain_from_iterable_of_lists\u001B[1;34m(iterable)\u001B[0m\n\u001B[0;32m    556\u001B[0m \u001B[38;5;28;01mdef\u001B[39;00m \u001B[38;5;21m_chain_from_iterable_of_lists\u001B[39m(iterable):\n\u001B[0;32m    557\u001B[0m \u001B[38;5;250m    \u001B[39m\u001B[38;5;124;03m\"\"\"\u001B[39;00m\n\u001B[0;32m    558\u001B[0m \u001B[38;5;124;03m    Specialized implementation of itertools.chain.from_iterable.\u001B[39;00m\n\u001B[0;32m    559\u001B[0m \u001B[38;5;124;03m    Each item in *iterable* should be a list.  This function is\u001B[39;00m\n\u001B[0;32m    560\u001B[0m \u001B[38;5;124;03m    careful not to keep references to yielded objects.\u001B[39;00m\n\u001B[0;32m    561\u001B[0m \u001B[38;5;124;03m    \"\"\"\u001B[39;00m\n\u001B[1;32m--> 562\u001B[0m     \u001B[38;5;28;01mfor\u001B[39;00m element \u001B[38;5;129;01min\u001B[39;00m iterable:\n\u001B[0;32m    563\u001B[0m         element\u001B[38;5;241m.\u001B[39mreverse()\n\u001B[0;32m    564\u001B[0m         \u001B[38;5;28;01mwhile\u001B[39;00m element:\n",
      "File \u001B[1;32m~\\AppData\\Local\\Programs\\Python\\Python39\\lib\\concurrent\\futures\\_base.py:609\u001B[0m, in \u001B[0;36mExecutor.map.<locals>.result_iterator\u001B[1;34m()\u001B[0m\n\u001B[0;32m    606\u001B[0m \u001B[38;5;28;01mwhile\u001B[39;00m fs:\n\u001B[0;32m    607\u001B[0m     \u001B[38;5;66;03m# Careful not to keep a reference to the popped future\u001B[39;00m\n\u001B[0;32m    608\u001B[0m     \u001B[38;5;28;01mif\u001B[39;00m timeout \u001B[38;5;129;01mis\u001B[39;00m \u001B[38;5;28;01mNone\u001B[39;00m:\n\u001B[1;32m--> 609\u001B[0m         \u001B[38;5;28;01myield\u001B[39;00m \u001B[43mfs\u001B[49m\u001B[38;5;241;43m.\u001B[39;49m\u001B[43mpop\u001B[49m\u001B[43m(\u001B[49m\u001B[43m)\u001B[49m\u001B[38;5;241;43m.\u001B[39;49m\u001B[43mresult\u001B[49m\u001B[43m(\u001B[49m\u001B[43m)\u001B[49m\n\u001B[0;32m    610\u001B[0m     \u001B[38;5;28;01melse\u001B[39;00m:\n\u001B[0;32m    611\u001B[0m         \u001B[38;5;28;01myield\u001B[39;00m fs\u001B[38;5;241m.\u001B[39mpop()\u001B[38;5;241m.\u001B[39mresult(end_time \u001B[38;5;241m-\u001B[39m time\u001B[38;5;241m.\u001B[39mmonotonic())\n",
      "File \u001B[1;32m~\\AppData\\Local\\Programs\\Python\\Python39\\lib\\concurrent\\futures\\_base.py:446\u001B[0m, in \u001B[0;36mFuture.result\u001B[1;34m(self, timeout)\u001B[0m\n\u001B[0;32m    444\u001B[0m     \u001B[38;5;28;01mraise\u001B[39;00m CancelledError()\n\u001B[0;32m    445\u001B[0m \u001B[38;5;28;01melif\u001B[39;00m \u001B[38;5;28mself\u001B[39m\u001B[38;5;241m.\u001B[39m_state \u001B[38;5;241m==\u001B[39m FINISHED:\n\u001B[1;32m--> 446\u001B[0m     \u001B[38;5;28;01mreturn\u001B[39;00m \u001B[38;5;28;43mself\u001B[39;49m\u001B[38;5;241;43m.\u001B[39;49m\u001B[43m__get_result\u001B[49m\u001B[43m(\u001B[49m\u001B[43m)\u001B[49m\n\u001B[0;32m    447\u001B[0m \u001B[38;5;28;01melse\u001B[39;00m:\n\u001B[0;32m    448\u001B[0m     \u001B[38;5;28;01mraise\u001B[39;00m \u001B[38;5;167;01mTimeoutError\u001B[39;00m()\n",
      "File \u001B[1;32m~\\AppData\\Local\\Programs\\Python\\Python39\\lib\\concurrent\\futures\\_base.py:391\u001B[0m, in \u001B[0;36mFuture.__get_result\u001B[1;34m(self)\u001B[0m\n\u001B[0;32m    389\u001B[0m \u001B[38;5;28;01mif\u001B[39;00m \u001B[38;5;28mself\u001B[39m\u001B[38;5;241m.\u001B[39m_exception:\n\u001B[0;32m    390\u001B[0m     \u001B[38;5;28;01mtry\u001B[39;00m:\n\u001B[1;32m--> 391\u001B[0m         \u001B[38;5;28;01mraise\u001B[39;00m \u001B[38;5;28mself\u001B[39m\u001B[38;5;241m.\u001B[39m_exception\n\u001B[0;32m    392\u001B[0m     \u001B[38;5;28;01mfinally\u001B[39;00m:\n\u001B[0;32m    393\u001B[0m         \u001B[38;5;66;03m# Break a reference cycle with the exception in self._exception\u001B[39;00m\n\u001B[0;32m    394\u001B[0m         \u001B[38;5;28mself\u001B[39m \u001B[38;5;241m=\u001B[39m \u001B[38;5;28;01mNone\u001B[39;00m\n",
      "\u001B[1;31mBrokenProcessPool\u001B[0m: A process in the process pool was terminated abruptly while the future was running or pending."
     ]
    }
   ],
   "source": [
    "\n",
    "import numpy as np\n",
    "from concurrent.futures import ProcessPoolExecutor\n",
    "\n",
    "# Die Funktion, die parallel berechnet werden soll\n",
    "def f(x, y, z=0):\n",
    "    return x * y + z\n",
    "\n",
    "if __name__ == '__main__':\n",
    "    # Definiere die konstanten Werte für y und z\n",
    "    y_value = 3\n",
    "    z_value = 2\n",
    "\n",
    "    # Definiere die Werte für x als NumPy-Array\n",
    "    x_values = np.array([1, 2, 3, 4])\n",
    "\n",
    "    # Definiere die maximale Anzahl der gleichzeitig arbeitenden Prozesse\n",
    "    max_workers = 3\n",
    "\n",
    "    # Erstelle einen ProcessPoolExecutor mit der angegebenen Anzahl von max_workers\n",
    "    with ProcessPoolExecutor(max_workers=max_workers) as executor:\n",
    "        # Verwende die map-Funktion, um die Funktion parallel für jeden Wert von x auszuführen\n",
    "        results = list(executor.map(f, x_values.tolist(), [y_value]*len(x_values), [z_value]*len(x_values)))\n",
    "\n",
    "    # Gib die Ergebnisse aus\n",
    "    print(results)"
   ],
   "metadata": {
    "collapsed": false,
    "ExecuteTime": {
     "end_time": "2024-02-01T16:30:52.269210Z",
     "start_time": "2024-02-01T16:30:52.129204100Z"
    }
   }
  },
  {
   "cell_type": "code",
   "execution_count": 19,
   "outputs": [
    {
     "data": {
      "text/plain": "<Figure size 1200x600 with 2 Axes>",
      "image/png": "[encoded data removed]"
     },
     "metadata": {},
     "output_type": "display_data"
    }
   ],
   "source": [
    "diameter = 1\n",
    "length = 1\n",
    "refinment_end = 4\n",
    "\n",
    "string_savename     = 'd'+ str(diameter) + 'l' + str(length) + 'ref' + str(refinement_end)\n",
    "\n",
    "refinement_list = np.loadtxt(string_savename + 'refinement_list'+ '.txt')\n",
    "time_list = np.loadtxt(string_savename + '_time'+ '.txt')\n",
    "v_rel_list = np.loadtxt(string_savename + '_vrel'+ '.txt')\n",
    "\n",
    "'''\n",
    "Plot the data\n",
    "'''\n",
    "fig, ax = plot.subplots(nrows=1, ncols=2, figsize=(12, 6))\n",
    "\n",
    "\n",
    "ax[0].plot(refinement_list, v_rel_list,\"o:\",color=\"tab:blue\")\n",
    "ax[1].plot(refinement_list, time_list,\"o:\",color=\"tab:blue\")\n",
    "\n",
    "\n",
    "ax[0].set_title('Volume deviation')\n",
    "ax[1].set_title('Time')\n",
    "\n",
    "ax[0].set_ylabel(\"Vrel / %\")\n",
    "ax[1].set_ylabel(\"time / s\")\n",
    "\n",
    "ax[0].set_xlabel(\"refinment / -\")\n",
    "ax[1].set_xlabel(\"refinment / -\")\n",
    "\n",
    "plt.tight_layout()\n",
    "plt.savefig(\"volume_refinment_validation.png\")\n"
   ],
   "metadata": {
    "collapsed": false,
    "ExecuteTime": {
     "end_time": "2024-02-01T13:31:39.315064300Z",
     "start_time": "2024-02-01T13:31:38.835232300Z"
    }
   }
  },
  {
   "cell_type": "code",
   "execution_count": null,
   "outputs": [],
   "source": [],
   "metadata": {
    "collapsed": false
   }
  },
  {
   "cell_type": "code",
   "execution_count": null,
   "outputs": [],
   "source": [],
   "metadata": {
    "collapsed": false
   }
  },
  {
   "cell_type": "markdown",
   "source": [
    "# ChatGPT"
   ],
   "metadata": {
    "collapsed": false
   }
  },
  {
   "cell_type": "code",
   "execution_count": 51,
   "outputs": [
    {
     "ename": "BrokenProcessPool",
     "evalue": "A process in the process pool was terminated abruptly while the future was running or pending.",
     "output_type": "error",
     "traceback": [
      "\u001B[1;31m---------------------------------------------------------------------------\u001B[0m",
      "\u001B[1;31mBrokenProcessPool\u001B[0m                         Traceback (most recent call last)",
      "Cell \u001B[1;32mIn[51], line 66\u001B[0m\n\u001B[0;32m     63\u001B[0m \u001B[38;5;66;03m# Erstelle einen ProcessPoolExecutor mit der angegebenen Anzahl von max_workers\u001B[39;00m\n\u001B[0;32m     64\u001B[0m \u001B[38;5;28;01mwith\u001B[39;00m ProcessPoolExecutor(max_workers\u001B[38;5;241m=\u001B[39mmax_workers) \u001B[38;5;28;01mas\u001B[39;00m executor:\n\u001B[0;32m     65\u001B[0m     \u001B[38;5;66;03m# Verwende die map-Funktion, um die Funktion parallel für jeden Wert in refinement_list auszuführen\u001B[39;00m\n\u001B[1;32m---> 66\u001B[0m     results \u001B[38;5;241m=\u001B[39m \u001B[38;5;28;43mlist\u001B[39;49m\u001B[43m(\u001B[49m\u001B[43mexecutor\u001B[49m\u001B[38;5;241;43m.\u001B[39;49m\u001B[43mmap\u001B[49m\u001B[43m(\u001B[49m\u001B[43mcalculate_volume\u001B[49m\u001B[43m,\u001B[49m\u001B[43m \u001B[49m\u001B[43mrefinement_list\u001B[49m\u001B[43m)\u001B[49m\u001B[43m)\u001B[49m\n\u001B[0;32m     68\u001B[0m \u001B[38;5;66;03m# Extrahiere die Ergebnisse\u001B[39;00m\n\u001B[0;32m     69\u001B[0m v_rel_list, time_list \u001B[38;5;241m=\u001B[39m \u001B[38;5;28mzip\u001B[39m(\u001B[38;5;241m*\u001B[39mresults)\n",
      "File \u001B[1;32m~\\AppData\\Local\\Programs\\Python\\Python39\\lib\\concurrent\\futures\\process.py:562\u001B[0m, in \u001B[0;36m_chain_from_iterable_of_lists\u001B[1;34m(iterable)\u001B[0m\n\u001B[0;32m    556\u001B[0m \u001B[38;5;28;01mdef\u001B[39;00m \u001B[38;5;21m_chain_from_iterable_of_lists\u001B[39m(iterable):\n\u001B[0;32m    557\u001B[0m \u001B[38;5;250m    \u001B[39m\u001B[38;5;124;03m\"\"\"\u001B[39;00m\n\u001B[0;32m    558\u001B[0m \u001B[38;5;124;03m    Specialized implementation of itertools.chain.from_iterable.\u001B[39;00m\n\u001B[0;32m    559\u001B[0m \u001B[38;5;124;03m    Each item in *iterable* should be a list.  This function is\u001B[39;00m\n\u001B[0;32m    560\u001B[0m \u001B[38;5;124;03m    careful not to keep references to yielded objects.\u001B[39;00m\n\u001B[0;32m    561\u001B[0m \u001B[38;5;124;03m    \"\"\"\u001B[39;00m\n\u001B[1;32m--> 562\u001B[0m     \u001B[38;5;28;01mfor\u001B[39;00m element \u001B[38;5;129;01min\u001B[39;00m iterable:\n\u001B[0;32m    563\u001B[0m         element\u001B[38;5;241m.\u001B[39mreverse()\n\u001B[0;32m    564\u001B[0m         \u001B[38;5;28;01mwhile\u001B[39;00m element:\n",
      "File \u001B[1;32m~\\AppData\\Local\\Programs\\Python\\Python39\\lib\\concurrent\\futures\\_base.py:609\u001B[0m, in \u001B[0;36mExecutor.map.<locals>.result_iterator\u001B[1;34m()\u001B[0m\n\u001B[0;32m    606\u001B[0m \u001B[38;5;28;01mwhile\u001B[39;00m fs:\n\u001B[0;32m    607\u001B[0m     \u001B[38;5;66;03m# Careful not to keep a reference to the popped future\u001B[39;00m\n\u001B[0;32m    608\u001B[0m     \u001B[38;5;28;01mif\u001B[39;00m timeout \u001B[38;5;129;01mis\u001B[39;00m \u001B[38;5;28;01mNone\u001B[39;00m:\n\u001B[1;32m--> 609\u001B[0m         \u001B[38;5;28;01myield\u001B[39;00m \u001B[43mfs\u001B[49m\u001B[38;5;241;43m.\u001B[39;49m\u001B[43mpop\u001B[49m\u001B[43m(\u001B[49m\u001B[43m)\u001B[49m\u001B[38;5;241;43m.\u001B[39;49m\u001B[43mresult\u001B[49m\u001B[43m(\u001B[49m\u001B[43m)\u001B[49m\n\u001B[0;32m    610\u001B[0m     \u001B[38;5;28;01melse\u001B[39;00m:\n\u001B[0;32m    611\u001B[0m         \u001B[38;5;28;01myield\u001B[39;00m fs\u001B[38;5;241m.\u001B[39mpop()\u001B[38;5;241m.\u001B[39mresult(end_time \u001B[38;5;241m-\u001B[39m time\u001B[38;5;241m.\u001B[39mmonotonic())\n",
      "File \u001B[1;32m~\\AppData\\Local\\Programs\\Python\\Python39\\lib\\concurrent\\futures\\_base.py:446\u001B[0m, in \u001B[0;36mFuture.result\u001B[1;34m(self, timeout)\u001B[0m\n\u001B[0;32m    444\u001B[0m     \u001B[38;5;28;01mraise\u001B[39;00m CancelledError()\n\u001B[0;32m    445\u001B[0m \u001B[38;5;28;01melif\u001B[39;00m \u001B[38;5;28mself\u001B[39m\u001B[38;5;241m.\u001B[39m_state \u001B[38;5;241m==\u001B[39m FINISHED:\n\u001B[1;32m--> 446\u001B[0m     \u001B[38;5;28;01mreturn\u001B[39;00m \u001B[38;5;28;43mself\u001B[39;49m\u001B[38;5;241;43m.\u001B[39;49m\u001B[43m__get_result\u001B[49m\u001B[43m(\u001B[49m\u001B[43m)\u001B[49m\n\u001B[0;32m    447\u001B[0m \u001B[38;5;28;01melse\u001B[39;00m:\n\u001B[0;32m    448\u001B[0m     \u001B[38;5;28;01mraise\u001B[39;00m \u001B[38;5;167;01mTimeoutError\u001B[39;00m()\n",
      "File \u001B[1;32m~\\AppData\\Local\\Programs\\Python\\Python39\\lib\\concurrent\\futures\\_base.py:391\u001B[0m, in \u001B[0;36mFuture.__get_result\u001B[1;34m(self)\u001B[0m\n\u001B[0;32m    389\u001B[0m \u001B[38;5;28;01mif\u001B[39;00m \u001B[38;5;28mself\u001B[39m\u001B[38;5;241m.\u001B[39m_exception:\n\u001B[0;32m    390\u001B[0m     \u001B[38;5;28;01mtry\u001B[39;00m:\n\u001B[1;32m--> 391\u001B[0m         \u001B[38;5;28;01mraise\u001B[39;00m \u001B[38;5;28mself\u001B[39m\u001B[38;5;241m.\u001B[39m_exception\n\u001B[0;32m    392\u001B[0m     \u001B[38;5;28;01mfinally\u001B[39;00m:\n\u001B[0;32m    393\u001B[0m         \u001B[38;5;66;03m# Break a reference cycle with the exception in self._exception\u001B[39;00m\n\u001B[0;32m    394\u001B[0m         \u001B[38;5;28mself\u001B[39m \u001B[38;5;241m=\u001B[39m \u001B[38;5;28;01mNone\u001B[39;00m\n",
      "\u001B[1;31mBrokenProcessPool\u001B[0m: A process in the process pool was terminated abruptly while the future was running or pending."
     ]
    }
   ],
   "source": [
    "from concurrent.futures import ProcessPoolExecutor\n",
    "from timeit import default_timer as timer\n",
    "import numpy as np\n",
    "\n",
    "def fun_V_analytic(diameter, length):\n",
    "    V_an = np.pi/4*diameter**2*length\n",
    "    return V_an\n",
    "\n",
    "# Die Funktion, die parallel berechnet werden soll\n",
    "def calculate_volume(refinement):\n",
    "    starttime = timer()\n",
    "\n",
    "    dummy_parameter = fun_liquid_bridge(v_l, v_u, tau, t_f, diameter, refinement, gamma)\n",
    "    HC = dummy_parameter[0]\n",
    "\n",
    "    V_num = 0\n",
    "    for v in HC.V:\n",
    "        V_ijk = volume(v)\n",
    "        V_num += np.sum(V_ijk)\n",
    "\n",
    "    V_num = V_num / 12\n",
    "\n",
    "    v_rel = ((V_an - V_num) / V_an) * 100\n",
    "\n",
    "    endtime = timer()\n",
    "\n",
    "    print(f\"Time elapsed: {endtime - starttime:.2f} s\")\n",
    "    print(f\"Volume calculated: {V_num:.2f} m^3\")\n",
    "    print(f\"Volume deviation: {v_rel:.2f} %\")\n",
    "\n",
    "    return v_rel, endtime - starttime\n",
    "\n",
    "diameter = 1\n",
    "length  = 1\n",
    "v_l     = 0 - length/2  # lower length-coordinate\n",
    "v_u     = 0 + length/2   # higher length-coordinate\n",
    "gamma   =0.0728\n",
    "\n",
    "tau = 0.1  # Fülle die Werte entsprechend deiner Anforderungen ein\n",
    "t_f =0  # Fülle die Werte entsprechend deiner Anforderungen ein\n",
    "V_an = fun_V_analytic(diameter, length)\n",
    "refinment_end = 5\n",
    "\n",
    "if __name__ == '__main__':\n",
    "    # Definiere die Parameter\n",
    "    v_l =  v_l# Fülle die Werte entsprechend deiner Anforderungen ein\n",
    "    v_u =  v_u# Fülle die Werte entsprechend deiner Anforderungen ein\n",
    "    tau = tau  # Fülle die Werte entsprechend deiner Anforderungen ein\n",
    "    t_f =  t_f # Fülle die Werte entsprechend deiner Anforderungen ein\n",
    "    diameter =  diameter# Fülle die Werte entsprechend deiner Anforderungen ein\n",
    "    gamma =  gamma# Fülle die Werte entsprechend deiner Anforderungen ein\n",
    "    V_an =  V_an# Fülle die Werte entsprechend deiner Anforderungen ein\n",
    "    refinement_list = np.arange(2,refinment_end,1)  # Fülle die Werte entsprechend deiner Anforderungen ein\n",
    "    string_savename = 'd'+ str(diameter) + 'l' + str(length) + 'ref' + str(refinement_end)  # Fülle die Werte entsprechend deiner Anforderungen ein\n",
    "\n",
    "    # Ergebnislisten initialisieren\n",
    "    v_rel_list = []\n",
    "    time_list = []\n",
    "\n",
    "    # Definiere die maximale Anzahl der gleichzeitig arbeitenden Prozesse\n",
    "    max_workers = 3  # Du kannst die Anzahl der Prozessorkerne entsprechend deiner Anforderungen ändern\n",
    "\n",
    "    # Erstelle einen ProcessPoolExecutor mit der angegebenen Anzahl von max_workers\n",
    "    with ProcessPoolExecutor(max_workers=max_workers) as executor:\n",
    "        # Verwende die map-Funktion, um die Funktion parallel für jeden Wert in refinement_list auszuführen\n",
    "        results = list(executor.map(calculate_volume, refinement_list))\n",
    "\n",
    "    # Extrahiere die Ergebnisse\n",
    "    v_rel_list, time_list = zip(*results)\n",
    "\n",
    "    # Speichere die Ergebnisse in Dateien\n",
    "    np.savetxt(string_savename + '_vrel' + '.txt', v_rel_list)\n",
    "    np.savetxt(string_savename + '_time' + '.txt', time_list)"
   ],
   "metadata": {
    "collapsed": false,
    "ExecuteTime": {
     "end_time": "2024-02-01T14:46:10.021906900Z",
     "start_time": "2024-02-01T14:46:09.834340200Z"
    }
   }
  },
  {
   "cell_type": "code",
   "execution_count": null,
   "outputs": [],
   "source": [
    "'''\n",
    "Plot the data\n",
    "'''\n",
    "fig, ax = plot.subplots(nrows=1, ncols=2, figsize=(12, 6))\n",
    "\n",
    "\n",
    "ax[0].plot(refinement_list, v_rel_list,\"o:\",color=\"tab:blue\")\n",
    "ax[1].plot(refinement_list, time_list,\"o:\",color=\"tab:blue\")\n",
    "\n",
    "\n",
    "ax[0].set_title('Volume deviation')\n",
    "ax[1].set_title('Time')\n",
    "\n",
    "ax[0].set_ylabel(\"Vrel / %\")\n",
    "ax[1].set_ylabel(\"time / s\")\n",
    "\n",
    "ax[0].set_xlabel(\"refinment / -\")\n",
    "ax[1].set_xlabel(\"refinment / -\")\n",
    "\n",
    "plt.tight_layout()\n",
    "plt.savefig(\"volume_refinment_validation.png\")"
   ],
   "metadata": {
    "collapsed": false
   }
  },
  {
   "cell_type": "code",
   "execution_count": null,
   "outputs": [],
   "source": [
    "import numpy as np\n",
    "from multiprocessing import Pool\n",
    "\n",
    "# Die Funktion, die parallel berechnet werden soll\n",
    "def f(args):\n",
    "    x, y, z = args\n",
    "    return x * y + z\n",
    "\n",
    "if __name__ == '__main__':\n",
    "    # Definiere die konstanten Werte für y und z\n",
    "    y_value = 3\n",
    "    z_value = 2\n",
    "\n",
    "    # Definiere die Werte für x als NumPy-Array\n",
    "    x_values = np.array([1, 2, 3, 4])\n",
    "\n",
    "    # Definiere die maximale Anzahl der gleichzeitig arbeitenden Prozesse\n",
    "    max_workers = 3\n",
    "\n",
    "    # Erstelle einen Pool mit mehreren Prozessen (hier verwenden wir die Anzahl der verfügbaren CPU-Kerne)\n",
    "    with Pool(max_workers) as pool:\n",
    "        # Verwende die map-Funktion, um die Funktion parallel für jeden Wert von x auszuführen\n",
    "        results = pool.map(f, zip(x_values, [y_value]*len(x_values), [z_value]*len(x_values)))\n",
    "\n",
    "    # Gib die Ergebnisse aus\n",
    "    print(results)"
   ],
   "metadata": {
    "collapsed": false,
    "ExecuteTime": {
     "start_time": "2024-02-01T16:36:13.078611400Z"
    }
   }
  },
  {
   "cell_type": "code",
   "execution_count": null,
   "outputs": [],
   "source": [],
   "metadata": {
    "collapsed": false
   }
  }
 ],
 "metadata": {
  "kernelspec": {
   "display_name": "Python 3",
   "language": "python",
   "name": "python3"
  },
  "language_info": {
   "codemirror_mode": {
    "name": "ipython",
    "version": 2
   },
   "file_extension": ".py",
   "mimetype": "text/x-python",
   "name": "python",
   "nbconvert_exporter": "python",
   "pygments_lexer": "ipython2",
   "version": "2.7.6"
  }
 },
 "nbformat": 4,
 "nbformat_minor": 0
}
