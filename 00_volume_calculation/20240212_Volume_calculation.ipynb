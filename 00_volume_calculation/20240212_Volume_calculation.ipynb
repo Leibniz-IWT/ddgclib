{
 "cells": [
  {
   "cell_type": "code",
   "execution_count": 8,
   "metadata": {
    "collapsed": true,
    "ExecuteTime": {
     "end_time": "2024-03-12T15:32:13.261518Z",
     "start_time": "2024-03-12T15:32:13.247114600Z"
    }
   },
   "outputs": [],
   "source": [
    "import numpy as np\n",
    "from multiprocessing import Pool\n",
    "from timeit import default_timer as timer\n",
    "from ddgclib._particle_liquid_bridge_flo import *\n",
    "from concurrent.futures import ProcessPoolExecutor\n",
    "from concurrent.futures import ProcessPoolExecutor, as_completed\n",
    "from multiprocessing import Manager\n",
    "\n",
    "\n"
   ]
  },
  {
   "cell_type": "code",
   "execution_count": 9,
   "outputs": [],
   "source": [
    "\n",
    "\n",
    "\n",
    "def fun_V_analytic(diameter, length):\n",
    "    V_an = np.pi/4*diameter**2*length\n",
    "    return V_an\n",
    "\n",
    "def save_complex(HC,filename):\n",
    "    for v in HC.V:\n",
    "      #  print('---')\n",
    "        v_new = []\n",
    "        for i, vi in enumerate(v.x):\n",
    "            #print(type(vi))\n",
    "            v_new.append(float(vi))\n",
    "            #v.x[i] = float(vi)\n",
    "        HC.V.move(v, tuple(v_new))\n",
    "        v.x_a = np.array(v.x_a, dtype='float')\n",
    "        #v.x_a = v.x_a.astype(float)\n",
    "        #for vi in v.x:\n",
    "         #   print(type(vi))\n",
    "    #print(type(v.x_a))\n",
    "    HC.save_complex(fn = filename)\n",
    "\n",
    "def fun_iterable_2( refinement, tau= 0.1, t_f=0, diameter=2, length = 1):\n",
    "    gamma=0.0728\n",
    "    #v_rel_list = []\n",
    "    #time_list = []\n",
    "    #print(f'refinement = {refinement}')\n",
    "\n",
    "    starttime = timer()\n",
    "    v_l         = 0 - length/2  # lower length-coordinate\n",
    "    v_u         = 0 + length/2   # higher length-coordinate\n",
    "\n",
    "\n",
    "   # dummy_parameter = fun_liquid_bridge(refinement,v_l=v_l, v_u=v_u,tau=tau, t_f = t_f,diameter = diameter, gamma = gamma)\n",
    "    dummy_parameter = fun_liquid_bridge(v_l, v_u,tau, t_f,diameter, refinement,gamma)\n",
    "    HC = dummy_parameter[0]\n",
    "    '''\n",
    "    Volume calculation\n",
    "    '''\n",
    "    V_num = 0\n",
    "    for v in HC.V:\n",
    "        V_ijk = volume(v)\n",
    "        #print(V_ijk)\n",
    "        V_num += np.sum(V_ijk)\n",
    "    V_an = fun_V_analytic(diameter, length)\n",
    "    V_num = V_num/12\n",
    "\n",
    "    v_rel = ((V_an - V_num)/V_an)*100\n",
    "\n",
    "    endtime = timer()\n",
    "\n",
    "    print(f\"Time elapsed: {endtime-starttime:.2f} s für refinement = {refinement}\")\n",
    "    print(f\"Volume calculated: {V_num:.2f} m^3 für refinement = {refinement}\")\n",
    "    print(f\"Volume deviation: {v_rel:.2f} % für refinement = {refinement}\")\n",
    "\n",
    "    v_rel_list.append(v_rel)\n",
    "    time_list.append(endtime-starttime)\n",
    "    print(v_rel_list)\n",
    "\n",
    "    if 1:\n",
    "        string_savename     = 'd'+ str(diameter) + 'l' + str(length) + 'ref' + str(refinement) + 'openmesh'\n",
    "        #save_name = 'Complex_tf5000_tau01_refinment3.json'\n",
    "        save_name = 'Complex'+ string_savename + '.json'\n",
    "    #    np.savetxt(string_savename + '_vrel'+ '.txt',v_rel_list)\n",
    "    #    np.savetxt(string_savename + '_time'+ '.txt',time_list)\n",
    "        save_complex(HC, save_name)"
   ],
   "metadata": {
    "collapsed": false,
    "ExecuteTime": {
     "end_time": "2024-03-12T15:32:13.771958800Z",
     "start_time": "2024-03-12T15:32:13.721299600Z"
    }
   }
  },
  {
   "cell_type": "code",
   "execution_count": 10,
   "outputs": [],
   "source": [
    "refinement_end = 6\n",
    "\n",
    "diameter    = 2\n",
    "length      = 1\n"
   ],
   "metadata": {
    "collapsed": false,
    "ExecuteTime": {
     "end_time": "2024-03-12T15:32:14.095289400Z",
     "start_time": "2024-03-12T15:32:14.088336400Z"
    }
   }
  },
  {
   "cell_type": "code",
   "execution_count": 11,
   "outputs": [
    {
     "name": "stdout",
     "output_type": "stream",
     "text": [
      "Time elapsed: 0.06 s für refinement = 2\n",
      "Volume calculated: 2.03 m^3 für refinement = 2\n",
      "Volume deviation: 35.28 % für refinement = 2\n",
      "[35.28056240195487]\n",
      "Time elapsed: 0.34 s für refinement = 3\n",
      "Volume calculated: 2.11 m^3 für refinement = 3\n",
      "Volume deviation: 32.96 % für refinement = 3\n",
      "[35.28056240195487, 32.958991864516086]\n",
      "Time elapsed: 3.66 s für refinement = 4\n",
      "Volume calculated: 2.11 m^3 für refinement = 4\n",
      "Volume deviation: 32.87 % für refinement = 4\n",
      "[35.28056240195487, 32.958991864516086, 32.87201600549729]\n",
      "Time elapsed: 121.95 s für refinement = 5\n",
      "Volume calculated: 2.10 m^3 für refinement = 5\n",
      "Volume deviation: 33.04 % für refinement = 5\n",
      "[35.28056240195487, 32.958991864516086, 32.87201600549729, 33.04196123107154]\n",
      "Time elapsed: 1048.85 s für refinement = 6\n",
      "Volume calculated: 2.10 m^3 für refinement = 6\n",
      "Volume deviation: 33.17 % für refinement = 6\n",
      "[35.28056240195487, 32.958991864516086, 32.87201600549729, 33.04196123107154, 33.17339231773509]\n",
      "refinement = 6\n"
     ]
    }
   ],
   "source": [
    "refinement_list = np.arange(2,refinement_end+1,1)\n",
    "\n",
    "gamma = 0.0728  # N/m, surface tension of water at 20 deg C\n",
    "\n",
    "v_rel_list  = []\n",
    "time_list   = []\n",
    "\n",
    "for i in range(len(refinement_list)):\n",
    "    refinement = refinement_list[i]\n",
    "    #print(f'refinement = {refinement}')\n",
    "\n",
    "    dummy_parameter = fun_iterable_2( refinement, tau= 0.1, t_f=0, diameter=diameter, length = length) # v_l, v_u, tau, tf, d\n",
    "\n",
    "\n",
    "string_savename     = 'd'+ str(diameter) + 'l' + str(length) + 'ref' + str(refinement_end) + 'openmesh'\n",
    "np.savetxt(string_savename + '_vrel'+ '.txt',v_rel_list)\n",
    "np.savetxt(string_savename + '_time'+ '.txt',time_list)\n",
    "print(f'refinement = {refinement}')"
   ],
   "metadata": {
    "collapsed": false,
    "ExecuteTime": {
     "end_time": "2024-03-12T15:51:50.417304Z",
     "start_time": "2024-03-12T15:32:15.044419300Z"
    }
   }
  },
  {
   "cell_type": "code",
   "execution_count": 7,
   "outputs": [
    {
     "data": {
      "text/plain": "[<matplotlib.lines.Line2D at 0x1ffacebac40>]"
     },
     "execution_count": 7,
     "metadata": {},
     "output_type": "execute_result"
    },
    {
     "data": {
      "text/plain": "<Figure size 432x288 with 2 Axes>",
      "image/png": "[encoded data removed]"
     },
     "metadata": {
      "needs_background": "light"
     },
     "output_type": "display_data"
    }
   ],
   "source": [
    "fig, ax = plt.subplots(nrows=1, ncols=2, figsize=(6, 4))\n",
    "\n",
    "ax[0].plot(refinement_list, v_rel_list,  \"v:\",color=\"tab:red\" )#,  linewidth = line_value, markersize = marker_value)"
   ],
   "metadata": {
    "collapsed": false,
    "ExecuteTime": {
     "end_time": "2024-03-12T15:23:33.318005Z",
     "start_time": "2024-03-12T15:23:33.228604800Z"
    }
   }
  },
  {
   "cell_type": "code",
   "execution_count": null,
   "outputs": [],
   "source": [],
   "metadata": {
    "collapsed": false
   }
  }
 ],
 "metadata": {
  "kernelspec": {
   "display_name": "Python 3",
   "language": "python",
   "name": "python3"
  },
  "language_info": {
   "codemirror_mode": {
    "name": "ipython",
    "version": 2
   },
   "file_extension": ".py",
   "mimetype": "text/x-python",
   "name": "python",
   "nbconvert_exporter": "python",
   "pygments_lexer": "ipython2",
   "version": "2.7.6"
  }
 },
 "nbformat": 4,
 "nbformat_minor": 0
}
