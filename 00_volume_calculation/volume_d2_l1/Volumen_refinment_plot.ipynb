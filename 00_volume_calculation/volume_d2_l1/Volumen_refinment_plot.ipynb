{
 "cells": [
  {
   "cell_type": "code",
   "execution_count": null,
   "metadata": {
    "collapsed": true
   },
   "outputs": [],
   "source": []
  },
  {
   "cell_type": "code",
   "execution_count": 1,
   "outputs": [],
   "source": [
    "import numpy as np\n",
    "from matplotlib import pyplot as plt"
   ],
   "metadata": {
    "collapsed": false,
    "ExecuteTime": {
     "end_time": "2024-02-15T16:30:50.918958100Z",
     "start_time": "2024-02-15T16:30:50.476664500Z"
    }
   }
  },
  {
   "cell_type": "code",
   "execution_count": 2,
   "outputs": [],
   "source": [
    "plt.rcParams[\"font.family\"] = \"sans-serif\"\n",
    "plt.rcParams[\"font.sans-serif\"] = \"Arial\"\n",
    "plt.rcParams[\"mathtext.fontset\"] = \"custom\"\n",
    "plt.rcParams[\"mathtext.it\"] = \"Arial:italic\"\n",
    "plt.rcParams[\"mathtext.rm\"] = \"Arial\"\n",
    "plt.rcParams[\"mathtext.default\"] = \"it\"\n",
    "plt.rcParams['axes.labelsize'] = 12\n",
    "plt.rcParams['axes.titlesize'] = 12\n",
    "plt.rcParams['xtick.labelsize'] = 12\n",
    "plt.rcParams['ytick.labelsize'] = 12\n",
    "plt.rcParams['legend.fontsize'] = 12"
   ],
   "metadata": {
    "collapsed": false,
    "ExecuteTime": {
     "end_time": "2024-02-15T16:30:50.951241400Z",
     "start_time": "2024-02-15T16:30:50.921441400Z"
    }
   }
  },
  {
   "cell_type": "code",
   "execution_count": 3,
   "outputs": [
    {
     "ename": "OSError",
     "evalue": "d0.002l0.001ref6_vrel.txt not found.",
     "output_type": "error",
     "traceback": [
      "\u001B[1;31m---------------------------------------------------------------------------\u001B[0m",
      "\u001B[1;31mOSError\u001B[0m                                   Traceback (most recent call last)",
      "Input \u001B[1;32mIn [3]\u001B[0m, in \u001B[0;36m<cell line: 1>\u001B[1;34m()\u001B[0m\n\u001B[1;32m----> 1\u001B[0m volume1      \u001B[38;5;241m=\u001B[39m \u001B[43mnp\u001B[49m\u001B[38;5;241;43m.\u001B[39;49m\u001B[43mloadtxt\u001B[49m\u001B[43m(\u001B[49m\u001B[38;5;124;43m'\u001B[39;49m\u001B[38;5;124;43md0.002l0.001ref6_vrel.txt\u001B[39;49m\u001B[38;5;124;43m'\u001B[39;49m\u001B[43m)\u001B[49m\n\u001B[0;32m      2\u001B[0m time1        \u001B[38;5;241m=\u001B[39m np\u001B[38;5;241m.\u001B[39mloadtxt(\u001B[38;5;124m'\u001B[39m\u001B[38;5;124md0.002l0.001ref6_time.txt\u001B[39m\u001B[38;5;124m'\u001B[39m)\n\u001B[0;32m      4\u001B[0m volume2      \u001B[38;5;241m=\u001B[39m np\u001B[38;5;241m.\u001B[39mloadtxt(\u001B[38;5;124m'\u001B[39m\u001B[38;5;124md2l1ref6_vrel.txt\u001B[39m\u001B[38;5;124m'\u001B[39m)\n",
      "File \u001B[1;32mI:\\Programme\\Anaconda\\lib\\site-packages\\numpy\\lib\\npyio.py:1067\u001B[0m, in \u001B[0;36mloadtxt\u001B[1;34m(fname, dtype, comments, delimiter, converters, skiprows, usecols, unpack, ndmin, encoding, max_rows, like)\u001B[0m\n\u001B[0;32m   1065\u001B[0m     fname \u001B[38;5;241m=\u001B[39m os_fspath(fname)\n\u001B[0;32m   1066\u001B[0m \u001B[38;5;28;01mif\u001B[39;00m _is_string_like(fname):\n\u001B[1;32m-> 1067\u001B[0m     fh \u001B[38;5;241m=\u001B[39m \u001B[43mnp\u001B[49m\u001B[38;5;241;43m.\u001B[39;49m\u001B[43mlib\u001B[49m\u001B[38;5;241;43m.\u001B[39;49m\u001B[43m_datasource\u001B[49m\u001B[38;5;241;43m.\u001B[39;49m\u001B[43mopen\u001B[49m\u001B[43m(\u001B[49m\u001B[43mfname\u001B[49m\u001B[43m,\u001B[49m\u001B[43m \u001B[49m\u001B[38;5;124;43m'\u001B[39;49m\u001B[38;5;124;43mrt\u001B[39;49m\u001B[38;5;124;43m'\u001B[39;49m\u001B[43m,\u001B[49m\u001B[43m \u001B[49m\u001B[43mencoding\u001B[49m\u001B[38;5;241;43m=\u001B[39;49m\u001B[43mencoding\u001B[49m\u001B[43m)\u001B[49m\n\u001B[0;32m   1068\u001B[0m     fencoding \u001B[38;5;241m=\u001B[39m \u001B[38;5;28mgetattr\u001B[39m(fh, \u001B[38;5;124m'\u001B[39m\u001B[38;5;124mencoding\u001B[39m\u001B[38;5;124m'\u001B[39m, \u001B[38;5;124m'\u001B[39m\u001B[38;5;124mlatin1\u001B[39m\u001B[38;5;124m'\u001B[39m)\n\u001B[0;32m   1069\u001B[0m     fh \u001B[38;5;241m=\u001B[39m \u001B[38;5;28miter\u001B[39m(fh)\n",
      "File \u001B[1;32mI:\\Programme\\Anaconda\\lib\\site-packages\\numpy\\lib\\_datasource.py:193\u001B[0m, in \u001B[0;36mopen\u001B[1;34m(path, mode, destpath, encoding, newline)\u001B[0m\n\u001B[0;32m    156\u001B[0m \u001B[38;5;124;03m\"\"\"\u001B[39;00m\n\u001B[0;32m    157\u001B[0m \u001B[38;5;124;03mOpen `path` with `mode` and return the file object.\u001B[39;00m\n\u001B[0;32m    158\u001B[0m \n\u001B[1;32m   (...)\u001B[0m\n\u001B[0;32m    189\u001B[0m \n\u001B[0;32m    190\u001B[0m \u001B[38;5;124;03m\"\"\"\u001B[39;00m\n\u001B[0;32m    192\u001B[0m ds \u001B[38;5;241m=\u001B[39m DataSource(destpath)\n\u001B[1;32m--> 193\u001B[0m \u001B[38;5;28;01mreturn\u001B[39;00m \u001B[43mds\u001B[49m\u001B[38;5;241;43m.\u001B[39;49m\u001B[43mopen\u001B[49m\u001B[43m(\u001B[49m\u001B[43mpath\u001B[49m\u001B[43m,\u001B[49m\u001B[43m \u001B[49m\u001B[43mmode\u001B[49m\u001B[43m,\u001B[49m\u001B[43m \u001B[49m\u001B[43mencoding\u001B[49m\u001B[38;5;241;43m=\u001B[39;49m\u001B[43mencoding\u001B[49m\u001B[43m,\u001B[49m\u001B[43m \u001B[49m\u001B[43mnewline\u001B[49m\u001B[38;5;241;43m=\u001B[39;49m\u001B[43mnewline\u001B[49m\u001B[43m)\u001B[49m\n",
      "File \u001B[1;32mI:\\Programme\\Anaconda\\lib\\site-packages\\numpy\\lib\\_datasource.py:533\u001B[0m, in \u001B[0;36mDataSource.open\u001B[1;34m(self, path, mode, encoding, newline)\u001B[0m\n\u001B[0;32m    530\u001B[0m     \u001B[38;5;28;01mreturn\u001B[39;00m _file_openers[ext](found, mode\u001B[38;5;241m=\u001B[39mmode,\n\u001B[0;32m    531\u001B[0m                               encoding\u001B[38;5;241m=\u001B[39mencoding, newline\u001B[38;5;241m=\u001B[39mnewline)\n\u001B[0;32m    532\u001B[0m \u001B[38;5;28;01melse\u001B[39;00m:\n\u001B[1;32m--> 533\u001B[0m     \u001B[38;5;28;01mraise\u001B[39;00m \u001B[38;5;167;01mIOError\u001B[39;00m(\u001B[38;5;124m\"\u001B[39m\u001B[38;5;132;01m%s\u001B[39;00m\u001B[38;5;124m not found.\u001B[39m\u001B[38;5;124m\"\u001B[39m \u001B[38;5;241m%\u001B[39m path)\n",
      "\u001B[1;31mOSError\u001B[0m: d0.002l0.001ref6_vrel.txt not found."
     ]
    }
   ],
   "source": [
    "volume1      = np.loadtxt('d0.002l0.001ref6_vrel.txt')\n",
    "time1        = np.loadtxt('d0.002l0.001ref6_time.txt')\n",
    "\n",
    "volume2      = np.loadtxt('d2l1ref6_vrel.txt')\n",
    "time2        = np.loadtxt('d2l1ref6_time.txt')\n",
    "\n",
    "refinment   = np.arange(2,7,1)"
   ],
   "metadata": {
    "collapsed": false,
    "ExecuteTime": {
     "end_time": "2024-02-15T16:30:51.348574400Z",
     "start_time": "2024-02-15T16:30:50.950248Z"
    }
   }
  },
  {
   "cell_type": "code",
   "execution_count": null,
   "outputs": [],
   "source": [
    "'''\n",
    "Plot the data\n",
    "'''\n",
    "line_value = 0.7\n",
    "alpha_value1 = 1\n",
    "alpha_value2 = 0.7\n",
    "marker_value = 4\n",
    "\n",
    "\n",
    "#$u_\\mathregular{0}$ = 0.05 m/s\n",
    "label_list = ['$d$ = 2 m, $l$ = 1m', ' $d$ = $\\mathregular{2}\\cdot\\mathregular{10}^\\mathregular{-3}$m, $l$ = $\\mathregular{2}\\cdot\\mathregular{10}^\\mathregular{-3}$m ']\n",
    "\n",
    "fig, ax = plt.subplots(nrows=1, ncols=2, figsize=(6, 4))\n",
    "\n",
    "ax[0].plot(refinment, volume1,  \"v:\",color=\"tab:red\", alpha = alpha_value1, linewidth = line_value, markersize = marker_value)\n",
    "ax[1].plot(refinment, time1,    \"v:\",color=\"tab:red\", alpha = alpha_value1, linewidth = line_value, markersize = marker_value, label = label_list[0])\n",
    "\n",
    "ax[0].plot(refinment, volume2,  \"o:\",color=\"tab:blue\", alpha = alpha_value2,linewidth = line_value, markersize = marker_value)\n",
    "ax[1].plot(refinment, time2,    \"o:\",color=\"tab:blue\",alpha = alpha_value2, linewidth = line_value, markersize = marker_value, label = label_list[1])\n",
    "\n",
    "\n",
    "#ax[0].set_title('Volume deviation')\n",
    "#ax[1].set_title('Time')\n",
    "\n",
    "ax[0].set_xlim(1.75,6.25)\n",
    "ax[1].set_xlim(1.75,6.25)\n",
    "\n",
    "ax[0].set_ylim(-0.5,20)\n",
    "ax[1].set_ylim(-50,1500)\n",
    "\n",
    "ax[0].set_title('(a)')\n",
    "ax[1].set_title('(b)')\n",
    "\n",
    "ax[0].set_ylabel(\"volume deviation / %\")\n",
    "ax[1].set_ylabel(\"time / s\")\n",
    "\n",
    "ax[0].set_xlabel(\"refinement / -\")\n",
    "ax[1].set_xlabel(\"refinement / -\")\n",
    "\n",
    "lines, labels = fig.axes[-1].get_legend_handles_labels() #labels von dem letzten ax Objekt\n",
    "\n",
    "plt.figlegend(lines, labels, loc='lower center', bbox_to_anchor=(0.55, 0), bbox_transform=plt.gcf().transFigure, ncol=2)\n",
    "fig.tight_layout(rect=(0,0.15,1,1)) #Platz für Legende lassen\n",
    "\n",
    "#plt.tight_layout()\n",
    "plt.savefig(\"Results.png\", dpi = 300)\n"
   ],
   "metadata": {
    "collapsed": false
   }
  },
  {
   "cell_type": "code",
   "execution_count": 4,
   "outputs": [
    {
     "ename": "NameError",
     "evalue": "name 'time1' is not defined",
     "output_type": "error",
     "traceback": [
      "\u001B[1;31m---------------------------------------------------------------------------\u001B[0m",
      "\u001B[1;31mNameError\u001B[0m                                 Traceback (most recent call last)",
      "Input \u001B[1;32mIn [4]\u001B[0m, in \u001B[0;36m<cell line: 1>\u001B[1;34m()\u001B[0m\n\u001B[1;32m----> 1\u001B[0m \u001B[38;5;28mprint\u001B[39m(\u001B[43mtime1\u001B[49m[\u001B[38;5;241m0\u001B[39m])\n",
      "\u001B[1;31mNameError\u001B[0m: name 'time1' is not defined"
     ]
    }
   ],
   "source": [
    "print(time1[0])"
   ],
   "metadata": {
    "collapsed": false,
    "ExecuteTime": {
     "end_time": "2024-02-15T16:30:53.040536700Z",
     "start_time": "2024-02-15T16:30:52.986615500Z"
    }
   }
  },
  {
   "cell_type": "markdown",
   "source": [
    "## Loading Complex (#for Screenshot)"
   ],
   "metadata": {
    "collapsed": false
   }
  },
  {
   "cell_type": "code",
   "execution_count": 59,
   "outputs": [
    {
     "name": "stderr",
     "output_type": "stream",
     "text": [
      "D:\\02_Masterarbeit\\03_Python\\ddgclib\\_complex.py:2508: SyntaxWarning: \"is\" with a literal. Did you mean \"==\"?\n",
      "  if (col is 'lo') or (col is 'do'):\n",
      "D:\\02_Masterarbeit\\03_Python\\ddgclib\\_complex.py:2508: SyntaxWarning: \"is\" with a literal. Did you mean \"==\"?\n",
      "  if (col is 'lo') or (col is 'do'):\n",
      "D:\\02_Masterarbeit\\03_Python\\ddgclib\\_complex.py:3094: SyntaxWarning: \"is\" with a literal. Did you mean \"==\"?\n",
      "  if point_color is 'r':\n",
      "D:\\02_Masterarbeit\\03_Python\\ddgclib\\_complex.py:3110: SyntaxWarning: \"is\" with a literal. Did you mean \"==\"?\n",
      "  if point_color is 'r':\n",
      "D:\\02_Masterarbeit\\03_Python\\ddgclib\\_complex.py:2508: SyntaxWarning: \"is\" with a literal. Did you mean \"==\"?\n",
      "  if (col is 'lo') or (col is 'do'):\n",
      "D:\\02_Masterarbeit\\03_Python\\ddgclib\\_complex.py:2508: SyntaxWarning: \"is\" with a literal. Did you mean \"==\"?\n",
      "  if (col is 'lo') or (col is 'do'):\n",
      "D:\\02_Masterarbeit\\03_Python\\ddgclib\\_complex.py:3094: SyntaxWarning: \"is\" with a literal. Did you mean \"==\"?\n",
      "  if point_color is 'r':\n",
      "D:\\02_Masterarbeit\\03_Python\\ddgclib\\_complex.py:3110: SyntaxWarning: \"is\" with a literal. Did you mean \"==\"?\n",
      "  if point_color is 'r':\n"
     ]
    },
    {
     "ename": "FileNotFoundError",
     "evalue": "[Errno 2] No such file or directory: 'Complexd2l1ref2.json'",
     "output_type": "error",
     "traceback": [
      "\u001B[1;31m---------------------------------------------------------------------------\u001B[0m",
      "\u001B[1;31mFileNotFoundError\u001B[0m                         Traceback (most recent call last)",
      "Input \u001B[1;32mIn [59]\u001B[0m, in \u001B[0;36m<cell line: 5>\u001B[1;34m()\u001B[0m\n\u001B[0;32m      2\u001B[0m \u001B[38;5;28;01mfrom\u001B[39;00m \u001B[38;5;21;01mddgclib\u001B[39;00m\u001B[38;5;21;01m.\u001B[39;00m\u001B[38;5;21;01m_plotting\u001B[39;00m \u001B[38;5;28;01mimport\u001B[39;00m \u001B[38;5;241m*\u001B[39m\n\u001B[0;32m      4\u001B[0m HC \u001B[38;5;241m=\u001B[39m Complex(\u001B[38;5;241m3\u001B[39m)\n\u001B[1;32m----> 5\u001B[0m \u001B[43mHC\u001B[49m\u001B[38;5;241;43m.\u001B[39;49m\u001B[43mload_complex\u001B[49m\u001B[43m(\u001B[49m\u001B[38;5;124;43m'\u001B[39;49m\u001B[38;5;124;43mComplexd2l1ref2.json\u001B[39;49m\u001B[38;5;124;43m'\u001B[39;49m\u001B[43m)\u001B[49m\n",
      "File \u001B[1;32mD:\\02_Masterarbeit\\03_Python\\ddgclib\\_complex.py:3386\u001B[0m, in \u001B[0;36mComplex.load_complex\u001B[1;34m(self, fn)\u001B[0m\n\u001B[0;32m   3380\u001B[0m  \u001B[38;5;124;03m\"\"\"\u001B[39;00m\n\u001B[0;32m   3381\u001B[0m \u001B[38;5;124;03m TODO: Load the complex from file using pickle\u001B[39;00m\n\u001B[0;32m   3382\u001B[0m \u001B[38;5;124;03m :param fn: str, filename\u001B[39;00m\n\u001B[0;32m   3383\u001B[0m \u001B[38;5;124;03m :return:\u001B[39;00m\n\u001B[0;32m   3384\u001B[0m \u001B[38;5;124;03m \"\"\"\u001B[39;00m\n\u001B[0;32m   3385\u001B[0m  logging\u001B[38;5;241m.\u001B[39minfo(\u001B[38;5;124m'\u001B[39m\u001B[38;5;124mLoading complex data...\u001B[39m\u001B[38;5;124m'\u001B[39m)\n\u001B[1;32m-> 3386\u001B[0m  \u001B[38;5;28;01mwith\u001B[39;00m \u001B[38;5;28;43mopen\u001B[39;49m\u001B[43m(\u001B[49m\u001B[43mfn\u001B[49m\u001B[43m,\u001B[49m\u001B[43m \u001B[49m\u001B[38;5;124;43m'\u001B[39;49m\u001B[38;5;124;43mr\u001B[39;49m\u001B[38;5;124;43m'\u001B[39;49m\u001B[43m)\u001B[49m \u001B[38;5;28;01mas\u001B[39;00m fp:\n\u001B[0;32m   3387\u001B[0m      data \u001B[38;5;241m=\u001B[39m json\u001B[38;5;241m.\u001B[39mload(fp, object_pairs_hook\u001B[38;5;241m=\u001B[39mcollections\u001B[38;5;241m.\u001B[39mOrderedDict)\n\u001B[0;32m   3388\u001B[0m \u001B[38;5;66;03m# print(f'data = {data}')\u001B[39;00m\n",
      "\u001B[1;31mFileNotFoundError\u001B[0m: [Errno 2] No such file or directory: 'Complexd2l1ref2.json'"
     ]
    }
   ],
   "source": [
    "from ddgclib._truncated_cone import *\n",
    "from ddgclib._plotting import *\n",
    "\n",
    "HC = Complex(3)\n",
    "HC.load_complex('Complexd2l1ref2.json')"
   ],
   "metadata": {
    "collapsed": false,
    "ExecuteTime": {
     "end_time": "2024-02-15T16:29:45.026189600Z",
     "start_time": "2024-02-15T16:29:44.705342500Z"
    }
   }
  },
  {
   "cell_type": "code",
   "execution_count": 60,
   "outputs": [
    {
     "name": "stdout",
     "output_type": "stream",
     "text": [
      "np.zeros([self.V.size(), self.dim]) = []\n"
     ]
    },
    {
     "ename": "ValueError",
     "evalue": "surface mesh face array should have shape (F,D) for some D; shape is (0,)",
     "output_type": "error",
     "traceback": [
      "\u001B[1;31m---------------------------------------------------------------------------\u001B[0m",
      "\u001B[1;31mValueError\u001B[0m                                Traceback (most recent call last)",
      "Input \u001B[1;32mIn [60]\u001B[0m, in \u001B[0;36m<cell line: 1>\u001B[1;34m()\u001B[0m\n\u001B[1;32m----> 1\u001B[0m \u001B[43mplot_polyscope\u001B[49m\u001B[43m(\u001B[49m\u001B[43mHC\u001B[49m\u001B[43m)\u001B[49m\n",
      "File \u001B[1;32mD:\\02_Masterarbeit\\03_Python\\ddgclib\\_plotting.py:40\u001B[0m, in \u001B[0;36mplot_polyscope\u001B[1;34m(HC)\u001B[0m\n\u001B[0;32m     36\u001B[0m faces \u001B[38;5;241m=\u001B[39m triangles\n\u001B[0;32m     37\u001B[0m \u001B[38;5;66;03m### Register a mesh\u001B[39;00m\n\u001B[0;32m     38\u001B[0m \u001B[38;5;66;03m# `verts` is a Nx3 numpy array of vertex positions\u001B[39;00m\n\u001B[0;32m     39\u001B[0m \u001B[38;5;66;03m# `faces` is a Fx3 array of indices, or a nested list\u001B[39;00m\n\u001B[1;32m---> 40\u001B[0m surface \u001B[38;5;241m=\u001B[39m \u001B[43mps\u001B[49m\u001B[38;5;241;43m.\u001B[39;49m\u001B[43mregister_surface_mesh\u001B[49m\u001B[43m(\u001B[49m\u001B[38;5;124;43m\"\u001B[39;49m\u001B[38;5;124;43mmy mesh\u001B[39;49m\u001B[38;5;124;43m\"\u001B[39;49m\u001B[43m,\u001B[49m\u001B[43m \u001B[49m\u001B[43mverts\u001B[49m\u001B[43m,\u001B[49m\u001B[43m \u001B[49m\u001B[43mfaces\u001B[49m\u001B[43m,\u001B[49m\n\u001B[0;32m     41\u001B[0m \u001B[43m                         \u001B[49m\u001B[43mcolor\u001B[49m\u001B[38;5;241;43m=\u001B[39;49m\u001B[43mdo\u001B[49m\u001B[43m,\u001B[49m\n\u001B[0;32m     42\u001B[0m \u001B[43m                         \u001B[49m\u001B[43medge_width\u001B[49m\u001B[38;5;241;43m=\u001B[39;49m\u001B[38;5;241;43m1.0\u001B[39;49m\u001B[43m,\u001B[49m\n\u001B[0;32m     43\u001B[0m \u001B[43m                         \u001B[49m\u001B[43medge_color\u001B[49m\u001B[38;5;241;43m=\u001B[39;49m\u001B[43m(\u001B[49m\u001B[38;5;241;43m0.0\u001B[39;49m\u001B[43m,\u001B[49m\u001B[43m \u001B[49m\u001B[38;5;241;43m0.0\u001B[39;49m\u001B[43m,\u001B[49m\u001B[43m \u001B[49m\u001B[38;5;241;43m0.0\u001B[39;49m\u001B[43m)\u001B[49m\u001B[43m,\u001B[49m\n\u001B[0;32m     44\u001B[0m \u001B[43m                         \u001B[49m\u001B[43msmooth_shade\u001B[49m\u001B[38;5;241;43m=\u001B[39;49m\u001B[38;5;28;43;01mFalse\u001B[39;49;00m\u001B[43m)\u001B[49m\n\u001B[0;32m     46\u001B[0m \u001B[38;5;66;03m# Add a scalar function and a vector function defined on the mesh\u001B[39;00m\n\u001B[0;32m     47\u001B[0m \u001B[38;5;66;03m# vertex_scalar is a length V numpy array of values\u001B[39;00m\n\u001B[0;32m     48\u001B[0m \u001B[38;5;66;03m# face_vectors is an Fx3 array of vectors per face\u001B[39;00m\n\u001B[0;32m     49\u001B[0m \u001B[38;5;28;01mif\u001B[39;00m \u001B[38;5;241m0\u001B[39m:\n",
      "File \u001B[1;32mI:\\Programme\\Anaconda\\lib\\site-packages\\polyscope\\surface_mesh.py:446\u001B[0m, in \u001B[0;36mregister_surface_mesh\u001B[1;34m(name, vertices, faces, enabled, color, edge_color, smooth_shade, edge_width, material, back_face_policy, back_face_color, transparency)\u001B[0m\n\u001B[0;32m    443\u001B[0m \u001B[38;5;28;01mif\u001B[39;00m \u001B[38;5;129;01mnot\u001B[39;00m psb\u001B[38;5;241m.\u001B[39misInitialized():\n\u001B[0;32m    444\u001B[0m     \u001B[38;5;28;01mraise\u001B[39;00m \u001B[38;5;167;01mRuntimeError\u001B[39;00m(\u001B[38;5;124m\"\u001B[39m\u001B[38;5;124mPolyscope has not been initialized\u001B[39m\u001B[38;5;124m\"\u001B[39m)\n\u001B[1;32m--> 446\u001B[0m p \u001B[38;5;241m=\u001B[39m \u001B[43mSurfaceMesh\u001B[49m\u001B[43m(\u001B[49m\u001B[43mname\u001B[49m\u001B[43m,\u001B[49m\u001B[43m \u001B[49m\u001B[43mvertices\u001B[49m\u001B[43m,\u001B[49m\u001B[43m \u001B[49m\u001B[43mfaces\u001B[49m\u001B[43m)\u001B[49m\n\u001B[0;32m    448\u001B[0m \u001B[38;5;66;03m# == Apply options\u001B[39;00m\n\u001B[0;32m    449\u001B[0m \u001B[38;5;28;01mif\u001B[39;00m enabled \u001B[38;5;129;01mis\u001B[39;00m \u001B[38;5;129;01mnot\u001B[39;00m \u001B[38;5;28;01mNone\u001B[39;00m:\n",
      "File \u001B[1;32mI:\\Programme\\Anaconda\\lib\\site-packages\\polyscope\\surface_mesh.py:26\u001B[0m, in \u001B[0;36mSurfaceMesh.__init__\u001B[1;34m(self, name, vertices, faces, instance)\u001B[0m\n\u001B[0;32m     21\u001B[0m \u001B[38;5;28mself\u001B[39m\u001B[38;5;241m.\u001B[39mcheck_shape(vertices)\n\u001B[0;32m     23\u001B[0m \u001B[38;5;28;01mif\u001B[39;00m \u001B[38;5;28misinstance\u001B[39m(faces, np\u001B[38;5;241m.\u001B[39mndarray):\n\u001B[0;32m     24\u001B[0m     \u001B[38;5;66;03m# Faces is a numpy array\u001B[39;00m\n\u001B[1;32m---> 26\u001B[0m     \u001B[38;5;28;01mif\u001B[39;00m (\u001B[38;5;28mlen\u001B[39m(faces\u001B[38;5;241m.\u001B[39mshape) \u001B[38;5;241m!=\u001B[39m \u001B[38;5;241m2\u001B[39m): \u001B[38;5;28;01mraise\u001B[39;00m \u001B[38;5;167;01mValueError\u001B[39;00m(\u001B[38;5;124m\"\u001B[39m\u001B[38;5;124msurface mesh face array should have shape (F,D) for some D; shape is \u001B[39m\u001B[38;5;124m\"\u001B[39m \u001B[38;5;241m+\u001B[39m \u001B[38;5;28mstr\u001B[39m(faces\u001B[38;5;241m.\u001B[39mshape))\n\u001B[0;32m     28\u001B[0m     \u001B[38;5;28;01mif\u001B[39;00m vertices\u001B[38;5;241m.\u001B[39mshape[\u001B[38;5;241m1\u001B[39m] \u001B[38;5;241m==\u001B[39m \u001B[38;5;241m3\u001B[39m:\n\u001B[0;32m     29\u001B[0m         \u001B[38;5;28mself\u001B[39m\u001B[38;5;241m.\u001B[39mbound_mesh \u001B[38;5;241m=\u001B[39m psb\u001B[38;5;241m.\u001B[39mregister_surface_mesh(name, vertices, faces) \n",
      "\u001B[1;31mValueError\u001B[0m: surface mesh face array should have shape (F,D) for some D; shape is (0,)"
     ]
    }
   ],
   "source": [
    "plot_polyscope(HC)"
   ],
   "metadata": {
    "collapsed": false,
    "ExecuteTime": {
     "end_time": "2024-02-15T16:29:45.356472700Z",
     "start_time": "2024-02-15T16:29:45.274025200Z"
    }
   }
  },
  {
   "cell_type": "markdown",
   "source": [
    "## Plotting the data in one plot"
   ],
   "metadata": {
    "collapsed": false
   }
  },
  {
   "cell_type": "code",
   "execution_count": 57,
   "outputs": [
    {
     "data": {
      "text/plain": "<Figure size 432x360 with 2 Axes>",
      "image/png": "[encoded data removed]"
     },
     "metadata": {
      "needs_background": "light"
     },
     "output_type": "display_data"
    }
   ],
   "source": [
    "'''\n",
    "Plot the data in one plot\n",
    "'''\n",
    "fig, ax = plt.subplots(nrows=1, ncols=1, figsize=(6, 5))\n",
    "\n",
    "ax2 = ax.twinx()\n",
    "\n",
    "\n",
    "ax.plot(refinment, volume1,\"o--\",color=\"tab:blue\" , linewidth = 1, markersize = 7, label = 'volume')\n",
    "\n",
    "ax2.plot(8, 1,\"o--\",color=\"tab:blue\", linewidth = 1, markersize = 7, label = 'volume')\n",
    "ax2.plot(refinment, time1,\"o--\",color=\"tab:orange\", linewidth = 1, markersize = 7, label = 'time')\n",
    "\n",
    "#ax2_1.plot(data_laenge_z[i], delta_temp_k[i], label = path[i], color = color_list[i],  linewidth = 1)\n",
    "\n",
    "\n",
    "ax.set_ylabel(\"volume deviation / %\")\n",
    "ax2.set_ylabel(\"time / s\")\n",
    "\n",
    "ax.set_xlabel(\"refinement / -\")\n",
    "\n",
    "ax.set_xlim(1.75,6.25)\n",
    "\n",
    "#plt.tight_layout()\n",
    "#ax.legend()\n",
    "#ax2.legend()\n",
    "\n",
    "lines, labels = fig.axes[-1].get_legend_handles_labels() #labels von dem letzten ax Objekt\n",
    "\n",
    "plt.figlegend(lines, labels, loc='lower center', bbox_to_anchor=(0.5, 0), bbox_transform=plt.gcf().transFigure, ncol=2)\n",
    "fig.tight_layout(rect=(0,0.1,1,1)) #Platz für Legende lassen\n",
    "\n",
    "\n",
    "#plt.savefig(\"Results.png\", dpi = 300)"
   ],
   "metadata": {
    "collapsed": false,
    "ExecuteTime": {
     "end_time": "2023-12-05T14:55:28.126154900Z",
     "start_time": "2023-12-05T14:55:27.911558900Z"
    }
   }
  },
  {
   "cell_type": "code",
   "execution_count": 22,
   "outputs": [],
   "source": [],
   "metadata": {
    "collapsed": false,
    "ExecuteTime": {
     "end_time": "2023-12-05T13:30:44.563119800Z",
     "start_time": "2023-12-05T13:30:44.550206500Z"
    }
   }
  },
  {
   "cell_type": "code",
   "execution_count": null,
   "outputs": [],
   "source": [],
   "metadata": {
    "collapsed": false
   }
  }
 ],
 "metadata": {
  "kernelspec": {
   "display_name": "Python 3",
   "language": "python",
   "name": "python3"
  },
  "language_info": {
   "codemirror_mode": {
    "name": "ipython",
    "version": 2
   },
   "file_extension": ".py",
   "mimetype": "text/x-python",
   "name": "python",
   "nbconvert_exporter": "python",
   "pygments_lexer": "ipython2",
   "version": "2.7.6"
  }
 },
 "nbformat": 4,
 "nbformat_minor": 0
}
