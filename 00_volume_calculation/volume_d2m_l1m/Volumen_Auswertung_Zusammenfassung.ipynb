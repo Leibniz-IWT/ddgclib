{
 "cells": [
  {
   "cell_type": "code",
   "execution_count": null,
   "outputs": [],
   "source": [],
   "metadata": {
    "collapsed": false
   }
  },
  {
   "cell_type": "code",
   "execution_count": 3,
   "outputs": [],
   "source": [
    "import numpy as np\n",
    "from matplotlib import pyplot as plt"
   ],
   "metadata": {
    "collapsed": false,
    "ExecuteTime": {
     "end_time": "2024-02-09T17:15:31.895072400Z",
     "start_time": "2024-02-09T17:15:31.886440200Z"
    }
   }
  },
  {
   "cell_type": "code",
   "execution_count": 15,
   "outputs": [
    {
     "name": "stdout",
     "output_type": "stream",
     "text": [
      "18.758253177273495\n",
      "5.023098901134351\n",
      "[18.75825318  1.27769798]\n",
      "[5.0230989  0.32081209]\n",
      "[18.75825318  1.27769798  0.08029002]\n"
     ]
    }
   ],
   "source": [
    "diameter    = 1\n",
    "length      = 2\n",
    "\n",
    "# string_savename + '_vrel'+ '.txt',v_rel_list\n",
    "\n",
    "\n",
    "#volume      = np.loadtxt('d1l1ref7_vrel.txt')\n",
    "#time        = np.loadtxt('d1l1ref7_time.txt')\n",
    "\n",
    "refinement_end = 7\n",
    "\n",
    "refinement_list = np.arange(2,refinement_end,1)\n",
    "\n",
    "volume_list = np.zeros(len(refinement_list))\n",
    "#print(volume_list)\n",
    "time_list   = []\n",
    "\n",
    "for i in range(len(refinement_list)):\n",
    "    refinement          = refinement_list[i]\n",
    "    string_savename     = 'd'+ str(diameter) + 'l' + str(length) + 'ref' + str(refinement)\n",
    "    volume              = np.loadtxt(string_savename + '_vrel'+ '.txt')\n",
    "    time                = np.loadtxt(string_savename + '_time'+ '.txt')\n",
    "    print(volume)\n",
    "    #volume_list[i] = volume\n",
    "    #volume_list.append(volume)\n",
    "    #time_list.append(time)\n",
    "\n",
    "#print(volume_list)\n",
    "#print(volume)"
   ],
   "metadata": {
    "collapsed": false,
    "ExecuteTime": {
     "end_time": "2024-02-09T17:22:40.874184600Z",
     "start_time": "2024-02-09T17:22:40.864151800Z"
    }
   }
  },
  {
   "cell_type": "code",
   "execution_count": 7,
   "outputs": [
    {
     "ename": "ValueError",
     "evalue": "setting an array element with a sequence. The requested array has an inhomogeneous shape after 1 dimensions. The detected shape was (5,) + inhomogeneous part.",
     "output_type": "error",
     "traceback": [
      "\u001B[1;31m---------------------------------------------------------------------------\u001B[0m",
      "\u001B[1;31mValueError\u001B[0m                                Traceback (most recent call last)",
      "Cell \u001B[1;32mIn[7], line 9\u001B[0m\n\u001B[0;32m      4\u001B[0m fig, ax \u001B[38;5;241m=\u001B[39m plt\u001B[38;5;241m.\u001B[39msubplots(nrows\u001B[38;5;241m=\u001B[39m\u001B[38;5;241m1\u001B[39m, ncols\u001B[38;5;241m=\u001B[39m\u001B[38;5;241m1\u001B[39m, figsize\u001B[38;5;241m=\u001B[39m(\u001B[38;5;241m6\u001B[39m, \u001B[38;5;241m5\u001B[39m))\n\u001B[0;32m      6\u001B[0m ax2 \u001B[38;5;241m=\u001B[39m ax\u001B[38;5;241m.\u001B[39mtwinx()\n\u001B[1;32m----> 9\u001B[0m \u001B[43max\u001B[49m\u001B[38;5;241;43m.\u001B[39;49m\u001B[43mplot\u001B[49m\u001B[43m(\u001B[49m\u001B[43mrefinement_list\u001B[49m\u001B[43m,\u001B[49m\u001B[43m \u001B[49m\u001B[43mvolume_list\u001B[49m\u001B[43m,\u001B[49m\u001B[38;5;124;43m\"\u001B[39;49m\u001B[38;5;124;43mo--\u001B[39;49m\u001B[38;5;124;43m\"\u001B[39;49m\u001B[43m,\u001B[49m\u001B[43mcolor\u001B[49m\u001B[38;5;241;43m=\u001B[39;49m\u001B[38;5;124;43m\"\u001B[39;49m\u001B[38;5;124;43mtab:blue\u001B[39;49m\u001B[38;5;124;43m\"\u001B[39;49m\u001B[43m \u001B[49m\u001B[43m,\u001B[49m\u001B[43m \u001B[49m\u001B[43mlinewidth\u001B[49m\u001B[43m \u001B[49m\u001B[38;5;241;43m=\u001B[39;49m\u001B[43m \u001B[49m\u001B[38;5;241;43m1\u001B[39;49m\u001B[43m,\u001B[49m\u001B[43m \u001B[49m\u001B[43mmarkersize\u001B[49m\u001B[43m \u001B[49m\u001B[38;5;241;43m=\u001B[39;49m\u001B[43m \u001B[49m\u001B[38;5;241;43m7\u001B[39;49m\u001B[43m,\u001B[49m\u001B[43m \u001B[49m\u001B[43mlabel\u001B[49m\u001B[43m \u001B[49m\u001B[38;5;241;43m=\u001B[39;49m\u001B[43m \u001B[49m\u001B[38;5;124;43m'\u001B[39;49m\u001B[38;5;124;43mvolume\u001B[39;49m\u001B[38;5;124;43m'\u001B[39;49m\u001B[43m)\u001B[49m\n\u001B[0;32m     11\u001B[0m ax2\u001B[38;5;241m.\u001B[39mplot(\u001B[38;5;241m8\u001B[39m, \u001B[38;5;241m1\u001B[39m,\u001B[38;5;124m\"\u001B[39m\u001B[38;5;124mo--\u001B[39m\u001B[38;5;124m\"\u001B[39m,color\u001B[38;5;241m=\u001B[39m\u001B[38;5;124m\"\u001B[39m\u001B[38;5;124mtab:blue\u001B[39m\u001B[38;5;124m\"\u001B[39m, linewidth \u001B[38;5;241m=\u001B[39m \u001B[38;5;241m1\u001B[39m, markersize \u001B[38;5;241m=\u001B[39m \u001B[38;5;241m7\u001B[39m, label \u001B[38;5;241m=\u001B[39m \u001B[38;5;124m'\u001B[39m\u001B[38;5;124mvolume\u001B[39m\u001B[38;5;124m'\u001B[39m)\n\u001B[0;32m     12\u001B[0m ax2\u001B[38;5;241m.\u001B[39mplot(refinement_list, time_list,\u001B[38;5;124m\"\u001B[39m\u001B[38;5;124mo--\u001B[39m\u001B[38;5;124m\"\u001B[39m,color\u001B[38;5;241m=\u001B[39m\u001B[38;5;124m\"\u001B[39m\u001B[38;5;124mtab:orange\u001B[39m\u001B[38;5;124m\"\u001B[39m, linewidth \u001B[38;5;241m=\u001B[39m \u001B[38;5;241m1\u001B[39m, markersize \u001B[38;5;241m=\u001B[39m \u001B[38;5;241m7\u001B[39m, label \u001B[38;5;241m=\u001B[39m \u001B[38;5;124m'\u001B[39m\u001B[38;5;124mtime\u001B[39m\u001B[38;5;124m'\u001B[39m)\n",
      "File \u001B[1;32mD:\\02_Masterarbeit\\03_Python\\venv\\lib\\site-packages\\matplotlib\\axes\\_axes.py:1721\u001B[0m, in \u001B[0;36mAxes.plot\u001B[1;34m(self, scalex, scaley, data, *args, **kwargs)\u001B[0m\n\u001B[0;32m   1478\u001B[0m \u001B[38;5;250m\u001B[39m\u001B[38;5;124;03m\"\"\"\u001B[39;00m\n\u001B[0;32m   1479\u001B[0m \u001B[38;5;124;03mPlot y versus x as lines and/or markers.\u001B[39;00m\n\u001B[0;32m   1480\u001B[0m \n\u001B[1;32m   (...)\u001B[0m\n\u001B[0;32m   1718\u001B[0m \u001B[38;5;124;03m(``'green'``) or hex strings (``'#008000'``).\u001B[39;00m\n\u001B[0;32m   1719\u001B[0m \u001B[38;5;124;03m\"\"\"\u001B[39;00m\n\u001B[0;32m   1720\u001B[0m kwargs \u001B[38;5;241m=\u001B[39m cbook\u001B[38;5;241m.\u001B[39mnormalize_kwargs(kwargs, mlines\u001B[38;5;241m.\u001B[39mLine2D)\n\u001B[1;32m-> 1721\u001B[0m lines \u001B[38;5;241m=\u001B[39m [\u001B[38;5;241m*\u001B[39m\u001B[38;5;28mself\u001B[39m\u001B[38;5;241m.\u001B[39m_get_lines(\u001B[38;5;28mself\u001B[39m, \u001B[38;5;241m*\u001B[39margs, data\u001B[38;5;241m=\u001B[39mdata, \u001B[38;5;241m*\u001B[39m\u001B[38;5;241m*\u001B[39mkwargs)]\n\u001B[0;32m   1722\u001B[0m \u001B[38;5;28;01mfor\u001B[39;00m line \u001B[38;5;129;01min\u001B[39;00m lines:\n\u001B[0;32m   1723\u001B[0m     \u001B[38;5;28mself\u001B[39m\u001B[38;5;241m.\u001B[39madd_line(line)\n",
      "File \u001B[1;32mD:\\02_Masterarbeit\\03_Python\\venv\\lib\\site-packages\\matplotlib\\axes\\_base.py:303\u001B[0m, in \u001B[0;36m_process_plot_var_args.__call__\u001B[1;34m(self, axes, data, *args, **kwargs)\u001B[0m\n\u001B[0;32m    301\u001B[0m     this \u001B[38;5;241m+\u001B[39m\u001B[38;5;241m=\u001B[39m args[\u001B[38;5;241m0\u001B[39m],\n\u001B[0;32m    302\u001B[0m     args \u001B[38;5;241m=\u001B[39m args[\u001B[38;5;241m1\u001B[39m:]\n\u001B[1;32m--> 303\u001B[0m \u001B[38;5;28;01myield from\u001B[39;00m \u001B[38;5;28;43mself\u001B[39;49m\u001B[38;5;241;43m.\u001B[39;49m\u001B[43m_plot_args\u001B[49m\u001B[43m(\u001B[49m\n\u001B[0;32m    304\u001B[0m \u001B[43m    \u001B[49m\u001B[43maxes\u001B[49m\u001B[43m,\u001B[49m\u001B[43m \u001B[49m\u001B[43mthis\u001B[49m\u001B[43m,\u001B[49m\u001B[43m \u001B[49m\u001B[43mkwargs\u001B[49m\u001B[43m,\u001B[49m\u001B[43m \u001B[49m\u001B[43mambiguous_fmt_datakey\u001B[49m\u001B[38;5;241;43m=\u001B[39;49m\u001B[43mambiguous_fmt_datakey\u001B[49m\u001B[43m)\u001B[49m\n",
      "File \u001B[1;32mD:\\02_Masterarbeit\\03_Python\\venv\\lib\\site-packages\\matplotlib\\axes\\_base.py:489\u001B[0m, in \u001B[0;36m_process_plot_var_args._plot_args\u001B[1;34m(self, axes, tup, kwargs, return_kwargs, ambiguous_fmt_datakey)\u001B[0m\n\u001B[0;32m    487\u001B[0m \u001B[38;5;28;01mif\u001B[39;00m \u001B[38;5;28mlen\u001B[39m(xy) \u001B[38;5;241m==\u001B[39m \u001B[38;5;241m2\u001B[39m:\n\u001B[0;32m    488\u001B[0m     x \u001B[38;5;241m=\u001B[39m _check_1d(xy[\u001B[38;5;241m0\u001B[39m])\n\u001B[1;32m--> 489\u001B[0m     y \u001B[38;5;241m=\u001B[39m \u001B[43m_check_1d\u001B[49m\u001B[43m(\u001B[49m\u001B[43mxy\u001B[49m\u001B[43m[\u001B[49m\u001B[38;5;241;43m1\u001B[39;49m\u001B[43m]\u001B[49m\u001B[43m)\u001B[49m\n\u001B[0;32m    490\u001B[0m \u001B[38;5;28;01melse\u001B[39;00m:\n\u001B[0;32m    491\u001B[0m     x, y \u001B[38;5;241m=\u001B[39m index_of(xy[\u001B[38;5;241m-\u001B[39m\u001B[38;5;241m1\u001B[39m])\n",
      "File \u001B[1;32mD:\\02_Masterarbeit\\03_Python\\venv\\lib\\site-packages\\matplotlib\\cbook.py:1358\u001B[0m, in \u001B[0;36m_check_1d\u001B[1;34m(x)\u001B[0m\n\u001B[0;32m   1352\u001B[0m \u001B[38;5;66;03m# plot requires `shape` and `ndim`.  If passed an\u001B[39;00m\n\u001B[0;32m   1353\u001B[0m \u001B[38;5;66;03m# object that doesn't provide them, then force to numpy array.\u001B[39;00m\n\u001B[0;32m   1354\u001B[0m \u001B[38;5;66;03m# Note this will strip unit information.\u001B[39;00m\n\u001B[0;32m   1355\u001B[0m \u001B[38;5;28;01mif\u001B[39;00m (\u001B[38;5;129;01mnot\u001B[39;00m \u001B[38;5;28mhasattr\u001B[39m(x, \u001B[38;5;124m'\u001B[39m\u001B[38;5;124mshape\u001B[39m\u001B[38;5;124m'\u001B[39m) \u001B[38;5;129;01mor\u001B[39;00m\n\u001B[0;32m   1356\u001B[0m         \u001B[38;5;129;01mnot\u001B[39;00m \u001B[38;5;28mhasattr\u001B[39m(x, \u001B[38;5;124m'\u001B[39m\u001B[38;5;124mndim\u001B[39m\u001B[38;5;124m'\u001B[39m) \u001B[38;5;129;01mor\u001B[39;00m\n\u001B[0;32m   1357\u001B[0m         \u001B[38;5;28mlen\u001B[39m(x\u001B[38;5;241m.\u001B[39mshape) \u001B[38;5;241m<\u001B[39m \u001B[38;5;241m1\u001B[39m):\n\u001B[1;32m-> 1358\u001B[0m     \u001B[38;5;28;01mreturn\u001B[39;00m \u001B[43mnp\u001B[49m\u001B[38;5;241;43m.\u001B[39;49m\u001B[43matleast_1d\u001B[49m\u001B[43m(\u001B[49m\u001B[43mx\u001B[49m\u001B[43m)\u001B[49m\n\u001B[0;32m   1359\u001B[0m \u001B[38;5;28;01melse\u001B[39;00m:\n\u001B[0;32m   1360\u001B[0m     \u001B[38;5;28;01mreturn\u001B[39;00m x\n",
      "File \u001B[1;32mD:\\02_Masterarbeit\\03_Python\\venv\\lib\\site-packages\\numpy\\core\\shape_base.py:65\u001B[0m, in \u001B[0;36matleast_1d\u001B[1;34m(*arys)\u001B[0m\n\u001B[0;32m     63\u001B[0m res \u001B[38;5;241m=\u001B[39m []\n\u001B[0;32m     64\u001B[0m \u001B[38;5;28;01mfor\u001B[39;00m ary \u001B[38;5;129;01min\u001B[39;00m arys:\n\u001B[1;32m---> 65\u001B[0m     ary \u001B[38;5;241m=\u001B[39m \u001B[43masanyarray\u001B[49m\u001B[43m(\u001B[49m\u001B[43mary\u001B[49m\u001B[43m)\u001B[49m\n\u001B[0;32m     66\u001B[0m     \u001B[38;5;28;01mif\u001B[39;00m ary\u001B[38;5;241m.\u001B[39mndim \u001B[38;5;241m==\u001B[39m \u001B[38;5;241m0\u001B[39m:\n\u001B[0;32m     67\u001B[0m         result \u001B[38;5;241m=\u001B[39m ary\u001B[38;5;241m.\u001B[39mreshape(\u001B[38;5;241m1\u001B[39m)\n",
      "\u001B[1;31mValueError\u001B[0m: setting an array element with a sequence. The requested array has an inhomogeneous shape after 1 dimensions. The detected shape was (5,) + inhomogeneous part."
     ]
    },
    {
     "data": {
      "text/plain": "<Figure size 600x500 with 2 Axes>",
      "image/png": "[encoded data removed]"
     },
     "metadata": {},
     "output_type": "display_data"
    }
   ],
   "source": [
    "'''\n",
    "Plot the data\n",
    "'''\n",
    "fig, ax = plt.subplots(nrows=1, ncols=1, figsize=(6, 5))\n",
    "\n",
    "ax2 = ax.twinx()\n",
    "\n",
    "\n",
    "ax.plot(refinement_list, volume_list,\"o--\",color=\"tab:blue\" , linewidth = 1, markersize = 7, label = 'volume')\n",
    "\n",
    "ax2.plot(8, 1,\"o--\",color=\"tab:blue\", linewidth = 1, markersize = 7, label = 'volume')\n",
    "ax2.plot(refinement_list, time_list,\"o--\",color=\"tab:orange\", linewidth = 1, markersize = 7, label = 'time')\n",
    "\n",
    "#ax2_1.plot(data_laenge_z[i], delta_temp_k[i], label = path[i], color = color_list[i],  linewidth = 1)\n",
    "\n",
    "\n",
    "ax.set_ylabel(\"volume deviation / %\")\n",
    "ax2.set_ylabel(\"time / s\")\n",
    "\n",
    "ax.set_xlabel(\"refinement / -\")\n",
    "\n",
    "ax.set_xlim(1.75,6.25)\n",
    "\n",
    "#plt.tight_layout()\n",
    "#ax.legend()\n",
    "#ax2.legend()\n",
    "\n",
    "lines, labels = fig.axes[-1].get_legend_handles_labels() #labels von dem letzten ax Objekt\n",
    "\n",
    "plt.figlegend(lines, labels, loc='lower center', bbox_to_anchor=(0.5, 0), bbox_transform=plt.gcf().transFigure, ncol=2)\n",
    "fig.tight_layout(rect=(0,0.1,1,1)) #Platz für Legende lassen\n",
    "\n",
    "\n",
    "#plt.savefig(\"Results.png\", dpi = 300)"
   ],
   "metadata": {
    "collapsed": false,
    "ExecuteTime": {
     "end_time": "2024-02-09T17:19:27.474331800Z",
     "start_time": "2024-02-09T17:19:27.096155600Z"
    }
   }
  },
  {
   "cell_type": "code",
   "execution_count": null,
   "outputs": [],
   "source": [],
   "metadata": {
    "collapsed": false
   }
  }
 ],
 "metadata": {
  "kernelspec": {
   "display_name": "Python 3",
   "language": "python",
   "name": "python3"
  },
  "language_info": {
   "codemirror_mode": {
    "name": "ipython",
    "version": 2
   },
   "file_extension": ".py",
   "mimetype": "text/x-python",
   "name": "python",
   "nbconvert_exporter": "python",
   "pygments_lexer": "ipython2",
   "version": "2.7.6"
  }
 },
 "nbformat": 4,
 "nbformat_minor": 0
}
