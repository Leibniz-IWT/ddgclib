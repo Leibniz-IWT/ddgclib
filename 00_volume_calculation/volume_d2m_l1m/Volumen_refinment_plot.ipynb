{
 "cells": [
  {
   "cell_type": "code",
   "execution_count": null,
   "metadata": {
    "collapsed": true,
    "ExecuteTime": {
     "end_time": "2024-03-17T14:40:35.302292Z",
     "start_time": "2024-03-17T14:40:35.285901500Z"
    }
   },
   "outputs": [],
   "source": []
  },
  {
   "cell_type": "code",
   "execution_count": 4,
   "outputs": [],
   "source": [
    "import numpy as np\n",
    "from matplotlib import pyplot as plt"
   ],
   "metadata": {
    "collapsed": false,
    "ExecuteTime": {
     "end_time": "2024-04-25T12:54:55.339008400Z",
     "start_time": "2024-04-25T12:54:54.069588Z"
    }
   }
  },
  {
   "cell_type": "code",
   "execution_count": 5,
   "outputs": [],
   "source": [
    "plt.rcParams[\"font.family\"] = \"sans-serif\"\n",
    "plt.rcParams[\"font.sans-serif\"] = \"Arial\"\n",
    "plt.rcParams[\"mathtext.fontset\"] = \"custom\"\n",
    "plt.rcParams[\"mathtext.it\"] = \"Arial:italic\"\n",
    "plt.rcParams[\"mathtext.rm\"] = \"Arial\"\n",
    "plt.rcParams[\"mathtext.default\"] = \"it\"\n",
    "plt.rcParams['axes.labelsize'] = 12\n",
    "plt.rcParams['axes.titlesize'] = 12\n",
    "plt.rcParams['xtick.labelsize'] = 12\n",
    "plt.rcParams['ytick.labelsize'] = 12\n",
    "plt.rcParams['legend.fontsize'] = 12"
   ],
   "metadata": {
    "collapsed": false,
    "ExecuteTime": {
     "end_time": "2024-04-25T12:54:55.356508400Z",
     "start_time": "2024-04-25T12:54:55.341508300Z"
    }
   }
  },
  {
   "cell_type": "code",
   "execution_count": 6,
   "outputs": [],
   "source": [
    "volume1      = np.loadtxt('d0.002l0.001ref6_vrel.txt')\n",
    "time1        = np.loadtxt('d0.002l0.001ref6_time.txt')\n",
    "\n",
    "volume2      = np.loadtxt('d2l1ref6_vrel.txt')\n",
    "time2        = np.loadtxt('d2l1ref6_time.txt')\n",
    "\n",
    "refinment   = np.arange(2,7,1)"
   ],
   "metadata": {
    "collapsed": false,
    "ExecuteTime": {
     "end_time": "2024-04-25T12:54:55.372508Z",
     "start_time": "2024-04-25T12:54:55.356508400Z"
    }
   }
  },
  {
   "cell_type": "code",
   "execution_count": 7,
   "outputs": [
    {
     "data": {
      "text/plain": "<Figure size 360x216 with 2 Axes>",
      "image/png": "[encoded data removed]"
     },
     "metadata": {
      "needs_background": "light"
     },
     "output_type": "display_data"
    }
   ],
   "source": [
    "'''\n",
    "Plot the data\n",
    "'''\n",
    "line_value = 0\n",
    "alpha_value1 = 1\n",
    "alpha_value2 = 0.7\n",
    "marker_value = 5\n",
    "\n",
    "\n",
    "#$u_\\mathregular{0}$ = 0.05 m/s\n",
    "label_list = ['$d$ = 2 m, $l$ = 1m', ' $d$ = $\\mathregular{2}\\cdot\\mathregular{10}^\\mathregular{-3}$m, $l$ = $\\mathregular{2}\\cdot\\mathregular{10}^\\mathregular{-3}$m ']\n",
    "\n",
    "fig, ax = plt.subplots(nrows=1, ncols=2, figsize=(5, 3))\n",
    "\n",
    "ax[0].plot(refinment, volume1,  \"v:\",color=\"tab:red\", alpha = alpha_value1, linewidth = line_value, markersize = marker_value)\n",
    "ax[1].plot(refinment, time1,    \"v:\",color=\"tab:red\", alpha = alpha_value1, linewidth = line_value, markersize = marker_value, label = label_list[0])\n",
    "\n",
    "ax[0].plot(refinment, volume2,  \"o:\",color=\"tab:blue\", alpha = alpha_value2,linewidth = line_value, markersize = marker_value)\n",
    "ax[1].plot(refinment, time2,    \"o:\",color=\"tab:blue\",alpha = alpha_value2, linewidth = line_value, markersize = marker_value, label = label_list[1])\n",
    "\n",
    "\n",
    "#ax[0].set_title('Volume deviation')\n",
    "#ax[1].set_title('Time')\n",
    "\n",
    "ax[0].set_xlim(1.75,6.25)\n",
    "ax[1].set_xlim(1.75,6.25)\n",
    "\n",
    "ax[0].set_ylim(-0.5,20)\n",
    "ax[1].set_ylim(-50,1500)\n",
    "\n",
    "ax[0].set_title('(a)')\n",
    "ax[1].set_title('(b)')\n",
    "\n",
    "ax[0].set_ylabel(\"volume deviation / %\")\n",
    "ax[1].set_ylabel(\"time / s\")\n",
    "\n",
    "ax[0].set_xlabel(\"refinement / -\")\n",
    "ax[1].set_xlabel(\"refinement / -\")\n",
    "\n",
    "lines, labels = fig.axes[-1].get_legend_handles_labels() #labels von dem letzten ax Objekt\n",
    "\n",
    "plt.figlegend(lines, labels, loc='lower center', bbox_to_anchor=(0.55, 0), bbox_transform=plt.gcf().transFigure, ncol=2)\n",
    "fig.tight_layout(rect=(0,0.12,1,1)) #Platz für Legende lassen\n",
    "\n",
    "#plt.tight_layout()\n",
    "plt.savefig(\"Results.png\", dpi = 300)\n"
   ],
   "metadata": {
    "collapsed": false,
    "ExecuteTime": {
     "end_time": "2024-04-25T12:54:55.834507100Z",
     "start_time": "2024-04-25T12:54:55.417508Z"
    }
   }
  },
  {
   "cell_type": "code",
   "execution_count": 8,
   "outputs": [
    {
     "data": {
      "text/plain": "array([5.80163000e-02, 3.86751800e-01, 3.73742340e+00, 5.42112499e+01,\n       1.26902871e+03])"
     },
     "execution_count": 8,
     "metadata": {},
     "output_type": "execute_result"
    }
   ],
   "source": [
    "time2"
   ],
   "metadata": {
    "collapsed": false,
    "ExecuteTime": {
     "end_time": "2024-04-25T12:54:56.487006100Z",
     "start_time": "2024-04-25T12:54:56.469005700Z"
    }
   }
  },
  {
   "cell_type": "code",
   "execution_count": 7,
   "outputs": [
    {
     "data": {
      "text/plain": "307.25"
     },
     "execution_count": 7,
     "metadata": {},
     "output_type": "execute_result"
    }
   ],
   "source": [
    "1229/4\n"
   ],
   "metadata": {
    "collapsed": false,
    "ExecuteTime": {
     "end_time": "2024-03-17T14:43:23.483511800Z",
     "start_time": "2024-03-17T14:43:23.469604600Z"
    }
   }
  },
  {
   "cell_type": "code",
   "execution_count": 6,
   "outputs": [
    {
     "data": {
      "text/plain": "array([18.75825318,  5.0230989 ,  1.27769798,  0.32081209,  0.08029002])"
     },
     "execution_count": 6,
     "metadata": {},
     "output_type": "execute_result"
    }
   ],
   "source": [
    "volume1"
   ],
   "metadata": {
    "collapsed": false,
    "ExecuteTime": {
     "end_time": "2024-03-17T14:41:23.707891300Z",
     "start_time": "2024-03-17T14:41:23.682064500Z"
    }
   }
  },
  {
   "cell_type": "markdown",
   "source": [
    "## Loading Complex (#for Screenshot)"
   ],
   "metadata": {
    "collapsed": false
   }
  },
  {
   "cell_type": "code",
   "execution_count": 37,
   "outputs": [],
   "source": [
    "from ddgclib._truncated_cone import *\n",
    "from ddgclib._plotting import *\n",
    "\n",
    "HC = Complex(3)\n",
    "HC.load_complex('Complexd2l1ref2.json')"
   ],
   "metadata": {
    "collapsed": false,
    "ExecuteTime": {
     "end_time": "2024-02-15T16:52:15.108568700Z",
     "start_time": "2024-02-15T16:52:15.091702200Z"
    }
   }
  },
  {
   "cell_type": "code",
   "execution_count": 38,
   "outputs": [
    {
     "name": "stdout",
     "output_type": "stream",
     "text": [
      "np.zeros([self.V.size(), self.dim]) = [[0. 0.]\n",
      " [0. 0.]\n",
      " [0. 0.]\n",
      " [0. 0.]\n",
      " [0. 0.]\n",
      " [0. 0.]\n",
      " [0. 0.]\n",
      " [0. 0.]\n",
      " [0. 0.]\n",
      " [0. 0.]\n",
      " [0. 0.]\n",
      " [0. 0.]\n",
      " [0. 0.]\n",
      " [0. 0.]\n",
      " [0. 0.]\n",
      " [0. 0.]\n",
      " [0. 0.]\n",
      " [0. 0.]\n",
      " [0. 0.]\n",
      " [0. 0.]\n",
      " [0. 0.]\n",
      " [0. 0.]\n",
      " [0. 0.]\n",
      " [0. 0.]\n",
      " [0. 0.]\n",
      " [0. 0.]\n",
      " [0. 0.]\n",
      " [0. 0.]\n",
      " [0. 0.]\n",
      " [0. 0.]\n",
      " [0. 0.]\n",
      " [0. 0.]\n",
      " [0. 0.]\n",
      " [0. 0.]\n",
      " [0. 0.]\n",
      " [0. 0.]\n",
      " [0. 0.]\n",
      " [0. 0.]]\n",
      "self.V[v].index = 0\n",
      "self.V[v].index = 37\n",
      "self.V[v].index = 18\n",
      "self.V[v].index = 25\n",
      "self.V[v].index = 31\n",
      "self.V[v].index = 35\n",
      "self.V[v].index = 20\n",
      "self.V[v].index = 1\n",
      "self.V[v].index = 26\n",
      "self.V[v].index = 30\n",
      "self.V[v].index = 13\n",
      "self.V[v].index = 36\n",
      "self.V[v].index = 11\n",
      "self.V[v].index = 17\n",
      "self.V[v].index = 2\n",
      "self.V[v].index = 15\n",
      "self.V[v].index = 12\n",
      "self.V[v].index = 19\n",
      "self.V[v].index = 22\n",
      "self.V[v].index = 27\n",
      "self.V[v].index = 33\n",
      "self.V[v].index = 21\n",
      "self.V[v].index = 10\n",
      "self.V[v].index = 3\n",
      "self.V[v].index = 34\n",
      "self.V[v].index = 24\n",
      "self.V[v].index = 4\n",
      "self.V[v].index = 14\n",
      "self.V[v].index = 32\n",
      "self.V[v].index = 23\n",
      "self.V[v].index = 28\n",
      "self.V[v].index = 5\n",
      "self.V[v].index = 16\n",
      "self.V[v].index = 29\n",
      "self.V[v].index = 6\n",
      "self.V[v].index = 7\n",
      "self.V[v].index = 8\n",
      "self.V[v].index = 9\n"
     ]
    }
   ],
   "source": [
    "plot_polyscope(HC)"
   ],
   "metadata": {
    "collapsed": false,
    "ExecuteTime": {
     "end_time": "2024-02-15T16:53:14.177436600Z",
     "start_time": "2024-02-15T16:52:15.286335Z"
    }
   }
  },
  {
   "cell_type": "markdown",
   "source": [
    "## Plotting the data in one plot"
   ],
   "metadata": {
    "collapsed": false
   }
  },
  {
   "cell_type": "code",
   "execution_count": 57,
   "outputs": [
    {
     "data": {
      "text/plain": "<Figure size 432x360 with 2 Axes>",
      "image/png": "[encoded data removed]"
     },
     "metadata": {
      "needs_background": "light"
     },
     "output_type": "display_data"
    }
   ],
   "source": [
    "'''\n",
    "Plot the data in one plot\n",
    "'''\n",
    "fig, ax = plt.subplots(nrows=1, ncols=1, figsize=(6, 5))\n",
    "\n",
    "ax2 = ax.twinx()\n",
    "\n",
    "\n",
    "ax.plot(refinment, volume1,\"o--\",color=\"tab:blue\" , linewidth = 1, markersize = 7, label = 'volume')\n",
    "\n",
    "ax2.plot(8, 1,\"o--\",color=\"tab:blue\", linewidth = 1, markersize = 7, label = 'volume')\n",
    "ax2.plot(refinment, time1,\"o--\",color=\"tab:orange\", linewidth = 1, markersize = 7, label = 'time')\n",
    "\n",
    "#ax2_1.plot(data_laenge_z[i], delta_temp_k[i], label = path[i], color = color_list[i],  linewidth = 1)\n",
    "\n",
    "\n",
    "ax.set_ylabel(\"volume deviation / %\")\n",
    "ax2.set_ylabel(\"time / s\")\n",
    "\n",
    "ax.set_xlabel(\"refinement / -\")\n",
    "\n",
    "ax.set_xlim(1.75,6.25)\n",
    "\n",
    "#plt.tight_layout()\n",
    "#ax.legend()\n",
    "#ax2.legend()\n",
    "\n",
    "lines, labels = fig.axes[-1].get_legend_handles_labels() #labels von dem letzten ax Objekt\n",
    "\n",
    "plt.figlegend(lines, labels, loc='lower center', bbox_to_anchor=(0.5, 0), bbox_transform=plt.gcf().transFigure, ncol=2)\n",
    "fig.tight_layout(rect=(0,0.1,1,1)) #Platz für Legende lassen\n",
    "\n",
    "\n",
    "#plt.savefig(\"Results.png\", dpi = 300)"
   ],
   "metadata": {
    "collapsed": false,
    "ExecuteTime": {
     "end_time": "2023-12-05T14:55:28.126154900Z",
     "start_time": "2023-12-05T14:55:27.911558900Z"
    }
   }
  },
  {
   "cell_type": "code",
   "execution_count": 22,
   "outputs": [],
   "source": [],
   "metadata": {
    "collapsed": false,
    "ExecuteTime": {
     "end_time": "2023-12-05T13:30:44.563119800Z",
     "start_time": "2023-12-05T13:30:44.550206500Z"
    }
   }
  },
  {
   "cell_type": "code",
   "execution_count": null,
   "outputs": [],
   "source": [],
   "metadata": {
    "collapsed": false
   }
  }
 ],
 "metadata": {
  "kernelspec": {
   "display_name": "Python 3",
   "language": "python",
   "name": "python3"
  },
  "language_info": {
   "codemirror_mode": {
    "name": "ipython",
    "version": 2
   },
   "file_extension": ".py",
   "mimetype": "text/x-python",
   "name": "python",
   "nbconvert_exporter": "python",
   "pygments_lexer": "ipython2",
   "version": "2.7.6"
  }
 },
 "nbformat": 4,
 "nbformat_minor": 0
}
