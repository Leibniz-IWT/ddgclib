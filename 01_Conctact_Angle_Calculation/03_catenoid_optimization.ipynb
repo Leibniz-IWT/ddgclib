{
 "cells": [
  {
   "cell_type": "code",
   "execution_count": 1,
   "metadata": {
    "collapsed": true,
    "ExecuteTime": {
     "end_time": "2023-12-20T14:47:20.130116Z",
     "start_time": "2023-12-20T14:47:19.252299500Z"
    }
   },
   "outputs": [],
   "source": [
    "import numpy as np\n",
    "import matplotlib.pyplot as plt\n",
    "\n",
    "import scipy as sc"
   ]
  },
  {
   "cell_type": "code",
   "execution_count": 2,
   "outputs": [],
   "source": [
    "def fun_y(angle1 ,angle2 ,length ,y0 ,x):\n",
    "    z1 = np.arcsinh(np.tan(-angle1))\n",
    "    z2 = np.arcsinh(np.tan(angle2))\n",
    "\n",
    "    d = length\n",
    "    l = length\n",
    "\n",
    "    a = -d / (z1 - z2)\n",
    "    x_sp = (z1 *d) / (z1 - z2)\n",
    "    b = y0 - a * np.cosh(z1)\n",
    "\n",
    "\n",
    "    yx = a *np.cosh((x-x_sp)/a) +b\n",
    "#    dydx = -np.sin((x-x_sp)/a)\n",
    "\n",
    "#    y_integral = a**2 * np.sin((x-x_sp)/a) + b*x\n",
    "\n",
    "    return yx\n",
    "\n",
    "# Ableitung von yx\n",
    "def fun_dxdy(angle1 ,angle2 ,length ,x):\n",
    "    z1 = np.arcsinh(np.tan(-angle1))\n",
    "    z2 = np.arcsinh(np.tan(angle2))\n",
    "\n",
    "    d = length\n",
    "\n",
    "    a = -d / (z1 - z2)\n",
    "    xsp = (z1 *d) / (z1 - z2)\n",
    "\n",
    "    dydx = -np.sinh((x-xsp)/a)\n",
    "    return dydx\n",
    "\n",
    "\n",
    "# Integral von yx\n",
    "def fun_y_integral(a,b,x_sp,x):\n",
    "    y_integral = a**2 * np.sinh((x-x_sp)/a) + b*x\n",
    "    return  y_integral\n",
    "\n",
    "# Integral von yx**2\n",
    "\n",
    "def fun_y_integral2(angle1 ,angle2 ,length ,y0):\n",
    "\n",
    "    z1 = np.arcsinh(np.tan(-angle1))\n",
    "    z2 = np.arcsinh(np.tan(angle2))\n",
    "\n",
    "    d = length\n",
    "\n",
    "    a = -d / (z1 - z2)\n",
    "    x_sp = (z1 *d) / (z1 - z2)\n",
    "    b = y0 - a * np.cosh(z1)\n",
    "\n",
    "    y_integral2 = a**3*np.sinh(x_sp/a)*np.cosh(x_sp/a)/2 + a**3*np.sinh(l/a - x_sp/a)*np.cosh(l/a - x_sp/a)/2 + 2*a**2*b*np.sinh(x_sp/a) + 2*a**2*b*np.sinh(l/a - x_sp/a) - a**2*l*np.sinh(l/a - x_sp/a)**2/2 + a**2*l*np.cosh(l/a - x_sp/a)**2/2 + b**2*l\n",
    "\n",
    "    return y_integral2\n",
    "\n",
    "\n",
    "# Formel für das Volumen von yx\n",
    "\n",
    "def fun_vol_y(r_i,r_j,angle1,angle2, db_i,db_j):\n",
    "\n",
    "\n",
    "    # alpha_i = angle1\n",
    "    # alpha_j = angle2\n",
    "\n",
    "    alpha_i = np.arccos(db_i/2*r_i)\n",
    "    alpha_j = np.arccos(db_j/2*r_j)\n",
    "\n",
    "    alpha_i = alpha_i + angle1\n",
    "    alpha_j = alpha_j + angle2\n",
    "\n",
    "    r_ij = (2*r_i*r_j)/(r_i+r_j)\n",
    "\n",
    "    h_i = r_i -db_i/np.tan(alpha_i)\n",
    "    h_j = r_j -db_j/np.tan(alpha_j)\n",
    "\n",
    "    y_integral2 = a**2*sinh(x_sp/a)*cosh(x_sp/a)/2 + a**2*sinh(l/a - x_sp/a)*cosh(l/a - x_sp/a)/2 + 2*a*b*sinh(x_sp/a) + 2*a*b*sinh(l/a - x_sp/a) - a*l*sinh(l/a - x_sp/a)**2/2 + a*l*cosh(l/a - x_sp/a)**2/2 + b**2*l/a\n",
    "\n",
    "    volume = np.pi * y_integral2 -np.pi*r_ij/6 * (3*db_i**2 * h_i + h_i**3 + 3*db_j**2 *h_j +h_j**3)\n",
    "\n",
    "    return volume\n",
    "\n",
    "\n",
    "# Formel für Mantelfläche\n",
    "\n",
    "def fun_surface(angle1 ,angle2 ,length ,y0,yd):\n",
    "\n",
    "    z1 = np.arcsinh(np.tan(-angle1))\n",
    "    z2 = np.arcsinh(np.tan(angle2))\n",
    "\n",
    "    l = length\n",
    "\n",
    "    a = -l / (z1 - z2)\n",
    "    x_sp = (z1 *l) / (z1 - z2)\n",
    "    b = y0 - a * np.cosh(z1)\n",
    "\n",
    "    integral = -(-a**3*sinh(x_sp/a)*cosh(x_sp/a)/2 - 2*a**2*b*sinh(x_sp/a))/a + (a**3*sinh(l/a - x_sp/a)*cosh(l/a - x_sp/a)/2 + 2*a**2*b*sinh(l/a - x_sp/a) - a**2*l*sinh(l/a - x_sp/a)**2/2 + a**2*l*cosh(l/a - x_sp/a)**2/2 + b**2*l)/a\n",
    "\n",
    "    surface = np.pi * y0**2 + np.pi * yd**2 +2*np.pi * integral\n",
    "\n",
    "    return surface\n",
    "\n",
    "\n"
   ],
   "metadata": {
    "collapsed": false,
    "ExecuteTime": {
     "end_time": "2023-12-20T14:47:20.143615900Z",
     "start_time": "2023-12-20T14:47:20.136116600Z"
    }
   }
  },
  {
   "cell_type": "code",
   "execution_count": 2,
   "outputs": [],
   "source": [],
   "metadata": {
    "collapsed": false,
    "ExecuteTime": {
     "end_time": "2023-12-20T14:47:20.165616400Z",
     "start_time": "2023-12-20T14:47:20.144115900Z"
    }
   }
  },
  {
   "cell_type": "code",
   "execution_count": 3,
   "outputs": [],
   "source": [
    "from sympy import *\n",
    "\n",
    "import sympy as sp"
   ],
   "metadata": {
    "collapsed": false,
    "ExecuteTime": {
     "end_time": "2023-12-20T14:47:20.609617400Z",
     "start_time": "2023-12-20T14:47:20.160616200Z"
    }
   }
  },
  {
   "cell_type": "markdown",
   "source": [
    "The equation for a Volume for an symetrical liquid bridge has the form\n",
    "$ \\int_{0}^{d} y(x)^2 dx - \\frac{\\pi}{6} \\cdot [3y(0)^2 \\cdot h_i + h_i^3 + 3y^2(z) \\cdot h_j +h_j^3]$.\n",
    "\n",
    "In order to be able to solve the integral, the equation $ \\int_{0}^{z} y(x)^2 dx$ must first be described."
   ],
   "metadata": {
    "collapsed": false
   }
  },
  {
   "cell_type": "markdown",
   "source": [
    "The equation for y(x) is:\n",
    "\n",
    "$y(x) = a \\cdot cosh(\\frac{x -x_{sp}}{a}) +b$\n",
    "\n",
    "with\n",
    "$x_\\text{sp} = \\frac{sinh^\\text{-1}(-tan(\\theta_\\text{i}))}{sinh^\\text{-1}(-tan(\\theta_\\text{i}))-sinh^\\text{-1}(tan(\\theta_\\text{j}))}$\n",
    "\n",
    "and\n",
    "\n",
    "$b = y_0 - a \\cdot cosh(sinh^\\text{-1}(tan(\\theta_\\text{i})))$\n",
    "\n",
    "and\n",
    "\n",
    "$a = -\\frac{d}{sinh^\\text{-1}(-tan(\\theta_\\text{i}))-sinh^\\text{-1}(tan(\\theta_\\text{j}))}$"
   ],
   "metadata": {
    "collapsed": false
   }
  },
  {
   "cell_type": "code",
   "execution_count": 4,
   "outputs": [],
   "source": [
    "x, a, b, x_sp,l, V = symbols('x a b x_sp l V')\n",
    "y = symbols('y', cls=Function)\n",
    "y2 = symbols('y', cls=Function)"
   ],
   "metadata": {
    "collapsed": false,
    "ExecuteTime": {
     "end_time": "2023-12-20T14:47:20.624615900Z",
     "start_time": "2023-12-20T14:47:20.611616700Z"
    }
   }
  },
  {
   "cell_type": "code",
   "execution_count": 5,
   "outputs": [
    {
     "name": "stdout",
     "output_type": "stream",
     "text": [
      "a**3*sinh(x_sp/a)*cosh(x_sp/a)/2 + a**3*sinh(l/a - x_sp/a)*cosh(l/a - x_sp/a)/2 + 2*a**2*b*sinh(x_sp/a) + 2*a**2*b*sinh(l/a - x_sp/a) - a**2*l*sinh(l/a - x_sp/a)**2/2 + a**2*l*cosh(l/a - x_sp/a)**2/2 + b**2*l\n",
      "--------------\n",
      "a**3*sinh(x_sp/a)*cosh(x_sp/a)/2 + a**3*sinh(l/a - x_sp/a)*cosh(l/a - x_sp/a)/2 + 2*a**2*b*sinh(x_sp/a) + 2*a**2*b*sinh(l/a - x_sp/a) - a**2*l*sinh(l/a - x_sp/a)**2/2 + a**2*l*cosh(l/a - x_sp/a)**2/2 + b**2*l\n",
      "------------------------------------------\n",
      "-(-a**3*sinh(x_sp/a)*cosh(x_sp/a)/2 - 2*a**2*b*sinh(x_sp/a))/a + (a**3*sinh(l/a - x_sp/a)*cosh(l/a - x_sp/a)/2 + 2*a**2*b*sinh(l/a - x_sp/a) - a**2*l*sinh(l/a - x_sp/a)**2/2 + a**2*l*cosh(l/a - x_sp/a)**2/2 + b**2*l)/a\n"
     ]
    }
   ],
   "source": [
    "y = a * sp.cosh((x-x_sp)/a) + b\n",
    "\n",
    "y2 = sp.cosh((x-x_sp)/a) + b/a\n",
    "\n",
    "yintegr = integrate(y , x)\n",
    "\n",
    "yintegr2x = integrate(y**2 , (x,0,l))\n",
    "\n",
    "yintegr2l = integrate(y**2 , (x,0,l))\n",
    "print(yintegr2x)\n",
    "print('--------------')\n",
    "print(yintegr2l)\n",
    "print('------------------------------------------')\n",
    "yintegr22l = integrate(y**2 /a , (x,0,l))\n",
    "\n",
    "print(yintegr22l)"
   ],
   "metadata": {
    "collapsed": false,
    "ExecuteTime": {
     "end_time": "2023-12-20T14:47:25.305507200Z",
     "start_time": "2023-12-20T14:47:20.625615800Z"
    }
   }
  },
  {
   "cell_type": "code",
   "execution_count": 6,
   "outputs": [
    {
     "data": {
      "text/plain": "a**3*sinh(x_sp/a)*cosh(x_sp/a)/2 + a**3*sinh(l/a - x_sp/a)*cosh(l/a - x_sp/a)/2 + 2*a**2*b*sinh(x_sp/a) + 2*a**2*b*sinh(l/a - x_sp/a) - a**2*l*sinh(l/a - x_sp/a)**2/2 + a**2*l*cosh(l/a - x_sp/a)**2/2 + b**2*l",
      "text/latex": "$\\displaystyle \\frac{a^{3} \\sinh{\\left(\\frac{x_{sp}}{a} \\right)} \\cosh{\\left(\\frac{x_{sp}}{a} \\right)}}{2} + \\frac{a^{3} \\sinh{\\left(\\frac{l}{a} - \\frac{x_{sp}}{a} \\right)} \\cosh{\\left(\\frac{l}{a} - \\frac{x_{sp}}{a} \\right)}}{2} + 2 a^{2} b \\sinh{\\left(\\frac{x_{sp}}{a} \\right)} + 2 a^{2} b \\sinh{\\left(\\frac{l}{a} - \\frac{x_{sp}}{a} \\right)} - \\frac{a^{2} l \\sinh^{2}{\\left(\\frac{l}{a} - \\frac{x_{sp}}{a} \\right)}}{2} + \\frac{a^{2} l \\cosh^{2}{\\left(\\frac{l}{a} - \\frac{x_{sp}}{a} \\right)}}{2} + b^{2} l$"
     },
     "execution_count": 6,
     "metadata": {},
     "output_type": "execute_result"
    }
   ],
   "source": [
    "ratsimp(yintegr2x)"
   ],
   "metadata": {
    "collapsed": false,
    "ExecuteTime": {
     "end_time": "2023-12-20T14:47:25.345507400Z",
     "start_time": "2023-12-20T14:47:25.306507Z"
    }
   }
  },
  {
   "cell_type": "code",
   "execution_count": 7,
   "outputs": [
    {
     "name": "stdout",
     "output_type": "stream",
     "text": [
      "a**3*sinh(x_sp/a)*cosh(x_sp/a)/2 + a**3*sinh(l/a - x_sp/a)*cosh(l/a - x_sp/a)/2 + 2*a**2*b*sinh(x_sp/a) + 2*a**2*b*sinh(l/a - x_sp/a) - a**2*l*sinh(l/a - x_sp/a)**2/2 + a**2*l*cosh(l/a - x_sp/a)**2/2 + b**2*l\n"
     ]
    }
   ],
   "source": [
    "print(ratsimp(yintegr2x))"
   ],
   "metadata": {
    "collapsed": false,
    "ExecuteTime": {
     "end_time": "2023-12-20T14:47:25.366507200Z",
     "start_time": "2023-12-20T14:47:25.337007Z"
    }
   }
  },
  {
   "cell_type": "code",
   "execution_count": 8,
   "outputs": [
    {
     "data": {
      "text/plain": "a**3*sinh(x_sp/a)*cosh(x_sp/a)/2 + a**3*sinh(l/a - x_sp/a)*cosh(l/a - x_sp/a)/2 + 2*a**2*b*sinh(x_sp/a) + 2*a**2*b*sinh(l/a - x_sp/a) - a**2*l*sinh(l/a - x_sp/a)**2/2 + a**2*l*cosh(l/a - x_sp/a)**2/2 + b**2*l",
      "text/latex": "$\\displaystyle \\frac{a^{3} \\sinh{\\left(\\frac{x_{sp}}{a} \\right)} \\cosh{\\left(\\frac{x_{sp}}{a} \\right)}}{2} + \\frac{a^{3} \\sinh{\\left(\\frac{l}{a} - \\frac{x_{sp}}{a} \\right)} \\cosh{\\left(\\frac{l}{a} - \\frac{x_{sp}}{a} \\right)}}{2} + 2 a^{2} b \\sinh{\\left(\\frac{x_{sp}}{a} \\right)} + 2 a^{2} b \\sinh{\\left(\\frac{l}{a} - \\frac{x_{sp}}{a} \\right)} - \\frac{a^{2} l \\sinh^{2}{\\left(\\frac{l}{a} - \\frac{x_{sp}}{a} \\right)}}{2} + \\frac{a^{2} l \\cosh^{2}{\\left(\\frac{l}{a} - \\frac{x_{sp}}{a} \\right)}}{2} + b^{2} l$"
     },
     "execution_count": 8,
     "metadata": {},
     "output_type": "execute_result"
    }
   ],
   "source": [
    "yintegr2x"
   ],
   "metadata": {
    "collapsed": false,
    "ExecuteTime": {
     "end_time": "2023-12-20T14:47:25.410810300Z",
     "start_time": "2023-12-20T14:47:25.367007600Z"
    }
   }
  },
  {
   "cell_type": "code",
   "execution_count": 9,
   "outputs": [
    {
     "data": {
      "text/plain": "a**3*sinh(x_sp/a)*cosh(x_sp/a)/2 + a**3*sinh(l/a - x_sp/a)*cosh(l/a - x_sp/a)/2 + 2*a**2*b*sinh(x_sp/a) + 2*a**2*b*sinh(l/a - x_sp/a) - a**2*l*sinh(l/a - x_sp/a)**2/2 + a**2*l*cosh(l/a - x_sp/a)**2/2 + b**2*l",
      "text/latex": "$\\displaystyle \\frac{a^{3} \\sinh{\\left(\\frac{x_{sp}}{a} \\right)} \\cosh{\\left(\\frac{x_{sp}}{a} \\right)}}{2} + \\frac{a^{3} \\sinh{\\left(\\frac{l}{a} - \\frac{x_{sp}}{a} \\right)} \\cosh{\\left(\\frac{l}{a} - \\frac{x_{sp}}{a} \\right)}}{2} + 2 a^{2} b \\sinh{\\left(\\frac{x_{sp}}{a} \\right)} + 2 a^{2} b \\sinh{\\left(\\frac{l}{a} - \\frac{x_{sp}}{a} \\right)} - \\frac{a^{2} l \\sinh^{2}{\\left(\\frac{l}{a} - \\frac{x_{sp}}{a} \\right)}}{2} + \\frac{a^{2} l \\cosh^{2}{\\left(\\frac{l}{a} - \\frac{x_{sp}}{a} \\right)}}{2} + b^{2} l$"
     },
     "execution_count": 9,
     "metadata": {},
     "output_type": "execute_result"
    }
   ],
   "source": [
    "yintegr2x"
   ],
   "metadata": {
    "collapsed": false,
    "ExecuteTime": {
     "end_time": "2023-12-20T14:47:25.420810400Z",
     "start_time": "2023-12-20T14:47:25.382640700Z"
    }
   }
  },
  {
   "cell_type": "code",
   "execution_count": 10,
   "outputs": [
    {
     "data": {
      "text/plain": "a**3*sinh(x_sp/a)*cosh(x_sp/a)/2 + a**3*sinh(l/a - x_sp/a)*cosh(l/a - x_sp/a)/2 + 2*a**2*b*sinh(x_sp/a) + 2*a**2*b*sinh(l/a - x_sp/a) - a**2*l*sinh(l/a - x_sp/a)**2/2 + a**2*l*cosh(l/a - x_sp/a)**2/2 + b**2*l",
      "text/latex": "$\\displaystyle \\frac{a^{3} \\sinh{\\left(\\frac{x_{sp}}{a} \\right)} \\cosh{\\left(\\frac{x_{sp}}{a} \\right)}}{2} + \\frac{a^{3} \\sinh{\\left(\\frac{l}{a} - \\frac{x_{sp}}{a} \\right)} \\cosh{\\left(\\frac{l}{a} - \\frac{x_{sp}}{a} \\right)}}{2} + 2 a^{2} b \\sinh{\\left(\\frac{x_{sp}}{a} \\right)} + 2 a^{2} b \\sinh{\\left(\\frac{l}{a} - \\frac{x_{sp}}{a} \\right)} - \\frac{a^{2} l \\sinh^{2}{\\left(\\frac{l}{a} - \\frac{x_{sp}}{a} \\right)}}{2} + \\frac{a^{2} l \\cosh^{2}{\\left(\\frac{l}{a} - \\frac{x_{sp}}{a} \\right)}}{2} + b^{2} l$"
     },
     "execution_count": 10,
     "metadata": {},
     "output_type": "execute_result"
    }
   ],
   "source": [
    "yintegr2l"
   ],
   "metadata": {
    "collapsed": false,
    "ExecuteTime": {
     "end_time": "2023-12-20T14:47:25.421310400Z",
     "start_time": "2023-12-20T14:47:25.411310400Z"
    }
   }
  },
  {
   "cell_type": "code",
   "execution_count": 11,
   "outputs": [
    {
     "data": {
      "text/plain": "sinh((x - x_sp)/a)",
      "text/latex": "$\\displaystyle \\sinh{\\left(\\frac{x - x_{sp}}{a} \\right)}$"
     },
     "execution_count": 11,
     "metadata": {},
     "output_type": "execute_result"
    }
   ],
   "source": [
    "y.diff(x)"
   ],
   "metadata": {
    "collapsed": false,
    "ExecuteTime": {
     "end_time": "2023-12-20T14:47:25.428810400Z",
     "start_time": "2023-12-20T14:47:25.413310600Z"
    }
   }
  },
  {
   "cell_type": "code",
   "execution_count": 14,
   "outputs": [
    {
     "name": "stdout",
     "output_type": "stream",
     "text": [
      "sinh((x - x_sp)/a)\n"
     ]
    }
   ],
   "source": [
    "print(y.diff(x))"
   ],
   "metadata": {
    "collapsed": false,
    "ExecuteTime": {
     "end_time": "2023-12-20T14:47:37.512265700Z",
     "start_time": "2023-12-20T14:47:37.487265400Z"
    }
   }
  },
  {
   "cell_type": "code",
   "execution_count": 16,
   "outputs": [
    {
     "data": {
      "text/plain": "(a*cosh((x - x_sp)/a) + b)*(sinh((x - x_sp)/a)**2 + 1)**0.5",
      "text/latex": "$\\displaystyle \\left(a \\cosh{\\left(\\frac{x - x_{sp}}{a} \\right)} + b\\right) \\left(\\sinh^{2}{\\left(\\frac{x - x_{sp}}{a} \\right)} + 1\\right)^{0.5}$"
     },
     "execution_count": 16,
     "metadata": {},
     "output_type": "execute_result"
    }
   ],
   "source": [
    "y_der = symbols('y_der', cls=Function)\n",
    "y_dummy = symbols('y_dummy', cls=Function)\n",
    "\n",
    "y_der = -sp.sinh((x - x_sp)/a)\n",
    "\n",
    "y_dummy = (a * sp.cosh((x-x_sp)/a) + b) *(1+(-sp.sinh((x - x_sp)/a))**2)**0.5\n",
    "\n",
    "#y_dummy2 =\n",
    "\n",
    "# y_dummy = y*(1+y_der**2)**0.5\n",
    "\n",
    "# y*(1+y.diff(x)**2)**0.5\n",
    "\n",
    "#yintegr_surface = integrate(y*(1+y_der**2)**0.5 , (x,0,l))\n",
    "yintegr_surface = integrate(y_dummy , (x,0,l))\n",
    "#yintegr_surface\n",
    "y_dummy"
   ],
   "metadata": {
    "collapsed": false,
    "ExecuteTime": {
     "end_time": "2023-12-20T14:48:28.165390300Z",
     "start_time": "2023-12-20T14:47:43.852912700Z"
    }
   }
  },
  {
   "cell_type": "code",
   "execution_count": 17,
   "outputs": [
    {
     "data": {
      "text/plain": "Integral((a*cosh(x/a - x_sp/a) + b)*(sinh(x/a - x_sp/a)**2 + 1)**0.5, (x, 0, l))",
      "text/latex": "$\\displaystyle \\int\\limits_{0}^{l} \\left(a \\cosh{\\left(\\frac{x}{a} - \\frac{x_{sp}}{a} \\right)} + b\\right) \\left(\\sinh^{2}{\\left(\\frac{x}{a} - \\frac{x_{sp}}{a} \\right)} + 1\\right)^{0.5}\\, dx$"
     },
     "execution_count": 17,
     "metadata": {},
     "output_type": "execute_result"
    }
   ],
   "source": [
    "yintegr_surface"
   ],
   "metadata": {
    "collapsed": false,
    "ExecuteTime": {
     "end_time": "2023-12-20T14:48:28.193390300Z",
     "start_time": "2023-12-20T14:48:28.166390400Z"
    }
   }
  },
  {
   "cell_type": "code",
   "execution_count": 18,
   "outputs": [
    {
     "data": {
      "text/plain": "[(V,\n  -sqrt(3)*sqrt((3*a**3*sinh(2*x_sp/a)/2 + 3*a**3*sinh(2*(l - x_sp)/a)/2 + 12*a**2*b*sinh(x_sp/a) + 12*a**2*b*sinh((l - x_sp)/a) + 3*a**2*l - 3*pi*a*d_bj**2*h_j*r_ij**2 - pi*a*h_i**3*r_ij**2 - pi*a*h_j**3*r_ij**2 + 6*pi*a + 6*b**2*l)/(a*h_i))/(3*sqrt(pi)*r_ij)),\n (V,\n  sqrt(3)*sqrt((3*a**3*sinh(2*x_sp/a)/2 + 3*a**3*sinh(2*(l - x_sp)/a)/2 + 12*a**2*b*sinh(x_sp/a) + 12*a**2*b*sinh((l - x_sp)/a) + 3*a**2*l - 3*pi*a*d_bj**2*h_j*r_ij**2 - pi*a*h_i**3*r_ij**2 - pi*a*h_j**3*r_ij**2 + 6*pi*a + 6*b**2*l)/(a*h_i))/(3*sqrt(pi)*r_ij))]"
     },
     "execution_count": 18,
     "metadata": {},
     "output_type": "execute_result"
    }
   ],
   "source": [
    "from sympy import *\n",
    "\n",
    "import sympy as sp\n",
    "\n",
    "x, a, b, x_sp,l, V = symbols('x a b x_sp l V')\n",
    "\n",
    "a, b, x_sp, l, r_ij, db_i, db_j, h_i, h_j, V = symbols('a b x_sp l r_ij d_bi d_bj h_i h_j V')\n",
    "\n",
    "\n",
    "\n",
    "solve(sp.pi + a**2*sp.sinh(x_sp/a)*sp.cosh(x_sp/a)/2 + a**2*sp.sinh(l/a - x_sp/a)*sp.cosh(l/a - x_sp/a)/2 + 2*a*b*sp.sinh(x_sp/a) + 2*a*b*sp.sinh(l/a - x_sp/a) - a*l*sp.sinh(l/a - x_sp/a)**2/2 + a*l*sp.cosh(l/a - x_sp/a)**2/2 + b**2*l/a -sp.pi*r_ij/6 * (3* db_i**2 * h_i + h_i**3 + 3*db_j**2 *h_j +h_j**3)*r_ij,V,db_i)\n",
    "\n",
    "\n",
    "#volume = sp.pi + a**2*sp.sinh(x_sp/a)*sp.cosh(x_sp/a)/2 + a**2*sp.sinh(l/a - x_sp/a)*sp.cosh(l/a - x_sp/a)/2 + 2*a*b*sp.sinh(x_sp/a) + 2*a*b*sp.sinh(l/a - x_sp/a) - a*l*sp.sinh(l/a - x_sp/a)**2/2 + a*l*sp.cosh(l/a - x_sp/a)**2/2 + b**2*l/a -sp.pi*r_ij/6 * (3*db_i**2 * h_i + h_i**3 + 3*db_j**2 *h_j +h_j**3)*r_ij"
   ],
   "metadata": {
    "collapsed": false,
    "ExecuteTime": {
     "end_time": "2023-12-20T16:45:47.492183100Z",
     "start_time": "2023-12-20T14:48:28.182390300Z"
    }
   }
  },
  {
   "cell_type": "code",
   "execution_count": null,
   "outputs": [],
   "source": [],
   "metadata": {
    "collapsed": false
   }
  }
 ],
 "metadata": {
  "kernelspec": {
   "display_name": "Python 3",
   "language": "python",
   "name": "python3"
  },
  "language_info": {
   "codemirror_mode": {
    "name": "ipython",
    "version": 2
   },
   "file_extension": ".py",
   "mimetype": "text/x-python",
   "name": "python",
   "nbconvert_exporter": "python",
   "pygments_lexer": "ipython2",
   "version": "2.7.6"
  }
 },
 "nbformat": 4,
 "nbformat_minor": 0
}
