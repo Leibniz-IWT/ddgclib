{
 "cells": [
  {
   "cell_type": "code",
   "execution_count": null,
   "outputs": [],
   "source": [],
   "metadata": {
    "collapsed": false
   }
  },
  {
   "cell_type": "code",
   "execution_count": 1,
   "outputs": [],
   "source": [
    "import numpy as np\n",
    "import matplotlib.pyplot as plt\n",
    "from scipy.optimize import minimize\n",
    "import scipy as sc\n",
    "\n",
    "\n",
    "\n",
    "plt.rcParams[\"font.family\"] = \"sans-serif\"\n",
    "plt.rcParams[\"font.sans-serif\"] = \"Arial\"\n",
    "plt.rcParams[\"mathtext.fontset\"] = \"custom\"\n",
    "plt.rcParams[\"mathtext.it\"] = 'Arial:italic'\n",
    "plt.rcParams[\"mathtext.rm\"] = 'Arial'\n",
    "plt.rcParams[\"mathtext.default\"] = \"it\""
   ],
   "metadata": {
    "collapsed": false,
    "ExecuteTime": {
     "end_time": "2023-11-17T13:38:32.772265600Z",
     "start_time": "2023-11-17T13:38:30.712636Z"
    }
   }
  },
  {
   "cell_type": "code",
   "execution_count": 2,
   "outputs": [],
   "source": [
    "def fun_V_cyl_an(diameter, length):\n",
    "    V_an = np.pi/4*diameter**2 * length\n",
    "    return V_an\n",
    "\n"
   ],
   "metadata": {
    "collapsed": false,
    "ExecuteTime": {
     "end_time": "2023-11-17T13:38:32.787888300Z",
     "start_time": "2023-11-17T13:38:32.772265600Z"
    }
   }
  },
  {
   "cell_type": "code",
   "execution_count": 3,
   "outputs": [],
   "source": [
    "def fun_surface_old(r_i,r_j,length, angle1, angle2,y0, yd ):\n",
    "    '''\n",
    "    r_i = fixed\n",
    "    r_j = fixed\n",
    "    angle1 = fixed\n",
    "    angle2 = fixed\n",
    "    length = fixed\n",
    "\n",
    "    y0 = not fixed\n",
    "    yd = not fixed\n",
    "\n",
    "    x = run variable\n",
    "    '''\n",
    "\n",
    "    #y0 = np.array([0,r_i])\n",
    "    #yd = np.array([0,r_j])\n",
    "\n",
    "    alpha_i = angle1 *np.pi/180\n",
    "    alpha_j = angle2 *np.pi/180\n",
    "\n",
    "\n",
    "    z1 = np.arcsinh(np.tan(-alpha_i))\n",
    "    z2 = np.arcsinh(np.tan(alpha_j))\n",
    "\n",
    "\n",
    "    a = -length / (z1 - z2)\n",
    "    x_sp = (z1 *length) / (z1 - z2)\n",
    "    b = y0 - a * np.cosh(z1)\n",
    "\n",
    "    term1 = np.pi *y0**2\n",
    "    term2 = np.pi *yd**2\n",
    "\n",
    "    term3 = a**2*np.sinh(x_sp/a)*np.cosh(x_sp/a)/2 + a**2*np.sinh(length/a - x_sp/a)*np.cosh(length/a - x_sp/a)/2 + 2*a*b*np.sinh(x_sp/a) + 2*a*b*np.sinh(length/a - x_sp/a) - a*length*np.sinh(length/a - x_sp/a)**2/2 + a*length*np.cosh(length/a - x_sp/a)**2/2 + b**2*length/a\n",
    "\n",
    "    return term1+term2+term3"
   ],
   "metadata": {
    "collapsed": false,
    "ExecuteTime": {
     "end_time": "2023-11-17T13:38:32.803518800Z",
     "start_time": "2023-11-17T13:38:32.787888300Z"
    }
   }
  },
  {
   "cell_type": "code",
   "execution_count": 4,
   "outputs": [],
   "source": [
    "def fun_surface(r_i,r_j,length, angle1, angle2,y_i,y_j ):\n",
    "    '''\n",
    "    r_i = fixed\n",
    "    r_j = fixed\n",
    "    angle1 = fixed\n",
    "    angle2 = fixed\n",
    "    length = fixed\n",
    "\n",
    "    y0 = not fixed\n",
    "    yd = not fixed\n",
    "\n",
    "    x = run variable (not implemented)\n",
    "    '''\n",
    "\n",
    "    #y0 = np.array([0,r_i])\n",
    "    #yd = np.array([0,r_j])\n",
    "\n",
    "\n",
    "    db_i = y_i\n",
    "    db_j = y_j\n",
    "\n",
    "    contact_angle_i = angle1 *np.pi/180\n",
    "    contact_angle_j = angle2 *np.pi/180\n",
    "\n",
    "    beta_i = np.arcsin(db_i/r_i) * np.pi/180\n",
    "    beta_j = np.arcsin(db_j/r_j) * np.pi/180\n",
    "\n",
    "    z1 = np.arcsinh(-1/np.tan(beta_i+contact_angle_i))\n",
    "    z2 = np.arcsinh(1/np.tan(beta_j+contact_angle_j))\n",
    "\n",
    "\n",
    "    a = -length / (z1 - z2)\n",
    "    x_sp = (z1 *length) / (z1 - z2)\n",
    "    b = db_i - a * ((-1/np.tan(beta_i + contact_angle_i))**2+1)**0.5\n",
    "\n",
    "    term1 = np.pi *y_i**2\n",
    "    term2 = np.pi *y_j**2\n",
    "\n",
    "    term3 = a**2*np.sinh(x_sp/a)*np.cosh(x_sp/a)/2 + a**2*np.sinh(length/a - x_sp/a)*np.cosh(length/a - x_sp/a)/2 + 2*a*b*np.sinh(x_sp/a) + 2*a*b*np.sinh(length/a - x_sp/a) - a*length*np.sinh(length/a - x_sp/a)**2/2 + a*length*np.cosh(length/a - x_sp/a)**2/2 + b**2*length/a\n",
    "\n",
    "    return term1+term2+term3"
   ],
   "metadata": {
    "collapsed": false,
    "ExecuteTime": {
     "end_time": "2023-11-17T13:38:32.850796800Z",
     "start_time": "2023-11-17T13:38:32.803518800Z"
    }
   }
  },
  {
   "cell_type": "code",
   "execution_count": 5,
   "outputs": [],
   "source": [
    "def fun_vol_y_old(r_i,r_j,angle1,angle2, y_i,y_j, length):\n",
    "    '''\n",
    "    r_i = fixed\n",
    "    r_j = fixed\n",
    "    angle1 = fixed in °\n",
    "    angle2 = fixed in °\n",
    "    length = fixed\n",
    "\n",
    "    y0 = not fixed\n",
    "    yd = not fixed\n",
    "    '''\n",
    "\n",
    "    #alpha_i = np.arccos(db_i/(2*r_i))\n",
    "    #alpha_j = np.arccos(db_j/2*r_j)\n",
    "\n",
    "    # TODO: Check what kind of boundary is necessary for x or what is my variable\n",
    "    #y0 = np.array([0,r_i])\n",
    "    #yd = np.array([0,r_j])\n",
    "\n",
    "    db_i = y_i\n",
    "    db_j = y_j\n",
    "\n",
    "    contact_angle_i = angle1 *np.pi/180\n",
    "    contact_angle_j = angle2 *np.pi/180\n",
    "\n",
    "    '''\n",
    "    alpha_i = np.arccos(db_i/2*r_i) * np.pi/180\n",
    "    alpha_j = np.arccos(db_j/2*r_j) * np.pi/180\n",
    "\n",
    "    alpha_i = np.arccos(db_i/r_i) * np.pi/180\n",
    "    alpha_j = np.arccos(db_j/r_j) * np.pi/180\n",
    "\n",
    "    alpha_i = alpha_i + contact_angle_i\n",
    "    alpha_j = alpha_j + contact_angle_j\n",
    "    '''\n",
    "    # TODO: Proof the angle calculation -- What kind of calculation is the rigth\n",
    "\n",
    "    h_i = r_i - (r_i**2 - db_i**2)**0.5\n",
    "    h_j = r_j - (r_j**2 - db_j**2)**0.5\n",
    "\n",
    "    beta_i = np.arcsin(db_i/r_i) * np.pi/180\n",
    "    beta_j = np.arcsin(db_j/r_j) * np.pi/180\n",
    "\n",
    "    '''\n",
    "    alpha_i = 90 * np.pi/180 - beta_i + contact_angle_i\n",
    "    alpha_j = 90 * np.pi/180 - beta_j + contact_angle_j\n",
    "\n",
    "    delta_i = np.arctan(db_i/(h_i + (r_i - r_i/np.cos(beta_i))))\n",
    "    delta_j = np.arctan(db_j/(h_j + (r_j - r_j/np.cos(beta_j))))\n",
    "\n",
    "    alpha_i = 90 * np.pi/180 - delta_i - contact_angle_i\n",
    "    alpha_j = 90 * np.pi/180 - delta_j - contact_angle_j\n",
    "\n",
    "    z1 = np.arcsinh(- np.tan(alpha_i))\n",
    "    z2 = np.arcsinh(np.tan(alpha_j))\n",
    "\n",
    "    '''\n",
    "    z1 = np.arcsinh(-1/np.tan(beta_i+contact_angle_i))\n",
    "\n",
    "    z2 = np.arcsinh(1/np.tan(beta_j+contact_angle_j))\n",
    "\n",
    "\n",
    "    a = -length / (z1 - z2)\n",
    "    x_sp = (z1 *length) / (z1 - z2)\n",
    "\n",
    "    b = db_i - a * ((-1/np.tan(beta_i + contact_angle_i))**2+1)**0.5\n",
    "\n",
    "    b = db_i - a * np.cosh()\n",
    "\n",
    "\n",
    "    r_ij = (2*r_i*r_j)/(r_i+r_j)\n",
    "\n",
    "    #TODO Proof if I should use Pythagoras or sin\n",
    "    '''\n",
    "    h_i = r_i - y0 / np.tan(alpha_i)\n",
    "    h_j = r_j - yd / np.tan(alpha_j)\n",
    "    '''\n",
    "\n",
    "    l = length\n",
    "\n",
    "    y_integral2 = a**3*np.sinh(x_sp/a)*np.cosh(x_sp/a)/2 + a**3*np.sinh(l/a - x_sp/a)*np.cosh(l/a - x_sp/a)/2 + 2*a**2*b*np.sinh(x_sp/a) + 2*a**2*b*np.sinh(l/a - x_sp/a) - a**2*l*np.sinh(l/a - x_sp/a)**2/2 + a**2*l*np.cosh(l/a - x_sp/a)**2/2 + b**2*l\n",
    "\n",
    "    term3 = np.pi*r_ij**3/6 * (3*y_i**2 * h_i + h_i**3 + 3*y_j**2 *h_j +h_j**3) *r_ij**3\n",
    "\n",
    "    volume = np.pi * y_integral2 - np.pi/6 * (3*y_i**2 * h_i + h_i**3 + 3*y_j**2 *h_j +h_j**3) * r_ij**3\n",
    "\n",
    "\n",
    "    return volume, y_integral2, term3, r_ij\n"
   ],
   "metadata": {
    "collapsed": false,
    "ExecuteTime": {
     "end_time": "2023-11-17T13:38:32.866568400Z",
     "start_time": "2023-11-17T13:38:32.850796800Z"
    }
   }
  },
  {
   "cell_type": "code",
   "execution_count": 6,
   "outputs": [],
   "source": [
    "def fun_vol_y(r_i,r_j,angle1,angle2, y_i,y_j, length):\n",
    "    '''\n",
    "    r_i = fixed\n",
    "    r_j = fixed\n",
    "    angle1 = fixed in °\n",
    "    angle2 = fixed in °\n",
    "    length = fixed\n",
    "\n",
    "    y_i = not fixed\n",
    "    yd = not fixed\n",
    "    '''\n",
    "\n",
    "    #alpha_i = np.arccos(db_i/(2*r_i))\n",
    "    #alpha_j = np.arccos(db_j/2*r_j)\n",
    "\n",
    "    # TODO: Check what kind of boundary is necessary for x or what is my variable\n",
    "    #y0 = np.array([0,r_i])\n",
    "    #yd = np.array([0,r_j])\n",
    "\n",
    "    db_i = y_i\n",
    "    db_j = y_j\n",
    "\n",
    "    contact_angle_i = angle1 * np.pi/180 # conversion degree to radian\n",
    "    contact_angle_j = angle2 * np.pi/180 # conversion degree to radian\n",
    "\n",
    "    h_i = r_i - (r_i**2 - db_i**2)**0.5\n",
    "    h_j = r_j - (r_j**2 - db_j**2)**0.5\n",
    "    '''\n",
    "    beta_i = np.arcsin(db_i/r_i) * np.pi/180\n",
    "    beta_j = np.arcsin(db_j/r_j) * np.pi/180\n",
    "    '''\n",
    "    beta_i = np.arcsin(db_i/r_i) # result in radian\n",
    "    beta_j = np.arcsin(db_j/r_j) # result in radian\n",
    "\n",
    "    #print(beta_i *180 / np.pi)\n",
    "    #print(beta_j *180 / np.pi)\n",
    "\n",
    "    if angle1 + np.arcsin(db_i/r_i) *180/np.pi > 89:\n",
    "        print('error 1')\n",
    "\n",
    "    if beta_i + contact_angle_i > 89:\n",
    "        print('error 2')\n",
    "\n",
    "\n",
    "    #print(beta_j * np.pi/180)\n",
    "\n",
    "    z1 = np.arcsinh(-1/np.tan(beta_i+contact_angle_i))\n",
    "\n",
    "    z2 = np.arcsinh(1/np.tan(beta_j+contact_angle_j))\n",
    "\n",
    "\n",
    "    a = -length / (z1 - z2)\n",
    "    x_sp = (z1 *length) / (z1 - z2)\n",
    "\n",
    "    b = db_i - a * ((-1/np.tan(beta_i + contact_angle_i))**2+1)**0.5\n",
    "    b = db_i\n",
    "\n",
    "    r_ij = (2*r_i*r_j)/(r_i+r_j)\n",
    "\n",
    "    l = length\n",
    "\n",
    "    y_integral2 = a**3*np.sinh(x_sp/a)*np.cosh(x_sp/a)/2 + a**3*np.sinh(l/a - x_sp/a)*np.cosh(l/a - x_sp/a)/2 + 2*a**2*b*np.sinh(x_sp/a) + 2*a**2*b*np.sinh(l/a - x_sp/a) - a**2*l*np.sinh(l/a - x_sp/a)**2/2 + a**2*l*np.cosh(l/a - x_sp/a)**2/2 + b**2*l\n",
    "\n",
    "    term3 = np.pi*r_ij**3 /6 * (3*y_i**2 * h_i + h_i**3 + 3*y_j**2 *h_j +h_j**3) *r_ij**3\n",
    "\n",
    "    volume = np.pi * y_integral2 - np.pi/6 * (3*y_i**2 * h_i + h_i**3 + 3*y_j**2 *h_j +h_j**3) * r_ij**3\n",
    "\n",
    "\n",
    "    return volume, y_integral2, term3, r_ij\n"
   ],
   "metadata": {
    "collapsed": false,
    "ExecuteTime": {
     "end_time": "2023-11-17T13:38:32.867064700Z",
     "start_time": "2023-11-17T13:38:32.850796800Z"
    }
   }
  },
  {
   "cell_type": "code",
   "execution_count": 7,
   "outputs": [],
   "source": [
    "def fun_y(angle1 ,angle2 ,length ,db_i, db_j, r_i, r_j ,x):\n",
    "\n",
    "    contact_angle_i = angle1 *np.pi/180\n",
    "    contact_angle_j = angle2 *np.pi/180\n",
    "\n",
    "    '''\n",
    "    beta_i = np.arcsin(db_i/r_i) * np.pi/180\n",
    "    beta_j = np.arcsin(db_j/r_j) * np.pi/180\n",
    "    '''\n",
    "\n",
    "\n",
    "    beta_i = np.arcsin(db_i/r_i)\n",
    "    beta_j = np.arcsin(db_j/r_j)\n",
    "\n",
    "\n",
    "\n",
    "    if angle1 + np.arcsin(db_i/r_i) *180/np.pi > 80:\n",
    "        print('error 1')\n",
    "\n",
    "    if beta_i + contact_angle_i > 80:\n",
    "        print('error 2')\n",
    "\n",
    "    z1 = np.arcsinh(-1/np.tan(beta_i+contact_angle_i))\n",
    "    z2 = np.arcsinh(1/np.tan(beta_j+contact_angle_j))\n",
    "\n",
    "    d = length\n",
    "\n",
    "    a = -d / (z1 - z2)\n",
    "    xsp = (z1 *d) / (z1 - z2)\n",
    "    b = db_i - a * np.cosh(z1)\n",
    "    b = db_i\n",
    "\n",
    "    yx = a *np.cosh((x-xsp)/a) + b\n",
    "    return yx\n",
    "\n"
   ],
   "metadata": {
    "collapsed": false,
    "ExecuteTime": {
     "end_time": "2023-11-17T13:38:32.867064700Z",
     "start_time": "2023-11-17T13:38:32.850796800Z"
    }
   }
  },
  {
   "cell_type": "code",
   "execution_count": 8,
   "outputs": [
    {
     "name": "stdout",
     "output_type": "stream",
     "text": [
      "error 1\n"
     ]
    },
    {
     "data": {
      "text/plain": "<Figure size 2000x600 with 2 Axes>",
      "image/png": "[encoded data removed]"
     },
     "metadata": {},
     "output_type": "display_data"
    }
   ],
   "source": [
    "r_i = 1e-3\n",
    "r_j = 2e-3\n",
    "\n",
    "\n",
    "\n",
    "angle1 = 0\n",
    "angle2 = 0\n",
    "\n",
    "\n",
    "y0 = 0.26e-3\n",
    "yd = 0.8e-3\n",
    "\n",
    "db_i = y0\n",
    "db_j = yd\n",
    "\n",
    "length = 0.3e-3\n",
    "x = np.arange(0,length,1e-6)\n",
    "\n",
    "\n",
    "fig, ax = plt.subplots(nrows=1, ncols=2, figsize=(20, 6))\n",
    "\n",
    "ax[0].plot(x, fun_y(angle1 ,angle2 ,length ,db_i, db_j, r_i, r_j ,x),\"--\",color=\"tab:blue\")\n",
    "\n",
    "ax[0].plot(x, fun_y(angle1 ,angle2 ,length ,db_i, db_j, r_i, r_j ,x),\"--\",color=\"tab:blue\")\n",
    "ax[0].plot(x, fun_y(40 ,angle2 ,length ,db_i, db_j, r_i, r_j ,x),\"--\",color=\"tab:orange\")\n",
    "ax[0].plot(x, fun_y(90 ,angle2 ,length ,db_i, db_j, r_i, r_j ,x),\"--\",color=\"tab:green\")\n",
    "\n",
    "#ax[1].plot(x, fun_y(45 ,angle2 ,length ,db_i, db_j, r_i, r_j ,x),\"--\",color=\"tab:blue\")\n",
    "\n",
    "if 0:\n",
    "\n",
    "    ax[1].plot(x, fun_y(90 ,angle2 ,length ,db_i, db_j, r_i, r_j ,x),\"--\",color=\"tab:blue\")\n",
    "    ax[1].plot(x, fun_y(0 ,90 ,length ,db_i, db_j, r_i, r_j ,x),\"--\",color=\"tab:orange\")\n",
    "    #ax[1].plot(x, fun_y(90 ,90 ,length ,db_i, db_j, r_i, r_j ,x),\"--\",color=\"tab:green\")\n",
    "    ax[1].plot(x, fun_y(45 ,45 ,length ,db_i, db_j, r_i, r_j ,x),\"--\",color=\"tab:red\")"
   ],
   "metadata": {
    "collapsed": false,
    "ExecuteTime": {
     "end_time": "2023-11-17T13:38:33.132747500Z",
     "start_time": "2023-11-17T13:38:32.867064700Z"
    }
   }
  },
  {
   "cell_type": "code",
   "execution_count": 161,
   "outputs": [
    {
     "data": {
      "text/plain": "0.9999999999999999"
     },
     "execution_count": 161,
     "metadata": {},
     "output_type": "execute_result"
    }
   ],
   "source": [
    "np.tan(45*np.pi/180)"
   ],
   "metadata": {
    "collapsed": false,
    "ExecuteTime": {
     "end_time": "2023-11-16T12:41:40.478394700Z",
     "start_time": "2023-11-16T12:41:40.444591300Z"
    }
   }
  },
  {
   "cell_type": "code",
   "execution_count": 162,
   "outputs": [
    {
     "name": "stdout",
     "output_type": "stream",
     "text": [
      "15.07006214488883\n",
      "23.578178478201835\n"
     ]
    },
    {
     "data": {
      "text/plain": "1.5387096806982454e-10"
     },
     "execution_count": 162,
     "metadata": {},
     "output_type": "execute_result"
    }
   ],
   "source": [
    "r_i = 1e-3\n",
    "r_j = 2e-3\n",
    "\n",
    "\n",
    "angle1 = 0\n",
    "angle2 = 0\n",
    "\n",
    "\n",
    "y0 = 0.26e-3\n",
    "yd = 0.8e-3\n",
    "\n",
    "#y0 = 1e-3\n",
    "#yd = 2e-3\n",
    "\n",
    "length = 0.3e-3\n",
    "\n",
    "\n",
    "\n",
    "#fun_vol_y(r_i,r_j,angle1,angle2, y0,yd, length)\n",
    "fun_vol_y(r_i,r_j,angle1,angle2, y0,yd, length)[0]\n"
   ],
   "metadata": {
    "collapsed": false,
    "ExecuteTime": {
     "end_time": "2023-11-16T12:41:41.228657400Z",
     "start_time": "2023-11-16T12:41:41.212893400Z"
    }
   }
  },
  {
   "cell_type": "code",
   "execution_count": 165,
   "outputs": [
    {
     "name": "stdout",
     "output_type": "stream",
     "text": [
      "15.07006214488883\n",
      "23.578178478201835\n",
      "1.5387096806982454e-10\n",
      "-------------------------------------------\n",
      "15.07006214488883\n",
      "23.578178478201835\n",
      "2.061028113217718e-10\n",
      "-------------------------------------------\n",
      "15.07006214488883\n",
      "23.578178478201835\n",
      "2.317292545375702e-10\n",
      "-------------------------------------------\n",
      "15.07006214488883\n",
      "23.578178478201835\n",
      "4.307371403236839e-10\n"
     ]
    }
   ],
   "source": [
    "print(fun_vol_y(r_i,r_j,0,0, y0,yd, length)[0])\n",
    "print('-------------------------------------------')\n",
    "print(fun_vol_y(r_i,r_j,50,0, y0,yd, length)[0])\n",
    "print('-------------------------------------------')\n",
    "print(fun_vol_y(r_i,r_j,0,50, y0,yd, length)[0])\n",
    "print('-------------------------------------------')\n",
    "print(fun_vol_y(r_i,r_j,50,50, y0,yd, length)[0])"
   ],
   "metadata": {
    "collapsed": false,
    "ExecuteTime": {
     "end_time": "2023-11-16T12:42:22.123131600Z",
     "start_time": "2023-11-16T12:42:22.075990800Z"
    }
   }
  },
  {
   "cell_type": "code",
   "execution_count": 34,
   "outputs": [
    {
     "data": {
      "text/plain": "7.11111111111111e-11"
     },
     "execution_count": 34,
     "metadata": {},
     "output_type": "execute_result"
    }
   ],
   "source": [
    "r_i = 1e-3\n",
    "r_j = 2e-3\n",
    "\n",
    "r_ij = (2*r_i*r_j)/(r_i+r_j)\n",
    "\n",
    "V = 0.03\n",
    "\n",
    "v = V * r_ij**3\n",
    "\n",
    "v"
   ],
   "metadata": {
    "collapsed": false,
    "ExecuteTime": {
     "end_time": "2023-11-16T10:25:58.779381900Z",
     "start_time": "2023-11-16T10:25:58.763637900Z"
    }
   }
  },
  {
   "cell_type": "code",
   "execution_count": 9,
   "outputs": [
    {
     "data": {
      "text/plain": "3.769911184307751e-09"
     },
     "execution_count": 9,
     "metadata": {},
     "output_type": "execute_result"
    }
   ],
   "source": [
    "\n",
    "#fun_V_cyl_an(0.16* potenz, 0.52* potenz)\n",
    "\n",
    "fun_V_cyl_an(2*yd, length)"
   ],
   "metadata": {
    "collapsed": false,
    "ExecuteTime": {
     "end_time": "2023-11-15T16:36:09.705786600Z",
     "start_time": "2023-11-15T16:36:09.688900200Z"
    }
   }
  },
  {
   "cell_type": "code",
   "execution_count": 98,
   "outputs": [
    {
     "data": {
      "text/plain": "4.0981595904744223e-16"
     },
     "execution_count": 98,
     "metadata": {},
     "output_type": "execute_result"
    }
   ],
   "source": [
    "potenz = 1e-3\n",
    "r_i = 1 * potenz\n",
    "r_j = 2 * potenz\n",
    "\n",
    "\n",
    "\n",
    "angle1 = 0\n",
    "angle2 = 0\n",
    "\n",
    "y0 = 0.6 * potenz\n",
    "yd = 0.8 * potenz\n",
    "\n",
    "length = 0.3 * potenz\n",
    "\n",
    "\n",
    "\n",
    "#y0 = 2\n",
    "#yd = 1\n",
    "\n",
    "#length = 2\n",
    "\n",
    "\n",
    "#fun_vol_y(r_i,r_j,angle1,angle2, y0,yd, length)\n",
    "fun_vol_y(r_i,r_j,angle1,angle2, y0,yd, length)[0]"
   ],
   "metadata": {
    "collapsed": false,
    "ExecuteTime": {
     "end_time": "2023-11-14T14:43:56.406423200Z",
     "start_time": "2023-11-14T14:43:56.377137600Z"
    }
   }
  },
  {
   "cell_type": "code",
   "execution_count": 99,
   "outputs": [
    {
     "data": {
      "text/plain": "6.031857894892402e-10"
     },
     "execution_count": 99,
     "metadata": {},
     "output_type": "execute_result"
    }
   ],
   "source": [
    "fun_V_cyl_an(2*yd, length)"
   ],
   "metadata": {
    "collapsed": false,
    "ExecuteTime": {
     "end_time": "2023-11-14T14:43:57.722476300Z",
     "start_time": "2023-11-14T14:43:57.706022800Z"
    }
   }
  },
  {
   "cell_type": "code",
   "execution_count": 119,
   "outputs": [
    {
     "data": {
      "text/plain": "[<matplotlib.lines.Line2D at 0x24c849e2fd0>]"
     },
     "execution_count": 119,
     "metadata": {},
     "output_type": "execute_result"
    },
    {
     "data": {
      "text/plain": "<Figure size 2000x600 with 2 Axes>",
      "image/png": "[encoded data removed]"
     },
     "metadata": {},
     "output_type": "display_data"
    }
   ],
   "source": [
    "angle1 = np.arange(1,90,1)\n",
    "#angle2 = np.arange(1,90,1)\n",
    "\n",
    "# angle2 = 45\n",
    "\n",
    "fig, ax = plt.subplots(nrows=1, ncols=2, figsize=(20, 6))\n",
    "\n",
    "#for i in range(len(angle2)):\n",
    " #   volume = fun_vol_y(r_i,r_j,angle1,angle2, y0,yd, length)[0]\n",
    "  #  ax[0].plot(angle1, volume,\"o:\",color=\"tab:blue\")\n",
    "\n",
    "\n",
    "#volume = fun_vol_y(r_i,r_j,angle1,angle2, y0,yd, length)[0]\n",
    "\n",
    "volume = fun_vol_y(r_i,r_j,angle1,angle2, y0,yd, length)[0]\n",
    "\n",
    "ax[0].plot(angle1, volume,\"o:\",color=\"tab:blue\")\n",
    "\n",
    "\n",
    "#ax[0].plot(angle1, fun_vol_y(r_i,r_j,angle1,angle2, y0,yd, length)[0],\"o:\",color=\"tab:blue\")\n",
    "\n",
    "ax[1].plot(angle1, fun_vol_y(r_i,r_j,angle1,40, y0,yd, length)[0],\"o:\",color=\"tab:blue\")"
   ],
   "metadata": {
    "collapsed": false,
    "ExecuteTime": {
     "end_time": "2023-11-13T14:22:12.997059800Z",
     "start_time": "2023-11-13T14:22:12.782706900Z"
    }
   }
  },
  {
   "cell_type": "code",
   "execution_count": 81,
   "outputs": [
    {
     "name": "stdout",
     "output_type": "stream",
     "text": [
      "--------------------\n",
      "-5561.953781920877\n",
      "########################################\n",
      "161.9533211013912\n",
      "-5561.953781920877\n",
      "161.9533211013912\n",
      "40\n"
     ]
    },
    {
     "data": {
      "text/plain": "<Figure size 2000x600 with 2 Axes>",
      "image/png": "[encoded data removed]"
     },
     "metadata": {},
     "output_type": "display_data"
    }
   ],
   "source": [
    "fig, ax = plt.subplots(nrows=1, ncols=2, figsize=(20, 6))\n",
    "\n",
    "angle_tag1 = False\n",
    "angle_tag2 = True\n",
    "\n",
    "\n",
    "if angle_tag1:\n",
    "    angle1 = np.arange(1,90,1)\n",
    "    angle2 = 40\n",
    "\n",
    "    for i in range(len(angle1)):\n",
    "        print(angle1[i])\n",
    "        print('--------------------')\n",
    "        print(np.min(fun_vol_y(r_i,r_j,angle1,angle2, y0,yd, length)[0]))\n",
    "        print('########################################')\n",
    "    volume = fun_vol_y(r_i,r_j,angle1,angle2, y0,yd, length)[0]\n",
    "    ax[0].plot(angle1, volume,\"o:\",color=\"tab:blue\")\n",
    "    print('########################################')\n",
    "    print(volume)\n",
    "\n",
    "\n",
    "if angle_tag2:\n",
    "    angle1 = 40\n",
    "    angle2 = np.arange(1,90,1)\n",
    "\n",
    "    #print(angle2[i])\n",
    "    print('--------------------')\n",
    "    print(np.min(fun_vol_y(r_i,r_j,angle1,angle2, y0,yd, length)[0]))\n",
    "    print('########################################')\n",
    "    print(np.max(fun_vol_y(r_i,r_j,angle1,angle2, y0,yd, length)[0]))\n",
    "   # print('########################################')\n",
    "    volume = fun_vol_y(r_i,r_j,angle1,angle2, y0,yd, length)[0]\n",
    "    ax[1].plot(angle2, volume,\"o:\",color=\"tab:blue\")\n",
    "\n",
    "    print(np.min(volume))\n",
    "    print(np.max(volume))\n",
    "    print(angle1)\n",
    "   # print(volume)"
   ],
   "metadata": {
    "collapsed": false,
    "ExecuteTime": {
     "end_time": "2023-11-13T13:29:41.287553900Z",
     "start_time": "2023-11-13T13:29:41.125338100Z"
    }
   }
  },
  {
   "cell_type": "code",
   "execution_count": 82,
   "outputs": [
    {
     "data": {
      "text/plain": "array([ 1,  2,  3,  4,  5,  6,  7,  8,  9, 10, 11, 12, 13, 14, 15, 16, 17,\n       18, 19, 20, 21, 22, 23, 24, 25, 26, 27, 28, 29, 30, 31, 32, 33, 34,\n       35, 36, 37, 38, 39, 40, 41, 42, 43, 44, 45, 46, 47, 48, 49, 50, 51,\n       52, 53, 54, 55, 56, 57, 58, 59, 60, 61, 62, 63, 64, 65, 66, 67, 68,\n       69, 70, 71, 72, 73, 74, 75, 76, 77, 78, 79, 80, 81, 82, 83, 84, 85,\n       86, 87, 88, 89])"
     },
     "execution_count": 82,
     "metadata": {},
     "output_type": "execute_result"
    }
   ],
   "source": [
    "angle2"
   ],
   "metadata": {
    "collapsed": false,
    "ExecuteTime": {
     "end_time": "2023-11-13T13:32:52.718899100Z",
     "start_time": "2023-11-13T13:32:52.701477200Z"
    }
   }
  },
  {
   "cell_type": "code",
   "execution_count": 93,
   "outputs": [
    {
     "data": {
      "text/plain": "1.0"
     },
     "execution_count": 93,
     "metadata": {},
     "output_type": "execute_result"
    }
   ],
   "source": [
    "np.sin(1/2 *np.pi)"
   ],
   "metadata": {
    "collapsed": false,
    "ExecuteTime": {
     "end_time": "2023-11-13T13:54:53.164328900Z",
     "start_time": "2023-11-13T13:54:53.148354Z"
    }
   }
  },
  {
   "cell_type": "code",
   "execution_count": 101,
   "outputs": [
    {
     "data": {
      "text/plain": "0.6657737500283538"
     },
     "execution_count": 101,
     "metadata": {},
     "output_type": "execute_result"
    }
   ],
   "source": [
    "np.arctan(45*np.pi/180)"
   ],
   "metadata": {
    "collapsed": false,
    "ExecuteTime": {
     "end_time": "2023-11-13T13:59:17.511919900Z",
     "start_time": "2023-11-13T13:59:17.499825200Z"
    }
   }
  },
  {
   "cell_type": "code",
   "execution_count": 103,
   "outputs": [
    {
     "data": {
      "text/plain": "0.9999999999999999"
     },
     "execution_count": 103,
     "metadata": {},
     "output_type": "execute_result"
    }
   ],
   "source": [
    "np.tan(45*np.pi/180)"
   ],
   "metadata": {
    "collapsed": false,
    "ExecuteTime": {
     "end_time": "2023-11-13T14:01:26.033258100Z",
     "start_time": "2023-11-13T14:01:26.006141300Z"
    }
   }
  },
  {
   "cell_type": "code",
   "execution_count": 97,
   "outputs": [
    {
     "data": {
      "text/plain": "50"
     },
     "execution_count": 97,
     "metadata": {},
     "output_type": "execute_result"
    }
   ],
   "source": [
    "angle1"
   ],
   "metadata": {
    "collapsed": false,
    "ExecuteTime": {
     "end_time": "2023-11-13T13:56:57.836233900Z",
     "start_time": "2023-11-13T13:56:57.820003600Z"
    }
   }
  },
  {
   "cell_type": "code",
   "execution_count": 62,
   "outputs": [
    {
     "data": {
      "text/plain": "1.1752011936438014"
     },
     "execution_count": 62,
     "metadata": {},
     "output_type": "execute_result"
    }
   ],
   "source": [
    "np.sinh(1)"
   ],
   "metadata": {
    "collapsed": false,
    "ExecuteTime": {
     "end_time": "2023-11-14T13:51:53.822149100Z",
     "start_time": "2023-11-14T13:51:53.792160200Z"
    }
   }
  },
  {
   "cell_type": "code",
   "execution_count": 63,
   "outputs": [
    {
     "data": {
      "text/plain": "1.5430806348152437"
     },
     "execution_count": 63,
     "metadata": {},
     "output_type": "execute_result"
    }
   ],
   "source": [
    "np.cosh(1)"
   ],
   "metadata": {
    "collapsed": false,
    "ExecuteTime": {
     "end_time": "2023-11-14T13:52:00.752728Z",
     "start_time": "2023-11-14T13:52:00.731796Z"
    }
   }
  },
  {
   "cell_type": "code",
   "execution_count": null,
   "outputs": [],
   "source": [],
   "metadata": {
    "collapsed": false
   }
  }
 ],
 "metadata": {
  "kernelspec": {
   "display_name": "Python 3",
   "language": "python",
   "name": "python3"
  },
  "language_info": {
   "codemirror_mode": {
    "name": "ipython",
    "version": 2
   },
   "file_extension": ".py",
   "mimetype": "text/x-python",
   "name": "python",
   "nbconvert_exporter": "python",
   "pygments_lexer": "ipython2",
   "version": "2.7.6"
  }
 },
 "nbformat": 4,
 "nbformat_minor": 0
}
