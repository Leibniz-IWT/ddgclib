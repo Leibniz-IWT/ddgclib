{
 "cells": [
  {
   "cell_type": "markdown",
   "metadata": {},
   "source": [
    "Lecture 4\n",
    "===========================================================================\n",
    "\n",
    "One dimensional unconstrained optimisation\n",
    "------------"
   ]
  },
  {
   "cell_type": "code",
   "execution_count": 39,
   "metadata": {
    "collapsed": true
   },
   "outputs": [],
   "source": [
    "from __future__ import division\n",
    "from __future__ import print_function"
   ]
  },
  {
   "cell_type": "code",
   "execution_count": 40,
   "metadata": {},
   "outputs": [],
   "source": [
    "import sympy\n",
    "sympy.init_printing()\n",
    "\n",
    "import matplotlib.pyplot as plt\n",
    "import numpy as np\n",
    "\n",
    "%matplotlib inline"
   ]
  },
  {
   "cell_type": "markdown",
   "metadata": {},
   "source": [
    "Bracketing\n",
    "------------\n",
    "\n",
    "The goal of bracketing is to find an interval on which a minimum occurs. We search with acceleration, doubling the interval size each time until the function no longer descends.\n"
   ]
  },
  {
   "cell_type": "code",
   "execution_count": 204,
   "metadata": {
    "scrolled": true
   },
   "outputs": [],
   "source": [
    "x = sympy.Symbol('x')\n",
    "f = (x - 100)**2\n",
    "xint = [0, 1] # initial interval\n",
    "delta = 1\n",
    "k = 1\n",
    "while f.subs(x, xint[k]) <  f.subs(x, xint[k-1]):\n",
    "    xint.append(xint[k] + delta*2**k)\n",
    "    k = k + 1\n",
    "fs = [f.subs(x, xi) for xi in xint]"
   ]
  },
  {
   "cell_type": "code",
   "execution_count": 205,
   "metadata": {},
   "outputs": [],
   "source": [
    "from ipywidgets import HTML\n",
    "def table(values):\n",
    "    return HTML(\"<table border='1' cellpadding='10'>{}</table>\".format(\n",
    "             ''.join(\"<tr>{}</tr>\".format( \n",
    "             ''.join(\"<td>{}</td>\".format(value) for value in row)) for row in values)))"
   ]
  },
  {
   "cell_type": "code",
   "execution_count": 206,
   "metadata": {
    "collapsed": true
   },
   "outputs": [],
   "source": [
    "table(zip(xint, fs))"
   ]
  },
  {
   "cell_type": "markdown",
   "metadata": {},
   "source": [
    "The minimum must lie between the third last and last x value in the table above."
   ]
  },
  {
   "cell_type": "code",
   "execution_count": 207,
   "metadata": {
    "collapsed": true
   },
   "outputs": [],
   "source": [
    "def zerospines():\n",
    "    ax = plt.gca()\n",
    "    ax.spines['left'].set_position('zero')\n",
    "    ax.spines['right'].set_color('none')\n",
    "    ax.spines['bottom'].set_position('zero')\n",
    "    ax.spines['top'].set_color('none')\n",
    "    ax.spines['left'].set_smart_bounds(True)\n",
    "    ax.spines['bottom'].set_smart_bounds(True)\n",
    "    ax.xaxis.set_ticks_position('bottom')\n",
    "    ax.yaxis.set_ticks_position('left')"
   ]
  },
  {
   "cell_type": "code",
   "execution_count": 209,
   "metadata": {
    "scrolled": true
   },
   "outputs": [
    {
     "data": {
      "image/png": "[encoded data removed]",
      "text/plain": [
       "<matplotlib.figure.Figure at 0x110599e10>"
      ]
     },
     "metadata": {},
     "output_type": "display_data"
    }
   ],
   "source": [
    "evalfunc = sympy.lambdify(x, f, modules=['numpy'])\n",
    "xval = np.linspace(0.0, 300.0, 1000)\n",
    "plt.plot(xval, evalfunc(xval))\n",
    "plt.scatter(xint, fvals, color='r')\n",
    "zerospines()\n",
    "plt.xlim(0, 300)\n",
    "plt.show()"
   ]
  },
  {
   "cell_type": "markdown",
   "metadata": {},
   "source": [
    "Newton's Method\n",
    "------------"
   ]
  },
  {
   "cell_type": "code",
   "execution_count": 210,
   "metadata": {},
   "outputs": [
    {
     "data": {
      "image/png": "[encoded data removed]",
      "text/latex": [
       "$$\\left ( 4 x^{3} - 1, \\quad 12 x^{2}\\right )$$"
      ],
      "text/plain": [
       "⎛   3          2⎞\n",
       "⎝4⋅x  - 1, 12⋅x ⎠"
      ]
     },
     "execution_count": 210,
     "metadata": {},
     "output_type": "execute_result"
    }
   ],
   "source": [
    "x = sympy.Symbol('x')\n",
    "f = x**4 - x + 1\n",
    "fd = f.diff(x)\n",
    "fdd = f.diff(x, 2)\n",
    "fd, fdd"
   ]
  },
  {
   "cell_type": "code",
   "execution_count": 211,
   "metadata": {},
   "outputs": [],
   "source": [
    "N = 10\n",
    "xs = [3.0]\n",
    "for i in range(N-1): # For convenience we do a fixed number of points\n",
    "    xs.append(xs[-1] - fd.subs(x, xs[-1])/fdd.subs(x, xs[-1]))\n",
    "Nfs = [f.subs(x,xi) for xi in xs]\n",
    "xsN = xs"
   ]
  },
  {
   "cell_type": "code",
   "execution_count": 212,
   "metadata": {
    "collapsed": true
   },
   "outputs": [],
   "source": [
    "table(zip(xs, fs))"
   ]
  },
  {
   "cell_type": "markdown",
   "metadata": {},
   "source": [
    "### How does it work?\n",
    "\n",
    "Newton's method starts off by using a second order Taylor expansion, this is equivalent to approximating the function with a quadratic polynomial:"
   ]
  },
  {
   "cell_type": "code",
   "execution_count": 213,
   "metadata": {
    "collapsed": true
   },
   "outputs": [],
   "source": [
    "def lam(f):\n",
    "    return sympy.lambdify(x, f, modules=['numpy'])"
   ]
  },
  {
   "cell_type": "code",
   "execution_count": 214,
   "metadata": {
    "collapsed": true
   },
   "outputs": [],
   "source": [
    "def second_order_taylor(f, x0):\n",
    "    return f.series(x, x0=x0, n=3).removeO()"
   ]
  },
  {
   "cell_type": "code",
   "execution_count": 215,
   "metadata": {
    "collapsed": true
   },
   "outputs": [],
   "source": [
    "x0 = 3\n",
    "xvals = np.linspace(-5.0, 5.0, 100)"
   ]
  },
  {
   "cell_type": "code",
   "execution_count": 216,
   "metadata": {
    "collapsed": true
   },
   "outputs": [],
   "source": [
    "def plotfunction(f, xvals, formatstring='b'):\n",
    "    plt.plot(xvals, [f.subs(x, xi) for xi in xvals], formatstring)"
   ]
  },
  {
   "cell_type": "code",
   "execution_count": 232,
   "metadata": {
    "collapsed": true
   },
   "outputs": [],
   "source": [
    "def plotpoint(f, xi, color='blue', hline=False, vline=False):\n",
    "    yi = f.subs(x, xi)\n",
    "    plt.scatter(xi, yi, color=color)\n",
    "    if hline:\n",
    "        plt.axvline(yi, color=color)\n",
    "    if vline:\n",
    "        plt.axvline(xi, color=color)"
   ]
  },
  {
   "cell_type": "code",
   "execution_count": 233,
   "metadata": {
    "collapsed": true
   },
   "outputs": [],
   "source": [
    "def shownewton(f, x0):\n",
    "    xvals2 = np.linspace(x0 - 2, x0 + 2, 100)\n",
    "    quadratic_approx = second_order_taylor(f, x0)\n",
    "    plotfunction(f, xvals)\n",
    "    plotfunction(quadratic_approx, xvals2, 'm')\n",
    "    plotpoint(f, x0, color='m')\n",
    "    zerospines()"
   ]
  },
  {
   "cell_type": "code",
   "execution_count": 234,
   "metadata": {},
   "outputs": [
    {
     "data": {
      "image/png": "[encoded data removed]",
      "text/plain": [
       "<matplotlib.figure.Figure at 0x10fcf9438>"
      ]
     },
     "metadata": {},
     "output_type": "display_data"
    }
   ],
   "source": [
    "shownewton(f, x0)\n",
    "plt.show()"
   ]
  },
  {
   "cell_type": "markdown",
   "metadata": {},
   "source": [
    "Then the derivative of this quadratic function is set to zero, this is equivalent to approximating the true derivative at the point as a straight line and finding its intercept with the x-axis:"
   ]
  },
  {
   "cell_type": "code",
   "execution_count": 235,
   "metadata": {
    "collapsed": true
   },
   "outputs": [],
   "source": [
    "def shownewtond(f, x0):\n",
    "    xvals2 = np.linspace(x0 - 2, x0 + 2, 100)\n",
    "    fd = f.diff(x)\n",
    "    quadratic_approx = second_order_taylor(f, x0)\n",
    "    taylord = quadratic_approx.diff(x)\n",
    "    intercept = sympy.solve(taylord, x)[0]\n",
    "\n",
    "    plotfunction(fd, xvals)\n",
    "    plotfunction(taylord, xvals2, 'r')\n",
    "    plotpoint(fd, x0)\n",
    "    plotpoint(fd, intercept, 'g', vline=True)\n",
    "    plt.xlim(-2,5)\n",
    "    plt.ylim(-100,300)\n",
    "    zerospines()"
   ]
  },
  {
   "cell_type": "code",
   "execution_count": 240,
   "metadata": {},
   "outputs": [
    {
     "data": {
      "image/png": "[encoded data removed]",
      "text/plain": [
       "<matplotlib.figure.Figure at 0x1103f02b0>"
      ]
     },
     "metadata": {},
     "output_type": "display_data"
    }
   ],
   "source": [
    "shownewtond(f, 3)\n",
    "plt.show()"
   ]
  },
  {
   "cell_type": "markdown",
   "metadata": {},
   "source": [
    "This gives a value of around 2, as indicated in the table above and is also equivalent to jumping to minimum of the previously fitted quadratic. This is used as the new x value to evaluate the slope."
   ]
  },
  {
   "cell_type": "code",
   "execution_count": 241,
   "metadata": {},
   "outputs": [],
   "source": [
    "from ipywidgets import interact"
   ]
  },
  {
   "cell_type": "code",
   "execution_count": 244,
   "metadata": {},
   "outputs": [],
   "source": [
    "def newton_combined(niter=0):\n",
    "    x0 = float(xsN[niter])\n",
    "    shownewton(f, x0)\n",
    "    plt.figure()\n",
    "    shownewtond(f, x0)\n",
    "    plt.show()"
   ]
  },
  {
   "cell_type": "code",
   "execution_count": 245,
   "metadata": {
    "scrolled": true
   },
   "outputs": [
    {
     "data": {
      "image/png": "[encoded data removed]",
      "text/plain": [
       "<matplotlib.figure.Figure at 0x1044e5eb8>"
      ]
     },
     "metadata": {},
     "output_type": "display_data"
    },
    {
     "data": {
      "image/png": "[encoded data removed]",
      "text/plain": [
       "<matplotlib.figure.Figure at 0x110984358>"
      ]
     },
     "metadata": {},
     "output_type": "display_data"
    }
   ],
   "source": [
    "interact(newton_combined, niter=[0, 7])"
   ]
  },
  {
   "cell_type": "markdown",
   "metadata": {},
   "source": [
    "Quasi-Newton (Secant) method\n",
    "------------\n",
    "\n",
    "Note that this variation is a bracketing method, but secant methods do not require the points to span the mnimum in general. The algorithm implemented here is as it is described in the textbook.\n"
   ]
  },
  {
   "cell_type": "code",
   "execution_count": 260,
   "metadata": {},
   "outputs": [],
   "source": [
    "# Secant method on this function\n",
    "N = 10 # iterations\n",
    "xp = -3.0\n",
    "xq = 3.0 # initial points\n",
    "xps = []\n",
    "xqs = []\n",
    "xs = []\n",
    "for i in range(N):\n",
    "    xps.append(xp)\n",
    "    xqs.append(xq)\n",
    "    fxq = fd.subs(x,xq)\n",
    "    fxp = fd.subs(x,xp)\n",
    "    xroot = (xq - fxq * (xq - xp) / (fxq - fxp))\n",
    "    xs.append(xroot)\n",
    "    froot = fd.subs(x,xroot)\n",
    "    if sympy.sign(fxp) == sympy.sign(froot):\n",
    "        xp = xroot\n",
    "    else:\n",
    "        xq = xroot\n",
    "\n",
    "Sfs = [f.subs(x, xi) for xi in xs]\n",
    "xsS = xs"
   ]
  },
  {
   "cell_type": "code",
   "execution_count": 261,
   "metadata": {
    "collapsed": true
   },
   "outputs": [],
   "source": [
    "table(zip(xsS, Sfs))"
   ]
  },
  {
   "cell_type": "markdown",
   "metadata": {},
   "source": [
    "The method effectively searches for the zero intercept of the derivative as approximated as a straight line between the two chosen points."
   ]
  },
  {
   "cell_type": "code",
   "execution_count": 255,
   "metadata": {},
   "outputs": [
    {
     "data": {
      "image/png": "[encoded data removed]",
      "text/plain": [
       "<matplotlib.figure.Figure at 0x10fbc1748>"
      ]
     },
     "metadata": {},
     "output_type": "display_data"
    }
   ],
   "source": [
    "def showsecant(x1, x2):\n",
    "    y1 = fd.subs(x, x1)\n",
    "    y2 = fd.subs(x, x2)\n",
    "    line = (y2 - y1)/(x2 - x1)*(x - x1) + y1\n",
    "\n",
    "    plotfunction(line, xvals, 'r')\n",
    "    plotfunction(fd, xvals)\n",
    "    plotpoint(fd, x1, 'm')\n",
    "    plotpoint(fd, x2, 'm')\n",
    "    intercept = sympy.solve(line)[0]\n",
    "    plotpoint(line, intercept, 'g', vline=True)\n",
    "    plt.xlim(-4, 4)\n",
    "    plt.ylim(-300, 300)\n",
    "    zerospines()\n",
    "showsecant(-2, 3)\n",
    "plt.show()"
   ]
  },
  {
   "cell_type": "markdown",
   "metadata": {},
   "source": [
    "One of the remaining points must be selected in order to calculate the new approximation, this is done by ensuring that the slope has the opposite sign at the two chosen points."
   ]
  },
  {
   "cell_type": "code",
   "execution_count": 266,
   "metadata": {},
   "outputs": [],
   "source": [
    "def show_secant(niter=0):\n",
    "    showsecant(xps[niter], xqs[niter])"
   ]
  },
  {
   "cell_type": "code",
   "execution_count": 269,
   "metadata": {},
   "outputs": [
    {
     "data": {
      "image/png": "[encoded data removed]",
      "text/plain": [
       "<matplotlib.figure.Figure at 0x10fc42320>"
      ]
     },
     "metadata": {},
     "output_type": "display_data"
    }
   ],
   "source": [
    "interact(show_secant, niter=[0, 10])"
   ]
  },
  {
   "cell_type": "markdown",
   "metadata": {},
   "source": [
    "Secant starts better but converges slower for this function. This is in fact a general rule."
   ]
  },
  {
   "cell_type": "code",
   "execution_count": 271,
   "metadata": {
    "scrolled": true
   },
   "outputs": [
    {
     "data": {
      "image/png": "[encoded data removed]",
      "text/plain": [
       "<matplotlib.figure.Figure at 0x10f7bbb70>"
      ]
     },
     "metadata": {},
     "output_type": "display_data"
    }
   ],
   "source": [
    "itervals = np.arange(len(Nfs))\n",
    "Nfsarr = np.asarray(Nfs)\n",
    "Nfslog = [sympy.log(y+1) for y in Nfsarr]\n",
    "Sfsarr = np.asarray(Sfs)\n",
    "Sfslog = [sympy.log(y+1) for y in Sfsarr]\n",
    "plt.scatter(itervals, Nfslog, s=100, color='g')\n",
    "plt.scatter(itervals, Sfslog, s=100, color='b')\n",
    "plt.show()"
   ]
  }
 ],
 "metadata": {
  "kernelspec": {
   "display_name": "Python 3",
   "language": "python",
   "name": "python3"
  },
  "language_info": {
   "codemirror_mode": {
    "name": "ipython",
    "version": 3
   },
   "file_extension": ".py",
   "mimetype": "text/x-python",
   "name": "python",
   "nbconvert_exporter": "python",
   "pygments_lexer": "ipython3",
   "version": "3.7.3"
  }
 },
 "nbformat": 4,
 "nbformat_minor": 1
}
