{
 "cells": [
  {
   "cell_type": "code",
   "execution_count": 10,
   "metadata": {
    "collapsed": true,
    "ExecuteTime": {
     "end_time": "2023-07-04T13:36:28.660153200Z",
     "start_time": "2023-07-04T13:36:28.644522800Z"
    }
   },
   "outputs": [],
   "source": [
    "import numpy as np\n",
    "from sympy import *\n"
   ]
  },
  {
   "cell_type": "markdown",
   "source": [
    "The equation for a Volume for an symetrical liquid bridge has the form\n",
    "$ \\int_{0}^{z} y(x)^2 dx - \\frac{\\pi}{6} \\cdot [3y(0)^2 \\cdot h_i + h_i^3 + 3y^2(z) \\cdot h_j +h_j^3]$.\n",
    "\n",
    "In order to be able to solve the integral, the equation $ \\int_{0}^{z} y(x)^2 dx$ must first be described."
   ],
   "metadata": {
    "collapsed": false
   }
  },
  {
   "cell_type": "markdown",
   "source": [
    "The equation for y(x) is:\n",
    "\n",
    "$y(x) = -r \\cdot \\sqrt{1- \\frac{x^2}{r^2}}$\n",
    "\n",
    "with $r = \\frac{1}{\\kappa}$, with $\\kappa$ is the mean curvature. First the equation for $y(x)$ is defined:"
   ],
   "metadata": {
    "collapsed": false
   }
  },
  {
   "cell_type": "code",
   "execution_count": 42,
   "outputs": [],
   "source": [
    "init_printing(use_unicode=False, wrap_line=False)\n",
    "# x, k, r, z = symbols('x, \\kappa, r, z')\n",
    "\n",
    "x, k, r, z = symbols('x \\kappa r z')\n",
    "y = symbols('y', cls=Function)\n",
    "\n",
    "r = 1/k\n",
    "\n",
    "y = -r * (1-(x/r)**2)**0.5\n",
    "\n",
    "y2 = -r**2 * (1-(x/r)**2)"
   ],
   "metadata": {
    "collapsed": false,
    "ExecuteTime": {
     "end_time": "2023-07-04T14:13:40.980278900Z",
     "start_time": "2023-07-04T14:13:40.964395700Z"
    }
   }
  },
  {
   "cell_type": "code",
   "execution_count": 43,
   "outputs": [
    {
     "data": {
      "text/plain": " 3          \nx       x   \n-- - -------\n3          2\n     \\kappa ",
      "image/png": "[encoded data removed]",
      "text/latex": "$\\displaystyle \\frac{x^{3}}{3} - \\frac{x}{\\kappa^{2}}$"
     },
     "execution_count": 43,
     "metadata": {},
     "output_type": "execute_result"
    }
   ],
   "source": [
    "yintegr_lim = integrate(y2 , (x, 0, z))\n",
    "\n",
    "yintegr = integrate(y2 , x)\n",
    "\n",
    "yintegr\n"
   ],
   "metadata": {
    "collapsed": false,
    "ExecuteTime": {
     "end_time": "2023-07-04T14:13:43.328167Z",
     "start_time": "2023-07-04T14:13:42.299601500Z"
    }
   }
  },
  {
   "cell_type": "code",
   "execution_count": 44,
   "outputs": [
    {
     "data": {
      "text/plain": " 3          \nz       z   \n-- - -------\n3          2\n     \\kappa ",
      "image/png": "[encoded data removed]",
      "text/latex": "$\\displaystyle \\frac{z^{3}}{3} - \\frac{z}{\\kappa^{2}}$"
     },
     "execution_count": 44,
     "metadata": {},
     "output_type": "execute_result"
    }
   ],
   "source": [
    "yintegr_lim"
   ],
   "metadata": {
    "collapsed": false,
    "ExecuteTime": {
     "end_time": "2023-07-04T14:13:45.452187100Z",
     "start_time": "2023-07-04T14:13:44.412180400Z"
    }
   }
  },
  {
   "cell_type": "code",
   "execution_count": 11,
   "outputs": [
    {
     "data": {
      "text/plain": " 3    2    \nx    x     \n-- + -- + x\n3    2     ",
      "image/png": "[encoded data removed]",
      "text/latex": "$\\displaystyle \\frac{x^{3}}{3} + \\frac{x^{2}}{2} + x$"
     },
     "execution_count": 11,
     "metadata": {},
     "output_type": "execute_result"
    }
   ],
   "source": [
    "init_printing(use_unicode=False, wrap_line=False)\n",
    "x = symbols('x')\n",
    "integrate(x**2 + x + 1, x)\n",
    "\n"
   ],
   "metadata": {
    "collapsed": false,
    "ExecuteTime": {
     "end_time": "2023-07-04T13:36:32.674742700Z",
     "start_time": "2023-07-04T13:36:31.416448400Z"
    }
   }
  },
  {
   "cell_type": "code",
   "execution_count": null,
   "outputs": [],
   "source": [],
   "metadata": {
    "collapsed": false
   }
  },
  {
   "cell_type": "code",
   "execution_count": 3,
   "outputs": [
    {
     "ename": "SyntaxError",
     "evalue": "invalid syntax (912229713.py, line 3)",
     "output_type": "error",
     "traceback": [
      "\u001B[1;36m  Cell \u001B[1;32mIn[3], line 3\u001B[1;36m\u001B[0m\n\u001B[1;33m    P(0) + t*Subs(Derivative(P(_x), _x), (_x,), (0,)) +\u001B[0m\n\u001B[1;37m                                                       ^\u001B[0m\n\u001B[1;31mSyntaxError\u001B[0m\u001B[1;31m:\u001B[0m invalid syntax\n"
     ]
    }
   ],
   "source": [],
   "metadata": {
    "collapsed": false,
    "ExecuteTime": {
     "end_time": "2023-07-04T13:01:27.276394500Z",
     "start_time": "2023-07-04T13:01:27.238980Z"
    }
   }
  },
  {
   "cell_type": "code",
   "execution_count": 4,
   "outputs": [
    {
     "data": {
      "text/plain": "  2      \n d       \n---(y(x))\n  2      \ndx       ",
      "image/png": "[encoded data removed]",
      "text/latex": "$\\displaystyle \\frac{d^{2}}{d x^{2}} y{\\left(x \\right)}$"
     },
     "execution_count": 4,
     "metadata": {},
     "output_type": "execute_result"
    }
   ],
   "source": [
    "y = symbols('y', cls=Function)\n",
    "\n",
    "Derivative(y(x), x, 2)"
   ],
   "metadata": {
    "collapsed": false,
    "ExecuteTime": {
     "end_time": "2023-07-04T13:01:31.547444500Z",
     "start_time": "2023-07-04T13:01:30.413155400Z"
    }
   }
  },
  {
   "cell_type": "code",
   "execution_count": 15,
   "outputs": [
    {
     "data": {
      "text/plain": "(x, y, \\kappa)",
      "image/png": "[encoded data removed]",
      "text/latex": "$\\displaystyle \\left( x, \\  y, \\  \\kappa\\right)$"
     },
     "execution_count": 15,
     "metadata": {},
     "output_type": "execute_result"
    }
   ],
   "source": [
    "x, y, k = symbols('x, y, \\kappa')\n",
    "x, y, k"
   ],
   "metadata": {
    "collapsed": false,
    "ExecuteTime": {
     "end_time": "2023-07-04T13:49:01.610884200Z",
     "start_time": "2023-07-04T13:49:00.547222900Z"
    }
   }
  },
  {
   "cell_type": "code",
   "execution_count": 16,
   "outputs": [],
   "source": [
    "y = x"
   ],
   "metadata": {
    "collapsed": false,
    "ExecuteTime": {
     "end_time": "2023-07-04T13:49:08.284874200Z",
     "start_time": "2023-07-04T13:49:08.269253300Z"
    }
   }
  },
  {
   "cell_type": "code",
   "execution_count": 7,
   "outputs": [
    {
     "data": {
      "text/plain": "1",
      "image/png": "[encoded data removed]",
      "text/latex": "$\\displaystyle 1$"
     },
     "execution_count": 7,
     "metadata": {},
     "output_type": "execute_result"
    }
   ],
   "source": [
    "y.diff()"
   ],
   "metadata": {
    "collapsed": false,
    "ExecuteTime": {
     "end_time": "2023-07-04T13:01:39.423302300Z",
     "start_time": "2023-07-04T13:01:38.359999400Z"
    }
   }
  },
  {
   "cell_type": "code",
   "execution_count": 8,
   "outputs": [
    {
     "data": {
      "text/plain": "1",
      "image/png": "[encoded data removed]",
      "text/latex": "$\\displaystyle 1$"
     },
     "execution_count": 8,
     "metadata": {},
     "output_type": "execute_result"
    }
   ],
   "source": [
    "y.diff(x)"
   ],
   "metadata": {
    "collapsed": false,
    "ExecuteTime": {
     "end_time": "2023-07-04T13:01:41.130009800Z",
     "start_time": "2023-07-04T13:01:40.055191900Z"
    }
   }
  },
  {
   "cell_type": "code",
   "execution_count": 9,
   "outputs": [
    {
     "ename": "TypeError",
     "evalue": "'Symbol' object is not callable",
     "output_type": "error",
     "traceback": [
      "\u001B[1;31m---------------------------------------------------------------------------\u001B[0m",
      "\u001B[1;31mTypeError\u001B[0m                                 Traceback (most recent call last)",
      "Cell \u001B[1;32mIn[9], line 1\u001B[0m\n\u001B[1;32m----> 1\u001B[0m Derivative(\u001B[43my\u001B[49m\u001B[43m(\u001B[49m\u001B[43mx\u001B[49m\u001B[43m)\u001B[49m)\n",
      "\u001B[1;31mTypeError\u001B[0m: 'Symbol' object is not callable"
     ]
    }
   ],
   "source": [],
   "metadata": {
    "collapsed": false,
    "ExecuteTime": {
     "end_time": "2023-07-04T13:01:48.639999Z",
     "start_time": "2023-07-04T13:01:48.141199400Z"
    }
   }
  },
  {
   "cell_type": "code",
   "execution_count": null,
   "outputs": [],
   "source": [],
   "metadata": {
    "collapsed": false
   }
  }
 ],
 "metadata": {
  "kernelspec": {
   "display_name": "Python 3",
   "language": "python",
   "name": "python3"
  },
  "language_info": {
   "codemirror_mode": {
    "name": "ipython",
    "version": 2
   },
   "file_extension": ".py",
   "mimetype": "text/x-python",
   "name": "python",
   "nbconvert_exporter": "python",
   "pygments_lexer": "ipython2",
   "version": "2.7.6"
  }
 },
 "nbformat": 4,
 "nbformat_minor": 0
}
