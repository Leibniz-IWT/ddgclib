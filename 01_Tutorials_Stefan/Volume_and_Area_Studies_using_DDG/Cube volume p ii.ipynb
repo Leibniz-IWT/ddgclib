{
 "cells": [
  {
   "cell_type": "markdown",
   "id": "b08f107a",
   "metadata": {},
   "source": [
    "# Cube dual volume computation\n",
    "\n",
    "In this section we benchmark different methods for compute dual volumes on a simple triagulated cube (found using hyperct"
   ]
  },
  {
   "cell_type": "code",
   "execution_count": 69,
   "id": "f04d7a8e",
   "metadata": {},
   "outputs": [],
   "source": [
    "import numpy as np\n",
    "from scipy.spatial import HalfspaceIntersection\n",
    "import matplotlib.pyplot as plt\n",
    "import polyscope as ps\n",
    "\n",
    "\n",
    "import matplotlib.pyplot as plt\n",
    "from mpl_toolkits.mplot3d import Axes3D\n",
    "from matplotlib.patches import FancyArrowPatch\n",
    "from mpl_toolkits.mplot3d import proj3d\n",
    "from ipywidgets import *\n",
    "from matplotlib.widgets import Slider\n",
    "from lsm import HNdC_ijk\n",
    "\n",
    "# ddg imports\n",
    "import os, sys\n",
    "module_path = os.path.abspath(os.path.join('..'))\n",
    "if module_path not in sys.path:\n",
    "    sys.path.append(module_path)\n",
    "from ddgclib._complex import Complex\n",
    "from ddgclib import *\n",
    "from ddgclib._complex import *\n",
    "from ddgclib._curvatures import * #plot_surface#, curvature\n",
    "from ddgclib._capillary_rise_flow import * #plot_surface#, curvature\n",
    "from ddgclib._hyperboloid import *\n",
    "from ddgclib._catenoid import *\n",
    "from ddgclib._ellipsoid import *\n",
    "from ddgclib._eos import *\n",
    "from ddgclib._misc import *\n",
    "from ddgclib._plotting import *\n",
    "from ddgclib._sphere import *\n",
    "\n",
    "\n",
    "def polytope_volume(cutting_planes):\n",
    "    \"\"\"\n",
    "    Computes the volume of a convex polytope defined by its linear cutting planes.\n",
    "    \n",
    "    Parameters:\n",
    "    cutting_planes (ndarray): An array of shape (m, d + 1), where m is the number of cutting planes and d is the dimension of the polytope. Each row of the array corresponds to a cutting plane in the form [a_1, a_2, ..., a_d, b], where a_i are the coefficients of the hyperplane equation and b is the constant term.\n",
    "    \n",
    "    Returns:\n",
    "    float: The volume of the polytope.\n",
    "    \"\"\"\n",
    "    # Create an instance of HalfspaceIntersection with the cutting planes\n",
    "    hs = HalfspaceIntersection(cutting_planes[:,:-1], -cutting_planes[:,-1])\n",
    "    \n",
    "    # Compute the volume of the polytope using the HalfspaceIntersection object\n",
    "    volume = hs.volume\n",
    "    \n",
    "    return volume\n",
    "\n",
    "import numpy as np\n",
    "\n",
    "def polytope_volume_gram(vertices):\n",
    "    \"\"\"\n",
    "    Computes the volume of a convex polytope defined by its vertices using Gram's relation.\n",
    "    \n",
    "    Parameters:\n",
    "    vertices (ndarray): An array of shape (n, d), where n is the number of vertices and d is the dimension of the polytope.\n",
    "    \n",
    "    Returns:\n",
    "    float: The volume of the polytope.\n",
    "    \"\"\"\n",
    "    # Calculate the Gram matrix\n",
    "    gram_matrix = np.dot(vertices.T, vertices)\n",
    "    \n",
    "    # Compute the determinant of the Gram matrix\n",
    "    det_gram_matrix = np.linalg.det(gram_matrix)\n",
    "    \n",
    "    # Compute the volume of the polytope using Gram's relation\n",
    "    volume = np.sqrt(np.abs(det_gram_matrix)) / np.math.factorial(vertices.shape[0])\n",
    "    \n",
    "    return volume\n",
    "\n"
   ]
  },
  {
   "cell_type": "code",
   "execution_count": 70,
   "id": "76d24973",
   "metadata": {},
   "outputs": [],
   "source": [
    "from ddgclib._complex import *  # hyperct "
   ]
  },
  {
   "cell_type": "code",
   "execution_count": 71,
   "id": "afd63c6d",
   "metadata": {},
   "outputs": [],
   "source": [
    "bounds = [(-1, 3),] * 3  # 4**2  = 16 m3\n",
    "HC = Complex(3, domain=bounds)"
   ]
  },
  {
   "cell_type": "code",
   "execution_count": 72,
   "id": "bfddf1e0",
   "metadata": {},
   "outputs": [],
   "source": [
    "HC.triangulate()\n",
    "HC.refine_all()\n",
    "HC.refine_all()\n",
    "\n"
   ]
  },
  {
   "cell_type": "code",
   "execution_count": null,
   "id": "e5b2f615",
   "metadata": {},
   "outputs": [
    {
     "name": "stderr",
     "output_type": "stream",
     "text": [
      "WARNING:root:Warning, no associated scalar field found. Not plotting contour_plot.\n",
      "WARNING:root:Warning, no associated scalar field found. Not plotting surface field.\n",
      "/home/endres/projects/ddg/ddgclib/ddgclib/_complex.py:2832: UserWarning: Matplotlib is currently using module://matplotlib_inline.backend_inline, which is a non-GUI backend, so cannot show the figure.\n",
      "  self.fig_complex.show()\n"
     ]
    }
   ],
   "source": [
    "HC.plot_complex()\n",
    "plt.show()"
   ]
  },
  {
   "cell_type": "code",
   "execution_count": null,
   "id": "12269751",
   "metadata": {},
   "outputs": [],
   "source": [
    "plot_polyscope(HC)\n",
    "ps.show()"
   ]
  },
  {
   "cell_type": "code",
   "execution_count": 52,
   "id": "12d1bcb4",
   "metadata": {},
   "outputs": [
    {
     "data": {
      "text/plain": [
       "array([[-1. , -1. , -1. ],\n",
       "       [ 3. ,  3. ,  3. ],\n",
       "       [ 3. , -1. , -1. ],\n",
       "       [-1. ,  3. , -1. ],\n",
       "       [ 3. ,  3. , -1. ],\n",
       "       [-1. , -1. ,  3. ],\n",
       "       [ 3. , -1. ,  3. ],\n",
       "       [-1. ,  3. ,  3. ],\n",
       "       [ 1. ,  1. ,  1. ],\n",
       "       [ 1. , -1. , -1. ],\n",
       "       [ 1. ,  1. , -1. ],\n",
       "       [-1. ,  1. , -1. ],\n",
       "       [ 3. ,  1. , -1. ],\n",
       "       [ 1. ,  3. , -1. ],\n",
       "       [ 1. ,  1. ,  3. ],\n",
       "       [-1. , -1. ,  1. ],\n",
       "       [ 3. , -1. ,  1. ],\n",
       "       [-1. ,  3. ,  1. ],\n",
       "       [ 3. ,  3. ,  1. ],\n",
       "       [ 1. , -1. ,  1. ],\n",
       "       [-1. ,  1. ,  1. ],\n",
       "       [ 3. ,  1. ,  1. ],\n",
       "       [ 1. ,  3. ,  1. ],\n",
       "       [ 1. , -1. ,  3. ],\n",
       "       [-1. ,  1. ,  3. ],\n",
       "       [ 3. ,  1. ,  3. ],\n",
       "       [ 1. ,  3. ,  3. ],\n",
       "       [ 2. ,  0. ,  0. ],\n",
       "       [ 2. ,  0. ,  2. ],\n",
       "       [ 0. ,  2. ,  0. ],\n",
       "       [ 0. ,  0. ,  0. ],\n",
       "       [ 2. ,  2. ,  2. ],\n",
       "       [ 0. ,  2. ,  2. ],\n",
       "       [ 0. ,  0. ,  2. ],\n",
       "       [ 2. ,  2. ,  0. ],\n",
       "       [ 2. , -1. , -1. ],\n",
       "       [ 2. ,  0. , -1. ],\n",
       "       [ 1. ,  0. , -1. ],\n",
       "       [ 3. ,  0. , -1. ],\n",
       "       [ 2. ,  1. , -1. ],\n",
       "       [ 2. ,  0. ,  1. ],\n",
       "       [ 1. , -1. ,  0. ],\n",
       "       [ 3. , -1. ,  0. ],\n",
       "       [ 1. ,  1. ,  0. ],\n",
       "       [ 3. ,  1. ,  0. ],\n",
       "       [ 2. , -1. ,  0. ],\n",
       "       [ 1. ,  0. ,  0. ],\n",
       "       [ 3. ,  0. ,  0. ],\n",
       "       [ 2. ,  1. ,  0. ],\n",
       "       [ 2. , -1. ,  1. ],\n",
       "       [ 1. ,  0. ,  1. ],\n",
       "       [ 3. ,  0. ,  1. ],\n",
       "       [ 2. ,  1. ,  1. ],\n",
       "       [ 1.5, -0.5,  0.5],\n",
       "       [ 2.5,  0.5,  0.5],\n",
       "       [ 1.5, -0.5, -0.5],\n",
       "       [ 2.5, -0.5,  0.5],\n",
       "       [ 2.5, -0.5, -0.5],\n",
       "       [ 1.5,  0.5, -0.5],\n",
       "       [ 2.5,  0.5, -0.5],\n",
       "       [ 1.5,  0.5,  0.5],\n",
       "       [ 2. ,  0. ,  3. ],\n",
       "       [ 1. , -1. ,  2. ],\n",
       "       [ 3. , -1. ,  2. ],\n",
       "       [ 1. ,  1. ,  2. ],\n",
       "       [ 3. ,  1. ,  2. ],\n",
       "       [ 2. , -1. ,  2. ],\n",
       "       [ 1. ,  0. ,  2. ],\n",
       "       [ 3. ,  0. ,  2. ],\n",
       "       [ 2. ,  1. ,  2. ],\n",
       "       [ 2. , -1. ,  3. ],\n",
       "       [ 1. ,  0. ,  3. ],\n",
       "       [ 3. ,  0. ,  3. ],\n",
       "       [ 2. ,  1. ,  3. ],\n",
       "       [ 2.5, -0.5,  2.5],\n",
       "       [ 1.5,  0.5,  2.5],\n",
       "       [ 2.5,  0.5,  2.5],\n",
       "       [ 1.5, -0.5,  1.5],\n",
       "       [ 2.5,  0.5,  1.5],\n",
       "       [ 2.5, -0.5,  1.5],\n",
       "       [ 1.5, -0.5,  2.5],\n",
       "       [ 1.5,  0.5,  1.5],\n",
       "       [ 0. ,  1. , -1. ],\n",
       "       [ 0. ,  2. , -1. ],\n",
       "       [-1. ,  2. , -1. ],\n",
       "       [ 1. ,  2. , -1. ],\n",
       "       [ 0. ,  3. , -1. ],\n",
       "       [ 0. ,  2. ,  1. ],\n",
       "       [-1. ,  1. ,  0. ],\n",
       "       [-1. ,  3. ,  0. ],\n",
       "       [ 1. ,  3. ,  0. ],\n",
       "       [ 0. ,  1. ,  0. ],\n",
       "       [-1. ,  2. ,  0. ],\n",
       "       [ 1. ,  2. ,  0. ],\n",
       "       [ 0. ,  3. ,  0. ],\n",
       "       [ 0. ,  1. ,  1. ],\n",
       "       [-1. ,  2. ,  1. ],\n",
       "       [ 1. ,  2. ,  1. ],\n",
       "       [ 0. ,  3. ,  1. ],\n",
       "       [-0.5,  1.5, -0.5],\n",
       "       [-0.5,  1.5,  0.5],\n",
       "       [-0.5,  2.5, -0.5],\n",
       "       [ 0.5,  2.5,  0.5],\n",
       "       [-0.5,  2.5,  0.5],\n",
       "       [ 0.5,  2.5, -0.5],\n",
       "       [ 0.5,  1.5, -0.5],\n",
       "       [ 0.5,  1.5,  0.5],\n",
       "       [ 0. , -1. , -1. ],\n",
       "       [ 0. ,  0. , -1. ],\n",
       "       [-1. ,  0. , -1. ],\n",
       "       [ 0. ,  0. ,  1. ],\n",
       "       [-1. , -1. ,  0. ],\n",
       "       [ 0. , -1. ,  0. ],\n",
       "       [-1. ,  0. ,  0. ],\n",
       "       [ 0. , -1. ,  1. ],\n",
       "       [-1. ,  0. ,  1. ],\n",
       "       [-0.5,  0.5, -0.5],\n",
       "       [-0.5,  0.5,  0.5],\n",
       "       [-0.5, -0.5, -0.5],\n",
       "       [ 0.5, -0.5,  0.5],\n",
       "       [-0.5, -0.5,  0.5],\n",
       "       [ 0.5, -0.5, -0.5],\n",
       "       [ 0.5,  0.5, -0.5],\n",
       "       [ 0.5,  0.5,  0.5],\n",
       "       [ 2. ,  2. ,  1. ],\n",
       "       [ 3. ,  2. ,  1. ],\n",
       "       [ 2. ,  3. ,  1. ],\n",
       "       [ 2. ,  2. ,  3. ],\n",
       "       [ 1. ,  3. ,  2. ],\n",
       "       [ 3. ,  3. ,  2. ],\n",
       "       [ 1. ,  2. ,  2. ],\n",
       "       [ 3. ,  2. ,  2. ],\n",
       "       [ 2. ,  3. ,  2. ],\n",
       "       [ 1. ,  2. ,  3. ],\n",
       "       [ 3. ,  2. ,  3. ],\n",
       "       [ 2. ,  3. ,  3. ],\n",
       "       [ 2.5,  2.5,  1.5],\n",
       "       [ 1.5,  1.5,  2.5],\n",
       "       [ 2.5,  1.5,  2.5],\n",
       "       [ 1.5,  2.5,  1.5],\n",
       "       [ 2.5,  1.5,  1.5],\n",
       "       [ 2.5,  2.5,  2.5],\n",
       "       [ 1.5,  2.5,  2.5],\n",
       "       [ 1.5,  1.5,  1.5],\n",
       "       [ 0. ,  2. ,  3. ],\n",
       "       [-1. ,  1. ,  2. ],\n",
       "       [-1. ,  3. ,  2. ],\n",
       "       [ 0. ,  1. ,  2. ],\n",
       "       [-1. ,  2. ,  2. ],\n",
       "       [ 0. ,  3. ,  2. ],\n",
       "       [ 0. ,  1. ,  3. ],\n",
       "       [-1. ,  2. ,  3. ],\n",
       "       [ 0. ,  3. ,  3. ],\n",
       "       [-0.5,  1.5,  1.5],\n",
       "       [ 0.5,  1.5,  2.5],\n",
       "       [ 0.5,  2.5,  1.5],\n",
       "       [-0.5,  2.5,  1.5],\n",
       "       [-0.5,  1.5,  2.5],\n",
       "       [ 0.5,  2.5,  2.5],\n",
       "       [-0.5,  2.5,  2.5],\n",
       "       [ 0.5,  1.5,  1.5],\n",
       "       [ 0. ,  0. ,  3. ],\n",
       "       [-1. , -1. ,  2. ],\n",
       "       [ 0. , -1. ,  2. ],\n",
       "       [-1. ,  0. ,  2. ],\n",
       "       [ 0. , -1. ,  3. ],\n",
       "       [-1. ,  0. ,  3. ],\n",
       "       [-0.5,  0.5,  1.5],\n",
       "       [ 0.5,  0.5,  2.5],\n",
       "       [ 0.5, -0.5,  1.5],\n",
       "       [-0.5, -0.5,  1.5],\n",
       "       [-0.5,  0.5,  2.5],\n",
       "       [ 0.5, -0.5,  2.5],\n",
       "       [-0.5, -0.5,  2.5],\n",
       "       [ 0.5,  0.5,  1.5],\n",
       "       [ 2. ,  2. , -1. ],\n",
       "       [ 3. ,  2. , -1. ],\n",
       "       [ 2. ,  3. , -1. ],\n",
       "       [ 3. ,  3. ,  0. ],\n",
       "       [ 3. ,  2. ,  0. ],\n",
       "       [ 2. ,  3. ,  0. ],\n",
       "       [ 2.5,  2.5,  0.5],\n",
       "       [ 1.5,  2.5,  0.5],\n",
       "       [ 2.5,  1.5,  0.5],\n",
       "       [ 1.5,  2.5, -0.5],\n",
       "       [ 1.5,  1.5, -0.5],\n",
       "       [ 2.5,  1.5, -0.5],\n",
       "       [ 1.5,  1.5,  0.5],\n",
       "       [ 2.5,  2.5, -0.5]])"
      ]
     },
     "execution_count": 52,
     "metadata": {},
     "output_type": "execute_result"
    }
   ],
   "source": [
    "HC.V.cache\n",
    "\n",
    "Va = []\n",
    "for v in HC.V:\n",
    "    Va.append(v.x)\n",
    "    \n",
    "Va = np.array(X ,dtype='float64')\n",
    "Va"
   ]
  },
  {
   "cell_type": "code",
   "execution_count": 57,
   "id": "ba57fcf6",
   "metadata": {
    "scrolled": true
   },
   "outputs": [
    {
     "data": {
      "text/plain": [
       "array([[ 0. , -1. , -1. ],\n",
       "       [ 0. , -1. ,  1. ],\n",
       "       [ 0. ,  1. ,  0. ],\n",
       "       [ 0.5, -0.5,  0.5],\n",
       "       [ 0.5, -0.5, -0.5],\n",
       "       [ 0. ,  0. , -1. ],\n",
       "       [ 0. ,  0. ,  1. ],\n",
       "       [ 1. ,  0. ,  1. ],\n",
       "       [ 1. ,  1. ,  0. ],\n",
       "       [ 1. ,  0. , -1. ],\n",
       "       [ 0. , -1. ,  0. ],\n",
       "       [-1. ,  1. ,  0. ],\n",
       "       [ 1. , -1. ,  0. ],\n",
       "       [ 0.5,  0.5, -0.5],\n",
       "       [ 0.5,  0.5,  0.5],\n",
       "       [-0.5, -0.5, -0.5],\n",
       "       [-0.5, -0.5,  0.5],\n",
       "       [-1. ,  0. ,  1. ],\n",
       "       [-1. ,  0. , -1. ],\n",
       "       [ 1. ,  0. ,  0. ],\n",
       "       [-1. , -1. ,  0. ],\n",
       "       [ 0. ,  1. , -1. ],\n",
       "       [ 0. ,  1. ,  1. ],\n",
       "       [-1. ,  0. ,  0. ],\n",
       "       [-0.5,  0.5, -0.5],\n",
       "       [-0.5,  0.5,  0.5]], dtype=float128)"
      ]
     },
     "execution_count": 57,
     "metadata": {},
     "output_type": "execute_result"
    }
   ],
   "source": [
    "\n",
    "X"
   ]
  },
  {
   "cell_type": "code",
   "execution_count": 66,
   "id": "345548d6",
   "metadata": {},
   "outputs": [],
   "source": [
    "# Construct cutting_planes\n",
    "\n",
    "# half spaces are Stacked Inequalities of the form Ax + b <= 0 in format [A; b]\n",
    "# A = np.hstack((halfspaces[:, :-1], norm_vector))\n",
    "#b = - halfspaces[:, -1:]\n",
    "\n",
    "\n",
    "# Contants of hyperplanes are half the norm of the vector:\n",
    "i = 30\n",
    "HC.V[tuple(Va[i])]\n",
    "vi = HC.V[tuple(Va[i])]\n",
    "Xi = vi.x_a\n",
    "X = []\n",
    "for v in vi.nn:\n",
    "    X.append(v.x)\n",
    "    \n",
    "X = np.array(X)\n",
    "\n",
    "A = X - Xi\n",
    "A_norm = normalized(A)\n",
    "b = np.sum(0.5 * A * A_norm, axis=1)  # For some reason no minus factor like formula\n",
    "A = A_norm\n",
    "\n",
    "# NOTE: Remove zero vectors\n",
    "A = A[mask]\n",
    "b = b[mask]"
   ]
  },
  {
   "cell_type": "code",
   "execution_count": 67,
   "id": "ee955fc1",
   "metadata": {},
   "outputs": [
    {
     "data": {
      "text/plain": [
       "array([[ 0.        , -0.70710678, -0.70710678, -0.70710678],\n",
       "       [ 0.        , -0.70710678,  0.70710678, -0.70710678],\n",
       "       [ 0.        ,  1.        ,  0.        , -0.5       ],\n",
       "       [ 0.57735027, -0.57735027,  0.57735027, -0.4330127 ],\n",
       "       [ 0.57735027, -0.57735027, -0.57735027, -0.4330127 ],\n",
       "       [ 0.        ,  0.        , -1.        , -0.5       ],\n",
       "       [ 0.        ,  0.        ,  1.        , -0.5       ],\n",
       "       [ 0.70710678,  0.        ,  0.70710678, -0.70710678],\n",
       "       [ 0.70710678,  0.70710678,  0.        , -0.70710678],\n",
       "       [ 0.70710678,  0.        , -0.70710678, -0.70710678],\n",
       "       [ 0.        , -1.        ,  0.        , -0.5       ],\n",
       "       [-0.70710678,  0.70710678,  0.        , -0.70710678],\n",
       "       [ 0.70710678, -0.70710678,  0.        , -0.70710678],\n",
       "       [ 0.57735027,  0.57735027, -0.57735027, -0.4330127 ],\n",
       "       [ 0.57735027,  0.57735027,  0.57735027, -0.4330127 ],\n",
       "       [-0.57735027, -0.57735027, -0.57735027, -0.4330127 ],\n",
       "       [-0.57735027, -0.57735027,  0.57735027, -0.4330127 ],\n",
       "       [-0.70710678,  0.        ,  0.70710678, -0.70710678],\n",
       "       [-0.70710678,  0.        , -0.70710678, -0.70710678],\n",
       "       [ 1.        ,  0.        ,  0.        , -0.5       ],\n",
       "       [-0.70710678, -0.70710678,  0.        , -0.70710678],\n",
       "       [ 0.        ,  0.70710678, -0.70710678, -0.70710678],\n",
       "       [ 0.        ,  0.70710678,  0.70710678, -0.70710678],\n",
       "       [-1.        ,  0.        ,  0.        , -0.5       ],\n",
       "       [-0.57735027,  0.57735027, -0.57735027, -0.4330127 ],\n",
       "       [-0.57735027,  0.57735027,  0.57735027, -0.4330127 ]],\n",
       "      dtype=float128)"
      ]
     },
     "execution_count": 67,
     "metadata": {},
     "output_type": "execute_result"
    }
   ],
   "source": [
    "cutting_planes = np.column_stack((A, -b))\n",
    "cutting_planes"
   ]
  },
  {
   "cell_type": "code",
   "execution_count": 68,
   "id": "db04a329",
   "metadata": {},
   "outputs": [
    {
     "data": {
      "text/plain": [
       "28.444444444444436"
      ]
     },
     "execution_count": 68,
     "metadata": {},
     "output_type": "execute_result"
    }
   ],
   "source": [
    "from scipy.spatial import HalfspaceIntersection\n",
    "\n",
    "#Xi  # Current interior point\n",
    "halfspaces = cutting_planes\n",
    "hs = HalfspaceIntersection(halfspaces, Xi)\n",
    "hs.dual_volume"
   ]
  },
  {
   "cell_type": "code",
   "execution_count": null,
   "id": "9a6f555f",
   "metadata": {},
   "outputs": [],
   "source": [
    "# # Compute the volume of the polytope using the HalfspaceIntersection object\n",
    " #   volume = hs.volume"
   ]
  },
  {
   "cell_type": "code",
   "execution_count": 44,
   "id": "a9bb55b1",
   "metadata": {},
   "outputs": [
    {
     "data": {
      "text/plain": [
       "array([0., 0., 0.])"
      ]
     },
     "execution_count": 44,
     "metadata": {},
     "output_type": "execute_result"
    }
   ],
   "source": [
    "X[i] "
   ]
  },
  {
   "cell_type": "code",
   "execution_count": null,
   "id": "2c686f55",
   "metadata": {},
   "outputs": [],
   "source": []
  },
  {
   "cell_type": "code",
   "execution_count": null,
   "id": "411dc0ef",
   "metadata": {},
   "outputs": [],
   "source": []
  }
 ],
 "metadata": {
  "kernelspec": {
   "display_name": "Python 3 (ipykernel)",
   "language": "python",
   "name": "python3"
  },
  "language_info": {
   "codemirror_mode": {
    "name": "ipython",
    "version": 3
   },
   "file_extension": ".py",
   "mimetype": "text/x-python",
   "name": "python",
   "nbconvert_exporter": "python",
   "pygments_lexer": "ipython3",
   "version": "3.10.9"
  }
 },
 "nbformat": 4,
 "nbformat_minor": 5
}
