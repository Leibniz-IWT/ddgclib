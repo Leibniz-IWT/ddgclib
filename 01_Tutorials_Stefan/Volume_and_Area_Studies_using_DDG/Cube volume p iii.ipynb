{
 "cells": [
  {
   "cell_type": "markdown",
   "id": "b08f107a",
   "metadata": {},
   "source": [
    "# Cube dual volume computation\n",
    "\n",
    "In this attempt we only use duals of the $d-1$-simplices for computing volumes as opposed to the duals of the $d$-simplices\n",
    "\n",
    "We benchmark different methods for compute dual volumes on a simple triagulated cube (found using hyperct"
   ]
  },
  {
   "cell_type": "code",
   "execution_count": 30,
   "id": "f04d7a8e",
   "metadata": {},
   "outputs": [],
   "source": [
    "import numpy as np\n",
    "from scipy.spatial import HalfspaceIntersection\n",
    "import matplotlib.pyplot as plt\n",
    "import polyscope as ps\n",
    "\n",
    "\n",
    "import matplotlib.pyplot as plt\n",
    "from mpl_toolkits.mplot3d import Axes3D\n",
    "from matplotlib.patches import FancyArrowPatch\n",
    "from mpl_toolkits.mplot3d import proj3d\n",
    "from ipywidgets import *\n",
    "from matplotlib.widgets import Slider\n",
    "from lsm import HNdC_ijk\n",
    "\n",
    "# ddg imports\n",
    "import os, sys\n",
    "module_path = os.path.abspath(os.path.join('..'))\n",
    "if module_path not in sys.path:\n",
    "    sys.path.append(module_path)\n",
    "from ddgclib._complex import Complex\n",
    "from ddgclib import *\n",
    "from ddgclib._complex import *\n",
    "from ddgclib._curvatures import * #plot_surface#, curvature\n",
    "from ddgclib._capillary_rise_flow import * #plot_surface#, curvature\n",
    "from ddgclib._hyperboloid import *\n",
    "from ddgclib._catenoid import *\n",
    "from ddgclib._ellipsoid import *\n",
    "from ddgclib._eos import *\n",
    "from ddgclib._misc import *\n",
    "from ddgclib._plotting import *\n",
    "from ddgclib._sphere import *\n",
    "\n",
    "\n",
    "def polytope_volume(cutting_planes):\n",
    "    \"\"\"\n",
    "    Computes the volume of a convex polytope defined by its linear cutting planes.\n",
    "    \n",
    "    Parameters:\n",
    "    cutting_planes (ndarray): An array of shape (m, d + 1), where m is the number of cutting planes and d is the dimension of the polytope. Each row of the array corresponds to a cutting plane in the form [a_1, a_2, ..., a_d, b], where a_i are the coefficients of the hyperplane equation and b is the constant term.\n",
    "    \n",
    "    Returns:\n",
    "    float: The volume of the polytope.\n",
    "    \"\"\"\n",
    "    # Create an instance of HalfspaceIntersection with the cutting planes\n",
    "    hs = HalfspaceIntersection(cutting_planes[:,:-1], -cutting_planes[:,-1])\n",
    "    \n",
    "    # Compute the volume of the polytope using the HalfspaceIntersection object\n",
    "    volume = hs.volume\n",
    "    \n",
    "    return volume\n",
    "\n",
    "import numpy as np\n",
    "\n",
    "def polytope_volume_gram(vertices):\n",
    "    \"\"\"\n",
    "    Computes the volume of a convex polytope defined by its vertices using Gram's relation.\n",
    "    \n",
    "    Parameters:\n",
    "    vertices (ndarray): An array of shape (n, d), where n is the number of vertices and d is the dimension of the polytope.\n",
    "    \n",
    "    Returns:\n",
    "    float: The volume of the polytope.\n",
    "    \"\"\"\n",
    "    # Calculate the Gram matrix\n",
    "    gram_matrix = np.dot(vertices.T, vertices)\n",
    "    \n",
    "    # Compute the determinant of the Gram matrix\n",
    "    det_gram_matrix = np.linalg.det(gram_matrix)\n",
    "    \n",
    "    # Compute the volume of the polytope using Gram's relation\n",
    "    volume = np.sqrt(np.abs(det_gram_matrix)) / np.math.factorial(vertices.shape[0])\n",
    "    \n",
    "    return volume\n",
    "\n"
   ]
  },
  {
   "cell_type": "code",
   "execution_count": 31,
   "id": "9946559f",
   "metadata": {},
   "outputs": [],
   "source": [
    "import numpy as np\n",
    "\n",
    "def circumcenter_old(triangle):\n",
    "    \"\"\"\n",
    "    Compute the circumcenter of a triangle in 3D space given the vertex positions.\n",
    "    \n",
    "    Arguments:\n",
    "    triangle -- a numpy array of shape (3,3) representing the vertex positions of the triangle\n",
    "    \n",
    "    Returns:\n",
    "    circumcenter -- a numpy array of shape (3,) representing the circumcenter of the triangle\n",
    "    \"\"\"\n",
    "    \n",
    "    # Calculate the edge vectors of the triangle\n",
    "    edge_ab = triangle[1] - triangle[0]\n",
    "    edge_ac = triangle[2] - triangle[0]\n",
    "    \n",
    "    # Calculate the normal vector of the triangle\n",
    "    normal = np.cross(edge_ab, edge_ac)\n",
    "    \n",
    "    # Calculate the midpoints of the edges\n",
    "    midpoint_ab = (triangle[0] + triangle[1]) / 2\n",
    "    midpoint_ac = (triangle[0] + triangle[2]) / 2\n",
    "    \n",
    "    # Calculate the projection of the midpoints onto the normal vector\n",
    "    projection_ab = np.dot(midpoint_ab - triangle[0], normal) / np.dot(normal, normal) * normal\n",
    "    projection_ac = np.dot(midpoint_ac - triangle[0], normal) / np.dot(normal, normal) * normal\n",
    "    \n",
    "    # Calculate the intersection of the two projections\n",
    "    circumcenter = np.linalg.solve(np.array([[-edge_ab[0], edge_ac[0]], \n",
    "                                             [-edge_ab[1], edge_ac[1]]]), \n",
    "                                    np.array([projection_ab[0] - projection_ac[0], \n",
    "                                              projection_ab[1] - projection_ac[1]]))\n",
    "    #circumcenter += triangle[0]\n",
    "    \n",
    "    return circumcenter\n",
    "\n",
    "def circumcenter2_old(triangle):\n",
    "    \"\"\"\n",
    "    Compute the circumcenter of a triangle in 3D space given the vertex positions.\n",
    "    \n",
    "    Arguments:\n",
    "    triangle -- a numpy array of shape (3,3) representing the vertex positions of the triangle\n",
    "    \n",
    "    Returns:\n",
    "    circumcenter -- a numpy array of shape (3,) representing the circumcenter of the triangle\n",
    "    \"\"\"\n",
    "    \n",
    "    # Calculate the edge vectors of the triangle\n",
    "    edge_ab = triangle[1] - triangle[0]\n",
    "    edge_ac = triangle[2] - triangle[0]\n",
    "    \n",
    "    # Calculate the normal vector of the triangle\n",
    "    normal = np.cross(edge_ab, edge_ac)\n",
    "    \n",
    "    # Pre-compute some values for efficiency\n",
    "    normal_dot = np.dot(normal, normal)\n",
    "    midpoint_diff = (triangle[0] + triangle[2]) / 2 - (triangle[0] + triangle[1]) / 2\n",
    "    \n",
    "    # Calculate the projection of the midpoints onto the normal vector\n",
    "    projection_ab = np.dot(midpoint_diff + edge_ab / 2, normal) / normal_dot * normal\n",
    "    projection_ac = np.dot(midpoint_diff - edge_ab / 2, normal) / normal_dot * normal\n",
    "    \n",
    "    # Calculate the intersection of the two projections\n",
    "    circumcenter = np.linalg.solve(np.array([[-edge_ab[0], edge_ac[0]], \n",
    "                                             [-edge_ab[1], edge_ac[1]]]), \n",
    "                                    np.array([projection_ab[0] - projection_ac[0], \n",
    "                                              projection_ab[1] - projection_ac[1]]))\n",
    "    #circumcenter += triangle[0]\n",
    "    \n",
    "    return circumcenter\n"
   ]
  },
  {
   "cell_type": "code",
   "execution_count": 32,
   "id": "2a3919ce",
   "metadata": {},
   "outputs": [
    {
     "name": "stdout",
     "output_type": "stream",
     "text": [
      "Circumcenter: [1.5 0.5 2.5]\n"
     ]
    }
   ],
   "source": [
    "import numpy as np\n",
    "\n",
    "def distance(a, b):\n",
    "    return np.linalg.norm(a - b)\n",
    "\n",
    "def circumcenter(vertices):\n",
    "    A, B, C = vertices\n",
    "    a = distance(B, C)\n",
    "    b = distance(C, A)\n",
    "    c = distance(A, B)\n",
    "\n",
    "    if a == 0 or b == 0 or c == 0:\n",
    "        raise ValueError(\"Invalid triangle: degenerate or duplicate vertices\")\n",
    "\n",
    "    # Calculate the circumradius\n",
    "    s = (a + b + c) / 2\n",
    "    area = np.sqrt(s * (s - a) * (s - b) * (s - c))\n",
    "    circumradius = (a * b * c) / (4 * area)\n",
    "\n",
    "    # Calculate the normalized barycentric coordinates\n",
    "    alpha = (a * a * (b * b + c * c - a * a)) / (a * a + b * b + c * c)\n",
    "    beta = (b * b * (c * c + a * a - b * b)) / (a * a + b * b + c * c)\n",
    "    gamma = (c * c * (a * a + b * b - c * c)) / (a * a + b * b + c * c)\n",
    "\n",
    "    circumcenter = (alpha * A + beta * B + gamma * C) / (alpha + beta + gamma)\n",
    "\n",
    "    return circumcenter\n",
    "\n",
    "# Example usage\n",
    "triangle_vertices = np.array([[1, 2, 0], [4, 0, 1], [0, 0, 5]], dtype=np.float64)\n",
    "print(\"Circumcenter:\", circumcenter(triangle_vertices))"
   ]
  },
  {
   "cell_type": "markdown",
   "id": "39cf6437",
   "metadata": {},
   "source": [
    "This program defines a function circumcenter that takes an array of the triangle vertices' positions and returns the circumcenter's coordinates. The function calculates the distances between each pair of vertices and uses them to compute the normalized barycentric coordinates, which are then used to find the circumcenter's coordinates."
   ]
  },
  {
   "cell_type": "code",
   "execution_count": 33,
   "id": "643d286d",
   "metadata": {},
   "outputs": [
    {
     "data": {
      "text/plain": [
       "array([[1, 0, 0],\n",
       "       [0, 1, 0],\n",
       "       [0, 0, 0]])"
      ]
     },
     "execution_count": 33,
     "metadata": {},
     "output_type": "execute_result"
    }
   ],
   "source": [
    "points = np.random.rand(3, 3)\n",
    "points = np.array([[1, 0, 0],\n",
    "                   [0, 1, 0],\n",
    "                   [0, 0, 0]])\n",
    "triangle = points\n",
    "points"
   ]
  },
  {
   "cell_type": "code",
   "execution_count": 34,
   "id": "b130f78c",
   "metadata": {},
   "outputs": [
    {
     "data": {
      "text/plain": [
       "array([0.5, 0.5, 0. ])"
      ]
     },
     "execution_count": 34,
     "metadata": {},
     "output_type": "execute_result"
    }
   ],
   "source": [
    "cd =  circumcenter(points)\n",
    "cd"
   ]
  },
  {
   "cell_type": "code",
   "execution_count": 35,
   "id": "1dac1f52",
   "metadata": {},
   "outputs": [
    {
     "data": {
      "text/plain": [
       "<function __main__.circumcenter(vertices)>"
      ]
     },
     "execution_count": 35,
     "metadata": {},
     "output_type": "execute_result"
    }
   ],
   "source": [
    "circumcenter"
   ]
  },
  {
   "cell_type": "code",
   "execution_count": 36,
   "id": "41013588",
   "metadata": {},
   "outputs": [
    {
     "data": {
      "text/plain": [
       "array([0.5, 0.5, 0. ])"
      ]
     },
     "execution_count": 36,
     "metadata": {},
     "output_type": "execute_result"
    }
   ],
   "source": [
    "cd"
   ]
  },
  {
   "cell_type": "code",
   "execution_count": 37,
   "id": "0a5bd3e0",
   "metadata": {},
   "outputs": [],
   "source": [
    "HC.Vd = VertexCacheField()  # TODO: Add arguments"
   ]
  },
  {
   "cell_type": "code",
   "execution_count": 38,
   "id": "846e0200",
   "metadata": {},
   "outputs": [
    {
     "data": {
      "text/plain": [
       "(<ddgclib._vertex.VertexCacheField at 0x7f8cfa8b43a0>,\n",
       " <ddgclib._vertex.VertexCacheIndex at 0x7f8cfa8afe50>)"
      ]
     },
     "execution_count": 38,
     "metadata": {},
     "output_type": "execute_result"
    }
   ],
   "source": [
    "HC.Vd, HC.V"
   ]
  },
  {
   "cell_type": "code",
   "execution_count": 39,
   "id": "6c434db1",
   "metadata": {},
   "outputs": [
    {
     "data": {
      "text/plain": [
       "ddgclib._vertex.VertexCacheField"
      ]
     },
     "execution_count": 39,
     "metadata": {},
     "output_type": "execute_result"
    }
   ],
   "source": [
    "VertexCacheField"
   ]
  },
  {
   "cell_type": "code",
   "execution_count": 40,
   "id": "24700b53",
   "metadata": {},
   "outputs": [],
   "source": [
    "for v in HC.V:\n",
    "        v.vd = set()\n",
    "            \n",
    "            \n",
    "for v1 in HC.V:\n",
    "    for v2 in v1.nn:\n",
    "        v1nn_u_v2nn = None"
   ]
  },
  {
   "cell_type": "code",
   "execution_count": 41,
   "id": "3c87c5a0",
   "metadata": {},
   "outputs": [
    {
     "data": {
      "text/plain": [
       "({<ddgclib._vertex.VertexCube at 0x7f8cfa4eb400>,\n",
       "  <ddgclib._vertex.VertexCube at 0x7f8cfa8aee30>},\n",
       " {<ddgclib._vertex.VertexCube at 0x7f8cfa4eb400>,\n",
       "  <ddgclib._vertex.VertexCube at 0x7f8cfa8ad990>,\n",
       "  <ddgclib._vertex.VertexCube at 0x7f8cfa8adba0>,\n",
       "  <ddgclib._vertex.VertexCube at 0x7f8cfa8ade40>,\n",
       "  <ddgclib._vertex.VertexCube at 0x7f8cfa8aee30>,\n",
       "  <ddgclib._vertex.VertexCube at 0x7f8cfa8af250>,\n",
       "  <ddgclib._vertex.VertexCube at 0x7f8cfa8af280>,\n",
       "  <ddgclib._vertex.VertexCube at 0x7f8cfa8af5e0>,\n",
       "  <ddgclib._vertex.VertexCube at 0x7f8cfa8af940>,\n",
       "  <ddgclib._vertex.VertexCube at 0x7f8cfa8afac0>,\n",
       "  <ddgclib._vertex.VertexCube at 0x7f8cfa8afbb0>,\n",
       "  <ddgclib._vertex.VertexCube at 0x7f8cfa8afe80>,\n",
       "  <ddgclib._vertex.VertexCube at 0x7f8cfa8affa0>})"
      ]
     },
     "execution_count": 41,
     "metadata": {},
     "output_type": "execute_result"
    }
   ],
   "source": [
    "v1.nn.intersection(v2.nn),v2.nn"
   ]
  },
  {
   "cell_type": "code",
   "execution_count": 42,
   "id": "27303872",
   "metadata": {},
   "outputs": [
    {
     "data": {
      "text/plain": [
       "array([[0., 0., 0.],\n",
       "       [0., 0., 0.],\n",
       "       [0., 0., 0.]])"
      ]
     },
     "execution_count": 42,
     "metadata": {},
     "output_type": "execute_result"
    }
   ],
   "source": [
    "np.zeros([3,3])"
   ]
  },
  {
   "cell_type": "code",
   "execution_count": 43,
   "id": "2e6d8165",
   "metadata": {},
   "outputs": [
    {
     "data": {
      "text/plain": [
       "array([[0.125, 0.5  , 0.875],\n",
       "       [0.   , 0.   , 0.   ],\n",
       "       [0.   , 0.   , 0.   ]])"
      ]
     },
     "execution_count": 43,
     "metadata": {},
     "output_type": "execute_result"
    }
   ],
   "source": [
    "verts = np.zeros([3, 3])\n",
    "verts[0] = v.x_a\n",
    "verts"
   ]
  },
  {
   "cell_type": "code",
   "execution_count": 44,
   "id": "bd6161e5",
   "metadata": {},
   "outputs": [],
   "source": [
    "# Write a function that builds a dual cache called HC.Vd,\n",
    "# each member of the `Vd` set should be connect only to primal\n",
    "# vertices in HC.V\n",
    "def compute_vd(HC):\n",
    "    \"\"\"\n",
    "    Computes the dual vertices of a primal vertex cache HC.V on\n",
    "    each dim - 1 simplex.\n",
    "    \n",
    "    Currently only dim = 3 is supported\n",
    "    \"\"\"\n",
    "    # Construct dual cache\n",
    "    HC.Vd = VertexCacheField() \n",
    "    \n",
    "    # Construct dual neighbour sets\n",
    "    for v in HC.V:\n",
    "        v.vd = set()\n",
    "            \n",
    "    #hcv = copy.copy(HC.V)        \n",
    "    for v1 in HC.V:\n",
    "        for v2 in v1.nn:\n",
    "            # Find all v2.nn also connected to v1:\n",
    "            v1nn_u_v2nn = v1.nn.intersection(v2.nn)\n",
    "            for v3 in v1nn_u_v2nn:\n",
    "                # TODO: Re-implement cache:\n",
    "                verts = np.zeros([3, 3])\n",
    "                verts[0] = v1.x_a\n",
    "                verts[1] = v2.x_a\n",
    "                verts[2] = v3.x_a\n",
    "                # Compute the circumcentre:\n",
    "                cd = circumcenter(verts)\n",
    "                vd = HC.Vd[tuple(cd)]\n",
    "                # Connect to all primal vertices\n",
    "                for v in [v1, v2, v3]:\n",
    "                    v.vd.add(vd)\n",
    "                    vd.nn.add(v)\n",
    "                    \n",
    "    return HC  # self\n",
    "\n",
    "# Complex \n",
    "bounds = [(0, 1),] * 3  # 4**2  = 16 m3\n",
    "HC = Complex(3, domain=bounds)\n",
    "HC.triangulate()\n",
    "if 0:  # randomize\n",
    "    hcv = copy.copy(HC.V)\n",
    "    for v in HC.V:\n",
    "        xnew = tuple(v.x_a + 0.2*(np.random.rand(3)-0.5))\n",
    "        HC.V.move(v, xnew)\n",
    "##\n",
    "HC = compute_vd(HC)\n"
   ]
  },
  {
   "cell_type": "code",
   "execution_count": 45,
   "id": "692a2705",
   "metadata": {},
   "outputs": [],
   "source": [
    "for vd in HC.Vd:\n",
    "    #print(f'vd.x = {vd.x}')\n",
    "    vdp = HC.V[vd.x]\n",
    "    for vp in vd.nn:\n",
    "        #print(vp)\n",
    "        vd.connect(vp)\n",
    "        vdp.connect(vp)"
   ]
  },
  {
   "cell_type": "code",
   "execution_count": null,
   "id": "53eb2f6d",
   "metadata": {},
   "outputs": [],
   "source": [
    "plot_polyscope(HC)\n",
    "ps.show()"
   ]
  },
  {
   "cell_type": "code",
   "execution_count": 80,
   "id": "32759612",
   "metadata": {},
   "outputs": [
    {
     "data": {
      "text/plain": [
       "array([ 0.02546683, -0.04825737,  0.04204589])"
      ]
     },
     "execution_count": 80,
     "metadata": {},
     "output_type": "execute_result"
    }
   ],
   "source": [
    "rr = 0.1*(np.random.rand(3)-0.5)\n",
    "rr"
   ]
  },
  {
   "cell_type": "code",
   "execution_count": 83,
   "id": "7c44f6f0",
   "metadata": {},
   "outputs": [
    {
     "data": {
      "text/plain": [
       "<ddgclib._vertex.VertexCube at 0x7f00ea1f2b90>"
      ]
     },
     "execution_count": 83,
     "metadata": {},
     "output_type": "execute_result"
    }
   ],
   "source": [
    "#v.move()\n",
    "xnew = tuple(v.x_a + 0.1*(np.random.rand(3)-0.5))\n",
    "HC.V.move(v, xnew)"
   ]
  },
  {
   "cell_type": "code",
   "execution_count": 85,
   "id": "77ffa2c1",
   "metadata": {},
   "outputs": [],
   "source": [
    "bounds = [(0, 1),] * 3  # 4**2  = 16 m3\n",
    "HC = Complex(3, domain=bounds)\n",
    "HC.triangulate()\n",
    "\n",
    "hcv = copy.copy(HC.V)\n",
    "for v in HC.V:\n",
    "    xnew = tuple(v.x_a + 0.2*(np.random.rand(3)-0.5))\n",
    "    HC.V.move(v, xnew)\n",
    "\n",
    "plot_polyscope(HC)\n",
    "ps.show()"
   ]
  },
  {
   "cell_type": "code",
   "execution_count": 22,
   "id": "c021bd0f",
   "metadata": {},
   "outputs": [],
   "source": [
    "bounds = [(-1, 3),] * 3  # 4**2  = 16 m3\n",
    "HC = Complex(3, domain=bounds)\n",
    "for p in points:\n",
    "    HC.V[tuple(p)]\n",
    "    \n",
    "for v1 in HC.V:\n",
    "    for v2 in HC.V:\n",
    "        v1.connect(v2)\n",
    "        \n",
    "cd = circumcenter(triangle)\n",
    "vc = HC.V[tuple(cd)]\n",
    "for v1 in HC.V:\n",
    "    vc.connect(v1)"
   ]
  },
  {
   "cell_type": "code",
   "execution_count": 9,
   "id": "8a3a357e",
   "metadata": {},
   "outputs": [
    {
     "name": "stderr",
     "output_type": "stream",
     "text": [
      "WARNING:root:Warning, no associated scalar field found. Not plotting contour_plot.\n",
      "WARNING:root:Warning, no associated scalar field found. Not plotting surface field.\n",
      "/home/stefan_endres/projects/ddg/ddgclib/ddgclib/_complex.py:2832: UserWarning: Matplotlib is currently using module://matplotlib_inline.backend_inline, which is a non-GUI backend, so cannot show the figure.\n",
      "  self.fig_complex.show()\n"
     ]
    },
    {
     "data": {
      "text/plain": [
       "<Figure size 640x480 with 0 Axes>"
      ]
     },
     "metadata": {},
     "output_type": "display_data"
    }
   ],
   "source": [
    "HC.plot_complex()\n",
    "plt.show()"
   ]
  },
  {
   "cell_type": "code",
   "execution_count": 10,
   "id": "4e3913a0",
   "metadata": {},
   "outputs": [
    {
     "name": "stdout",
     "output_type": "stream",
     "text": [
      "[polyscope] Backend: openGL3_glfw -- Loaded openGL version: 3.3.0 NVIDIA 530.41.03\n"
     ]
    }
   ],
   "source": [
    "plot_polyscope(HC)\n",
    "ps.show()"
   ]
  },
  {
   "cell_type": "code",
   "execution_count": 11,
   "id": "76d24973",
   "metadata": {},
   "outputs": [],
   "source": [
    "from ddgclib._complex import *  # hyperct "
   ]
  },
  {
   "cell_type": "code",
   "execution_count": 25,
   "id": "afd63c6d",
   "metadata": {},
   "outputs": [],
   "source": [
    "bounds = [(-1, 3),] * 3  # 4**2  = 16 m3\n",
    "HC = Complex(3, domain=bounds)"
   ]
  },
  {
   "cell_type": "code",
   "execution_count": 26,
   "id": "bfddf1e0",
   "metadata": {},
   "outputs": [],
   "source": [
    "HC.triangulate()\n",
    "#HC.refine_all()\n",
    "#HC.refine_all()\n",
    "\n"
   ]
  },
  {
   "cell_type": "code",
   "execution_count": 27,
   "id": "12269751",
   "metadata": {},
   "outputs": [],
   "source": [
    "plot_polyscope(HC)\n",
    "ps.show()"
   ]
  },
  {
   "cell_type": "code",
   "execution_count": 52,
   "id": "12d1bcb4",
   "metadata": {},
   "outputs": [
    {
     "data": {
      "text/plain": [
       "array([[-1. , -1. , -1. ],\n",
       "       [ 3. ,  3. ,  3. ],\n",
       "       [ 3. , -1. , -1. ],\n",
       "       [-1. ,  3. , -1. ],\n",
       "       [ 3. ,  3. , -1. ],\n",
       "       [-1. , -1. ,  3. ],\n",
       "       [ 3. , -1. ,  3. ],\n",
       "       [-1. ,  3. ,  3. ],\n",
       "       [ 1. ,  1. ,  1. ],\n",
       "       [ 1. , -1. , -1. ],\n",
       "       [ 1. ,  1. , -1. ],\n",
       "       [-1. ,  1. , -1. ],\n",
       "       [ 3. ,  1. , -1. ],\n",
       "       [ 1. ,  3. , -1. ],\n",
       "       [ 1. ,  1. ,  3. ],\n",
       "       [-1. , -1. ,  1. ],\n",
       "       [ 3. , -1. ,  1. ],\n",
       "       [-1. ,  3. ,  1. ],\n",
       "       [ 3. ,  3. ,  1. ],\n",
       "       [ 1. , -1. ,  1. ],\n",
       "       [-1. ,  1. ,  1. ],\n",
       "       [ 3. ,  1. ,  1. ],\n",
       "       [ 1. ,  3. ,  1. ],\n",
       "       [ 1. , -1. ,  3. ],\n",
       "       [-1. ,  1. ,  3. ],\n",
       "       [ 3. ,  1. ,  3. ],\n",
       "       [ 1. ,  3. ,  3. ],\n",
       "       [ 2. ,  0. ,  0. ],\n",
       "       [ 2. ,  0. ,  2. ],\n",
       "       [ 0. ,  2. ,  0. ],\n",
       "       [ 0. ,  0. ,  0. ],\n",
       "       [ 2. ,  2. ,  2. ],\n",
       "       [ 0. ,  2. ,  2. ],\n",
       "       [ 0. ,  0. ,  2. ],\n",
       "       [ 2. ,  2. ,  0. ],\n",
       "       [ 2. , -1. , -1. ],\n",
       "       [ 2. ,  0. , -1. ],\n",
       "       [ 1. ,  0. , -1. ],\n",
       "       [ 3. ,  0. , -1. ],\n",
       "       [ 2. ,  1. , -1. ],\n",
       "       [ 2. ,  0. ,  1. ],\n",
       "       [ 1. , -1. ,  0. ],\n",
       "       [ 3. , -1. ,  0. ],\n",
       "       [ 1. ,  1. ,  0. ],\n",
       "       [ 3. ,  1. ,  0. ],\n",
       "       [ 2. , -1. ,  0. ],\n",
       "       [ 1. ,  0. ,  0. ],\n",
       "       [ 3. ,  0. ,  0. ],\n",
       "       [ 2. ,  1. ,  0. ],\n",
       "       [ 2. , -1. ,  1. ],\n",
       "       [ 1. ,  0. ,  1. ],\n",
       "       [ 3. ,  0. ,  1. ],\n",
       "       [ 2. ,  1. ,  1. ],\n",
       "       [ 1.5, -0.5,  0.5],\n",
       "       [ 2.5,  0.5,  0.5],\n",
       "       [ 1.5, -0.5, -0.5],\n",
       "       [ 2.5, -0.5,  0.5],\n",
       "       [ 2.5, -0.5, -0.5],\n",
       "       [ 1.5,  0.5, -0.5],\n",
       "       [ 2.5,  0.5, -0.5],\n",
       "       [ 1.5,  0.5,  0.5],\n",
       "       [ 2. ,  0. ,  3. ],\n",
       "       [ 1. , -1. ,  2. ],\n",
       "       [ 3. , -1. ,  2. ],\n",
       "       [ 1. ,  1. ,  2. ],\n",
       "       [ 3. ,  1. ,  2. ],\n",
       "       [ 2. , -1. ,  2. ],\n",
       "       [ 1. ,  0. ,  2. ],\n",
       "       [ 3. ,  0. ,  2. ],\n",
       "       [ 2. ,  1. ,  2. ],\n",
       "       [ 2. , -1. ,  3. ],\n",
       "       [ 1. ,  0. ,  3. ],\n",
       "       [ 3. ,  0. ,  3. ],\n",
       "       [ 2. ,  1. ,  3. ],\n",
       "       [ 2.5, -0.5,  2.5],\n",
       "       [ 1.5,  0.5,  2.5],\n",
       "       [ 2.5,  0.5,  2.5],\n",
       "       [ 1.5, -0.5,  1.5],\n",
       "       [ 2.5,  0.5,  1.5],\n",
       "       [ 2.5, -0.5,  1.5],\n",
       "       [ 1.5, -0.5,  2.5],\n",
       "       [ 1.5,  0.5,  1.5],\n",
       "       [ 0. ,  1. , -1. ],\n",
       "       [ 0. ,  2. , -1. ],\n",
       "       [-1. ,  2. , -1. ],\n",
       "       [ 1. ,  2. , -1. ],\n",
       "       [ 0. ,  3. , -1. ],\n",
       "       [ 0. ,  2. ,  1. ],\n",
       "       [-1. ,  1. ,  0. ],\n",
       "       [-1. ,  3. ,  0. ],\n",
       "       [ 1. ,  3. ,  0. ],\n",
       "       [ 0. ,  1. ,  0. ],\n",
       "       [-1. ,  2. ,  0. ],\n",
       "       [ 1. ,  2. ,  0. ],\n",
       "       [ 0. ,  3. ,  0. ],\n",
       "       [ 0. ,  1. ,  1. ],\n",
       "       [-1. ,  2. ,  1. ],\n",
       "       [ 1. ,  2. ,  1. ],\n",
       "       [ 0. ,  3. ,  1. ],\n",
       "       [-0.5,  1.5, -0.5],\n",
       "       [-0.5,  1.5,  0.5],\n",
       "       [-0.5,  2.5, -0.5],\n",
       "       [ 0.5,  2.5,  0.5],\n",
       "       [-0.5,  2.5,  0.5],\n",
       "       [ 0.5,  2.5, -0.5],\n",
       "       [ 0.5,  1.5, -0.5],\n",
       "       [ 0.5,  1.5,  0.5],\n",
       "       [ 0. , -1. , -1. ],\n",
       "       [ 0. ,  0. , -1. ],\n",
       "       [-1. ,  0. , -1. ],\n",
       "       [ 0. ,  0. ,  1. ],\n",
       "       [-1. , -1. ,  0. ],\n",
       "       [ 0. , -1. ,  0. ],\n",
       "       [-1. ,  0. ,  0. ],\n",
       "       [ 0. , -1. ,  1. ],\n",
       "       [-1. ,  0. ,  1. ],\n",
       "       [-0.5,  0.5, -0.5],\n",
       "       [-0.5,  0.5,  0.5],\n",
       "       [-0.5, -0.5, -0.5],\n",
       "       [ 0.5, -0.5,  0.5],\n",
       "       [-0.5, -0.5,  0.5],\n",
       "       [ 0.5, -0.5, -0.5],\n",
       "       [ 0.5,  0.5, -0.5],\n",
       "       [ 0.5,  0.5,  0.5],\n",
       "       [ 2. ,  2. ,  1. ],\n",
       "       [ 3. ,  2. ,  1. ],\n",
       "       [ 2. ,  3. ,  1. ],\n",
       "       [ 2. ,  2. ,  3. ],\n",
       "       [ 1. ,  3. ,  2. ],\n",
       "       [ 3. ,  3. ,  2. ],\n",
       "       [ 1. ,  2. ,  2. ],\n",
       "       [ 3. ,  2. ,  2. ],\n",
       "       [ 2. ,  3. ,  2. ],\n",
       "       [ 1. ,  2. ,  3. ],\n",
       "       [ 3. ,  2. ,  3. ],\n",
       "       [ 2. ,  3. ,  3. ],\n",
       "       [ 2.5,  2.5,  1.5],\n",
       "       [ 1.5,  1.5,  2.5],\n",
       "       [ 2.5,  1.5,  2.5],\n",
       "       [ 1.5,  2.5,  1.5],\n",
       "       [ 2.5,  1.5,  1.5],\n",
       "       [ 2.5,  2.5,  2.5],\n",
       "       [ 1.5,  2.5,  2.5],\n",
       "       [ 1.5,  1.5,  1.5],\n",
       "       [ 0. ,  2. ,  3. ],\n",
       "       [-1. ,  1. ,  2. ],\n",
       "       [-1. ,  3. ,  2. ],\n",
       "       [ 0. ,  1. ,  2. ],\n",
       "       [-1. ,  2. ,  2. ],\n",
       "       [ 0. ,  3. ,  2. ],\n",
       "       [ 0. ,  1. ,  3. ],\n",
       "       [-1. ,  2. ,  3. ],\n",
       "       [ 0. ,  3. ,  3. ],\n",
       "       [-0.5,  1.5,  1.5],\n",
       "       [ 0.5,  1.5,  2.5],\n",
       "       [ 0.5,  2.5,  1.5],\n",
       "       [-0.5,  2.5,  1.5],\n",
       "       [-0.5,  1.5,  2.5],\n",
       "       [ 0.5,  2.5,  2.5],\n",
       "       [-0.5,  2.5,  2.5],\n",
       "       [ 0.5,  1.5,  1.5],\n",
       "       [ 0. ,  0. ,  3. ],\n",
       "       [-1. , -1. ,  2. ],\n",
       "       [ 0. , -1. ,  2. ],\n",
       "       [-1. ,  0. ,  2. ],\n",
       "       [ 0. , -1. ,  3. ],\n",
       "       [-1. ,  0. ,  3. ],\n",
       "       [-0.5,  0.5,  1.5],\n",
       "       [ 0.5,  0.5,  2.5],\n",
       "       [ 0.5, -0.5,  1.5],\n",
       "       [-0.5, -0.5,  1.5],\n",
       "       [-0.5,  0.5,  2.5],\n",
       "       [ 0.5, -0.5,  2.5],\n",
       "       [-0.5, -0.5,  2.5],\n",
       "       [ 0.5,  0.5,  1.5],\n",
       "       [ 2. ,  2. , -1. ],\n",
       "       [ 3. ,  2. , -1. ],\n",
       "       [ 2. ,  3. , -1. ],\n",
       "       [ 3. ,  3. ,  0. ],\n",
       "       [ 3. ,  2. ,  0. ],\n",
       "       [ 2. ,  3. ,  0. ],\n",
       "       [ 2.5,  2.5,  0.5],\n",
       "       [ 1.5,  2.5,  0.5],\n",
       "       [ 2.5,  1.5,  0.5],\n",
       "       [ 1.5,  2.5, -0.5],\n",
       "       [ 1.5,  1.5, -0.5],\n",
       "       [ 2.5,  1.5, -0.5],\n",
       "       [ 1.5,  1.5,  0.5],\n",
       "       [ 2.5,  2.5, -0.5]])"
      ]
     },
     "execution_count": 52,
     "metadata": {},
     "output_type": "execute_result"
    }
   ],
   "source": [
    "HC.V.cache\n",
    "\n",
    "Va = []\n",
    "for v in HC.V:\n",
    "    Va.append(v.x)\n",
    "    \n",
    "Va = np.array(X ,dtype='float64')\n",
    "Va"
   ]
  },
  {
   "cell_type": "code",
   "execution_count": 57,
   "id": "ba57fcf6",
   "metadata": {
    "scrolled": true
   },
   "outputs": [
    {
     "data": {
      "text/plain": [
       "array([[ 0. , -1. , -1. ],\n",
       "       [ 0. , -1. ,  1. ],\n",
       "       [ 0. ,  1. ,  0. ],\n",
       "       [ 0.5, -0.5,  0.5],\n",
       "       [ 0.5, -0.5, -0.5],\n",
       "       [ 0. ,  0. , -1. ],\n",
       "       [ 0. ,  0. ,  1. ],\n",
       "       [ 1. ,  0. ,  1. ],\n",
       "       [ 1. ,  1. ,  0. ],\n",
       "       [ 1. ,  0. , -1. ],\n",
       "       [ 0. , -1. ,  0. ],\n",
       "       [-1. ,  1. ,  0. ],\n",
       "       [ 1. , -1. ,  0. ],\n",
       "       [ 0.5,  0.5, -0.5],\n",
       "       [ 0.5,  0.5,  0.5],\n",
       "       [-0.5, -0.5, -0.5],\n",
       "       [-0.5, -0.5,  0.5],\n",
       "       [-1. ,  0. ,  1. ],\n",
       "       [-1. ,  0. , -1. ],\n",
       "       [ 1. ,  0. ,  0. ],\n",
       "       [-1. , -1. ,  0. ],\n",
       "       [ 0. ,  1. , -1. ],\n",
       "       [ 0. ,  1. ,  1. ],\n",
       "       [-1. ,  0. ,  0. ],\n",
       "       [-0.5,  0.5, -0.5],\n",
       "       [-0.5,  0.5,  0.5]], dtype=float128)"
      ]
     },
     "execution_count": 57,
     "metadata": {},
     "output_type": "execute_result"
    }
   ],
   "source": [
    "\n",
    "X"
   ]
  },
  {
   "cell_type": "code",
   "execution_count": 66,
   "id": "345548d6",
   "metadata": {},
   "outputs": [],
   "source": [
    "# Construct cutting_planes\n",
    "\n",
    "# half spaces are Stacked Inequalities of the form Ax + b <= 0 in format [A; b]\n",
    "# A = np.hstack((halfspaces[:, :-1], norm_vector))\n",
    "#b = - halfspaces[:, -1:]\n",
    "\n",
    "\n",
    "# Contants of hyperplanes are half the norm of the vector:\n",
    "i = 30\n",
    "HC.V[tuple(Va[i])]\n",
    "vi = HC.V[tuple(Va[i])]\n",
    "Xi = vi.x_a\n",
    "X = []\n",
    "for v in vi.nn:\n",
    "    X.append(v.x)\n",
    "    \n",
    "X = np.array(X)\n",
    "\n",
    "A = X - Xi\n",
    "A_norm = normalized(A)\n",
    "b = np.sum(0.5 * A * A_norm, axis=1)  # For some reason no minus factor like formula\n",
    "A = A_norm\n",
    "\n",
    "# NOTE: Remove zero vectors\n",
    "A = A[mask]\n",
    "b = b[mask]"
   ]
  },
  {
   "cell_type": "code",
   "execution_count": 67,
   "id": "ee955fc1",
   "metadata": {},
   "outputs": [
    {
     "data": {
      "text/plain": [
       "array([[ 0.        , -0.70710678, -0.70710678, -0.70710678],\n",
       "       [ 0.        , -0.70710678,  0.70710678, -0.70710678],\n",
       "       [ 0.        ,  1.        ,  0.        , -0.5       ],\n",
       "       [ 0.57735027, -0.57735027,  0.57735027, -0.4330127 ],\n",
       "       [ 0.57735027, -0.57735027, -0.57735027, -0.4330127 ],\n",
       "       [ 0.        ,  0.        , -1.        , -0.5       ],\n",
       "       [ 0.        ,  0.        ,  1.        , -0.5       ],\n",
       "       [ 0.70710678,  0.        ,  0.70710678, -0.70710678],\n",
       "       [ 0.70710678,  0.70710678,  0.        , -0.70710678],\n",
       "       [ 0.70710678,  0.        , -0.70710678, -0.70710678],\n",
       "       [ 0.        , -1.        ,  0.        , -0.5       ],\n",
       "       [-0.70710678,  0.70710678,  0.        , -0.70710678],\n",
       "       [ 0.70710678, -0.70710678,  0.        , -0.70710678],\n",
       "       [ 0.57735027,  0.57735027, -0.57735027, -0.4330127 ],\n",
       "       [ 0.57735027,  0.57735027,  0.57735027, -0.4330127 ],\n",
       "       [-0.57735027, -0.57735027, -0.57735027, -0.4330127 ],\n",
       "       [-0.57735027, -0.57735027,  0.57735027, -0.4330127 ],\n",
       "       [-0.70710678,  0.        ,  0.70710678, -0.70710678],\n",
       "       [-0.70710678,  0.        , -0.70710678, -0.70710678],\n",
       "       [ 1.        ,  0.        ,  0.        , -0.5       ],\n",
       "       [-0.70710678, -0.70710678,  0.        , -0.70710678],\n",
       "       [ 0.        ,  0.70710678, -0.70710678, -0.70710678],\n",
       "       [ 0.        ,  0.70710678,  0.70710678, -0.70710678],\n",
       "       [-1.        ,  0.        ,  0.        , -0.5       ],\n",
       "       [-0.57735027,  0.57735027, -0.57735027, -0.4330127 ],\n",
       "       [-0.57735027,  0.57735027,  0.57735027, -0.4330127 ]],\n",
       "      dtype=float128)"
      ]
     },
     "execution_count": 67,
     "metadata": {},
     "output_type": "execute_result"
    }
   ],
   "source": [
    "cutting_planes = np.column_stack((A, -b))\n",
    "cutting_planes"
   ]
  },
  {
   "cell_type": "code",
   "execution_count": 68,
   "id": "db04a329",
   "metadata": {},
   "outputs": [
    {
     "data": {
      "text/plain": [
       "28.444444444444436"
      ]
     },
     "execution_count": 68,
     "metadata": {},
     "output_type": "execute_result"
    }
   ],
   "source": [
    "from scipy.spatial import HalfspaceIntersection\n",
    "\n",
    "#Xi  # Current interior point\n",
    "halfspaces = cutting_planes\n",
    "hs = HalfspaceIntersection(halfspaces, Xi)\n",
    "hs.dual_volume"
   ]
  },
  {
   "cell_type": "code",
   "execution_count": null,
   "id": "9a6f555f",
   "metadata": {},
   "outputs": [],
   "source": [
    "# # Compute the volume of the polytope using the HalfspaceIntersection object\n",
    " #   volume = hs.volume"
   ]
  },
  {
   "cell_type": "code",
   "execution_count": 44,
   "id": "a9bb55b1",
   "metadata": {},
   "outputs": [
    {
     "data": {
      "text/plain": [
       "array([0., 0., 0.])"
      ]
     },
     "execution_count": 44,
     "metadata": {},
     "output_type": "execute_result"
    }
   ],
   "source": [
    "X[i] "
   ]
  },
  {
   "cell_type": "code",
   "execution_count": null,
   "id": "2c686f55",
   "metadata": {},
   "outputs": [],
   "source": []
  },
  {
   "cell_type": "code",
   "execution_count": null,
   "id": "6cbf00d4",
   "metadata": {},
   "outputs": [],
   "source": []
  }
 ],
 "metadata": {
  "kernelspec": {
   "display_name": "Python 3 (ipykernel)",
   "language": "python",
   "name": "python3"
  },
  "language_info": {
   "codemirror_mode": {
    "name": "ipython",
    "version": 3
   },
   "file_extension": ".py",
   "mimetype": "text/x-python",
   "name": "python",
   "nbconvert_exporter": "python",
   "pygments_lexer": "ipython3",
   "version": "3.10.10"
  }
 },
 "nbformat": 4,
 "nbformat_minor": 5
}
