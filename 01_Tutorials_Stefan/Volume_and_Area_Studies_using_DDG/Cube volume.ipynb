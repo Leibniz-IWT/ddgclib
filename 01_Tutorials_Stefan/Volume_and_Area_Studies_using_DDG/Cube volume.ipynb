{
 "cells": [
  {
   "cell_type": "markdown",
   "id": "b08f107a",
   "metadata": {},
   "source": [
    "# Cube dual volume computation\n",
    "\n",
    "In this section we benchmark different methods for compute dual volumes on a simple triagulated cube (found using hyperct"
   ]
  },
  {
   "cell_type": "code",
   "execution_count": 24,
   "id": "f04d7a8e",
   "metadata": {},
   "outputs": [],
   "source": [
    "import numpy as np\n",
    "from scipy.spatial import HalfspaceIntersection\n",
    "import matplotlib.pyplot as plt\n",
    "\n",
    "\n",
    "import matplotlib.pyplot as plt\n",
    "from mpl_toolkits.mplot3d import Axes3D\n",
    "from matplotlib.patches import FancyArrowPatch\n",
    "from mpl_toolkits.mplot3d import proj3d\n",
    "from ipywidgets import *\n",
    "from matplotlib.widgets import Slider\n",
    "from lsm import HNdC_ijk\n",
    "\n",
    "# ddg imports\n",
    "import os, sys\n",
    "module_path = os.path.abspath(os.path.join('..'))\n",
    "if module_path not in sys.path:\n",
    "    sys.path.append(module_path)\n",
    "from ddgclib._complex import Complex\n",
    "from ddgclib import *\n",
    "from ddgclib._complex import *\n",
    "from ddgclib._curvatures import * #plot_surface#, curvature\n",
    "from ddgclib._capillary_rise_flow import * #plot_surface#, curvature\n",
    "from ddgclib._hyperboloid import *\n",
    "from ddgclib._catenoid import *\n",
    "from ddgclib._ellipsoid import *\n",
    "from ddgclib._eos import *\n",
    "from ddgclib._misc import *\n",
    "from ddgclib._plotting import *\n",
    "from ddgclib._sphere import *\n",
    "\n",
    "\n",
    "def polytope_volume(cutting_planes):\n",
    "    \"\"\"\n",
    "    Computes the volume of a convex polytope defined by its linear cutting planes.\n",
    "    \n",
    "    Parameters:\n",
    "    cutting_planes (ndarray): An array of shape (m, d + 1), where m is the number of cutting planes and d is the dimension of the polytope. Each row of the array corresponds to a cutting plane in the form [a_1, a_2, ..., a_d, b], where a_i are the coefficients of the hyperplane equation and b is the constant term.\n",
    "    \n",
    "    Returns:\n",
    "    float: The volume of the polytope.\n",
    "    \"\"\"\n",
    "    # Create an instance of HalfspaceIntersection with the cutting planes\n",
    "    hs = HalfspaceIntersection(cutting_planes[:,:-1], -cutting_planes[:,-1])\n",
    "    \n",
    "    # Compute the volume of the polytope using the HalfspaceIntersection object\n",
    "    volume = hs.volume\n",
    "    \n",
    "    return volume\n",
    "\n",
    "import numpy as np\n",
    "\n",
    "def polytope_volume(vertices):\n",
    "    \"\"\"\n",
    "    Computes the volume of a convex polytope defined by its vertices using Gram's relation.\n",
    "    \n",
    "    Parameters:\n",
    "    vertices (ndarray): An array of shape (n, d), where n is the number of vertices and d is the dimension of the polytope.\n",
    "    \n",
    "    Returns:\n",
    "    float: The volume of the polytope.\n",
    "    \"\"\"\n",
    "    # Calculate the Gram matrix\n",
    "    gram_matrix = np.dot(vertices.T, vertices)\n",
    "    \n",
    "    # Compute the determinant of the Gram matrix\n",
    "    det_gram_matrix = np.linalg.det(gram_matrix)\n",
    "    \n",
    "    # Compute the volume of the polytope using Gram's relation\n",
    "    volume = np.sqrt(np.abs(det_gram_matrix)) / np.math.factorial(vertices.shape[0])\n",
    "    \n",
    "    return volume\n",
    "\n"
   ]
  },
  {
   "cell_type": "code",
   "execution_count": 25,
   "id": "76d24973",
   "metadata": {},
   "outputs": [],
   "source": [
    "from ddgclib._complex import *  # hyperct "
   ]
  },
  {
   "cell_type": "code",
   "execution_count": 26,
   "id": "afd63c6d",
   "metadata": {},
   "outputs": [],
   "source": [
    "bounds = [(-1, 3),] * 3  # 4**2  = 16 m3\n",
    "HC = Complex(3, domain=bounds)"
   ]
  },
  {
   "cell_type": "code",
   "execution_count": 27,
   "id": "bfddf1e0",
   "metadata": {},
   "outputs": [],
   "source": [
    "HC.triangulate()\n",
    "HC.refine_all()\n",
    "HC.refine_all()\n",
    "\n"
   ]
  },
  {
   "cell_type": "code",
   "execution_count": 28,
   "id": "e5b2f615",
   "metadata": {},
   "outputs": [
    {
     "name": "stderr",
     "output_type": "stream",
     "text": [
      "WARNING:root:Warning, no associated scalar field found. Not plotting contour_plot.\n",
      "WARNING:root:Warning, no associated scalar field found. Not plotting surface field.\n"
     ]
    },
    {
     "data": {
      "text/plain": [
       "<Figure size 640x480 with 0 Axes>"
      ]
     },
     "metadata": {},
     "output_type": "display_data"
    }
   ],
   "source": [
    "HC.plot_complex()\n",
    "plt.show()"
   ]
  },
  {
   "cell_type": "code",
   "execution_count": 29,
   "id": "12269751",
   "metadata": {},
   "outputs": [
    {
     "name": "stdout",
     "output_type": "stream",
     "text": [
      "[polyscope] Backend: openGL3_glfw -- Loaded openGL version: 3.3.0 NVIDIA 525.89.02\n"
     ]
    },
    {
     "data": {
      "text/plain": [
       "<module 'polyscope' from '/home/stefan_endres/.local/lib/python3.10/site-packages/polyscope/__init__.py'>"
      ]
     },
     "execution_count": 29,
     "metadata": {},
     "output_type": "execute_result"
    }
   ],
   "source": [
    "plot_polyscope(HC)"
   ]
  },
  {
   "cell_type": "code",
   "execution_count": null,
   "id": "345548d6",
   "metadata": {},
   "outputs": [],
   "source": [
    "# Construct cutting_planes\n",
    "\n",
    "# half spaces are Stacked Inequalities of the form Ax + b <= 0 in format [A; b]\n",
    "# A = np.hstack((halfspaces[:, :-1], norm_vector))\n",
    "#b = - halfspaces[:, -1:]"
   ]
  }
 ],
 "metadata": {
  "kernelspec": {
   "display_name": "Python 3 (ipykernel)",
   "language": "python",
   "name": "python3"
  },
  "language_info": {
   "codemirror_mode": {
    "name": "ipython",
    "version": 3
   },
   "file_extension": ".py",
   "mimetype": "text/x-python",
   "name": "python",
   "nbconvert_exporter": "python",
   "pygments_lexer": "ipython3",
   "version": "3.10.9"
  }
 },
 "nbformat": 4,
 "nbformat_minor": 5
}
