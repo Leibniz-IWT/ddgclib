{
 "cells": [
  {
   "cell_type": "code",
   "execution_count": null,
   "metadata": {
    "collapsed": true
   },
   "outputs": [],
   "source": []
  },
  {
   "cell_type": "code",
   "execution_count": 3,
   "outputs": [],
   "source": [
    "import time, threading\n",
    "\n",
    "from thread import start_new_thread"
   ],
   "metadata": {
    "collapsed": false,
    "ExecuteTime": {
     "end_time": "2023-07-12T08:55:35.289235200Z",
     "start_time": "2023-07-12T08:55:35.277315600Z"
    }
   }
  },
  {
   "cell_type": "code",
   "execution_count": 4,
   "outputs": [
    {
     "name": "stdout",
     "output_type": "stream",
     "text": [
      "Hauptprogramm\n"
     ]
    },
    {
     "ename": "AttributeError",
     "evalue": "module '_thread' has no attribute 'thread'",
     "output_type": "error",
     "traceback": [
      "\u001B[1;31m---------------------------------------------------------------------------\u001B[0m",
      "\u001B[1;31mAttributeError\u001B[0m                            Traceback (most recent call last)",
      "Input \u001B[1;32mIn [4]\u001B[0m, in \u001B[0;36m<cell line: 10>\u001B[1;34m()\u001B[0m\n\u001B[0;32m      6\u001B[0m     \u001B[38;5;28mprint\u001B[39m(\u001B[38;5;124m'\u001B[39m\u001B[38;5;124mEnde Thread\u001B[39m\u001B[38;5;124m'\u001B[39m)\n\u001B[0;32m      8\u001B[0m \u001B[38;5;28mprint\u001B[39m(\u001B[38;5;124m'\u001B[39m\u001B[38;5;124mHauptprogramm\u001B[39m\u001B[38;5;124m'\u001B[39m)\n\u001B[1;32m---> 10\u001B[0m t \u001B[38;5;241m=\u001B[39m \u001B[43m_thread\u001B[49m\u001B[38;5;241;43m.\u001B[39;49m\u001B[43mthread\u001B[49m(target\u001B[38;5;241m=\u001B[39mthread_ablauf)\n\u001B[0;32m     12\u001B[0m t\u001B[38;5;241m.\u001B[39mstart()\n\u001B[0;32m     13\u001B[0m time\u001B[38;5;241m.\u001B[39msleep(\u001B[38;5;241m10\u001B[39m)\n",
      "\u001B[1;31mAttributeError\u001B[0m: module '_thread' has no attribute 'thread'"
     ]
    }
   ],
   "source": [
    "''''\n",
    "Der Code funktioniert in Python2, aber nicht in Python 3\n",
    "'''\n",
    "\n",
    "def thread_ablauf():\n",
    "    print('Start Thread')\n",
    "    for i in range(5):\n",
    "        print(i,time.time())\n",
    "        time.sleep(1.5)\n",
    "    print('Ende Thread')\n",
    "\n",
    "print('Hauptprogramm')\n",
    "\n",
    "t = threading.thread(target=thread_ablauf)\n",
    "\n",
    "t.start()\n",
    "time.sleep(10)\n",
    "print('Ende Hauptprogram')"
   ],
   "metadata": {
    "collapsed": false,
    "ExecuteTime": {
     "end_time": "2023-07-12T08:55:40.292465900Z",
     "start_time": "2023-07-12T08:55:40.270116300Z"
    }
   }
  },
  {
   "cell_type": "code",
   "execution_count": 5,
   "outputs": [],
   "source": [
    "import _thread\n",
    "import time"
   ],
   "metadata": {
    "collapsed": false,
    "ExecuteTime": {
     "end_time": "2023-07-12T09:04:00.812039500Z",
     "start_time": "2023-07-12T09:04:00.796642700Z"
    }
   }
  },
  {
   "cell_type": "code",
   "execution_count": 6,
   "outputs": [
    {
     "name": "stdout",
     "output_type": "stream",
     "text": [
      "Thread-1: Wed Jul 12 11:04:03 2023\n",
      "Thread-2: Wed Jul 12 11:04:05 2023\n",
      "Thread-1: Wed Jul 12 11:04:05 2023\n",
      "Thread-1: Wed Jul 12 11:04:07 2023\n",
      "Thread-2: Wed Jul 12 11:04:09 2023\n",
      "Thread-1: Wed Jul 12 11:04:09 2023\n",
      "Thread-1: Wed Jul 12 11:04:11 2023\n",
      "Thread-2: Wed Jul 12 11:04:13 2023\n",
      "Thread-2: Wed Jul 12 11:04:17 2023\n",
      "Thread-2: Wed Jul 12 11:04:21 2023\n"
     ]
    },
    {
     "ename": "KeyboardInterrupt",
     "evalue": "",
     "output_type": "error",
     "traceback": [
      "\u001B[1;31m---------------------------------------------------------------------------\u001B[0m",
      "\u001B[1;31mKeyboardInterrupt\u001B[0m                         Traceback (most recent call last)",
      "Input \u001B[1;32mIn [6]\u001B[0m, in \u001B[0;36m<cell line: 17>\u001B[1;34m()\u001B[0m\n\u001B[0;32m     14\u001B[0m    \u001B[38;5;28mprint\u001B[39m (\u001B[38;5;124m\"\u001B[39m\u001B[38;5;124mError: unable to start thread\u001B[39m\u001B[38;5;124m\"\u001B[39m)\n\u001B[0;32m     16\u001B[0m \u001B[38;5;28;01mwhile\u001B[39;00m \u001B[38;5;241m1\u001B[39m:\n\u001B[1;32m---> 17\u001B[0m    \u001B[38;5;28;01mpass\u001B[39;00m\n",
      "\u001B[1;31mKeyboardInterrupt\u001B[0m: "
     ]
    }
   ],
   "source": [
    "# Define a function for the thread\n",
    "def print_time( threadName, delay):\n",
    "   count = 0\n",
    "   while count < 5:\n",
    "      time.sleep(delay)\n",
    "      count += 1\n",
    "      print (\"%s: %s\" % ( threadName, time.ctime(time.time()) ))\n",
    "\n",
    "# Create two threads as follows\n",
    "try:\n",
    "   _thread.start_new_thread( print_time, (\"Thread-1\", 2, ) )\n",
    "   _thread.start_new_thread( print_time, (\"Thread-2\", 4, ) )\n",
    "except:\n",
    "   print (\"Error: unable to start thread\")\n",
    "\n",
    "while 1:\n",
    "   pass"
   ],
   "metadata": {
    "collapsed": false,
    "ExecuteTime": {
     "end_time": "2023-07-12T09:05:52.067594600Z",
     "start_time": "2023-07-12T09:04:01.535201100Z"
    }
   }
  },
  {
   "cell_type": "code",
   "execution_count": null,
   "outputs": [],
   "source": [],
   "metadata": {
    "collapsed": false
   }
  }
 ],
 "metadata": {
  "kernelspec": {
   "display_name": "Python 3",
   "language": "python",
   "name": "python3"
  },
  "language_info": {
   "codemirror_mode": {
    "name": "ipython",
    "version": 2
   },
   "file_extension": ".py",
   "mimetype": "text/x-python",
   "name": "python",
   "nbconvert_exporter": "python",
   "pygments_lexer": "ipython2",
   "version": "2.7.6"
  }
 },
 "nbformat": 4,
 "nbformat_minor": 0
}
