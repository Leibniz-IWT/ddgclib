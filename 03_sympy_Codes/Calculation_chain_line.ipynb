{
 "cells": [
  {
   "cell_type": "code",
   "execution_count": 9,
   "metadata": {
    "collapsed": true,
    "ExecuteTime": {
     "end_time": "2023-07-13T08:54:26.743723100Z",
     "start_time": "2023-07-13T08:54:26.736273500Z"
    }
   },
   "outputs": [],
   "source": [
    "#from sympy import *\n",
    "import numpy as np\n",
    "import sympy as sp"
   ]
  },
  {
   "cell_type": "code",
   "execution_count": 9,
   "outputs": [],
   "source": [],
   "metadata": {
    "collapsed": false,
    "ExecuteTime": {
     "end_time": "2023-07-13T08:54:27.246565500Z",
     "start_time": "2023-07-13T08:54:27.231169Z"
    }
   }
  },
  {
   "cell_type": "code",
   "execution_count": 10,
   "outputs": [],
   "source": [
    "\n",
    "x, x0,y , y0, a, k  = symbols('x, x0,y ,y0, a, \\kappa')\n"
   ],
   "metadata": {
    "collapsed": false,
    "ExecuteTime": {
     "end_time": "2023-07-13T08:54:27.677049Z",
     "start_time": "2023-07-13T08:54:27.663142100Z"
    }
   }
  },
  {
   "cell_type": "markdown",
   "source": [
    "## Convert a curvature into cartesian coordiantes\n",
    "\n",
    "## First assumption\n",
    "The curvature from a\n",
    "$\\kappa$"
   ],
   "metadata": {
    "collapsed": false
   }
  },
  {
   "cell_type": "code",
   "execution_count": 38,
   "outputs": [],
   "source": [
    "y = a*sp.cosh((x-x0)/a) + y0\n",
    "\n",
    "y1 = y.diff(x)\n",
    "\n",
    "#y1 = diff(y,x)\n",
    "\n",
    "y2 = y1.diff(x)\n",
    "\n",
    "k = y2/(1+y1**2)**(3/2)"
   ],
   "metadata": {
    "collapsed": false,
    "ExecuteTime": {
     "end_time": "2023-07-13T12:47:06.472064400Z",
     "start_time": "2023-07-13T12:47:06.457164400Z"
    }
   }
  },
  {
   "cell_type": "code",
   "execution_count": 39,
   "outputs": [
    {
     "data": {
      "text/plain": "sinh((x - x0)/a)",
      "text/latex": "$\\displaystyle \\sinh{\\left(\\frac{x - x_{0}}{a} \\right)}$"
     },
     "execution_count": 39,
     "metadata": {},
     "output_type": "execute_result"
    }
   ],
   "source": [
    "y1"
   ],
   "metadata": {
    "collapsed": false,
    "ExecuteTime": {
     "end_time": "2023-07-13T12:47:06.625221200Z",
     "start_time": "2023-07-13T12:47:06.608794100Z"
    }
   }
  },
  {
   "cell_type": "code",
   "execution_count": null,
   "outputs": [],
   "source": [],
   "metadata": {
    "collapsed": false
   }
  }
 ],
 "metadata": {
  "kernelspec": {
   "display_name": "Python 3",
   "language": "python",
   "name": "python3"
  },
  "language_info": {
   "codemirror_mode": {
    "name": "ipython",
    "version": 2
   },
   "file_extension": ".py",
   "mimetype": "text/x-python",
   "name": "python",
   "nbconvert_exporter": "python",
   "pygments_lexer": "ipython2",
   "version": "2.7.6"
  }
 },
 "nbformat": 4,
 "nbformat_minor": 0
}
