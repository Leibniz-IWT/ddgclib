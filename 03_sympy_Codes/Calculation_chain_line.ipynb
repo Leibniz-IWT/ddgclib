{
 "cells": [
  {
   "cell_type": "code",
   "execution_count": 2,
   "metadata": {
    "collapsed": true,
    "ExecuteTime": {
     "end_time": "2023-11-08T13:38:52.291464900Z",
     "start_time": "2023-11-08T13:38:52.260047500Z"
    }
   },
   "outputs": [
    {
     "ename": "ModuleNotFoundError",
     "evalue": "No module named 'sympy'",
     "output_type": "error",
     "traceback": [
      "\u001B[1;31m---------------------------------------------------------------------------\u001B[0m",
      "\u001B[1;31mModuleNotFoundError\u001B[0m                       Traceback (most recent call last)",
      "Cell \u001B[1;32mIn[2], line 3\u001B[0m\n\u001B[0;32m      1\u001B[0m \u001B[38;5;66;03m#from sympy import *\u001B[39;00m\n\u001B[0;32m      2\u001B[0m \u001B[38;5;28;01mimport\u001B[39;00m \u001B[38;5;21;01mnumpy\u001B[39;00m \u001B[38;5;28;01mas\u001B[39;00m \u001B[38;5;21;01mnp\u001B[39;00m\n\u001B[1;32m----> 3\u001B[0m \u001B[38;5;28;01mimport\u001B[39;00m \u001B[38;5;21;01msympy\u001B[39;00m \u001B[38;5;28;01mas\u001B[39;00m \u001B[38;5;21;01msp\u001B[39;00m\n",
      "\u001B[1;31mModuleNotFoundError\u001B[0m: No module named 'sympy'"
     ]
    }
   ],
   "source": [
    "#from sympy import *\n",
    "import numpy as np\n",
    "import sympy as sp"
   ]
  },
  {
   "cell_type": "code",
   "execution_count": 9,
   "outputs": [],
   "source": [],
   "metadata": {
    "collapsed": false,
    "ExecuteTime": {
     "end_time": "2023-07-13T08:54:27.246565500Z",
     "start_time": "2023-07-13T08:54:27.231169Z"
    }
   }
  },
  {
   "cell_type": "code",
   "execution_count": 5,
   "outputs": [
    {
     "ename": "NameError",
     "evalue": "name 'symbols' is not defined",
     "output_type": "error",
     "traceback": [
      "\u001B[1;31m---------------------------------------------------------------------------\u001B[0m",
      "\u001B[1;31mNameError\u001B[0m                                 Traceback (most recent call last)",
      "Cell \u001B[1;32mIn[5], line 1\u001B[0m\n\u001B[1;32m----> 1\u001B[0m x, x0,y , y0, a, k  \u001B[38;5;241m=\u001B[39m \u001B[43msymbols\u001B[49m(\u001B[38;5;124m'\u001B[39m\u001B[38;5;124mx, x0,y ,y0, a, \u001B[39m\u001B[38;5;124m\\\u001B[39m\u001B[38;5;124mkappa\u001B[39m\u001B[38;5;124m'\u001B[39m)\n",
      "\u001B[1;31mNameError\u001B[0m: name 'symbols' is not defined"
     ]
    }
   ],
   "source": [
    "\n",
    "x, x0,y , y0, a, k  = symbols('x, x0,y ,y0, a, \\kappa')\n"
   ],
   "metadata": {
    "collapsed": false,
    "ExecuteTime": {
     "end_time": "2023-11-08T13:42:36.323882800Z",
     "start_time": "2023-11-08T13:42:36.260930600Z"
    }
   }
  },
  {
   "cell_type": "markdown",
   "source": [
    "## Convert a curvature into cartesian coordiantes\n",
    "\n",
    "## First assumption\n",
    "The curvature from a\n",
    "$\\kappa$"
   ],
   "metadata": {
    "collapsed": false
   }
  },
  {
   "cell_type": "code",
   "execution_count": 4,
   "outputs": [
    {
     "ename": "NameError",
     "evalue": "name 'a' is not defined",
     "output_type": "error",
     "traceback": [
      "\u001B[1;31m---------------------------------------------------------------------------\u001B[0m",
      "\u001B[1;31mNameError\u001B[0m                                 Traceback (most recent call last)",
      "Cell \u001B[1;32mIn[4], line 1\u001B[0m\n\u001B[1;32m----> 1\u001B[0m y \u001B[38;5;241m=\u001B[39m \u001B[43ma\u001B[49m\u001B[38;5;241m*\u001B[39msp\u001B[38;5;241m.\u001B[39mcosh((x\u001B[38;5;241m-\u001B[39mx0)\u001B[38;5;241m/\u001B[39ma) \u001B[38;5;241m+\u001B[39m y0\n\u001B[0;32m      3\u001B[0m y1 \u001B[38;5;241m=\u001B[39m y\u001B[38;5;241m.\u001B[39mdiff(x)\n\u001B[0;32m      5\u001B[0m \u001B[38;5;66;03m#y1 = diff(y,x)\u001B[39;00m\n",
      "\u001B[1;31mNameError\u001B[0m: name 'a' is not defined"
     ]
    }
   ],
   "source": [
    "y = a*sp.cosh((x-x0)/a) + y0\n",
    "\n",
    "y1 = y.diff(x)\n",
    "\n",
    "#y1 = diff(y,x)\n",
    "\n",
    "y2 = y1.diff(x)\n",
    "\n",
    "k = y2/(1+y1**2)**(3/2)"
   ],
   "metadata": {
    "collapsed": false,
    "ExecuteTime": {
     "end_time": "2023-11-08T13:42:32.469733500Z",
     "start_time": "2023-11-08T13:42:32.404253100Z"
    }
   }
  },
  {
   "cell_type": "code",
   "execution_count": 3,
   "outputs": [
    {
     "ename": "NameError",
     "evalue": "name 'y1' is not defined",
     "output_type": "error",
     "traceback": [
      "\u001B[1;31m---------------------------------------------------------------------------\u001B[0m",
      "\u001B[1;31mNameError\u001B[0m                                 Traceback (most recent call last)",
      "Cell \u001B[1;32mIn[3], line 1\u001B[0m\n\u001B[1;32m----> 1\u001B[0m \u001B[43my1\u001B[49m\n",
      "\u001B[1;31mNameError\u001B[0m: name 'y1' is not defined"
     ]
    }
   ],
   "source": [
    "y1"
   ],
   "metadata": {
    "collapsed": false,
    "ExecuteTime": {
     "end_time": "2023-11-08T13:42:30.343010800Z",
     "start_time": "2023-11-08T13:42:30.321282300Z"
    }
   }
  },
  {
   "cell_type": "code",
   "execution_count": null,
   "outputs": [],
   "source": [],
   "metadata": {
    "collapsed": false
   }
  }
 ],
 "metadata": {
  "kernelspec": {
   "display_name": "Python 3",
   "language": "python",
   "name": "python3"
  },
  "language_info": {
   "codemirror_mode": {
    "name": "ipython",
    "version": 2
   },
   "file_extension": ".py",
   "mimetype": "text/x-python",
   "name": "python",
   "nbconvert_exporter": "python",
   "pygments_lexer": "ipython2",
   "version": "2.7.6"
  }
 },
 "nbformat": 4,
 "nbformat_minor": 0
}
