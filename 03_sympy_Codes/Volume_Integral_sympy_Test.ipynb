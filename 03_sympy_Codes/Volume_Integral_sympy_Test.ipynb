{
 "cells": [
  {
   "cell_type": "code",
   "execution_count": 1,
   "metadata": {
    "collapsed": true,
    "ExecuteTime": {
     "end_time": "2023-07-04T13:01:24.651407400Z",
     "start_time": "2023-07-04T13:01:23.750934300Z"
    }
   },
   "outputs": [],
   "source": [
    "import numpy as np\n",
    "from sympy import *\n"
   ]
  },
  {
   "cell_type": "code",
   "execution_count": 1,
   "outputs": [],
   "source": [],
   "metadata": {
    "collapsed": false,
    "ExecuteTime": {
     "end_time": "2023-07-04T13:01:24.668517300Z",
     "start_time": "2023-07-04T13:01:24.652753300Z"
    }
   }
  },
  {
   "cell_type": "code",
   "execution_count": 2,
   "outputs": [
    {
     "data": {
      "text/plain": " 3    2    \nx    x     \n-- + -- + x\n3    2     ",
      "image/png": "[encoded data removed]",
      "text/latex": "$\\displaystyle \\frac{x^{3}}{3} + \\frac{x^{2}}{2} + x$"
     },
     "execution_count": 2,
     "metadata": {},
     "output_type": "execute_result"
    }
   ],
   "source": [
    "init_printing(use_unicode=False, wrap_line=False)\n",
    "x = symbols('x')\n",
    "integrate(x**2 + x + 1, x)\n",
    "\n"
   ],
   "metadata": {
    "collapsed": false,
    "ExecuteTime": {
     "end_time": "2023-07-04T13:01:27.238980Z",
     "start_time": "2023-07-04T13:01:25.403609Z"
    }
   }
  },
  {
   "cell_type": "code",
   "execution_count": 3,
   "outputs": [
    {
     "ename": "SyntaxError",
     "evalue": "invalid syntax (912229713.py, line 3)",
     "output_type": "error",
     "traceback": [
      "\u001B[1;36m  Cell \u001B[1;32mIn[3], line 3\u001B[1;36m\u001B[0m\n\u001B[1;33m    P(0) + t*Subs(Derivative(P(_x), _x), (_x,), (0,)) +\u001B[0m\n\u001B[1;37m                                                       ^\u001B[0m\n\u001B[1;31mSyntaxError\u001B[0m\u001B[1;31m:\u001B[0m invalid syntax\n"
     ]
    }
   ],
   "source": [
    "P = symbols('P', cls=Function)\n",
    ">>> P(t).series(t, 0, 4)\n",
    "P(0) + t*Subs(Derivative(P(_x), _x), (_x,), (0,)) +"
   ],
   "metadata": {
    "collapsed": false,
    "ExecuteTime": {
     "end_time": "2023-07-04T13:01:27.276394500Z",
     "start_time": "2023-07-04T13:01:27.238980Z"
    }
   }
  },
  {
   "cell_type": "code",
   "execution_count": 4,
   "outputs": [
    {
     "data": {
      "text/plain": "  2      \n d       \n---(y(x))\n  2      \ndx       ",
      "image/png": "[encoded data removed]",
      "text/latex": "$\\displaystyle \\frac{d^{2}}{d x^{2}} y{\\left(x \\right)}$"
     },
     "execution_count": 4,
     "metadata": {},
     "output_type": "execute_result"
    }
   ],
   "source": [
    "y = symbols('y', cls=Function)\n",
    "\n",
    "Derivative(y(x), x, 2)"
   ],
   "metadata": {
    "collapsed": false,
    "ExecuteTime": {
     "end_time": "2023-07-04T13:01:31.547444500Z",
     "start_time": "2023-07-04T13:01:30.413155400Z"
    }
   }
  },
  {
   "cell_type": "code",
   "execution_count": 5,
   "outputs": [
    {
     "data": {
      "text/plain": "(x, y, \\kappa)",
      "image/png": "[encoded data removed]",
      "text/latex": "$\\displaystyle \\left( x, \\  y, \\  \\kappa\\right)$"
     },
     "execution_count": 5,
     "metadata": {},
     "output_type": "execute_result"
    }
   ],
   "source": [
    "x, y, k = symbols('x, y, \\kappa')\n",
    "x, y, k"
   ],
   "metadata": {
    "collapsed": false,
    "ExecuteTime": {
     "end_time": "2023-07-04T13:01:34.576578200Z",
     "start_time": "2023-07-04T13:01:33.321063500Z"
    }
   }
  },
  {
   "cell_type": "code",
   "execution_count": 6,
   "outputs": [],
   "source": [
    "y = x"
   ],
   "metadata": {
    "collapsed": false,
    "ExecuteTime": {
     "end_time": "2023-07-04T13:01:37.431228800Z",
     "start_time": "2023-07-04T13:01:37.426598800Z"
    }
   }
  },
  {
   "cell_type": "code",
   "execution_count": 7,
   "outputs": [
    {
     "data": {
      "text/plain": "1",
      "image/png": "[encoded data removed]",
      "text/latex": "$\\displaystyle 1$"
     },
     "execution_count": 7,
     "metadata": {},
     "output_type": "execute_result"
    }
   ],
   "source": [
    "y.diff()"
   ],
   "metadata": {
    "collapsed": false,
    "ExecuteTime": {
     "end_time": "2023-07-04T13:01:39.423302300Z",
     "start_time": "2023-07-04T13:01:38.359999400Z"
    }
   }
  },
  {
   "cell_type": "code",
   "execution_count": 8,
   "outputs": [
    {
     "data": {
      "text/plain": "1",
      "image/png": "[encoded data removed]",
      "text/latex": "$\\displaystyle 1$"
     },
     "execution_count": 8,
     "metadata": {},
     "output_type": "execute_result"
    }
   ],
   "source": [
    "y.diff(x)"
   ],
   "metadata": {
    "collapsed": false,
    "ExecuteTime": {
     "end_time": "2023-07-04T13:01:41.130009800Z",
     "start_time": "2023-07-04T13:01:40.055191900Z"
    }
   }
  },
  {
   "cell_type": "code",
   "execution_count": null,
   "outputs": [],
   "source": [
    "Derivative(y(x))"
   ],
   "metadata": {
    "collapsed": false
   }
  }
 ],
 "metadata": {
  "kernelspec": {
   "display_name": "Python 3",
   "language": "python",
   "name": "python3"
  },
  "language_info": {
   "codemirror_mode": {
    "name": "ipython",
    "version": 2
   },
   "file_extension": ".py",
   "mimetype": "text/x-python",
   "name": "python",
   "nbconvert_exporter": "python",
   "pygments_lexer": "ipython2",
   "version": "2.7.6"
  }
 },
 "nbformat": 4,
 "nbformat_minor": 0
}
