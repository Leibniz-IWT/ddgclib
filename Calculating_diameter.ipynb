{
 "cells": [
  {
   "cell_type": "code",
   "execution_count": null,
   "metadata": {
    "collapsed": true,
    "ExecuteTime": {
     "end_time": "2023-06-26T13:51:57.702390200Z",
     "start_time": "2023-06-26T13:51:57.672563800Z"
    }
   },
   "outputs": [],
   "source": [
    "\n"
   ]
  },
  {
   "cell_type": "code",
   "execution_count": null,
   "outputs": [],
   "source": [],
   "metadata": {
    "collapsed": false,
    "ExecuteTime": {
     "end_time": "2023-06-26T13:51:57.725778200Z",
     "start_time": "2023-06-26T13:51:57.702390200Z"
    }
   }
  },
  {
   "cell_type": "code",
   "execution_count": 5,
   "outputs": [],
   "source": [
    "def fun_d(dx, d0, z0, hi, hj, ri, rj):\n",
    "    '''\n",
    "    dx = shift in tangential-direction [m]\n",
    "    d0 = diameter liquid-bridge at the boundary-conditions at beginning [m]\n",
    "    z0 = length of liquid-bridge between the boundary conditions at the beginning [m]\n",
    "    hj = spherical cap height of particle j\n",
    "    hi = spherical cap height of particle i\n",
    "    ri = radian of particle i\n",
    "    rj = radian of particle j\n",
    "\n",
    "    if ri=rj, then hi=hj\n",
    "    '''\n",
    "\n",
    "    ak = z0 + ri + rj - hi - hj\n",
    "\n",
    "    V0 = d0**2 *z0  # counter\n",
    "    # down = z0 - ak + ak/(((dx/ak)**2 +1)**(1/2)) # denominator\n",
    "    # down = z0 - ak + ak*(((dx/ak)**2 +1)**(1/2)) # denominator\n",
    "    down = z0 - ak + (ak**2 + dx**2)**(1/2)\n",
    "    d = (V0 /down)**(1/2)\n",
    "\n",
    "    return d, V0, ak, down"
   ],
   "metadata": {
    "collapsed": false,
    "ExecuteTime": {
     "end_time": "2023-06-27T12:11:16.776812500Z",
     "start_time": "2023-06-27T12:11:16.761774700Z"
    }
   }
  },
  {
   "cell_type": "code",
   "execution_count": 6,
   "outputs": [
    {
     "name": "stdout",
     "output_type": "stream",
     "text": [
      "(2.98455565083314, 54, 8.0, 6.062257748298549)\n"
     ]
    }
   ],
   "source": [
    "\n",
    "dxx = 1\n",
    "d00 = 3\n",
    "z00 = 6\n",
    "hii = hjj = 0.5 # identical when ri==rj\n",
    "rii = rjj = 1.5\n",
    "\n",
    "print(fun_d(dxx, d00, z00, hii, hjj, rii, rjj))"
   ],
   "metadata": {
    "collapsed": false,
    "ExecuteTime": {
     "end_time": "2023-06-27T12:11:17.249173500Z",
     "start_time": "2023-06-27T12:11:17.239045700Z"
    }
   }
  },
  {
   "cell_type": "code",
   "execution_count": null,
   "outputs": [],
   "source": [],
   "metadata": {
    "collapsed": false
   }
  }
 ],
 "metadata": {
  "kernelspec": {
   "display_name": "Python 3",
   "language": "python",
   "name": "python3"
  },
  "language_info": {
   "codemirror_mode": {
    "name": "ipython",
    "version": 2
   },
   "file_extension": ".py",
   "mimetype": "text/x-python",
   "name": "python",
   "nbconvert_exporter": "python",
   "pygments_lexer": "ipython2",
   "version": "2.7.6"
  }
 },
 "nbformat": 4,
 "nbformat_minor": 0
}
