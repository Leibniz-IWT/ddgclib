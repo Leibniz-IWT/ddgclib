{
 "cells": [
  {
   "cell_type": "markdown",
   "id": "f8acef84",
   "metadata": {},
   "source": [
    "Case study 1: Capillary rise\n",
    "===\n",
    "\n",
    "#### The first few cells in this notebook define the imports, physical and numerical parameters used in the case study. The parameters can be modified by the user to produce new results."
   ]
  },
  {
   "cell_type": "code",
   "execution_count": 16,
   "id": "165a916c",
   "metadata": {
    "ExecuteTime": {
     "end_time": "2023-06-20T13:22:25.424937800Z",
     "start_time": "2023-06-20T13:22:25.384388900Z"
    }
   },
   "outputs": [],
   "source": [
    "## Imports and physical parameters\n",
    "# std library\n",
    "import numpy as np\n",
    "import scipy\n",
    "\n",
    "# plotting\n",
    "import matplotlib\n",
    "%matplotlib inline\n",
    "import matplotlib.pyplot as plt\n",
    "from mpl_toolkits.mplot3d import Axes3D\n",
    "from matplotlib.patches import FancyArrowPatch\n",
    "from mpl_toolkits.mplot3d import proj3d\n",
    "\n",
    "# ddg imports\n",
    "# Allow for relative imports from main library:\n",
    "import os\n",
    "import sys\n",
    "module_path = os.path.abspath(os.path.join('..'))\n",
    "if module_path not in sys.path:\n",
    "    sys.path.append(module_path)\n",
    "    \n",
    "from ddgclib import *\n",
    "from ddgclib._case1 import *\n",
    "from ddgclib._complex import *\n",
    "from ddgclib._curvatures import * #plot_surface#, curvature\n",
    "from ddgclib._capillary_rise_flow import * #plot_surface#, curvature\n",
    "from ddgclib._capillary_rise import * #plot_surface#, curvature\n",
    "from ddgclib._eos import *\n",
    "from ddgclib._misc import *\n",
    "from ddgclib._plotting import *\n",
    "\n",
    "# Parameters for a water droplet in air at standard laboratory conditions\n",
    "gamma = 0.0728  # N/m, surface tension of water at 20 deg C\n",
    "rho = 1000  # kg/m3, density\n",
    "g = 9.81  # m/s2\n",
    "\n",
    "# Parameters from EoS:\n",
    "T_0 = 273.15 + 25  # K, initial tmeperature\n",
    "P_0 = 101.325  # kPa, ambient pressure\n",
    "#gamma = IAPWS(T_0)  # N/m, surface tension of water at 20 deg C\n",
    "gamma = 0.0728  # N/m, surface tension of water at 20 deg C\n",
    "#rho_0 = eos(P=P_0, T=T_0)  # kg/m3, densi\n",
    "rho = 1000  # kg/m3, density\n",
    "g = 9.81  # m/s2\n",
    "\n",
    "# Capillary rise parameters\n",
    "r = 2.0e-6  # m, radius of the tube\n",
    "theta_p = 20 * np.pi/180.0  # Three phase contact angle\n",
    "r = np.array(r, dtype=np.longdouble)\n",
    "theta_p = np.array(theta_p, dtype=np.longdouble)\n",
    "\n",
    "\n",
    "# Numerical parameters\n",
    "N = 7  # Number of boundary points = N - 1\n",
    "refinement = 0  # Number of refinements to the simplicial complex\n",
    "cdist = 1e-10"
   ]
  },
  {
   "cell_type": "markdown",
   "id": "3455c0f7",
   "metadata": {},
   "source": [
    "#### The current system can be visualized at any time with the `cape_rise_plot` function:"
   ]
  },
  {
   "cell_type": "code",
   "execution_count": 17,
   "id": "d2113aed",
   "metadata": {
    "ExecuteTime": {
     "end_time": "2023-06-20T13:22:25.725448200Z",
     "start_time": "2023-06-20T13:22:25.675549900Z"
    }
   },
   "outputs": [
    {
     "name": "stderr",
     "output_type": "stream",
     "text": [
      "WARNING:root:Warning, no associated scalar field found. Not plotting contour_plot.\n",
      "WARNING:root:Warning, no associated scalar field found. Not plotting surface field.\n"
     ]
    },
    {
     "data": {
      "text/plain": "<Figure size 640x480 with 0 Axes>"
     },
     "metadata": {},
     "output_type": "display_data"
    }
   ],
   "source": [
    "fig, axes, HC = cape_rise_plot(r, theta_p, gamma, N=N,\n",
    "                               refinement=refinement)\n"
   ]
  },
  {
   "cell_type": "markdown",
   "id": "e9b1fa77",
   "metadata": {},
   "source": [
    "### Basic data structures:\n",
    "\n",
    "The object containing the interface simplicial complex is called `HC` which is an instance of a `Complex` object. Each simplicial complex contains an attribute `V` which is the case of vertices that can be accessed using `HC.V`\n"
   ]
  },
  {
   "cell_type": "code",
   "execution_count": 18,
   "id": "4fad1566",
   "metadata": {
    "ExecuteTime": {
     "end_time": "2023-06-20T13:22:26.069577100Z",
     "start_time": "2023-06-20T13:22:26.022124600Z"
    }
   },
   "outputs": [
    {
     "data": {
      "text/plain": "<ddgclib._vertex.VertexCacheIndex at 0x1be55ae9370>"
     },
     "execution_count": 18,
     "metadata": {},
     "output_type": "execute_result"
    }
   ],
   "source": [
    "HC.V"
   ]
  },
  {
   "cell_type": "markdown",
   "id": "590b55bc",
   "metadata": {},
   "source": [
    "For example, we can build a newly initiated complex using the vectorized outputs `F` and `nn` from `cap_rise_init_N`. And then using `construct_HC` we can build a new complex object `HC`, where `F` is an array of points in 3-dimensional space and `nn` is an index of neighbouring edges. "
   ]
  },
  {
   "cell_type": "code",
   "execution_count": 19,
   "id": "0a6ba4d1",
   "metadata": {
    "ExecuteTime": {
     "end_time": "2023-06-20T13:22:26.369457Z",
     "start_time": "2023-06-20T13:22:26.353285Z"
    }
   },
   "outputs": [
    {
     "data": {
      "text/plain": "(array([[ 0.00000000e+00,  0.00000000e+00, -1.40041508e-06],\n        [ 0.00000000e+00,  2.00000000e-06,  0.00000000e+00],\n        [ 1.73205081e-06,  1.00000000e-06,  0.00000000e+00],\n        [ 1.73205081e-06, -1.00000000e-06,  0.00000000e+00],\n        [ 0.00000000e+00, -2.00000000e-06,  0.00000000e+00],\n        [-1.73205081e-06, -1.00000000e-06,  0.00000000e+00],\n        [-1.73205081e-06,  1.00000000e-06,  0.00000000e+00],\n        [ 0.00000000e+00,  2.00000000e-06,  0.00000000e+00]], dtype=float64),\n [[1, 2, 3, 4, 5, 6, 7],\n  [0, 7, 2],\n  [0, 1, 3],\n  [0, 2, 4],\n  [0, 3, 5],\n  [0, 4, 6],\n  [0, 5, 0],\n  [0, 6, 1]])"
     },
     "execution_count": 19,
     "metadata": {},
     "output_type": "execute_result"
    }
   ],
   "source": [
    "F, nn, HC, bV, K_f, H_f = cap_rise_init_N(r, theta_p, gamma, N=N, refinement=refinement)\n",
    "HC = construct_HC(F, nn)\n",
    "F, nn"
   ]
  },
  {
   "cell_type": "code",
   "execution_count": 20,
   "outputs": [
    {
     "name": "stdout",
     "output_type": "stream",
     "text": [
      "========================\n",
      "Vertex cache of size: 0:\n",
      "========================\n"
     ]
    }
   ],
   "source": [
    "HC = Complex(3)\n",
    "HC.V.print_out()"
   ],
   "metadata": {
    "collapsed": false,
    "ExecuteTime": {
     "end_time": "2023-06-20T13:22:26.571575900Z",
     "start_time": "2023-06-20T13:22:26.557883700Z"
    }
   }
  },
  {
   "cell_type": "code",
   "execution_count": 21,
   "outputs": [
    {
     "name": "stdout",
     "output_type": "stream",
     "text": [
      "[ 0.00000000e+00  0.00000000e+00 -1.40041508e-06]\n",
      "[0.e+00 2.e-06 0.e+00]\n",
      "[1.73205081e-06 1.00000000e-06 0.00000000e+00]\n",
      "[ 1.73205081e-06 -1.00000000e-06  0.00000000e+00]\n",
      "[ 0.e+00 -2.e-06  0.e+00]\n",
      "[-1.73205081e-06 -1.00000000e-06  0.00000000e+00]\n",
      "[-1.73205081e-06  1.00000000e-06  0.00000000e+00]\n",
      "[0.e+00 2.e-06 0.e+00]\n"
     ]
    }
   ],
   "source": [
    "V = []\n",
    "for f in F:\n",
    "    print(f)\n",
    "    V.append(HC.V[tuple(f)])"
   ],
   "metadata": {
    "collapsed": false,
    "ExecuteTime": {
     "end_time": "2023-06-20T13:22:26.742325900Z",
     "start_time": "2023-06-20T13:22:26.726534200Z"
    }
   }
  },
  {
   "cell_type": "code",
   "execution_count": 22,
   "outputs": [
    {
     "name": "stdout",
     "output_type": "stream",
     "text": [
      "========================\n",
      "Vertex cache of size: 7:\n",
      "========================\n",
      "Vertex: (0.0, 0.0, -1.4004150764194194e-06)\n",
      "Connections: \n",
      "Vertex: (0.0, 2e-06, 0.0)\n",
      "Connections: \n",
      "Vertex: (1.7320508075688771e-06, 1.0000000000000002e-06, 0.0)\n",
      "Connections: \n",
      "Vertex: (1.7320508075688774e-06, -9.999999999999995e-07, 0.0)\n",
      "Connections: \n",
      "Vertex: (0.0, -2e-06, 0.0)\n",
      "Connections: \n",
      "Vertex: (-1.732050807568877e-06, -1.0000000000000008e-06, 0.0)\n",
      "Connections: \n",
      "Vertex: (-1.732050807568878e-06, 9.999999999999987e-07, 0.0)\n",
      "Connections: \n"
     ]
    }
   ],
   "source": [
    "HC.V.print_out()"
   ],
   "metadata": {
    "collapsed": false,
    "ExecuteTime": {
     "end_time": "2023-06-20T13:22:26.927458600Z",
     "start_time": "2023-06-20T13:22:26.911610500Z"
    }
   }
  },
  {
   "cell_type": "code",
   "execution_count": 23,
   "outputs": [
    {
     "name": "stdout",
     "output_type": "stream",
     "text": [
      "[1, 2, 3, 4, 5, 6, 7]\n",
      "[0, 7, 2]\n",
      "[0, 1, 3]\n",
      "[0, 2, 4]\n",
      "[0, 3, 5]\n",
      "[0, 4, 6]\n",
      "[0, 5, 0]\n",
      "[0, 6, 1]\n"
     ]
    }
   ],
   "source": [
    "for i, i_nn in enumerate(nn):\n",
    "    print(i_nn)\n",
    "    for i_v2 in i_nn:\n",
    "        V[i].connect(V[i_v2])"
   ],
   "metadata": {
    "collapsed": false,
    "ExecuteTime": {
     "end_time": "2023-06-20T13:22:27.127351800Z",
     "start_time": "2023-06-20T13:22:27.095310600Z"
    }
   }
  },
  {
   "cell_type": "code",
   "execution_count": 24,
   "outputs": [],
   "source": [
    "HC = Complex(3)\n",
    "V = []\n",
    "for f in F:\n",
    "    V.append(HC.V[tuple(f)])\n",
    "for i, i_nn in enumerate(nn):\n",
    "    for i_v2 in i_nn:\n",
    "        V[i].connect(V[i_v2])"
   ],
   "metadata": {
    "collapsed": false,
    "ExecuteTime": {
     "end_time": "2023-06-20T13:22:27.295650Z",
     "start_time": "2023-06-20T13:22:27.279819Z"
    }
   }
  },
  {
   "cell_type": "code",
   "execution_count": 24,
   "outputs": [],
   "source": [],
   "metadata": {
    "collapsed": false,
    "ExecuteTime": {
     "end_time": "2023-06-20T13:22:27.493884800Z",
     "start_time": "2023-06-20T13:22:27.476577400Z"
    }
   }
  },
  {
   "cell_type": "code",
   "execution_count": 25,
   "outputs": [
    {
     "data": {
      "text/plain": "ddgclib._complex.Complex"
     },
     "execution_count": 25,
     "metadata": {},
     "output_type": "execute_result"
    }
   ],
   "source": [
    "Complex"
   ],
   "metadata": {
    "collapsed": false,
    "ExecuteTime": {
     "end_time": "2023-06-20T13:22:27.773293600Z",
     "start_time": "2023-06-20T13:22:27.724327700Z"
    }
   }
  },
  {
   "cell_type": "code",
   "execution_count": 26,
   "outputs": [],
   "source": [
    "F, nn, HC, bV, K_f, H_f = cap_rise_init_N(r, theta_p, gamma, N=N, refinement=refinement)\n"
   ],
   "metadata": {
    "collapsed": false,
    "ExecuteTime": {
     "end_time": "2023-06-20T13:22:27.959480700Z",
     "start_time": "2023-06-20T13:22:27.949994800Z"
    }
   }
  },
  {
   "cell_type": "code",
   "execution_count": 27,
   "outputs": [
    {
     "name": "stdout",
     "output_type": "stream",
     "text": [
      "np.zeros([self.V.size(), self.dim]) = [[0. 0.]\n",
      " [0. 0.]\n",
      " [0. 0.]\n",
      " [0. 0.]\n",
      " [0. 0.]\n",
      " [0. 0.]\n",
      " [0. 0.]]\n",
      "self.V[v].index = 0\n",
      "self.V[v].index = 1\n",
      "self.V[v].index = 2\n",
      "self.V[v].index = 3\n",
      "self.V[v].index = 4\n",
      "self.V[v].index = 5\n",
      "self.V[v].index = 6\n"
     ]
    }
   ],
   "source": [
    "plot_polyscope(HC)"
   ],
   "metadata": {
    "collapsed": false,
    "ExecuteTime": {
     "end_time": "2023-06-20T13:22:29.776615500Z",
     "start_time": "2023-06-20T13:22:28.149629500Z"
    }
   }
  },
  {
   "cell_type": "markdown",
   "id": "9d66e76a",
   "metadata": {},
   "source": [
    "Vertices contained in the current cache can be converted to vector format using the `b_vectorise_vnn` function. For example looping over all the current vertices:"
   ]
  },
  {
   "cell_type": "code",
   "execution_count": 28,
   "id": "4582e6de",
   "metadata": {
    "ExecuteTime": {
     "end_time": "2023-06-20T13:22:30.920800700Z",
     "start_time": "2023-06-20T13:22:30.903405600Z"
    }
   },
   "outputs": [],
   "source": [
    "for v in HC.V:\n",
    "    F, nn = vectorise_vnn(v)"
   ]
  },
  {
   "cell_type": "markdown",
   "id": "f19fa931",
   "metadata": {},
   "source": [
    "The main function that we use to compute curvature tensors is called `b_curvatures_hn_ij_c_ij`. In principle any custom routine can be built by looping over all vertices and accessing the `b_curvatures_hn_ij_c_ij`function:"
   ]
  },
  {
   "cell_type": "code",
   "execution_count": 29,
   "id": "094a029e",
   "metadata": {
    "scrolled": true,
    "ExecuteTime": {
     "end_time": "2023-06-20T13:22:31.520473500Z",
     "start_time": "2023-06-20T13:22:31.502342Z"
    }
   },
   "outputs": [
    {
     "name": "stdout",
     "output_type": "stream",
     "text": [
      "{'F': array([[-1.73205081e-06,  1.00000000e-06,  0.00000000e+00],\n",
      "       [ 0.00000000e+00,  2.00000000e-06,  0.00000000e+00],\n",
      "       [-1.73205081e-06, -1.00000000e-06,  0.00000000e+00],\n",
      "       [ 0.00000000e+00,  0.00000000e+00, -1.40041508e-06]], dtype=float64), 'nn': [[1, 2, 3], [3], [3], [1, 2]], 'n_i': array([-0.8660254,  0.5      ,  0.       ], dtype=float64), 'E_ij': array([[ 0.00000000e+00,  0.00000000e+00,  0.00000000e+00],\n",
      "       [ 1.73205081e-06,  1.00000000e-06,  0.00000000e+00],\n",
      "       [ 6.35274710e-22, -2.00000000e-06,  0.00000000e+00],\n",
      "       [ 1.73205081e-06, -1.00000000e-06, -1.40041508e-06]], dtype=float64), 'E_jk': array([[ 0.00000000e+00,  0.00000000e+00,  0.00000000e+00],\n",
      "       [ 0.00000000e+00, -2.00000000e-06, -1.40041508e-06],\n",
      "       [-1.73205081e-06, -1.00000000e-06,  1.40041508e-06],\n",
      "       [-1.73205081e-06, -1.00000000e-06,  1.40041508e-06]], dtype=float64), 'E_ik': array([[ 0.00000000e+00,  0.00000000e+00,  0.00000000e+00],\n",
      "       [ 1.73205081e-06, -1.00000000e-06, -1.40041508e-06],\n",
      "       [ 1.73205081e-06, -1.00000000e-06, -1.40041508e-06],\n",
      "       [ 6.35274710e-22, -2.00000000e-06,  0.00000000e+00]], dtype=float64), 'E_jl': array([[0.00000000e+00, 0.00000000e+00, 0.00000000e+00],\n",
      "       [0.00000000e+00, 0.00000000e+00, 0.00000000e+00],\n",
      "       [0.00000000e+00, 0.00000000e+00, 0.00000000e+00],\n",
      "       [0.00000000e+00, 2.00000000e-06, 1.40041508e-06]], dtype=float64), 'E_il': array([[0.00000000e+00, 0.00000000e+00, 0.00000000e+00],\n",
      "       [0.00000000e+00, 0.00000000e+00, 0.00000000e+00],\n",
      "       [0.00000000e+00, 0.00000000e+00, 0.00000000e+00],\n",
      "       [1.73205081e-06, 1.00000000e-06, 0.00000000e+00]], dtype=float64), 'hat_E_ij': array([[ 0.00000000e+00,  0.00000000e+00,  0.00000000e+00],\n",
      "       [ 8.66025404e-01,  5.00000000e-01,  0.00000000e+00],\n",
      "       [ 3.17637355e-16, -1.00000000e+00,  0.00000000e+00],\n",
      "       [ 7.09406480e-01, -4.09576022e-01, -5.73576436e-01]], dtype=float64), 'L_ij': array([0.00000000e+00, 2.00000000e-06, 2.00000000e-06, 2.44154918e-06],\n",
      "      dtype=float64), 'Varphi_ij': array([0.        , 0.        , 0.        , 0.63957667], dtype=float64), 'mdp_ij': array([[-1.73205081e-06,  1.00000000e-06,  0.00000000e+00],\n",
      "       [-8.66025404e-07,  1.50000000e-06,  0.00000000e+00],\n",
      "       [-1.73205081e-06, -1.05879118e-21,  0.00000000e+00],\n",
      "       [-8.66025404e-07,  5.00000000e-07, -7.00207538e-07]], dtype=float64), 'mdp_ik': array([[ 0.00000000e+00,  0.00000000e+00,  0.00000000e+00],\n",
      "       [-8.66025404e-07,  5.00000000e-07, -7.00207538e-07],\n",
      "       [-8.66025404e-07,  5.00000000e-07, -7.00207538e-07],\n",
      "       [-1.73205081e-06, -1.05879118e-21,  0.00000000e+00]], dtype=float64), 'mdp_il': array([[ 0.00000000e+00,  0.00000000e+00,  0.00000000e+00],\n",
      "       [ 0.00000000e+00,  0.00000000e+00,  0.00000000e+00],\n",
      "       [ 0.00000000e+00,  0.00000000e+00,  0.00000000e+00],\n",
      "       [-8.66025404e-07,  1.50000000e-06,  0.00000000e+00]], dtype=float64), 'j_k': array([0., 0., 0., 2.], dtype=float64), 'j_l': array([0., 0., 0., 1.], dtype=float64), 'Theta_i_jk': array([0.        , 0.        , 0.        , 1.14880706], dtype=float64), 'Wedge_ij_ik': array([[ 0.00000000e+00,  0.00000000e+00,  0.00000000e+00],\n",
      "       [-1.40041508e-12,  2.42559006e-12, -3.46410162e-12],\n",
      "       [-2.80083015e-12, -8.89648282e-28, -3.46410162e-12],\n",
      "       [-2.80083015e-12, -8.89648282e-28, -3.46410162e-12]], dtype=float64), 'A_ijk': array([0.00000000e+00, 2.22736669e-12, 2.22736669e-12, 2.22736669e-12],\n",
      "      dtype=float64), 'N_ijk': array([[ 0.00000000e+00,  0.00000000e+00,  0.00000000e+00],\n",
      "       [-3.14365632e-01,  5.44497247e-01, -7.77622658e-01],\n",
      "       [-6.28731264e-01, -1.99708536e-16, -7.77622658e-01],\n",
      "       [-6.28731264e-01, -1.99708536e-16, -7.77622658e-01]], dtype=float64), 'N_ijl': array([[ 0.        ,  0.        ,  0.        ],\n",
      "       [ 0.        ,  0.        ,  0.        ],\n",
      "       [ 0.        ,  0.        ,  0.        ],\n",
      "       [-0.31436563,  0.54449725, -0.77762266]], dtype=float64), 'C_ijk': array([0., 0., 0., 0.], dtype=float64), 'HNdA_ij': array([[ 0.00000000e+00,  0.00000000e+00,  0.00000000e+00],\n",
      "       [ 1.54014481e-06,  8.89203021e-07,  0.00000000e+00],\n",
      "       [ 5.64888192e-22, -1.77840604e-06,  0.00000000e+00],\n",
      "       [ 1.55524532e-06, -8.97921301e-07, -1.25746253e-06]], dtype=float64), 'HNdA_ij_Cij': -896958.3118765578, 'NdA_ij': array([[ 0.00000000e+00,  0.00000000e+00,  0.00000000e+00],\n",
      "       [ 0.00000000e+00,  0.00000000e+00,  0.00000000e+00],\n",
      "       [ 0.00000000e+00,  0.00000000e+00,  0.00000000e+00],\n",
      "       [-1.40041508e-12,  2.42559006e-12,  0.00000000e+00]], dtype=float64), 'NdA_ij_Cij': array([[ 0.        ,  0.        ,  0.        ],\n",
      "       [ 0.        ,  0.        ,  0.        ],\n",
      "       [ 0.        ,  0.        ,  0.        ],\n",
      "       [-2.09304005,  3.6252517 ,  0.        ]], dtype=float64), 'C_ij': array([0.00000000e+00, 4.44601511e-13, 4.44601511e-13, 6.69081836e-13],\n",
      "      dtype=float64), 'C_ijl': array([0., 0., 0., 0.], dtype=float64), 'i': 0, 'circle_fits': [2.000000000000001e-06, 1.9999999999999995e-06], 'circle_wedge': [array([1.73205081e-06, 1.00000000e-06, 0.00000000e+00], dtype=float64), array([ 6.3527471e-22, -2.0000000e-06,  0.0000000e+00], dtype=float64)], 'j': 3, 'k': 2, 'wedge_ij_ik': array([-2.80083015e-12, -8.89648282e-28, -3.46410162e-12], dtype=float64), 'a_ijk': 2.2273666932642248e-12, 'n_ijk': array([-6.28731264e-01, -1.99708536e-16, -7.77622658e-01]), 'c': 3.4641016151377555e-06, 'A': array([[ 1.73205081e-06, -1.00000000e-06, -1.40041508e-06],\n",
      "       [ 1.73205081e-06,  1.00000000e-06,  0.00000000e+00],\n",
      "       [-3.14365632e-01,  5.44497247e-01, -7.77622658e-01]]), 'v_dual': array([-1.04058639e-06, -8.39156256e-22, -5.59069740e-07]), 'h_ij': 1.2207745887614561e-06, 'b_ij': 5.480797537528053e-07, 'c_ijk': 3.345409179980304e-13, 'a': 2.000000000000001e-06, 'b': 1.9999999999999995e-06, 'alpha_ij': 1.14880706047781, 'l': 1, 'wedge_ij_il': array([ 1.40041508e-12, -2.42559006e-12,  3.46410162e-12], dtype=float64), 'a_ijl': 2.227366693264226e-12, 'n_ijl': array([-0.31436563,  0.54449725, -0.77762266]), 'arg1': 0.5968558338538105, 'arg2': 0.8023484988424122, 'varphi_ij': 0.6395766664973421, 'beta_ij': 1.14880706047781, 'theta_i_jk': 1.1488070604778104, 'v_dual_ijk': array([-1.04058639e-06, -8.39156256e-22, -5.59069740e-07]), 'v_dual_ijl': array([-5.20293195e-07,  9.01174249e-07, -5.59069740e-07]), 'c_ijl': 3.345409179980305e-13, 'c_wedge': array([ 0.00000000e+00,  0.00000000e+00, -3.46410162e-12], dtype=float64), 'theta_i': 2.0943951023931957, 'r_est': 2.8284271247461907e-06, 'ds': 5.9238439175444905e-06, 'HNdA_i': array([ 1.54769506e-06, -8.93562161e-07, -6.28731264e-07], dtype=float64), 'NdA_i': array([-2.33402513e-13,  4.04265011e-13,  0.00000000e+00], dtype=float64), 'HN_i': -1146853.423093101, 'C_i': 1.5582848572681647e-12, 'K_H_i': 328818193515.0908}\n"
     ]
    }
   ],
   "source": [
    "# First find the vectorised format of the last vertex from the previous loop\n",
    "F, nn = vectorise_vnn(v)\n",
    "curvature_dict = b_curvatures_hn_ij_c_ij(F, nn)\n",
    "print(curvature_dict)"
   ]
  },
  {
   "cell_type": "code",
   "execution_count": 30,
   "outputs": [
    {
     "data": {
      "text/plain": "array([-2.33402513e-13,  4.04265011e-13,  0.00000000e+00], dtype=float64)"
     },
     "execution_count": 30,
     "metadata": {},
     "output_type": "execute_result"
    }
   ],
   "source": [
    "curvature_dict['NdA_i']"
   ],
   "metadata": {
    "collapsed": false,
    "ExecuteTime": {
     "end_time": "2023-06-20T13:22:32.053545200Z",
     "start_time": "2023-06-20T13:22:32.007001600Z"
    }
   }
  },
  {
   "cell_type": "markdown",
   "id": "559cb318",
   "metadata": {},
   "source": [
    "Next we plot the outputs of the first case study by looping over a range of three-phase contact angles `theta_p`\n",
    "=="
   ]
  },
  {
   "cell_type": "markdown",
   "id": "39cc4a0f",
   "metadata": {},
   "source": [
    "The `plot_cap_rise_over_theta` function was developed to plot different curvatures over the full range:"
   ]
  },
  {
   "cell_type": "code",
   "execution_count": 6,
   "id": "d58965f8",
   "metadata": {
    "scrolled": false,
    "ExecuteTime": {
     "end_time": "2023-06-19T12:18:40.179295700Z",
     "start_time": "2023-06-19T12:18:39.818522300Z"
    }
   },
   "outputs": [
    {
     "name": "stderr",
     "output_type": "stream",
     "text": [
      "WARNING:matplotlib.legend:No artists with labels found to put in legend.  Note that artists whose label start with an underscore are ignored when legend() is called with no argument.\n"
     ]
    },
    {
     "data": {
      "text/plain": "<Figure size 640x480 with 2 Axes>",
      "image/png": "[encoded data removed]"
     },
     "metadata": {},
     "output_type": "display_data"
    }
   ],
   "source": [
    "plot_cap_rise_over_theta(r, gamma, N=N, refinement=refinement)"
   ]
  },
  {
   "cell_type": "markdown",
   "id": "aa640ba3",
   "metadata": {},
   "source": [
    "\n",
    "Plotting geometric and surface tension errors\n",
    "===\n",
    "\n",
    "Next we replicate the figure in the manuscript demonstrating the errors over refinement. The `int_curvatures` function loops over all vertices and produces the `HN_i` curvature tensors at each vertex. "
   ]
  },
  {
   "cell_type": "code",
   "execution_count": 7,
   "id": "a0e30702",
   "metadata": {
    "scrolled": true,
    "ExecuteTime": {
     "end_time": "2023-06-19T12:19:36.550735500Z",
     "start_time": "2023-06-19T12:19:36.031769900Z"
    }
   },
   "outputs": [
    {
     "data": {
      "text/plain": "<Figure size 640x480 with 1 Axes>",
      "image/png": "[encoded data removed]"
     },
     "metadata": {},
     "output_type": "display_data"
    }
   ],
   "source": [
    "cdist = 1e-10\n",
    "\n",
    "# Replot error data\n",
    "Nmax = 21  # Number of boundary vertices to range over\n",
    "Nlist = list((range(4, Nmax)))\n",
    "erange = []\n",
    "lp_error = []\n",
    "refinement = 1\n",
    "phi = 2\n",
    "r = 1  # m, Radius of the capillary tube\n",
    "theta_p = 20 * np.pi / 180.0  # Three phase contact angle\n",
    "R = r / np.cos(theta_p)  # = R at theta = 0\n",
    "\n",
    "# Loop over the range of specific boundary vertices\n",
    "for N in range(5, Nmax + 1):\n",
    "    F, nn, HC, bV, K_f, H_f = cap_rise_init_N(r, theta_p, gamma, N=N,\n",
    "                                              refinement=refinement,\n",
    "                                              cdist=cdist\n",
    "                                              )\n",
    "\n",
    "    \n",
    "    (HNda_v_cache, K_H_cache, C_ijk_v_cache, HN_i,  HNdA_ij_dot_hnda_i,\n",
    "     K_H_2, HNdA_i_Cij) = int_curvatures(HC, bV, r, theta_p, printout=0)\n",
    "    \n",
    "    # Laplacian error at each vertex (point-wise)\n",
    "    P_L = gamma*(2.0/R)  # Analytical solution\n",
    "    H_dis = HNdA_ij_dot_hnda_i[0]\n",
    "    L_error = 100 *(P_L - gamma * H_dis)/(P_L)\n",
    "    lp_error.append(abs(L_error) )\n",
    "    \n",
    "    # Geometric error over edges \n",
    "    max_int_e = 0.0\n",
    "    ern = 0.0\n",
    "    for v in bV:\n",
    "        for v2 in v.nn:\n",
    "            if v2 in bV:\n",
    "                a = v.x_a\n",
    "                b = v2.x_a\n",
    "                if N == 14:\n",
    "                    #print(f'numpy.linalg.norm(a - b) = {numpy.linalg.norm(a - b)}')\n",
    "                    continue\n",
    "                break\n",
    "        ern = 2*numpy.linalg.norm(a - b)\n",
    "        max_int_e = ern\n",
    "        break\n",
    "\n",
    "    erange.append(max_int_e/r)\n",
    "\n",
    "# Computed from step size on Euclidean metric for cap rise:\n",
    "geo_error = erange\n",
    "\n",
    "plot.figure()\n",
    "\n",
    "plt.plot(Nlist, lp_error, 'x')\n",
    "plt.plot(Nlist, lp_error, 'x', label='Young-Laplace error: $(\\Delta p - \\Delta\\hat{ p})/\\Delta p $')\n",
    "plt.plot(Nlist, geo_error, 'X', label='Integration error (Trapezoidal rule $O(h^3)$)')\n",
    "plt.legend()\n",
    "plt.xlabel(r'N (number of boundary vertices)')\n",
    "plt.ylabel(r'Error (%)')\n",
    "\n",
    "\n",
    "matplotlib.pyplot.xticks(Nlist)\n",
    "\n",
    "plt.tick_params(axis='y', which='minor')\n",
    "\n",
    "plt.show()"
   ]
  },
  {
   "cell_type": "markdown",
   "id": "034bc16c",
   "metadata": {},
   "source": [
    "Note also that `HC` can be visaulized at any time. For example, we can plot the complex at the last iteration:"
   ]
  },
  {
   "cell_type": "code",
   "execution_count": 8,
   "id": "a199594a",
   "metadata": {
    "ExecuteTime": {
     "end_time": "2023-06-19T12:20:16.155851600Z",
     "start_time": "2023-06-19T12:20:15.972876400Z"
    }
   },
   "outputs": [
    {
     "name": "stderr",
     "output_type": "stream",
     "text": [
      "WARNING:root:Warning, no associated scalar field found. Not plotting contour_plot.\n",
      "WARNING:root:Warning, no associated scalar field found. Not plotting surface field.\n"
     ]
    },
    {
     "data": {
      "text/plain": "<Figure size 640x480 with 0 Axes>"
     },
     "metadata": {},
     "output_type": "display_data"
    }
   ],
   "source": [
    "fig, axes, HC = cape_rise_plot(r, theta_p, gamma, N=N, refinement=refinement)"
   ]
  },
  {
   "cell_type": "code",
   "execution_count": 9,
   "id": "44efaa3a",
   "metadata": {
    "ExecuteTime": {
     "end_time": "2023-06-19T12:20:26.699043100Z",
     "start_time": "2023-06-19T12:20:21.400808200Z"
    }
   },
   "outputs": [
    {
     "name": "stdout",
     "output_type": "stream",
     "text": [
      "np.zeros([self.V.size(), self.dim]) = [[0. 0.]\n",
      " [0. 0.]\n",
      " [0. 0.]\n",
      " [0. 0.]\n",
      " [0. 0.]\n",
      " [0. 0.]\n",
      " [0. 0.]\n",
      " [0. 0.]\n",
      " [0. 0.]\n",
      " [0. 0.]\n",
      " [0. 0.]\n",
      " [0. 0.]\n",
      " [0. 0.]\n",
      " [0. 0.]\n",
      " [0. 0.]\n",
      " [0. 0.]\n",
      " [0. 0.]\n",
      " [0. 0.]\n",
      " [0. 0.]\n",
      " [0. 0.]\n",
      " [0. 0.]\n",
      " [0. 0.]\n",
      " [0. 0.]\n",
      " [0. 0.]\n",
      " [0. 0.]\n",
      " [0. 0.]\n",
      " [0. 0.]\n",
      " [0. 0.]\n",
      " [0. 0.]\n",
      " [0. 0.]\n",
      " [0. 0.]\n",
      " [0. 0.]\n",
      " [0. 0.]\n",
      " [0. 0.]\n",
      " [0. 0.]\n",
      " [0. 0.]\n",
      " [0. 0.]\n",
      " [0. 0.]\n",
      " [0. 0.]\n",
      " [0. 0.]\n",
      " [0. 0.]\n",
      " [0. 0.]\n",
      " [0. 0.]\n",
      " [0. 0.]\n",
      " [0. 0.]\n",
      " [0. 0.]\n",
      " [0. 0.]\n",
      " [0. 0.]\n",
      " [0. 0.]\n",
      " [0. 0.]\n",
      " [0. 0.]\n",
      " [0. 0.]\n",
      " [0. 0.]\n",
      " [0. 0.]\n",
      " [0. 0.]\n",
      " [0. 0.]\n",
      " [0. 0.]\n",
      " [0. 0.]\n",
      " [0. 0.]\n",
      " [0. 0.]\n",
      " [0. 0.]]\n",
      "self.V[v].index = 0\n",
      "self.V[v].index = 1\n",
      "self.V[v].index = 2\n",
      "self.V[v].index = 3\n",
      "self.V[v].index = 4\n",
      "self.V[v].index = 5\n",
      "self.V[v].index = 6\n",
      "self.V[v].index = 7\n",
      "self.V[v].index = 8\n",
      "self.V[v].index = 9\n",
      "self.V[v].index = 10\n",
      "self.V[v].index = 11\n",
      "self.V[v].index = 12\n",
      "self.V[v].index = 13\n",
      "self.V[v].index = 14\n",
      "self.V[v].index = 15\n",
      "self.V[v].index = 16\n",
      "self.V[v].index = 17\n",
      "self.V[v].index = 18\n",
      "self.V[v].index = 19\n",
      "self.V[v].index = 20\n",
      "self.V[v].index = 21\n",
      "self.V[v].index = 22\n",
      "self.V[v].index = 23\n",
      "self.V[v].index = 24\n",
      "self.V[v].index = 25\n",
      "self.V[v].index = 26\n",
      "self.V[v].index = 27\n",
      "self.V[v].index = 28\n",
      "self.V[v].index = 29\n",
      "self.V[v].index = 30\n",
      "self.V[v].index = 31\n",
      "self.V[v].index = 32\n",
      "self.V[v].index = 33\n",
      "self.V[v].index = 34\n",
      "self.V[v].index = 35\n",
      "self.V[v].index = 36\n",
      "self.V[v].index = 37\n",
      "self.V[v].index = 38\n",
      "self.V[v].index = 39\n",
      "self.V[v].index = 40\n",
      "self.V[v].index = 41\n",
      "self.V[v].index = 42\n",
      "self.V[v].index = 43\n",
      "self.V[v].index = 44\n",
      "self.V[v].index = 45\n",
      "self.V[v].index = 46\n",
      "self.V[v].index = 47\n",
      "self.V[v].index = 48\n",
      "self.V[v].index = 49\n",
      "self.V[v].index = 50\n",
      "self.V[v].index = 51\n",
      "self.V[v].index = 52\n",
      "self.V[v].index = 53\n",
      "self.V[v].index = 54\n",
      "self.V[v].index = 55\n",
      "self.V[v].index = 56\n",
      "self.V[v].index = 57\n",
      "self.V[v].index = 58\n",
      "self.V[v].index = 59\n",
      "self.V[v].index = 60\n"
     ]
    }
   ],
   "source": [
    "plot_polyscope(HC)"
   ]
  },
  {
   "cell_type": "code",
   "execution_count": null,
   "outputs": [],
   "source": [],
   "metadata": {
    "collapsed": false
   }
  }
 ],
 "metadata": {
  "kernelspec": {
   "display_name": "Python 3 (ipykernel)",
   "language": "python",
   "name": "python3"
  },
  "language_info": {
   "codemirror_mode": {
    "name": "ipython",
    "version": 3
   },
   "file_extension": ".py",
   "mimetype": "text/x-python",
   "name": "python",
   "nbconvert_exporter": "python",
   "pygments_lexer": "ipython3",
   "version": "3.9.7"
  }
 },
 "nbformat": 4,
 "nbformat_minor": 5
}
