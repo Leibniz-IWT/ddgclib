{
 "cells": [
  {
   "cell_type": "code",
   "execution_count": 1,
   "metadata": {
    "collapsed": true,
    "ExecuteTime": {
     "end_time": "2023-06-20T11:16:15.888906200Z",
     "start_time": "2023-06-20T11:16:15.137737200Z"
    }
   },
   "outputs": [],
   "source": [
    "# Imports and physical parameters\n",
    "import numpy as np\n",
    "import scipy\n",
    "\n",
    "import matplotlib.pyplot as plt\n",
    "from mpl_toolkits.mplot3d import Axes3D\n",
    "from matplotlib.patches import FancyArrowPatch\n",
    "from mpl_toolkits.mplot3d import proj3d\n",
    "from ipywidgets import *\n",
    "from matplotlib.widgets import Slider\n",
    "\n",
    "# ddg imports\n",
    "import os, sys\n",
    "module_path = os.path.abspath(os.path.join('..'))\n",
    "if module_path not in sys.path:\n",
    "    sys.path.append(module_path)\n",
    "from ddgclib._complex import Complex\n",
    "from ddgclib import *\n",
    "from ddgclib._complex import *\n",
    "from ddgclib._curvatures import * #plot_surface#, curvature\n",
    "from ddgclib._capillary_rise_flow import * #plot_surface#, curvature\n",
    "from ddgclib._hyperboloid import *\n",
    "from ddgclib._catenoid import *\n",
    "from ddgclib._catenoid_error import *\n",
    "from ddgclib._cylinder_rotate import *\n",
    "from ddgclib._cylinder import *\n",
    "#from ddgclib._half_sphere import *\n",
    "from ddgclib._ellipsoid import *\n",
    "from ddgclib._eos import *\n",
    "from ddgclib._misc import *\n",
    "from ddgclib._plotting import *\n",
    "#from ddgclib._case2 import *\n",
    "\n",
    "# Parameters for a water droplet in air at standard laboratory conditions\n",
    "gamma = 0.0728  # N/m, surface tension of water at 20 deg C\n",
    "rho = 1000  # kg/m3, density\n",
    "g = 9.81  # m/s2\n",
    "\n",
    "# Numerical parameters #Stated this is what to plaay\n",
    "r = 1\n",
    "theta_p = 20 * np.pi/180.0  # rad, three phase contact angle\n",
    "\n",
    "refinement=3# NOTE: 2 is the minimum refinement needed for the complex to be manifold"
   ]
  },
  {
   "cell_type": "markdown",
   "source": [
    "To create a catenoid in 3-d, it is only necessary to work with the function \"catenoid_N\". At this moment, I only must add the parameters \"a\", \"b\" and \"c\", which influence the form of the catenoid."
   ],
   "metadata": {
    "collapsed": false
   }
  },
  {
   "cell_type": "code",
   "execution_count": 2,
   "outputs": [],
   "source": [
    "a, b, c = 1, 0, 1  # Geometric parameters of the catenoid; can also be modified\n",
    "abc = (a, b, c)\n",
    "#v_l, v_u = 1e-3, 2* np.pi\n",
    "#u_l, u_u = 1e-3,np.pi -1e-3\n",
    "\n",
    "v_l, v_u = 0 , 2* np.pi\n",
    "u_l, u_u = -1 , 1\n",
    "#HC, bV, K_f, H_f, neck_verts, neck_sols = cylinder_N(r, theta_p, gamma, abc, refinement=refinement,                                                     cdist=1e-5, equilibrium=True)\n",
    "\n",
    "#HC, bV, K_f, H_f, neck_verts, neck_sols = catenoiderror_N(r, theta_p, gamma, abc,u_l, u_u, v_l, v_u, refinement=refinement, cdist=1e-5, equilibrium=True)\n",
    "\n",
    "#HC, bV, K_f, H_f, neck_verts, neck_sols = catenoiderror_N(r, theta_p, gamma, abc, v_l, v_u, refinement=refinement, cdist=1e-5, equilibrium=True)\n",
    "\n",
    "#HC, bV, K_f, H_f, neck_verts, neck_sols = halfSphere_N(r, theta_p, gamma, abc, u_l, u_u, v_l, v_u,  refinement=refinement, cdist=1e-5, equilibrium=True)\n",
    "\n",
    "#HC, bV, K_f, H_f, neck_verts, neck_sols = hyperboloid_N(r, theta_p, gamma, abc, refinement=refinement,                                                     cdist=1e-5, equilibrium=True)\n",
    "\n"
   ],
   "metadata": {
    "collapsed": false,
    "ExecuteTime": {
     "end_time": "2023-06-20T11:16:15.904529900Z",
     "start_time": "2023-06-20T11:16:15.888906200Z"
    }
   }
  },
  {
   "cell_type": "markdown",
   "source": [
    "Play with the rotate cylinder:"
   ],
   "metadata": {
    "collapsed": false
   }
  },
  {
   "cell_type": "code",
   "execution_count": 3,
   "outputs": [],
   "source": [
    "grad_angle = 45\n",
    "\n",
    "def fun_degree_to_rad(grad_angle):\n",
    "    \"Calculate the radian-angle from the grad-angle\"\n",
    "    rad_angle = grad_angle * np.pi / 180\n",
    "    return rad_angle\n",
    "\n",
    "u_l, u_u = 0 , 2* np.pi\n",
    "v_l, v_u = -1 , 1\n",
    "\n",
    "\n",
    "HC, bV, K_f, H_f, neck_verts, neck_sols = cylinder_rotate_N(r, theta_p, gamma, abc,fun_degree_to_rad(grad_angle),u_l, u_u, v_l, v_u, refinement=refinement, cdist=1e-5, equilibrium=True)\n"
   ],
   "metadata": {
    "collapsed": false,
    "ExecuteTime": {
     "end_time": "2023-06-20T11:16:16.252370400Z",
     "start_time": "2023-06-20T11:16:15.904529900Z"
    }
   }
  },
  {
   "cell_type": "code",
   "execution_count": 4,
   "outputs": [
    {
     "name": "stdout",
     "output_type": "stream",
     "text": [
      "np.zeros([self.V.size(), self.dim]) = [[0. 0.]\n",
      " [0. 0.]\n",
      " [0. 0.]\n",
      " [0. 0.]\n",
      " [0. 0.]\n",
      " [0. 0.]\n",
      " [0. 0.]\n",
      " [0. 0.]\n",
      " [0. 0.]\n",
      " [0. 0.]\n",
      " [0. 0.]\n",
      " [0. 0.]\n",
      " [0. 0.]\n",
      " [0. 0.]\n",
      " [0. 0.]\n",
      " [0. 0.]\n",
      " [0. 0.]\n",
      " [0. 0.]\n",
      " [0. 0.]\n",
      " [0. 0.]\n",
      " [0. 0.]\n",
      " [0. 0.]\n",
      " [0. 0.]\n",
      " [0. 0.]\n",
      " [0. 0.]\n",
      " [0. 0.]\n",
      " [0. 0.]\n",
      " [0. 0.]\n",
      " [0. 0.]\n",
      " [0. 0.]\n",
      " [0. 0.]\n",
      " [0. 0.]\n",
      " [0. 0.]\n",
      " [0. 0.]\n",
      " [0. 0.]\n",
      " [0. 0.]\n",
      " [0. 0.]\n",
      " [0. 0.]\n",
      " [0. 0.]\n",
      " [0. 0.]\n",
      " [0. 0.]\n",
      " [0. 0.]\n",
      " [0. 0.]\n",
      " [0. 0.]\n",
      " [0. 0.]\n",
      " [0. 0.]\n",
      " [0. 0.]\n",
      " [0. 0.]\n",
      " [0. 0.]\n",
      " [0. 0.]\n",
      " [0. 0.]\n",
      " [0. 0.]\n",
      " [0. 0.]\n",
      " [0. 0.]\n",
      " [0. 0.]\n",
      " [0. 0.]\n",
      " [0. 0.]\n",
      " [0. 0.]\n",
      " [0. 0.]\n",
      " [0. 0.]\n",
      " [0. 0.]\n",
      " [0. 0.]\n",
      " [0. 0.]\n",
      " [0. 0.]\n",
      " [0. 0.]\n",
      " [0. 0.]\n",
      " [0. 0.]\n",
      " [0. 0.]\n",
      " [0. 0.]\n",
      " [0. 0.]\n",
      " [0. 0.]\n",
      " [0. 0.]\n",
      " [0. 0.]\n",
      " [0. 0.]\n",
      " [0. 0.]\n",
      " [0. 0.]\n",
      " [0. 0.]\n",
      " [0. 0.]\n",
      " [0. 0.]\n",
      " [0. 0.]\n",
      " [0. 0.]\n",
      " [0. 0.]\n",
      " [0. 0.]\n",
      " [0. 0.]\n",
      " [0. 0.]\n",
      " [0. 0.]\n",
      " [0. 0.]\n",
      " [0. 0.]\n",
      " [0. 0.]\n",
      " [0. 0.]\n",
      " [0. 0.]\n",
      " [0. 0.]\n",
      " [0. 0.]\n",
      " [0. 0.]\n",
      " [0. 0.]\n",
      " [0. 0.]\n",
      " [0. 0.]\n",
      " [0. 0.]\n",
      " [0. 0.]\n",
      " [0. 0.]\n",
      " [0. 0.]\n",
      " [0. 0.]\n",
      " [0. 0.]\n",
      " [0. 0.]\n",
      " [0. 0.]\n",
      " [0. 0.]\n",
      " [0. 0.]\n",
      " [0. 0.]\n",
      " [0. 0.]\n",
      " [0. 0.]\n",
      " [0. 0.]\n",
      " [0. 0.]\n",
      " [0. 0.]\n",
      " [0. 0.]\n",
      " [0. 0.]\n",
      " [0. 0.]\n",
      " [0. 0.]\n",
      " [0. 0.]\n",
      " [0. 0.]\n",
      " [0. 0.]\n",
      " [0. 0.]\n",
      " [0. 0.]\n",
      " [0. 0.]\n",
      " [0. 0.]\n",
      " [0. 0.]\n",
      " [0. 0.]\n",
      " [0. 0.]\n",
      " [0. 0.]\n",
      " [0. 0.]\n",
      " [0. 0.]\n",
      " [0. 0.]\n",
      " [0. 0.]\n",
      " [0. 0.]\n",
      " [0. 0.]\n",
      " [0. 0.]\n",
      " [0. 0.]]\n",
      "self.V[v].index = 0\n",
      "self.V[v].index = 1\n",
      "self.V[v].index = 2\n",
      "self.V[v].index = 3\n",
      "self.V[v].index = 4\n",
      "self.V[v].index = 5\n",
      "self.V[v].index = 6\n",
      "self.V[v].index = 7\n",
      "self.V[v].index = 8\n",
      "self.V[v].index = 9\n",
      "self.V[v].index = 10\n",
      "self.V[v].index = 11\n",
      "self.V[v].index = 12\n",
      "self.V[v].index = 13\n",
      "self.V[v].index = 14\n",
      "self.V[v].index = 15\n",
      "self.V[v].index = 16\n",
      "self.V[v].index = 17\n",
      "self.V[v].index = 18\n",
      "self.V[v].index = 19\n",
      "self.V[v].index = 20\n",
      "self.V[v].index = 21\n",
      "self.V[v].index = 22\n",
      "self.V[v].index = 23\n",
      "self.V[v].index = 24\n",
      "self.V[v].index = 25\n",
      "self.V[v].index = 26\n",
      "self.V[v].index = 27\n",
      "self.V[v].index = 28\n",
      "self.V[v].index = 29\n",
      "self.V[v].index = 30\n",
      "self.V[v].index = 31\n",
      "self.V[v].index = 32\n",
      "self.V[v].index = 33\n",
      "self.V[v].index = 34\n",
      "self.V[v].index = 35\n",
      "self.V[v].index = 36\n",
      "self.V[v].index = 37\n",
      "self.V[v].index = 38\n",
      "self.V[v].index = 39\n",
      "self.V[v].index = 40\n",
      "self.V[v].index = 41\n",
      "self.V[v].index = 42\n",
      "self.V[v].index = 43\n",
      "self.V[v].index = 44\n",
      "self.V[v].index = 45\n",
      "self.V[v].index = 46\n",
      "self.V[v].index = 47\n",
      "self.V[v].index = 48\n",
      "self.V[v].index = 49\n",
      "self.V[v].index = 50\n",
      "self.V[v].index = 51\n",
      "self.V[v].index = 52\n",
      "self.V[v].index = 53\n",
      "self.V[v].index = 54\n",
      "self.V[v].index = 55\n",
      "self.V[v].index = 56\n",
      "self.V[v].index = 57\n",
      "self.V[v].index = 58\n",
      "self.V[v].index = 59\n",
      "self.V[v].index = 60\n",
      "self.V[v].index = 61\n",
      "self.V[v].index = 62\n",
      "self.V[v].index = 63\n",
      "self.V[v].index = 64\n",
      "self.V[v].index = 65\n",
      "self.V[v].index = 66\n",
      "self.V[v].index = 67\n",
      "self.V[v].index = 68\n",
      "self.V[v].index = 69\n",
      "self.V[v].index = 70\n",
      "self.V[v].index = 71\n",
      "self.V[v].index = 72\n",
      "self.V[v].index = 73\n",
      "self.V[v].index = 74\n",
      "self.V[v].index = 75\n",
      "self.V[v].index = 76\n",
      "self.V[v].index = 77\n",
      "self.V[v].index = 78\n",
      "self.V[v].index = 79\n",
      "self.V[v].index = 80\n",
      "self.V[v].index = 81\n",
      "self.V[v].index = 82\n",
      "self.V[v].index = 83\n",
      "self.V[v].index = 84\n",
      "self.V[v].index = 85\n",
      "self.V[v].index = 86\n",
      "self.V[v].index = 87\n",
      "self.V[v].index = 88\n",
      "self.V[v].index = 89\n",
      "self.V[v].index = 90\n",
      "self.V[v].index = 91\n",
      "self.V[v].index = 92\n",
      "self.V[v].index = 93\n",
      "self.V[v].index = 94\n",
      "self.V[v].index = 95\n",
      "self.V[v].index = 96\n",
      "self.V[v].index = 97\n",
      "self.V[v].index = 98\n",
      "self.V[v].index = 99\n",
      "self.V[v].index = 100\n",
      "self.V[v].index = 101\n",
      "self.V[v].index = 102\n",
      "self.V[v].index = 103\n",
      "self.V[v].index = 104\n",
      "self.V[v].index = 105\n",
      "self.V[v].index = 106\n",
      "self.V[v].index = 107\n",
      "self.V[v].index = 108\n",
      "self.V[v].index = 109\n",
      "self.V[v].index = 110\n",
      "self.V[v].index = 111\n",
      "self.V[v].index = 112\n",
      "self.V[v].index = 113\n",
      "self.V[v].index = 114\n",
      "self.V[v].index = 115\n",
      "self.V[v].index = 116\n",
      "self.V[v].index = 117\n",
      "self.V[v].index = 118\n",
      "self.V[v].index = 119\n",
      "self.V[v].index = 120\n",
      "self.V[v].index = 121\n",
      "self.V[v].index = 122\n",
      "self.V[v].index = 123\n",
      "self.V[v].index = 124\n",
      "self.V[v].index = 125\n",
      "self.V[v].index = 126\n",
      "self.V[v].index = 127\n",
      "self.V[v].index = 128\n",
      "self.V[v].index = 129\n",
      "self.V[v].index = 130\n",
      "self.V[v].index = 131\n",
      "self.V[v].index = 132\n",
      "self.V[v].index = 133\n",
      "self.V[v].index = 134\n",
      "self.V[v].index = 135\n"
     ]
    }
   ],
   "source": [
    "#type(HC.V)\n",
    "\n",
    "plot_polyscope(HC)"
   ],
   "metadata": {
    "collapsed": false,
    "ExecuteTime": {
     "end_time": "2023-06-20T12:20:53.905534500Z",
     "start_time": "2023-06-20T11:16:17.234012400Z"
    }
   }
  },
  {
   "cell_type": "code",
   "execution_count": 5,
   "outputs": [],
   "source": [
    "for v in HC.V:\n",
    "    pass\n"
   ],
   "metadata": {
    "collapsed": false,
    "ExecuteTime": {
     "end_time": "2023-06-13T13:54:00.009324500Z",
     "start_time": "2023-06-13T13:53:59.990439200Z"
    }
   }
  },
  {
   "cell_type": "code",
   "execution_count": null,
   "outputs": [],
   "source": [],
   "metadata": {
    "collapsed": false
   }
  },
  {
   "cell_type": "code",
   "execution_count": 6,
   "outputs": [
    {
     "data": {
      "text/plain": "((0.9238795325112865, -0.3826834323650904, 1.5),\n array([ 0.92387953, -0.38268343,  1.5       ], dtype=float64))"
     },
     "execution_count": 6,
     "metadata": {},
     "output_type": "execute_result"
    }
   ],
   "source": [
    "v.x, v.x_a"
   ],
   "metadata": {
    "collapsed": false,
    "ExecuteTime": {
     "end_time": "2023-06-13T13:54:01.994330900Z",
     "start_time": "2023-06-13T13:54:01.962974700Z"
    }
   }
  },
  {
   "cell_type": "code",
   "execution_count": 7,
   "outputs": [],
   "source": [
    "vinterest = HC.V[v.x]"
   ],
   "metadata": {
    "collapsed": false,
    "ExecuteTime": {
     "end_time": "2023-06-13T13:54:03.522088900Z",
     "start_time": "2023-06-13T13:54:03.474322500Z"
    }
   }
  },
  {
   "cell_type": "markdown",
   "source": [
    "Variable-Defintion:\n",
    "v_l = Example Zylinder its the left axial Point\n",
    "v_u = Example Zylinder it is the right, axial, positiv Point"
   ],
   "metadata": {
    "collapsed": false
   }
  },
  {
   "cell_type": "code",
   "execution_count": 9,
   "outputs": [
    {
     "name": "stdout",
     "output_type": "stream",
     "text": [
      "np.zeros([self.V.size(), self.dim]) = [[0. 0.]\n",
      " [0. 0.]\n",
      " [0. 0.]\n",
      " [0. 0.]\n",
      " [0. 0.]\n",
      " [0. 0.]\n",
      " [0. 0.]\n",
      " [0. 0.]\n",
      " [0. 0.]\n",
      " [0. 0.]\n",
      " [0. 0.]\n",
      " [0. 0.]\n",
      " [0. 0.]\n",
      " [0. 0.]\n",
      " [0. 0.]\n",
      " [0. 0.]]\n",
      "self.V[v].index = 0\n",
      "self.V[v].index = 1\n",
      "self.V[v].index = 2\n",
      "self.V[v].index = 3\n",
      "self.V[v].index = 4\n",
      "self.V[v].index = 5\n",
      "self.V[v].index = 6\n",
      "self.V[v].index = 7\n",
      "self.V[v].index = 8\n",
      "self.V[v].index = 9\n",
      "self.V[v].index = 10\n",
      "self.V[v].index = 11\n",
      "self.V[v].index = 12\n",
      "self.V[v].index = 13\n",
      "self.V[v].index = 14\n",
      "self.V[v].index = 15\n"
     ]
    },
    {
     "ename": "ValueError",
     "evalue": "surface mesh face array should have shape (F,D) for some D; shape is (0,)",
     "output_type": "error",
     "traceback": [
      "\u001B[1;31m---------------------------------------------------------------------------\u001B[0m",
      "\u001B[1;31mValueError\u001B[0m                                Traceback (most recent call last)",
      "Cell \u001B[1;32mIn[9], line 1\u001B[0m\n\u001B[1;32m----> 1\u001B[0m \u001B[43mplot_polyscope\u001B[49m\u001B[43m(\u001B[49m\u001B[43mHC\u001B[49m\u001B[43m)\u001B[49m\n",
      "File \u001B[1;32mD:\\02_Masterarbeit\\03_Python\\ddgclib\\_plotting.py:40\u001B[0m, in \u001B[0;36mplot_polyscope\u001B[1;34m(HC)\u001B[0m\n\u001B[0;32m     36\u001B[0m faces \u001B[38;5;241m=\u001B[39m triangles\n\u001B[0;32m     37\u001B[0m \u001B[38;5;66;03m### Register a mesh\u001B[39;00m\n\u001B[0;32m     38\u001B[0m \u001B[38;5;66;03m# `verts` is a Nx3 numpy array of vertex positions\u001B[39;00m\n\u001B[0;32m     39\u001B[0m \u001B[38;5;66;03m# `faces` is a Fx3 array of indices, or a nested list\u001B[39;00m\n\u001B[1;32m---> 40\u001B[0m surface \u001B[38;5;241m=\u001B[39m \u001B[43mps\u001B[49m\u001B[38;5;241;43m.\u001B[39;49m\u001B[43mregister_surface_mesh\u001B[49m\u001B[43m(\u001B[49m\u001B[38;5;124;43m\"\u001B[39;49m\u001B[38;5;124;43mmy mesh\u001B[39;49m\u001B[38;5;124;43m\"\u001B[39;49m\u001B[43m,\u001B[49m\u001B[43m \u001B[49m\u001B[43mverts\u001B[49m\u001B[43m,\u001B[49m\u001B[43m \u001B[49m\u001B[43mfaces\u001B[49m\u001B[43m,\u001B[49m\n\u001B[0;32m     41\u001B[0m \u001B[43m                         \u001B[49m\u001B[43mcolor\u001B[49m\u001B[38;5;241;43m=\u001B[39;49m\u001B[43mdo\u001B[49m\u001B[43m,\u001B[49m\n\u001B[0;32m     42\u001B[0m \u001B[43m                         \u001B[49m\u001B[43medge_width\u001B[49m\u001B[38;5;241;43m=\u001B[39;49m\u001B[38;5;241;43m1.0\u001B[39;49m\u001B[43m,\u001B[49m\n\u001B[0;32m     43\u001B[0m \u001B[43m                         \u001B[49m\u001B[43medge_color\u001B[49m\u001B[38;5;241;43m=\u001B[39;49m\u001B[43m(\u001B[49m\u001B[38;5;241;43m0.0\u001B[39;49m\u001B[43m,\u001B[49m\u001B[43m \u001B[49m\u001B[38;5;241;43m0.0\u001B[39;49m\u001B[43m,\u001B[49m\u001B[43m \u001B[49m\u001B[38;5;241;43m0.0\u001B[39;49m\u001B[43m)\u001B[49m\u001B[43m,\u001B[49m\n\u001B[0;32m     44\u001B[0m \u001B[43m                         \u001B[49m\u001B[43msmooth_shade\u001B[49m\u001B[38;5;241;43m=\u001B[39;49m\u001B[38;5;28;43;01mFalse\u001B[39;49;00m\u001B[43m)\u001B[49m\n\u001B[0;32m     46\u001B[0m \u001B[38;5;66;03m# Add a scalar function and a vector function defined on the mesh\u001B[39;00m\n\u001B[0;32m     47\u001B[0m \u001B[38;5;66;03m# vertex_scalar is a length V numpy array of values\u001B[39;00m\n\u001B[0;32m     48\u001B[0m \u001B[38;5;66;03m# face_vectors is an Fx3 array of vectors per face\u001B[39;00m\n\u001B[0;32m     49\u001B[0m \u001B[38;5;28;01mif\u001B[39;00m \u001B[38;5;241m0\u001B[39m:\n",
      "File \u001B[1;32mD:\\03_Programme\\Anaconda\\envs\\Masterarbeit\\lib\\site-packages\\polyscope\\surface_mesh.py:446\u001B[0m, in \u001B[0;36mregister_surface_mesh\u001B[1;34m(name, vertices, faces, enabled, color, edge_color, smooth_shade, edge_width, material, back_face_policy, back_face_color, transparency)\u001B[0m\n\u001B[0;32m    443\u001B[0m \u001B[38;5;28;01mif\u001B[39;00m \u001B[38;5;129;01mnot\u001B[39;00m psb\u001B[38;5;241m.\u001B[39misInitialized():\n\u001B[0;32m    444\u001B[0m     \u001B[38;5;28;01mraise\u001B[39;00m \u001B[38;5;167;01mRuntimeError\u001B[39;00m(\u001B[38;5;124m\"\u001B[39m\u001B[38;5;124mPolyscope has not been initialized\u001B[39m\u001B[38;5;124m\"\u001B[39m)\n\u001B[1;32m--> 446\u001B[0m p \u001B[38;5;241m=\u001B[39m \u001B[43mSurfaceMesh\u001B[49m\u001B[43m(\u001B[49m\u001B[43mname\u001B[49m\u001B[43m,\u001B[49m\u001B[43m \u001B[49m\u001B[43mvertices\u001B[49m\u001B[43m,\u001B[49m\u001B[43m \u001B[49m\u001B[43mfaces\u001B[49m\u001B[43m)\u001B[49m\n\u001B[0;32m    448\u001B[0m \u001B[38;5;66;03m# == Apply options\u001B[39;00m\n\u001B[0;32m    449\u001B[0m \u001B[38;5;28;01mif\u001B[39;00m enabled \u001B[38;5;129;01mis\u001B[39;00m \u001B[38;5;129;01mnot\u001B[39;00m \u001B[38;5;28;01mNone\u001B[39;00m:\n",
      "File \u001B[1;32mD:\\03_Programme\\Anaconda\\envs\\Masterarbeit\\lib\\site-packages\\polyscope\\surface_mesh.py:26\u001B[0m, in \u001B[0;36mSurfaceMesh.__init__\u001B[1;34m(self, name, vertices, faces, instance)\u001B[0m\n\u001B[0;32m     21\u001B[0m \u001B[38;5;28mself\u001B[39m\u001B[38;5;241m.\u001B[39mcheck_shape(vertices)\n\u001B[0;32m     23\u001B[0m \u001B[38;5;28;01mif\u001B[39;00m \u001B[38;5;28misinstance\u001B[39m(faces, np\u001B[38;5;241m.\u001B[39mndarray):\n\u001B[0;32m     24\u001B[0m     \u001B[38;5;66;03m# Faces is a numpy array\u001B[39;00m\n\u001B[1;32m---> 26\u001B[0m     \u001B[38;5;28;01mif\u001B[39;00m (\u001B[38;5;28mlen\u001B[39m(faces\u001B[38;5;241m.\u001B[39mshape) \u001B[38;5;241m!=\u001B[39m \u001B[38;5;241m2\u001B[39m): \u001B[38;5;28;01mraise\u001B[39;00m \u001B[38;5;167;01mValueError\u001B[39;00m(\u001B[38;5;124m\"\u001B[39m\u001B[38;5;124msurface mesh face array should have shape (F,D) for some D; shape is \u001B[39m\u001B[38;5;124m\"\u001B[39m \u001B[38;5;241m+\u001B[39m \u001B[38;5;28mstr\u001B[39m(faces\u001B[38;5;241m.\u001B[39mshape))\n\u001B[0;32m     28\u001B[0m     \u001B[38;5;28;01mif\u001B[39;00m vertices\u001B[38;5;241m.\u001B[39mshape[\u001B[38;5;241m1\u001B[39m] \u001B[38;5;241m==\u001B[39m \u001B[38;5;241m3\u001B[39m:\n\u001B[0;32m     29\u001B[0m         \u001B[38;5;28mself\u001B[39m\u001B[38;5;241m.\u001B[39mbound_mesh \u001B[38;5;241m=\u001B[39m psb\u001B[38;5;241m.\u001B[39mregister_surface_mesh(name, vertices, faces) \n",
      "\u001B[1;31mValueError\u001B[0m: surface mesh face array should have shape (F,D) for some D; shape is (0,)"
     ]
    }
   ],
   "source": [
    "plot_polyscope(HC)\n"
   ],
   "metadata": {
    "collapsed": false,
    "ExecuteTime": {
     "end_time": "2023-06-13T13:55:14.103297400Z",
     "start_time": "2023-06-13T13:55:14.059859800Z"
    }
   }
  },
  {
   "cell_type": "code",
   "execution_count": 11,
   "outputs": [
    {
     "data": {
      "text/plain": "<ddgclib._vertex.VertexCacheIndex at 0x29be8fd3220>"
     },
     "execution_count": 11,
     "metadata": {},
     "output_type": "execute_result"
    }
   ],
   "source": [
    "HC.V"
   ],
   "metadata": {
    "collapsed": false,
    "ExecuteTime": {
     "end_time": "2023-06-09T08:25:09.283259400Z",
     "start_time": "2023-06-09T08:25:09.243287400Z"
    }
   }
  },
  {
   "cell_type": "code",
   "execution_count": null,
   "outputs": [],
   "source": [
    "# TODO: Explain plane projection\n",
    "# Explain how to project to other surfaces\n",
    "# Exlain here projectio nto catenoid\n",
    "#domain = [(0.0, 2 * np.pi),  # u\n",
    "#          (-1, 1)  # v\n",
    "#              ]\n",
    "HC_plane = Complex(2)\n",
    "\n",
    "\n",
    "\n",
    "HC_plane.triangulate()\n",
    "for i in range(refinement):\n",
    "    HC_plane.refine_all()\n",
    "\n",
    "HC_plane.plot_complex(surface_plot=False, surface_field_plot=False)"
   ],
   "metadata": {
    "collapsed": false
   }
  },
  {
   "cell_type": "markdown",
   "source": [
    "Comments:\n",
    "\n",
    "The Python-file \"_catenoid.py\" has different classes, for different forms. It includes function for\n",
    "- catenoid_N(r, theta_p, gamma, abc, refinement=2, cdist=1e-10, equilibrium=True)\n",
    "- acatenoid_N(r, theta_p, gamma, abc, refinement=2, cdist=1e-10, equilibrium=True):\n",
    "The output from the functions are:\n",
    "- HC = simplicial complex object\n",
    "- bV = the boundary vertices\n",
    "- K_f = the analytical solutions of the Guassian\n",
    "- H_f = the mean normal curvature\n",
    "- neck_verts = []\n",
    "- neck_sols = []"
   ],
   "metadata": {
    "collapsed": false
   }
  },
  {
   "cell_type": "markdown",
   "source": [
    "Parametrisierung:\n",
    "\n",
    "Catenoid:\n",
    "\n",
    "Cylinder:\n",
    "\n",
    "Half-Sphere:\n"
   ],
   "metadata": {
    "collapsed": false
   }
  }
 ],
 "metadata": {
  "kernelspec": {
   "display_name": "Python 3",
   "language": "python",
   "name": "python3"
  },
  "language_info": {
   "codemirror_mode": {
    "name": "ipython",
    "version": 2
   },
   "file_extension": ".py",
   "mimetype": "text/x-python",
   "name": "python",
   "nbconvert_exporter": "python",
   "pygments_lexer": "ipython2",
   "version": "2.7.6"
  }
 },
 "nbformat": 4,
 "nbformat_minor": 0
}
